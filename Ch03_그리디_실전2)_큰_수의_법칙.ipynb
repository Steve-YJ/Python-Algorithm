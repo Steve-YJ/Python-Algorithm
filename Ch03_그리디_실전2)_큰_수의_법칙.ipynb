{
  "nbformat": 4,
  "nbformat_minor": 0,
  "metadata": {
    "colab": {
      "name": "Ch03. 그리디 - 실전2) 큰 수의 법칙.ipynb",
      "provenance": [],
      "collapsed_sections": [],
      "authorship_tag": "ABX9TyNbmNT8d8GmiEKWJMl2CcnS",
      "include_colab_link": true
    },
    "kernelspec": {
      "name": "python3",
      "display_name": "Python 3"
    }
  },
  "cells": [
    {
      "cell_type": "markdown",
      "metadata": {
        "id": "view-in-github",
        "colab_type": "text"
      },
      "source": [
        "<a href=\"https://colab.research.google.com/github/Steve-YJ/Python-Algorithm/blob/main/Ch03_%EA%B7%B8%EB%A6%AC%EB%94%94_%EC%8B%A4%EC%A0%842)_%ED%81%B0_%EC%88%98%EC%9D%98_%EB%B2%95%EC%B9%99.ipynb\" target=\"_parent\"><img src=\"https://colab.research.google.com/assets/colab-badge.svg\" alt=\"Open In Colab\"/></a>"
      ]
    },
    {
      "cell_type": "markdown",
      "metadata": {
        "id": "ZwkR8grI-rGq"
      },
      "source": [
        "## Part3. 그리디 알고리즘 실전문제 2. 큰수의 법칙\n",
        "* 수를 M번 더하여 가장 큰 수를 출력하시오\n",
        "* (같은 인덱스의 값을) 연속해서 K번 더할 수 있습니다\n",
        "* 이 때 같은 값이라도 인덱스가 다르면 다른 값으로 간주할 수 있습니다"
      ]
    },
    {
      "cell_type": "code",
      "metadata": {
        "colab": {
          "base_uri": "https://localhost:8080/"
        },
        "id": "wYpW7GKf6iPq",
        "outputId": "d26e8cf0-2c50-4253-b0f7-8c49480160d0"
      },
      "source": [
        "n = int(input(\"N의 개수를 입력하세요: \"))\n",
        "m = int(input(\"M의 개수를 입력하세요: \"))\n",
        "k = int(input(\"K를 입력하세요: \"))\n",
        "\n",
        "print(n, m, k)"
      ],
      "execution_count": 1,
      "outputs": [
        {
          "output_type": "stream",
          "text": [
            "N의 개수를 입력하세요: 5\n",
            "M의 개수를 입력하세요: 8\n",
            "K를 입력하세요: 3\n",
            "5 8 3\n"
          ],
          "name": "stdout"
        }
      ]
    },
    {
      "cell_type": "code",
      "metadata": {
        "id": "EWzsRYSI88fV"
      },
      "source": [
        "def  input_list(n):\n",
        "    lst = []\n",
        "\n",
        "    # iterating till the range\n",
        "    for i in range(0, n):\n",
        "        ele = int(input(\"{}번째 값을 입력하세요: \".format(i) ))\n",
        "\n",
        "        lst.append(ele)\n",
        "    if len(lst) == n:\n",
        "        return lst"
      ],
      "execution_count": 9,
      "outputs": []
    },
    {
      "cell_type": "code",
      "metadata": {
        "colab": {
          "base_uri": "https://localhost:8080/"
        },
        "id": "3JNle7cs-MpE",
        "outputId": "803d5bd2-28e1-4d8e-91da-f509d4405a3e"
      },
      "source": [
        "list_n = input_list(n)\n",
        "print(list_n)"
      ],
      "execution_count": 14,
      "outputs": [
        {
          "output_type": "stream",
          "text": [
            "0번째 값을 입력하세요: 2\n",
            "1번째 값을 입력하세요: 4\n",
            "2번째 값을 입력하세요: 5\n",
            "3번째 값을 입력하세요: 4\n",
            "4번째 값을 입력하세요: 6\n",
            "[2, 4, 5, 4, 6]\n"
          ],
          "name": "stdout"
        }
      ]
    },
    {
      "cell_type": "code",
      "metadata": {
        "colab": {
          "base_uri": "https://localhost:8080/"
        },
        "id": "Fhyr1xrGDcC1",
        "outputId": "a95faa70-91b3-470b-e108-35352abe08fe"
      },
      "source": [
        "# 1st. sort values\n",
        "list_n.sort(reverse=True)\n",
        "sorted = list_n\n",
        "print(\"sorted: \", sorted)"
      ],
      "execution_count": 24,
      "outputs": [
        {
          "output_type": "stream",
          "text": [
            "sorted:  [6, 5, 4, 4, 2]\n"
          ],
          "name": "stdout"
        }
      ]
    },
    {
      "cell_type": "markdown",
      "metadata": {
        "id": "MjRGQAWxEgO4"
      },
      "source": [
        "1st trial"
      ]
    },
    {
      "cell_type": "code",
      "metadata": {
        "colab": {
          "base_uri": "https://localhost:8080/",
          "height": 298
        },
        "id": "aA52Z0ma_IWs",
        "outputId": "84ccf855-ef90-4c31-ffeb-8aaa3e94551c"
      },
      "source": [
        "values = [0] * m\n",
        "\n",
        "for i in range(0, m):\n",
        "    for j in range(0, k):\n",
        "        values[i] = max(sorted)  # [6, 6, 6]\n",
        "    print(values)\n",
        "    values[4*(i+1)-1] = sorted[1]  # 2번째 값이 가장 크지 않냐\n",
        "\n",
        "print(values)"
      ],
      "execution_count": 25,
      "outputs": [
        {
          "output_type": "stream",
          "text": [
            "[6, 6, 6, 0, 0, 0, 0, 0]\n",
            "[6, 6, 6, 6, 0, 0, 0, 0]\n",
            "[6, 6, 6, 6, 6, 0, 0, 5]\n"
          ],
          "name": "stdout"
        },
        {
          "output_type": "error",
          "ename": "IndexError",
          "evalue": "ignored",
          "traceback": [
            "\u001b[0;31m---------------------------------------------------------------------------\u001b[0m",
            "\u001b[0;31mIndexError\u001b[0m                                Traceback (most recent call last)",
            "\u001b[0;32m<ipython-input-25-315e3ca693f4>\u001b[0m in \u001b[0;36m<module>\u001b[0;34m()\u001b[0m\n\u001b[1;32m      5\u001b[0m         \u001b[0mvalues\u001b[0m\u001b[0;34m[\u001b[0m\u001b[0mi\u001b[0m\u001b[0;34m+\u001b[0m\u001b[0mj\u001b[0m\u001b[0;34m]\u001b[0m \u001b[0;34m=\u001b[0m \u001b[0mmax\u001b[0m\u001b[0;34m(\u001b[0m\u001b[0msorted\u001b[0m\u001b[0;34m)\u001b[0m  \u001b[0;31m# [6, 6, 6]\u001b[0m\u001b[0;34m\u001b[0m\u001b[0;34m\u001b[0m\u001b[0m\n\u001b[1;32m      6\u001b[0m     \u001b[0mprint\u001b[0m\u001b[0;34m(\u001b[0m\u001b[0mvalues\u001b[0m\u001b[0;34m)\u001b[0m\u001b[0;34m\u001b[0m\u001b[0;34m\u001b[0m\u001b[0m\n\u001b[0;32m----> 7\u001b[0;31m     \u001b[0mvalues\u001b[0m\u001b[0;34m[\u001b[0m\u001b[0;36m4\u001b[0m\u001b[0;34m*\u001b[0m\u001b[0;34m(\u001b[0m\u001b[0mi\u001b[0m\u001b[0;34m+\u001b[0m\u001b[0;36m1\u001b[0m\u001b[0;34m)\u001b[0m\u001b[0;34m-\u001b[0m\u001b[0;36m1\u001b[0m\u001b[0;34m]\u001b[0m \u001b[0;34m=\u001b[0m \u001b[0msorted\u001b[0m\u001b[0;34m[\u001b[0m\u001b[0;36m1\u001b[0m\u001b[0;34m]\u001b[0m  \u001b[0;31m# 2번째 값이 가장 크지 않냐\u001b[0m\u001b[0;34m\u001b[0m\u001b[0;34m\u001b[0m\u001b[0m\n\u001b[0m\u001b[1;32m      8\u001b[0m \u001b[0;34m\u001b[0m\u001b[0m\n\u001b[1;32m      9\u001b[0m \u001b[0mprint\u001b[0m\u001b[0;34m(\u001b[0m\u001b[0mvalues\u001b[0m\u001b[0;34m)\u001b[0m\u001b[0;34m\u001b[0m\u001b[0;34m\u001b[0m\u001b[0m\n",
            "\u001b[0;31mIndexError\u001b[0m: list assignment index out of range"
          ]
        }
      ]
    },
    {
      "cell_type": "markdown",
      "metadata": {
        "id": "ZL3qkBGTEfcx"
      },
      "source": [
        "2nd trial"
      ]
    },
    {
      "cell_type": "code",
      "metadata": {
        "colab": {
          "base_uri": "https://localhost:8080/"
        },
        "id": "gTCRYnnpEisS",
        "outputId": "99ce2c83-901a-4a86-ef21-268acd94b5a1"
      },
      "source": [
        "print(n, m , k)\n",
        "print(sorted)"
      ],
      "execution_count": 26,
      "outputs": [
        {
          "output_type": "stream",
          "text": [
            "5 8 3\n",
            "[6, 5, 4, 4, 2]\n"
          ],
          "name": "stdout"
        }
      ]
    },
    {
      "cell_type": "code",
      "metadata": {
        "colab": {
          "base_uri": "https://localhost:8080/"
        },
        "id": "UhfJ4JsCATgU",
        "outputId": "b69a4290-052b-46c8-bbd7-e0e0c2a536c9"
      },
      "source": [
        "values = [0] * m\n",
        "print(values)\n",
        "\n",
        "for i in range(0, m):\n",
        "    values[i] = max(sorted) if not (i % 4 ==k) else sorted[1] \n",
        "    \n",
        "print(values)\n",
        "print(sum(values))"
      ],
      "execution_count": 35,
      "outputs": [
        {
          "output_type": "stream",
          "text": [
            "[0, 0, 0, 0, 0, 0, 0, 0]\n",
            "[6, 6, 6, 5, 6, 6, 6, 5]\n",
            "46\n"
          ],
          "name": "stdout"
        }
      ]
    },
    {
      "cell_type": "markdown",
      "metadata": {
        "id": "vk7fc1BUG9yV"
      },
      "source": [
        "시간은 한 20분 오바했지만 테스트 케이스에 대해서는 통과할 수 있었다! -20.12.01.Tue- am 11:20"
      ]
    }
  ]
}