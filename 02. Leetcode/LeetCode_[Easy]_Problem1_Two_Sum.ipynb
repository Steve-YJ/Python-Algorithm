{
  "nbformat": 4,
  "nbformat_minor": 0,
  "metadata": {
    "colab": {
      "name": "LeetCode [Easy] Problem1. Two Sum.ipynb",
      "provenance": [],
      "collapsed_sections": [],
      "authorship_tag": "ABX9TyPFQdw8UaRWh6r+q3/mlX+S",
      "include_colab_link": true
    },
    "kernelspec": {
      "name": "python3",
      "display_name": "Python 3"
    }
  },
  "cells": [
    {
      "cell_type": "markdown",
      "metadata": {
        "id": "view-in-github",
        "colab_type": "text"
      },
      "source": [
        "<a href=\"https://colab.research.google.com/github/Steve-YJ/Python-Algorithm/blob/main/LeetCode_%5BEasy%5D_Problem1_Two_Sum.ipynb\" target=\"_parent\"><img src=\"https://colab.research.google.com/assets/colab-badge.svg\" alt=\"Open In Colab\"/></a>"
      ]
    },
    {
      "cell_type": "markdown",
      "metadata": {
        "id": "9ks1u935ddkP"
      },
      "source": [
        "# LeetCode [Easy] Two Sum\n",
        "\n",
        "* problem URL: https://leetcode.com/problems/two-sum/"
      ]
    },
    {
      "cell_type": "markdown",
      "metadata": {
        "id": "tUMmmL_odJ7d"
      },
      "source": [
        "## My Solution 1 - Using hashmap\n",
        "* Using hashmap"
      ]
    },
    {
      "cell_type": "code",
      "metadata": {
        "id": "yOLcBVg5eBRR"
      },
      "source": [
        "from typing import List\n",
        "\n",
        "class Solution:\n",
        "    def twoSum(self, nums: List[int], target: int) -> List[int]:\n",
        "        \n",
        "        # map\n",
        "        map = {}\n",
        "        \n",
        "        for i in range(len(nums)):\n",
        "            match = target - nums[i]\n",
        "            \n",
        "            # map에 match에 해당하는 키값이 있다면 인덱스 반환\n",
        "            if match in map:\n",
        "                return [i, map[match]]\n",
        "            # 없다면 map을 채워준다(이 때 map의 키값은 원소값이 되도록 한다)\n",
        "            else:\n",
        "                map[nums[i]] = i\n",
        "     "
      ],
      "execution_count": 4,
      "outputs": []
    },
    {
      "cell_type": "markdown",
      "metadata": {
        "id": "KqZiew1hi1kv"
      },
      "source": [
        "## Solution1 - Using 'in'\n",
        "* Using 'in'\n",
        "* 모든 조합을 비교하지 않고 정답(타겟에서 첫 번째 값을 뺀 값)이 존재하는지 `탐색하는 문제`로 변경한다\n",
        "* 이중 반복문을 사용했을 때와 시간 복잡도가 같지만 연산이 훨씬 더 가볍고 빠르다"
      ]
    },
    {
      "cell_type": "code",
      "metadata": {
        "id": "r9_0a_DylEp6"
      },
      "source": [
        "from typing import List\n",
        "\n",
        "class Solution:\n",
        "    def twoSum(self, nums: List[int], target: int) -> List[int]:\n",
        "        # search\n",
        "        for i in range(len(nums)):\n",
        "            match = target - nums[i]\n",
        "            if match in nums[i+1:]:  # i번째 이후에 매칭되는 값이 있다면\n",
        "                return [i, nums[i+1:].index(match) + (i+1)]  # 인덱스에 주의하자. nums[i+1:]을 하게되면 새로운 리스트를 반환하기에 인덱스를 맞춰주기 위해 (i+1)을 더해준다\n",
        "     "
      ],
      "execution_count": 6,
      "outputs": []
    },
    {
      "cell_type": "markdown",
      "metadata": {
        "id": "E3wPSfjQlKVx"
      },
      "source": [
        "## Solution2 - 첫 번째 수를 뺀 결과 키 조회\n",
        "* 어떤 방법인지 책을 통해 알아보도록 하자"
      ]
    },
    {
      "cell_type": "markdown",
      "metadata": {
        "id": "pk5PteGqmRHQ"
      },
      "source": [
        "* 이번에는 시간 복잡도를 개선해 속도를 높여본다\n",
        "* 비교나 탐색 대신 한 번에 정답을 찾을 수 있는 방법을 알아보자"
      ]
    },
    {
      "cell_type": "code",
      "metadata": {
        "id": "jNJLwBFpnO7a"
      },
      "source": [
        "class Solution:\n",
        "    def twoSum(self, nums: List[int], target: int) -> List[int]:\n",
        "        nums_map = {}\n",
        "        \n",
        "        # 키와 값을 바꿔서 딕셔너리에 저장\n",
        "        for i, num in enumerate(nums):\n",
        "            nums_map[num] = i    \n",
        "            \n",
        "        # 타겟에서 첫 번째 수를 뺀 결과를 키로 조회\n",
        "        for i, num in enumerate(nums):\n",
        "            if target - num in nums_map and i != nums_map[target-num]:\n",
        "                return [i, nums_map[target-num]]"
      ],
      "execution_count": 10,
      "outputs": []
    },
    {
      "cell_type": "markdown",
      "metadata": {
        "id": "8nMPDq1LpO_g"
      },
      "source": [
        "* 딕셔너리는 해시 테이블로 구현되어 있고, 이 경우 조회는 평균적으로 O(1)에 가능하다"
      ]
    }
  ]
}