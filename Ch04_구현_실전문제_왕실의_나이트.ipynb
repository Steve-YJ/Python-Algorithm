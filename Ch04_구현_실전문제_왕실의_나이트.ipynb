{
  "nbformat": 4,
  "nbformat_minor": 0,
  "metadata": {
    "colab": {
      "name": "Ch04. 구현_실전문제_왕실의 나이트.ipynb",
      "provenance": [],
      "collapsed_sections": [],
      "authorship_tag": "ABX9TyPdjFCbbG1b2yDXGBSpS7a4",
      "include_colab_link": true
    },
    "kernelspec": {
      "name": "python3",
      "display_name": "Python 3"
    }
  },
  "cells": [
    {
      "cell_type": "markdown",
      "metadata": {
        "id": "view-in-github",
        "colab_type": "text"
      },
      "source": [
        "<a href=\"https://colab.research.google.com/github/Steve-YJ/Python-Algorithm/blob/main/Ch04_%EA%B5%AC%ED%98%84_%EC%8B%A4%EC%A0%84%EB%AC%B8%EC%A0%9C_%EC%99%95%EC%8B%A4%EC%9D%98_%EB%82%98%EC%9D%B4%ED%8A%B8.ipynb\" target=\"_parent\"><img src=\"https://colab.research.google.com/assets/colab-badge.svg\" alt=\"Open In Colab\"/></a>"
      ]
    },
    {
      "cell_type": "code",
      "metadata": {
        "id": "tAVUQeKPoXj-"
      },
      "source": [
        ""
      ],
      "execution_count": null,
      "outputs": []
    },
    {
      "cell_type": "markdown",
      "metadata": {
        "id": "qBoyS4aTohVt"
      },
      "source": [
        "# Ch04. 구현 실전문제_왕실의 나이트\n",
        "* 시간재서 풀어보자\n",
        "* "
      ]
    },
    {
      "cell_type": "code",
      "metadata": {
        "colab": {
          "base_uri": "https://localhost:8080/"
        },
        "id": "OHC5sZZjo_6n",
        "outputId": "64b94d4a-c654-4182-c257-fda67c674087"
      },
      "source": [
        "# 우선 초기화를 해보자\n",
        "map = [[str(i+1)+char for char in ['a', 'b', 'c', 'd', 'e', 'f', 'g', 'h']]for i in range(0, 8)]\n",
        "map\n",
        "# 나이트의 현재 위치에서 이동할 수 있는 경우의 수를 구하여라\n"
      ],
      "execution_count": 11,
      "outputs": [
        {
          "output_type": "execute_result",
          "data": {
            "text/plain": [
              "[['1a', '1b', '1c', '1d', '1e', '1f', '1g', '1h'],\n",
              " ['2a', '2b', '2c', '2d', '2e', '2f', '2g', '2h'],\n",
              " ['3a', '3b', '3c', '3d', '3e', '3f', '3g', '3h'],\n",
              " ['4a', '4b', '4c', '4d', '4e', '4f', '4g', '4h'],\n",
              " ['5a', '5b', '5c', '5d', '5e', '5f', '5g', '5h'],\n",
              " ['6a', '6b', '6c', '6d', '6e', '6f', '6g', '6h'],\n",
              " ['7a', '7b', '7c', '7d', '7e', '7f', '7g', '7h'],\n",
              " ['8a', '8b', '8c', '8d', '8e', '8f', '8g', '8h']]"
            ]
          },
          "metadata": {
            "tags": []
          },
          "execution_count": 11
        }
      ]
    },
    {
      "cell_type": "code",
      "metadata": {
        "colab": {
          "base_uri": "https://localhost:8080/"
        },
        "id": "Hl1vVOTzpU1E",
        "outputId": "a023a65c-3923-4914-d413-fd365b55fcc8"
      },
      "source": [
        "# start\n",
        "start = str(input())\n",
        "print(\"start: \", start)\n",
        " \n",
        "x = start[0]  # 1\n",
        "y = start[1]  # a\n",
        "dic = {'a': 1,\n",
        "       'b': 2,\n",
        "       'c': 3,\n",
        "       'd': 4,\n",
        "       'e': 5,\n",
        "       'f': 6,\n",
        "       'g': 7,\n",
        "       'h':8}\n",
        "y = dic[y]   # 1\n",
        "\n",
        "# 좌표 계산의 편의성을 위해 숫자 좌표로 변환해 줬습니다\n",
        "x, y = int(x), int(y)\n",
        "print(\"start: \", x, y)\n",
        "\n",
        "\n",
        "# count\n",
        "count = 0  # 카운트를 하면 됩니다\n",
        "\n",
        "# 팔방으로 이동하기(그려보니 이동할 수 있는 경우의 수는 여덟가지!)\n",
        "dx = [2,  2,  1, -1, -2, -2,  -1,  1]\n",
        "dy = [-1, 1,  2,  2,  1,  -1, -2, -2]\n",
        "\n",
        "for i in range(8):\n",
        "    nx = x + dx[i]\n",
        "    ny = y + dy[i]\n",
        "    if nx > 8 or nx < 1 or ny > 8 or ny < 1:\n",
        "        pass\n",
        "    else:\n",
        "        print(nx, ny)\n",
        "        count +=1\n",
        "\n",
        "print(count)"
      ],
      "execution_count": 27,
      "outputs": [
        {
          "output_type": "stream",
          "text": [
            "2c\n",
            "start:  2c\n",
            "start:  2 3\n",
            "4 2\n",
            "4 4\n",
            "3 5\n",
            "1 5\n",
            "1 1\n",
            "3 1\n",
            "6\n"
          ],
          "name": "stdout"
        }
      ]
    },
    {
      "cell_type": "markdown",
      "metadata": {
        "id": "59E_wUTxqt1C"
      },
      "source": [
        "굳...! 배우니깐 조금씩 된다...ㅠㅠ -20.12.02.Wed. pm6:00-"
      ]
    },
    {
      "cell_type": "code",
      "metadata": {
        "id": "toKCSSPbve7f"
      },
      "source": [
        ""
      ],
      "execution_count": null,
      "outputs": []
    }
  ]
}