{
  "nbformat": 4,
  "nbformat_minor": 0,
  "metadata": {
    "colab": {
      "name": "Ch08. 다이나믹 프로그래밍(DP).ipynb",
      "provenance": [],
      "authorship_tag": "ABX9TyNVYc/0n35a56/pNOLRx5eb",
      "include_colab_link": true
    },
    "kernelspec": {
      "name": "python3",
      "display_name": "Python 3"
    }
  },
  "cells": [
    {
      "cell_type": "markdown",
      "metadata": {
        "id": "view-in-github",
        "colab_type": "text"
      },
      "source": [
        "<a href=\"https://colab.research.google.com/github/Steve-YJ/Python-Algorithm/blob/main/Ch08_%EB%8B%A4%EC%9D%B4%EB%82%98%EB%AF%B9_%ED%94%84%EB%A1%9C%EA%B7%B8%EB%9E%98%EB%B0%8D(DP).ipynb\" target=\"_parent\"><img src=\"https://colab.research.google.com/assets/colab-badge.svg\" alt=\"Open In Colab\"/></a>"
      ]
    },
    {
      "cell_type": "markdown",
      "metadata": {
        "id": "xpBbttiTQ05g"
      },
      "source": [
        "# 이.코.테 다이나믹 프로그래밍\n",
        "> 한 번 계산한 문제는 다시 계산하지 않도록 하는 알고리즘\n",
        "\n",
        "## Intro\n",
        "* Question - 컴퓨터로도 해결하기 어려운 문제에는 무엇이 있을까?\n",
        "    * 우리는 컴퓨터로 대부분의 문제를 해결할 수 있지만 컴퓨터로 해결하기 어려운 문제도 존재한다\n",
        "    * 최적의 해를 구하기에 시간이 매우 많이 필요한 문제나 메모리 공간이 많이 필요한 문제 등이 있다\n",
        "* 이렇게 제한된 자원을 최대한 효율적으로 활용할 수 있는 알고리즘이 필요하다\n",
        "* 이번 시간에 배울 다이나믹 프로그래밍(Dynamic Programing 또는 동적 계획법)이란 메모리 공간을 약간 더 사용하면 연산 속도를 비약적으로 증가시킬 수 있는 방법이다\n",
        "<br>\n",
        "\n",
        "* 다음의 것들을 배우게 된다\n",
        "    * 다이나믹 프로그램 개요\n",
        "    * 탑다운 바텀업\n",
        "    * 메모이제이션(Memoization)"
      ]
    },
    {
      "cell_type": "code",
      "metadata": {
        "colab": {
          "base_uri": "https://localhost:8080/"
        },
        "id": "1BRg-LKJENOX",
        "outputId": "08ec309d-f236-46ea-8861-d2a0e974b7df"
      },
      "source": [
        "print(\"Hello DP!\")"
      ],
      "execution_count": 2,
      "outputs": [
        {
          "output_type": "stream",
          "text": [
            "Hello DP!\n"
          ],
          "name": "stdout"
        }
      ]
    },
    {
      "cell_type": "markdown",
      "metadata": {
        "id": "ijMsYTMGEf63"
      },
      "source": [
        "다이나믹 프로그래밍에 대해 알아보기 전에 기존의 알고리즘으로 해결하기 어려운 문제 중에서 다이나믹프로그래밍으로 해결할 수 있는 문제를 살펴보자<br>\n",
        "피보나치 수열을 한 번 풀어보자!"
      ]
    },
    {
      "cell_type": "markdown",
      "metadata": {
        "id": "V3NiY3yjQu47"
      },
      "source": [
        "## 다이나믹 프로그래밍 대표문제 - 피보나치 수열\n",
        "1, 1, 2, 3, 5, 8, 13, 21, 34, 55, 89, ..."
      ]
    },
    {
      "cell_type": "markdown",
      "metadata": {
        "id": "txDMZf-ZRneL"
      },
      "source": [
        "* 피보나치 수열: 다이나믹 프로그래밍으로 해결할 수 있는 대표적인 문제\n",
        "    * 피보나치 수열은 이전 두 항의 합을 현재의 항으로 설정하는 특징이 있는 수열이다\n",
        "    * 피보나치 수열은 다이나믹 프로그래밍으로 효과적으로 계산할 수 있다\n",
        "* 피보나치 수열은 점화식으로 표현할 수 있다\n",
        "* 점화식이란\n",
        "    * 인접한 항들 사이의 관계식을 의미한다\n",
        "    * e.g. 피보나치 수열\n",
        "        * a_n+2 = f(a_n+1, a_n) = a_n+1 + a_n\n",
        "* 프로그래밍에서는 이러한 수열을 `배열`이나 `리스트`를 이용해 표현할 수 있다\n"
      ]
    },
    {
      "cell_type": "code",
      "metadata": {
        "colab": {
          "base_uri": "https://localhost:8080/"
        },
        "id": "dUVPWwQdGS92",
        "outputId": "1fc500d9-eae2-493c-88a3-c274d3bf90ff"
      },
      "source": [
        "# 8-1.py 피보나치 함수 소스코드\n",
        "\n",
        "def fibo(x):\n",
        "    if x == 1 or x ==2:\n",
        "        return 1\n",
        "    else:\n",
        "        return fibo(x-2) + fibo(x-1)\n",
        "\n",
        "print(fibo(4))"
      ],
      "execution_count": 4,
      "outputs": [
        {
          "output_type": "stream",
          "text": [
            "3\n"
          ],
          "name": "stdout"
        }
      ]
    },
    {
      "cell_type": "markdown",
      "metadata": {
        "id": "wc7qOL0GS6N4"
      },
      "source": [
        "* 피보나치 수열의 시간 복잡도 분석\n",
        "* 피보나치 수열의 시간복잡도는 매우 높다\n",
        "    * 매우, 매우!!\n",
        "* 이처럼 피보나치 수열의 점화식을 재귀 함수를 사용해 만들 수는 있지만, 단순히 매번 계산하도록 하면 문제를 효율적으로 해결할 수 없다\n",
        "* 문제를 다이나믹 프로그래밍을 사용해서 효율적으로 해결해보자"
      ]
    },
    {
      "cell_type": "markdown",
      "metadata": {
        "id": "MzKA9tOzTnM5"
      },
      "source": [
        "### 피보나치 수열의 효율적인 해법\n",
        "> 다이나믹 프로그래밍의 사용 `조건`을 만족하는지 확인한다\n",
        "\n",
        "1. 최적 부분 구조: 큰 문제를 작은 문제로 나눌 수 있다\n",
        "2. 중복되는 부분 문제: 동일한 작은 문제를 반복적으로 해결한다\n",
        "\n",
        "* 피보나치 수열은 다이나믹 프로그래밍의 사용 조건을 만족하는 대표적인 문제이다\n",
        "* 문제를 Memoization(메모이제이션) 기법을 사용해서 해결해보자"
      ]
    },
    {
      "cell_type": "markdown",
      "metadata": {
        "id": "uTJPzNtMUJwW"
      },
      "source": [
        "## 1. 메모이제이션 (Memoization)\n",
        "* 메모이제이션은 다이나믹 프로그래밍을 구현하는 방법 중 하나이다\n",
        "* 한 번 계산한 결과를 메모리 공간에 모모하는 기법이다\n",
        "    * 같은 정보를 다시 호출하면 메모했던 결과를 그대로 가져온다\n",
        "    * 값을 기억해둔다는 점에서 캐싱(caching)라고 한다"
      ]
    },
    {
      "cell_type": "code",
      "metadata": {
        "colab": {
          "base_uri": "https://localhost:8080/"
        },
        "id": "j9ehwa3nH7Vs",
        "outputId": "db61b1f8-411b-4a33-cf8f-bd3e4d04c0fb"
      },
      "source": [
        "# 8-2.py 피보나치 수열 소스코드(재귀적)\n",
        "\n",
        "# 한 번 계산된 결과를 메모이제이션(Memoization)하기 위한 리스트 초기화\n",
        "d = [0] * 100\n",
        "\n",
        "# 피보나치 함수(Fibonacci Function)을 재귀함수로 구현(탑다운 다이나믹 프로그래밍)\n",
        "def fibo(x):\n",
        "    # 종료 조건(1 혹은 2일 때 1을 반환)\n",
        "    if x ==1 or x ==2:\n",
        "        return 1\n",
        "    # 이미 계산한 적 있는 문제라면 그대로 반환\n",
        "    if d[x] !=0:\n",
        "        return d[x]\n",
        "    # 아직 계산하지 않은 문제라면 점화식에 따라 피보나치 결과 반환\n",
        "    d[x] = fibo(x-2) + fibo(x-1)\n",
        "    return d[x]\n",
        "\n",
        "print(fibo(99))"
      ],
      "execution_count": 5,
      "outputs": [
        {
          "output_type": "stream",
          "text": [
            "218922995834555169026\n"
          ],
          "name": "stdout"
        }
      ]
    },
    {
      "cell_type": "markdown",
      "metadata": {
        "id": "F_GFpyzDIoC0"
      },
      "source": [
        "> 다이나믹 프로그래밍이란 큰 문제를 작게 나누고, 같은 문제라면 한 번씩만 풀어서 문제를 효율적으로 해결하는 알고리즘 기법이다\n"
      ]
    },
    {
      "cell_type": "code",
      "metadata": {
        "colab": {
          "base_uri": "https://localhost:8080/"
        },
        "id": "7vYdMF4RJkpy",
        "outputId": "d8984fb8-6646-4abd-c3a2-7a392b537003"
      },
      "source": [
        "# 8-3.py 호출되는 함수 확인\n",
        "\n",
        "d = [0] * 100\n",
        "\n",
        "def pibo(x):\n",
        "    print('f('+str(x)+')', end=' ')\n",
        "    if x == 1 or x ==2:\n",
        "        return 1\n",
        "    if d[x] != 0:\n",
        "        return d[x]\n",
        "    # return pibo(x-2) + pibo(x-1)\n",
        "    d[x] = pibo(x-1) + pibo(x-2)\n",
        "    return d[x]\n",
        "\n",
        "pibo(6)"
      ],
      "execution_count": 10,
      "outputs": [
        {
          "output_type": "stream",
          "text": [
            "f(6) f(5) f(4) f(3) f(2) f(1) f(2) f(3) f(4) "
          ],
          "name": "stdout"
        },
        {
          "output_type": "execute_result",
          "data": {
            "text/plain": [
              "8"
            ]
          },
          "metadata": {
            "tags": []
          },
          "execution_count": 10
        }
      ]
    },
    {
      "cell_type": "markdown",
      "metadata": {
        "id": "F4YZXHWSLSxE"
      },
      "source": [
        "이처럼 큰 문제를 해결하기 위해 작은 문제를 호출하는 방식을 탑다운(Top-Down)방식이라고 한다. 반면에 작은 문제부터 차근차근 답을 도출하는 방식을 보텀업(Bottom-Up)방식이라고 말한다"
      ]
    },
    {
      "cell_type": "markdown",
      "metadata": {
        "id": "7c1x8jUpUqnv"
      },
      "source": [
        "## 2. 탑다운 vs 보텀업\n",
        "> 작은 문제부터 해결해서 큰 문제를 해결할 것인가.<br>\n",
        "> 큰 문제부터 해결해서 작은 문제를 해결해 나갈 것인가\n",
        "\n",
        "\n",
        "* 탑다운 방식(Memoization)은 하향식이라고 하며 보텀업 방식은 상향식이라고 한다\n",
        "* 다이나믹 프로그래밍의 전형적인 형태는 보텀업 방식이다\n",
        "    * 결과 저장용 리스트는 DP 테이블이라고 부른다\n",
        "* 엄밀히 말하면 메모이제이션은 이전에 계산된 결과를 일시적으로 기록해 놓은 넓은 개념을 의미한다\n"
      ]
    },
    {
      "cell_type": "markdown",
      "metadata": {
        "id": "h5LEhqbZM1PO"
      },
      "source": [
        "### 보텀업 방식(상향식)"
      ]
    },
    {
      "cell_type": "code",
      "metadata": {
        "id": "opD5IqVjU-h4",
        "colab": {
          "base_uri": "https://localhost:8080/"
        },
        "outputId": "94cbb5e7-d3cd-48cc-a00f-bb9b69bf15e1"
      },
      "source": [
        "# 8-4.py 피보나치 수열 소스코드(반복적)\n",
        "\n",
        "# 앞서 계산된 결과를 저장하기 위한 DP 테이블 초기화\n",
        "d = [0] * 100\n",
        "\n",
        "# 첫번째 수와 두 번째 수 문제 해결\n",
        "d[1] = 1\n",
        "d[2] = 1\n",
        "n = 99\n",
        "\n",
        "# 피보나치 함수(Fibonacci Function) 반복문으로 구현(보텀업 다이나믹 프로그래밍)\n",
        "for i in range(3, n+1):\n",
        "    d[i] = d[i-1]  + d[i-2]\n",
        "\n",
        "print(d[n])"
      ],
      "execution_count": 12,
      "outputs": [
        {
          "output_type": "stream",
          "text": [
            "218922995834555169026\n"
          ],
          "name": "stdout"
        }
      ]
    },
    {
      "cell_type": "markdown",
      "metadata": {
        "id": "LlpzLNX5Ma4O"
      },
      "source": [
        "## DP 정리\n",
        "    * 다이나믹 프로그래밍의 전형적인 형태는 보텀업 방식이다\n",
        "    * 보텀업 방식에서 사용되는 결과 저장용 리스트는 'DP 테이블'이라 부른다\n",
        "    * 메모이제이션은 탑다운 방식에 국한되어 사용되는 표현이다\n",
        "\n",
        "* 주어진 문제가 다이나믹 프로그래밍 유형인지 파악하자\n",
        "* 특정한 문제를 완전탐색으로 접근했을 때 시간이 매우 오래 걸리면 다이나믹 프로그래밍을 적용할 수 있는지 확인하자\n",
        "    * 중복되는 부분문제들이 있는지 확인하자\n",
        "* 일단 단순히 재귀 함수로 비효율적인 프로그램을 작성한 뒤에 (탑다운) 작은 문제에서 구한 답이 큰 문제에서 그대로 사용될 수 있으면, 즉 메모이제이션을 적용할 수 있으면 코드를 개선하는 방법도 좋은 아이디어다"
      ]
    },
    {
      "cell_type": "markdown",
      "metadata": {
        "id": "TfDs2XueNIl1"
      },
      "source": [
        "✅ 피보나치 수열을 다시 한번 구현하면서 주요 개념을 익혀보자<br>\n",
        "✅ 실전 문제를 통해 DP 유형의 문제를 파악해보자!"
      ]
    },
    {
      "cell_type": "code",
      "metadata": {
        "id": "jz5nwrkUOC1-"
      },
      "source": [
        ""
      ],
      "execution_count": null,
      "outputs": []
    }
  ]
}