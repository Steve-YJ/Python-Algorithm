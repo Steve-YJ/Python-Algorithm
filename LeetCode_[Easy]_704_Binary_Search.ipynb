{
  "nbformat": 4,
  "nbformat_minor": 0,
  "metadata": {
    "colab": {
      "name": "LeetCode [Easy] 704. Binary Search.ipynb",
      "provenance": [],
      "authorship_tag": "ABX9TyNvgcbWY+3UltQkHSKRnHlD",
      "include_colab_link": true
    },
    "kernelspec": {
      "name": "python3",
      "display_name": "Python 3"
    }
  },
  "cells": [
    {
      "cell_type": "markdown",
      "metadata": {
        "id": "view-in-github",
        "colab_type": "text"
      },
      "source": [
        "<a href=\"https://colab.research.google.com/github/Steve-YJ/Python-Algorithm/blob/main/LeetCode_%5BEasy%5D_704_Binary_Search.ipynb\" target=\"_parent\"><img src=\"https://colab.research.google.com/assets/colab-badge.svg\" alt=\"Open In Colab\"/></a>"
      ]
    },
    {
      "cell_type": "markdown",
      "metadata": {
        "id": "PAat_dQLMfg-"
      },
      "source": [
        "# LeetCoder 704. Binary Search\n"
      ]
    },
    {
      "cell_type": "markdown",
      "metadata": {
        "id": "czD8Arh7Milu"
      },
      "source": [
        "## My Solution1\n",
        "* using bisect library"
      ]
    },
    {
      "cell_type": "code",
      "metadata": {
        "id": "er90XLqeMkAH"
      },
      "source": [
        "# import library\n",
        "from bisect import bisect_left, bisect_right\n",
        "from typing import List\n",
        "\n",
        "class Solution:\n",
        "    def search(self, nums: List[int], target: int) -> int:\n",
        "        if target in nums:\n",
        "            return bisect_left(nums, target)\n",
        "        else: return -1"
      ],
      "execution_count": 2,
      "outputs": []
    },
    {
      "cell_type": "markdown",
      "metadata": {
        "id": "tlTX8XnNMYHp"
      },
      "source": [
        "* Runtime: 232 ms, `faster than 77.93% of Python3` online submissions for Binary Search.\n",
        "* Memory Usage: `15.5 MB, less than 61.06% of Python3` online submissions for Binary Search"
      ]
    },
    {
      "cell_type": "markdown",
      "metadata": {
        "id": "tj1iktPMM4eW"
      },
      "source": [
        "## My Solution 2"
      ]
    },
    {
      "cell_type": "markdown",
      "metadata": {
        "id": "H_iZ5wRsM6EV"
      },
      "source": [
        "* implement binary search"
      ]
    },
    {
      "cell_type": "code",
      "metadata": {
        "id": "3uhSTtosM8Lv"
      },
      "source": [
        "from typing import List\n",
        "\n",
        "class Solution:\n",
        "    def search(self, nums: List[int], target: int) -> int:\n",
        "        start, end = 0, len(nums)-1\n",
        "\n",
        "        # search from start to end\n",
        "        while start <= end:\n",
        "            mid = int((start+end)/2)\n",
        "            if nums[mid] == target:\n",
        "                return mid\n",
        "            elif nums[mid] > target:\n",
        "                end = mid-1\n",
        "            else:\n",
        "                start = mid + 1\n",
        "        return -1"
      ],
      "execution_count": 3,
      "outputs": []
    }
  ]
}