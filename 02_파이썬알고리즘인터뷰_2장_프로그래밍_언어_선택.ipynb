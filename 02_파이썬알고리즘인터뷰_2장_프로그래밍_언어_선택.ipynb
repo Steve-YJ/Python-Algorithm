{
  "nbformat": 4,
  "nbformat_minor": 0,
  "metadata": {
    "colab": {
      "name": "02. 파이썬알고리즘인터뷰_2장_프로그래밍 언어 선택.ipynb",
      "provenance": [],
      "authorship_tag": "ABX9TyMLntMFVN2xEhC38uu/XoxK",
      "include_colab_link": true
    },
    "kernelspec": {
      "name": "python3",
      "display_name": "Python 3"
    },
    "language_info": {
      "name": "python"
    }
  },
  "cells": [
    {
      "cell_type": "markdown",
      "metadata": {
        "id": "view-in-github",
        "colab_type": "text"
      },
      "source": [
        "<a href=\"https://colab.research.google.com/github/Steve-YJ/Python-Algorithm/blob/main/02_%ED%8C%8C%EC%9D%B4%EC%8D%AC%EC%95%8C%EA%B3%A0%EB%A6%AC%EC%A6%98%EC%9D%B8%ED%84%B0%EB%B7%B0_2%EC%9E%A5_%ED%94%84%EB%A1%9C%EA%B7%B8%EB%9E%98%EB%B0%8D_%EC%96%B8%EC%96%B4_%EC%84%A0%ED%83%9D.ipynb\" target=\"_parent\"><img src=\"https://colab.research.google.com/assets/colab-badge.svg\" alt=\"Open In Colab\"/></a>"
      ]
    },
    {
      "cell_type": "markdown",
      "metadata": {
        "id": "8bFywllllJaS"
      },
      "source": [
        "# 파이썬 알고리즘 인터뷰 -박상길 저-\n",
        "* 2장. 프로그래밍 언어 선택\n",
        "* 이번 시간에는 코딩테스트를 위한 프로그래밍 언어 선택에 대해 학습한다\n",
        "* C++, Java, Python, Go, TypeScript 5가지 언어를 비교해본다\n",
        "* 결론은 <code>파이썬을</code> 사용하는 것이 유리하다는 것이다\n"
      ]
    },
    {
      "cell_type": "markdown",
      "metadata": {
        "id": "sGf_B94EldL7"
      },
      "source": [
        "## 프로그래밍 언어별 특징\n",
        "* 루프\n",
        "* 제네릭 프로그래밍\n",
        "* 배열 반복\n",
        "* 구조체\n",
        "* 클래스\n",
        "\n",
        "위의 5가지 관점에서 각각의 프로그래밍 언어의 특징을 살펴보았다. 언어의 특징만 놓고 본다면 저자는 TypeScript가 가장 훌륭하다고 평가했다"
      ]
    },
    {
      "cell_type": "markdown",
      "metadata": {
        "id": "0jkidoqtliVO"
      },
      "source": [
        "## 코딩테스트에 최적인 프로그래밍 언어는?"
      ]
    },
    {
      "cell_type": "markdown",
      "metadata": {
        "id": "f-zMPvzdlshk"
      },
      "source": [
        "*Q. 그렇다면 코딩테스트에 최적인 프로그래밍 언어는 무엇일까?*<br>\n",
        "> 결론은 책의 제목과 같이 '파이썬'이다"
      ]
    },
    {
      "cell_type": "markdown",
      "metadata": {
        "id": "R3o6ImN6mIHP"
      },
      "source": [
        "* 파이썬의 특징\n",
        "    * 알기 쉽다(문법에 익숙하지 않아도 간단한 문법만으로도 금방 이해할 수 있다\n",
        "    * 변수에 대한 동적 할당이 가능하다(유연한 언어이다)\n",
        "    * 언어 레벨에서 풍부한 기능을 내장하고 있기 떄문에, 코딩 테스트에서 다른 언어에 비해 압도적으로 유리한 부분이 있다\n",
        "\n",
        "    "
      ]
    },
    {
      "cell_type": "markdown",
      "metadata": {
        "id": "qn_6ehkCmdEa"
      },
      "source": [
        "## Next\n",
        "* 3장에서는 파이썬이라는 언어에 대해 본격적으로 심도 깊게 다뤄볼 것이다\n",
        "* 파이썬에 대한 고급 기능들을 하나씩 살펴보면서 파이썬의 철학까지 짚어보는 좋은 기회가 될 것이다\n",
        "* 파이썬에 관심있는 모든 프로그래머들에게 유익한 내용이 될 것이다"
      ]
    },
    {
      "cell_type": "code",
      "metadata": {
        "id": "JPhMhr3Qmry1"
      },
      "source": [
        ""
      ],
      "execution_count": null,
      "outputs": []
    }
  ]
}