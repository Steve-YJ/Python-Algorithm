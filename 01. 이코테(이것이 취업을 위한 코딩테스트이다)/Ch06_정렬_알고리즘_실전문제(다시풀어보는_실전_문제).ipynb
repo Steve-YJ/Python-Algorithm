{
  "nbformat": 4,
  "nbformat_minor": 0,
  "metadata": {
    "colab": {
      "name": "Ch06. 정렬 알고리즘 - 실전문제(다시풀어보는 실전 문제).ipynb",
      "provenance": [],
      "authorship_tag": "ABX9TyNcT8GE9R4WiGSRevmJCzXI",
      "include_colab_link": true
    },
    "kernelspec": {
      "name": "python3",
      "display_name": "Python 3"
    }
  },
  "cells": [
    {
      "cell_type": "markdown",
      "metadata": {
        "id": "view-in-github",
        "colab_type": "text"
      },
      "source": [
        "<a href=\"https://colab.research.google.com/github/Steve-YJ/Python-Algorithm/blob/main/Ch06_%EC%A0%95%EB%A0%AC_%EC%95%8C%EA%B3%A0%EB%A6%AC%EC%A6%98_%EC%8B%A4%EC%A0%84%EB%AC%B8%EC%A0%9C(%EB%8B%A4%EC%8B%9C%ED%92%80%EC%96%B4%EB%B3%B4%EB%8A%94_%EC%8B%A4%EC%A0%84_%EB%AC%B8%EC%A0%9C).ipynb\" target=\"_parent\"><img src=\"https://colab.research.google.com/assets/colab-badge.svg\" alt=\"Open In Colab\"/></a>"
      ]
    },
    {
      "cell_type": "markdown",
      "metadata": {
        "id": "hefMFgPHReVR"
      },
      "source": [
        "# 이.코.테 정렬 알고리즘 실전 문제\n",
        "* 오전에 두 문제만 풀어도 하루를 산뜻하게 출발! -20.12.24.Thur-"
      ]
    },
    {
      "cell_type": "markdown",
      "metadata": {
        "id": "4xk-kWuWTSYQ"
      },
      "source": [
        "## 문제 1. 위에서 아래로\n",
        "* 유형 1. 정렬 라이브러리를 사용할 수 있는가"
      ]
    },
    {
      "cell_type": "code",
      "metadata": {
        "colab": {
          "base_uri": "https://localhost:8080/"
        },
        "id": "uFT9fZ5FRZdO",
        "outputId": "06b9ccb0-4255-43a0-b593-27361d69f21e"
      },
      "source": [
        "# n 입력 받기\n",
        "n = int(input())\n",
        "# n개의 수 입력 받기\n",
        "lst = [int(input()) for i in range(n)]\n",
        "\n",
        "lst.sort(reverse=True)\n",
        "for elem in lst:\n",
        "    print(elem, end=' ')"
      ],
      "execution_count": 7,
      "outputs": [
        {
          "output_type": "stream",
          "text": [
            "3\n",
            "15\n",
            "27\n",
            "12\n",
            "27 15 12 "
          ],
          "name": "stdout"
        }
      ]
    },
    {
      "cell_type": "markdown",
      "metadata": {
        "id": "2QzjcqZMSYhp"
      },
      "source": [
        "시간 복잡도는... O(**NlongN**)?<br>\n",
        "정렬 라이브러리는 항상 최악의 경우에도 시간 복잡도 O(NlogN)을 보장한다"
      ]
    },
    {
      "cell_type": "markdown",
      "metadata": {
        "id": "zAvtFr1fSy95"
      },
      "source": [
        "## 문제 2. 성적이 낮은 순서로 학생 출력하기'\n",
        "* 유형 2. "
      ]
    },
    {
      "cell_type": "code",
      "metadata": {
        "colab": {
          "base_uri": "https://localhost:8080/"
        },
        "id": "CCrhmruWTfI1",
        "outputId": "eb4964d6-11ec-44cc-ba7b-1002bec3405c"
      },
      "source": [
        "# n 입력 받기\n",
        "n = int(input())\n",
        "# 학생 이름과 성적 입력받기\n",
        "array = [(input().split()) for i in range(n)]\n",
        "\n",
        "def selection(elem):\n",
        "    return elem[1]\n",
        "\n",
        "# sort list with key\n",
        "sorted_list = sorted(array, key=selection)\n",
        "\n",
        "# 이름만 출력\n",
        "for elem in sorted_list:\n",
        "    print(elem[0], end=' ')"
      ],
      "execution_count": 25,
      "outputs": [
        {
          "output_type": "stream",
          "text": [
            "2\n",
            "홍길동 95\n",
            "이순신 77\n",
            "이순신 홍길동 "
          ],
          "name": "stdout"
        }
      ]
    },
    {
      "cell_type": "code",
      "metadata": {
        "colab": {
          "base_uri": "https://localhost:8080/"
        },
        "id": "71_VZpbeVMhh",
        "outputId": "d73d1c22-906a-45d6-b434-5b23db146fff"
      },
      "source": [
        "# 6-11.py 답안 예시\n",
        "\n",
        "# N을 입력 받기\n",
        "n= int(input())\n",
        "\n",
        "# N명의 학생 정보를 입력 받아 리스트에 저장하기\n",
        "array = []  # array를 먼저 선언하고\n",
        "for i in range(n):\n",
        "    input_data = input().split()\n",
        "    # 이름은 문자열 그대로, 점수는 정수형으로 변환하여 저장\n",
        "    array.append((input_data[0], input_data[1]))\n",
        "\n",
        "# 키(Key)를 이용하여, 점수를 기준으로 정렬\n",
        "answers = sorted(array, key=lambda student: student[1])  # lambda 문법은 이렇게 활용하는 거구나!\n",
        "\n",
        "# 정렬이 수행된 결과 출력\n",
        "for student in array:\n",
        "    print(student[0], end=' ')"
      ],
      "execution_count": 27,
      "outputs": [
        {
          "output_type": "stream",
          "text": [
            "2\n",
            "이순신 95\n",
            "홍길동 75\n",
            "이순신 홍길동 "
          ],
          "name": "stdout"
        }
      ]
    },
    {
      "cell_type": "markdown",
      "metadata": {
        "id": "H4vt7ooxYTgJ"
      },
      "source": [
        "## 문제3. 두 배열의 원소 교체\n",
        "* 입력 조건\n",
        "    * 첫 번째 줄에 N, K가 공백으로 구분되어 입력된다\n",
        "    * 두 번째 줄에 배열 A의 원소들이 공백으로 구분되어 입력된다. 모든 원소는 10,000,000보다 작은 자연수이다\n",
        "    * 세 번째 줄에 배열 B의 원소들이 공백으로 구분되어 입력된다. 모든 원소는 10,000,000보다 작은 자연수이다\n",
        "* 출력 조건\n",
        "    * 최대 K번의 바꿔치기 연산을 수행하여 만들 수 있는 배열 A의 모든 원소의 합의 최댓값을 출력한다."
      ]
    },
    {
      "cell_type": "code",
      "metadata": {
        "colab": {
          "base_uri": "https://localhost:8080/"
        },
        "id": "LVlZLy-cx6TK",
        "outputId": "91cd9e4b-db83-499a-c640-288b0600ac02"
      },
      "source": [
        "n, k = map(int, input().split())\n",
        "\n",
        "a = list(map(int, input().split()))\n",
        "b = list(map(int, input().split()))\n",
        "sorted_a = sorted(a)\n",
        "sorted_b = sorted(b, reverse=True)\n",
        "\n",
        "# 첫 번째 인덱스부터 k번 비교\n",
        "for i in range(k):\n",
        "    # a의 가장 작은 값과 b의 가장 큰 값을 스왑\n",
        "    sorted_a[i], sorted_b[i] = sorted_b[i], sorted_a[i]\n",
        "\n",
        "# 리스트 a의 합 반환\n",
        "print(sum(sorted_a))"
      ],
      "execution_count": 32,
      "outputs": [
        {
          "output_type": "stream",
          "text": [
            "5 3 \n",
            "1 2 5 4 3\n",
            "5 5 6 6 5\n",
            "26\n"
          ],
          "name": "stdout"
        }
      ]
    },
    {
      "cell_type": "code",
      "metadata": {
        "colab": {
          "base_uri": "https://localhost:8080/"
        },
        "id": "R_S-V2-Vz5-h",
        "outputId": "ad41919b-bb9b-4536-bf06-816ffb5703e6"
      },
      "source": [
        "n, k = map(int, input().split())\n",
        "\n",
        "a = list(map(int, input().split()))\n",
        "b = list(map(int, input().split()))\n",
        "sorted_a = sorted(a)\n",
        "sorted_b = sorted(b, reverse=True)\n",
        "\n",
        "# 첫 번째 인덱스부터 k번 비교\n",
        "for i in range(k):\n",
        "    if sorted_a[i] < sorted_b[i]:  # a의 원소가 b의 원소보다 작다면 스왑한다\n",
        "    # a의 가장 작은 값과 b의 가장 큰 값을 스왑\n",
        "        sorted_a[i], sorted_b[i] = sorted_b[i], sorted_a[i]\n",
        "    else:\n",
        "        continue\n",
        "# 리스트 a의 합 반환\n",
        "print(sum(sorted_a))"
      ],
      "execution_count": 33,
      "outputs": [
        {
          "output_type": "stream",
          "text": [
            "5 3\n",
            "1 2 5 4 3\n",
            "5 5 6 6 5\n",
            "26\n"
          ],
          "name": "stdout"
        }
      ]
    },
    {
      "cell_type": "code",
      "metadata": {
        "colab": {
          "base_uri": "https://localhost:8080/"
        },
        "id": "bmHw3_ZE0Y8w",
        "outputId": "50d653d5-860f-43eb-e7e1-fff15463a465"
      },
      "source": [
        "def array_change():\n",
        "\n",
        "    n, k = map(int, input().split())\n",
        "\n",
        "    a = list(map(int, input().split()))\n",
        "    b = list(map(int, input().split()))\n",
        "    sorted_a = sorted(a)\n",
        "    sorted_b = sorted(b, reverse=True)\n",
        "\n",
        "    # 첫 번째 인덱스부터 k번 비교\n",
        "    for i in range(k):\n",
        "        if sorted_a[i] < sorted_b[i]:  # a의 원소가 b의 원소보다 작다면 스왑한다\n",
        "        # a의 가장 작은 값과 b의 가장 큰 값을 스왑\n",
        "            sorted_a[i], sorted_b[i] = sorted_b[i], sorted_a[i]\n",
        "        else:\n",
        "            # continue\n",
        "            break  # 더 작다면 뒤의 값들을 비교하지 않아도 된다\n",
        "\n",
        "    # 리스트 a의 합 반환\n",
        "    return sum(sorted_a)\n",
        "\n",
        "array_change()"
      ],
      "execution_count": 36,
      "outputs": [
        {
          "output_type": "stream",
          "text": [
            "8 6\n",
            "0 8 7 2 5 6 7 8 \n",
            "1 5 7 9 2 4 5 6\n"
          ],
          "name": "stdout"
        },
        {
          "output_type": "execute_result",
          "data": {
            "text/plain": [
              "58"
            ]
          },
          "metadata": {
            "tags": []
          },
          "execution_count": 36
        }
      ]
    },
    {
      "cell_type": "markdown",
      "metadata": {
        "id": "pghJmQjU0lBy"
      },
      "source": [
        "got it! -20.12.25.Fri-"
      ]
    }
  ]
}