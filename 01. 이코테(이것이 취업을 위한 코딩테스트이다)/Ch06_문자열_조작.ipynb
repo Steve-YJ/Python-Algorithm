{
  "nbformat": 4,
  "nbformat_minor": 0,
  "metadata": {
    "colab": {
      "name": "Ch06. 문자열 조작.ipynb",
      "provenance": [],
      "collapsed_sections": [],
      "authorship_tag": "ABX9TyPlfSQVye9vffwfMJ4lKmS+",
      "include_colab_link": true
    },
    "kernelspec": {
      "name": "python3",
      "display_name": "Python 3"
    }
  },
  "cells": [
    {
      "cell_type": "markdown",
      "metadata": {
        "id": "view-in-github",
        "colab_type": "text"
      },
      "source": [
        "<a href=\"https://colab.research.google.com/github/Steve-YJ/Python-Algorithm/blob/main/Ch06_%EB%AC%B8%EC%9E%90%EC%97%B4_%EC%A1%B0%EC%9E%91.ipynb\" target=\"_parent\"><img src=\"https://colab.research.google.com/assets/colab-badge.svg\" alt=\"Open In Colab\"/></a>"
      ]
    },
    {
      "cell_type": "markdown",
      "metadata": {
        "id": "dCx7iBPfiTR0"
      },
      "source": [
        "# 파이썬 알고리즘 인터뷰 - Ch06. 문자열 조작"
      ]
    },
    {
      "cell_type": "markdown",
      "metadata": {
        "id": "YPBeU7uKidKM"
      },
      "source": [
        "## Intro\n",
        "* 문자열 조작(String Manipulation)이란 문자열을 변경하거나 분리하는 등의 여러 과정을 말한다\n",
        "* ...\n",
        "* 문자열 조작은 코딩 테스트에서 매우 `빈번하게 출제되는 주제` 중 하나며, 특히 실무에서도 다양한 분야에 쓰이는 상당히 `실용적인 주제`이다\n",
        "* 문자열 처리와 관련한 알고리즘이 쓰이는 대표적인 분야는 다음과 같다\n",
        "    * 정보 처리 분야 - 문자열 처리는 정보 처리에 핵심 역할을 한다\n",
        "    * 통신 시스템 분야 - 통신, 데이터 전송에서 문자열 처리는 매우 중요\n",
        "    * 프로그래밍 시스템 분야 -\n",
        "<br>\n",
        "\n",
        "이번 장부터는...\n",
        "* 문자열과 관련된 문제를 본격적으로 풀이해 본다\n",
        "* 파이썬의 문자열 자료형의 기능과 문자열 조작 처리 기법에 대해 하나씩 살펴보도로 한다"
      ]
    },
    {
      "cell_type": "markdown",
      "metadata": {
        "id": "BfnLcgayiQ_e"
      },
      "source": [
        "## LeetCode 125. Valid Palindrome\n",
        "유효한 팰린드롬 문제\n"
      ]
    },
    {
      "cell_type": "code",
      "metadata": {
        "id": "8Hm4hrgRjs5u"
      },
      "source": [
        "class Solution(object):\n",
        "    def isPalindrome(self, s):\n",
        "        \"\"\"\n",
        "        :type s: str\n",
        "        :rtype: bool\n",
        "        \"\"\"\n",
        "        # lower\n",
        "        string = s.lower()\n",
        "        \n",
        "        # remove space, extra characters (without regex)\n",
        "        string = ''.join(e for e in string if e.isalnum())  # string.isalnum() : The isalnum() method returns True if all characters in the string are alphanumeric\n",
        "        \n",
        "        # compare reversed one\n",
        "        return string == string[::-1]  # 팰린드롭이면 True, 아니면 False"
      ],
      "execution_count": null,
      "outputs": []
    },
    {
      "cell_type": "markdown",
      "metadata": {
        "id": "XbfdepXdjt6m"
      },
      "source": [
        "## Judge\n",
        "Success<br>\n",
        "Details<br>\n",
        "\n",
        "* Runtime: 36 ms, faster than 84.16% of Python online submissions for Valid Palindrome.\n",
        "* Memory Usage: 15.1 MB, less than 38.57% of Python online submissions for Valid Palindrome."
      ]
    },
    {
      "cell_type": "markdown",
      "metadata": {
        "id": "vUXYSalXm0_o"
      },
      "source": [
        "다른 방법 고민해보기"
      ]
    },
    {
      "cell_type": "code",
      "metadata": {
        "id": "nraYWF9Sm3Cr"
      },
      "source": [
        "class Solution(object):\n",
        "    def isPalindrome(self, s):\n",
        "        \"\"\"\n",
        "        :type s: str\n",
        "        :rtype: bool\n",
        "        \"\"\"\n",
        "        \n",
        "        # lower\n",
        "        string = s.lower()\n",
        "        \n",
        "        # string_, reverse_string       \n",
        "        string_ = \"\"\n",
        "        \n",
        "        for e in string:\n",
        "            if e.isalnum():\n",
        "                # queue.appendleft(e)\n",
        "                string_ += e\n",
        "                        \n",
        "        return string_ == string_[::-1]"
      ],
      "execution_count": 1,
      "outputs": []
    },
    {
      "cell_type": "markdown",
      "metadata": {
        "id": "_gLcaRoRpqnU"
      },
      "source": [
        "Success<br>\n",
        "Details<br>\n",
        "* Runtime: 344 ms, faster than 18.82% of Python online submissions for Valid Palindrome.\n",
        "* Memory Usage: 15.5 MB, less than 26.31% of Python online submissions for Valid Palindrome.\n"
      ]
    },
    {
      "cell_type": "markdown",
      "metadata": {
        "id": "p_jghTiEvBfO"
      },
      "source": [
        "## 정답\n",
        "* 2번째 풀이방법 - deque()"
      ]
    },
    {
      "cell_type": "code",
      "metadata": {
        "id": "26lIx0EfvFQo"
      },
      "source": [
        "from collections import deque\n",
        "\n",
        "class Solution(object):\n",
        "    def isPalindrome(self, s):\n",
        "        \"\"\"\n",
        "        :type s: str\n",
        "        :rtype: bool\n",
        "        \"\"\"\n",
        "        # string\n",
        "        string = s.lower()\n",
        "        \n",
        "        # deque 자료구조 활용\n",
        "        queue = deque()\n",
        "        \n",
        "        for elem in string:\n",
        "            if elem.isalnum():\n",
        "                queue.append(elem)\n",
        "                \n",
        "        while len(queue) > 1:\n",
        "            if queue.popleft() != queue.pop():\n",
        "                return False\n",
        "        \n",
        "        return True"
      ],
      "execution_count": 5,
      "outputs": []
    },
    {
      "cell_type": "markdown",
      "metadata": {
        "id": "qLE-YBNDr3gD"
      },
      "source": [
        "### Appendix\n",
        "* string.join()"
      ]
    },
    {
      "cell_type": "code",
      "metadata": {
        "colab": {
          "base_uri": "https://localhost:8080/"
        },
        "id": "Me_6OnWUr7XA",
        "outputId": "cae25e18-f670-459a-ffa6-d01e64336a92"
      },
      "source": [
        "# e.g. Tuple\n",
        "my_tuple = {\"John\", \"Peter\", \"Vicky\"}\n",
        "x = \"#\".join(my_tuple)\n",
        "print(x)\n",
        "\n",
        "# e.g Dict\n",
        "my_dict = {\"name\": \"Steve\",\n",
        "           \"country\" : \"Kor\"}\n",
        "my_seperator = \"Test\"\n",
        "\n",
        "x = my_seperator.join(my_dict)  # A string must be specified as the separator.\n",
        "                                # 문자열은 구분자(separator)로 구분된다\n",
        "print(x)"
      ],
      "execution_count": 4,
      "outputs": [
        {
          "output_type": "stream",
          "text": [
            "Vicky#John#Peter\n",
            "nameTestcountry\n"
          ],
          "name": "stdout"
        }
      ]
    },
    {
      "cell_type": "markdown",
      "metadata": {
        "id": "fmXQkHrSjt9D"
      },
      "source": [
        "## LeetCode 344. Reverse String\n",
        "문자열 뒤집기"
      ]
    },
    {
      "cell_type": "code",
      "metadata": {
        "id": "ljxG7FaYjuFI"
      },
      "source": [
        ""
      ],
      "execution_count": null,
      "outputs": []
    },
    {
      "cell_type": "code",
      "metadata": {
        "id": "B8PBYF0Gj17M"
      },
      "source": [
        ""
      ],
      "execution_count": null,
      "outputs": []
    },
    {
      "cell_type": "markdown",
      "metadata": {
        "id": "AuvTjRxdj19R"
      },
      "source": [
        "## LeetCode 937. Reorder Log Files"
      ]
    },
    {
      "cell_type": "code",
      "metadata": {
        "id": "LWyaNmHAj1_v"
      },
      "source": [
        ""
      ],
      "execution_count": null,
      "outputs": []
    },
    {
      "cell_type": "code",
      "metadata": {
        "id": "5TGqK2Z_j9HE"
      },
      "source": [
        ""
      ],
      "execution_count": 1,
      "outputs": []
    },
    {
      "cell_type": "code",
      "metadata": {
        "id": "eGtBmbTar1jE"
      },
      "source": [
        ""
      ],
      "execution_count": 1,
      "outputs": []
    },
    {
      "cell_type": "code",
      "metadata": {
        "id": "JqGQn788r1lK"
      },
      "source": [
        ""
      ],
      "execution_count": null,
      "outputs": []
    }
  ]
}