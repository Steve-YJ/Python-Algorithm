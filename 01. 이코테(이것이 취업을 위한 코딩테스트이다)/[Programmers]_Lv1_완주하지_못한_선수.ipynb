{
  "nbformat": 4,
  "nbformat_minor": 0,
  "metadata": {
    "colab": {
      "name": "[Programmers] Lv1. 완주하지 못한 선수.ipynb",
      "provenance": [],
      "authorship_tag": "ABX9TyNPAzksJ0ThiDQvDMpzG+dY",
      "include_colab_link": true
    },
    "kernelspec": {
      "name": "python3",
      "display_name": "Python 3"
    }
  },
  "cells": [
    {
      "cell_type": "markdown",
      "metadata": {
        "id": "view-in-github",
        "colab_type": "text"
      },
      "source": [
        "<a href=\"https://colab.research.google.com/github/Steve-YJ/Python-Algorithm/blob/main/%5BProgrammers%5D_Lv1_%EC%99%84%EC%A3%BC%ED%95%98%EC%A7%80_%EB%AA%BB%ED%95%9C_%EC%84%A0%EC%88%98.ipynb\" target=\"_parent\"><img src=\"https://colab.research.google.com/assets/colab-badge.svg\" alt=\"Open In Colab\"/></a>"
      ]
    },
    {
      "cell_type": "markdown",
      "metadata": {
        "id": "UQtTiOYRj_1W"
      },
      "source": [
        " * 10/100 점짜리 코드\n",
        "    * 테스트케이스만 통과"
      ]
    },
    {
      "cell_type": "code",
      "metadata": {
        "id": "Pp4WcDF8kFY8"
      },
      "source": [
        "def solution(participant, completion):\n",
        "    answer = ''\n",
        "    \n",
        "    for i in range(len(participant)):\n",
        "        # temp = \"\"\n",
        "        # 완주한 참가자를 찾는 코드\n",
        "        if participant[i] in completion:\n",
        "            temp = participant[i]  # 완주자를 임시로 담아준다\n",
        "            # 완주자가 있을 때 동명이인 체크\n",
        "            if  temp in participant[i+1:]:  \n",
        "                answer+=temp  # 동명이인중 한 명은 완주하지 못한다\n",
        "                break\n",
        "            else:\n",
        "                continue  # 동명이인이 없다면 다음 참가자를 탐색한다\n",
        "        # 완주자에 없는 참가자가 정답이다\n",
        "        else:\n",
        "            answer+=participant[i]  \n",
        "            break\n",
        "    return answer"
      ],
      "execution_count": 1,
      "outputs": []
    },
    {
      "cell_type": "markdown",
      "metadata": {
        "id": "W5-Z30Ytj4nD"
      },
      "source": [
        "* 30/100점짜리 코드\n",
        "* 효율성은 0/100\n",
        "<br>\n",
        "* 아직 갈길이 조금 먼 것 같습니다... ^^"
      ]
    },
    {
      "cell_type": "code",
      "metadata": {
        "id": "LQ-PKfNFk8Zx"
      },
      "source": [
        "def solution(participant, completion):\n",
        "    answer = ''\n",
        "    \n",
        "    # hash 자료형을 활용해서 문제를 풀어보자\n",
        "    # test_case는 통과했지만 코드 체점시 바닥을 쳤던 문제....ㅠ\n",
        "    \n",
        "    part = []\n",
        "    \n",
        "    \n",
        "    # 1st\n",
        "    for p in participant:  # O(n)\n",
        "        if p in completion:  # O(...)\n",
        "            if p in part:\n",
        "                return p\n",
        "            part.append(p)\n",
        "            continue\n",
        "        else:  # 완주자 목록에 없다면\n",
        "            return p\n",
        "      \n",
        "    return answer"
      ],
      "execution_count": 1,
      "outputs": []
    },
    {
      "cell_type": "markdown",
      "metadata": {
        "id": "fa7AU8Y5k9W0"
      },
      "source": [
        "## 풀이"
      ]
    },
    {
      "cell_type": "markdown",
      "metadata": {
        "id": "42MnlmlMXOrj"
      },
      "source": [
        "* hashmap 사용\n",
        "* 한 번에 코드가 안나오는 것 보면 익숙하지 않나보다\n",
        "* 다른 문제들도 풀어보자"
      ]
    },
    {
      "cell_type": "code",
      "metadata": {
        "id": "IEJ-IOnsXM-K"
      },
      "source": [
        "def solution(participant, completion):\n",
        "    answer = ''\n",
        "    \n",
        "    # using hashmap\n",
        "    part = {}\n",
        "    \n",
        "    # 마라톤 참가자들의 이름과 참가여부를 담은 part dictionary 생성\n",
        "    # 이 때, 동명이인이 있다면 1을 더해준다\n",
        "    for p in participant:\n",
        "        if p in part:\n",
        "            part[p] += 1\n",
        "        else:\n",
        "            part[p] = 1\n",
        "    \n",
        "    # 참가자들중 완주한 사람이 있다면 value 변경\n",
        "    for c in completion:\n",
        "        if c in part:\n",
        "            part[c] -=1\n",
        "            \n",
        "    # 결과적으로 참가자들중 value값이 1인 참가자 리턴\n",
        "    for p in part:\n",
        "        if part[p] == 1:\n",
        "            return p\n",
        "    \n",
        "    return answer"
      ],
      "execution_count": null,
      "outputs": []
    }
  ]
}