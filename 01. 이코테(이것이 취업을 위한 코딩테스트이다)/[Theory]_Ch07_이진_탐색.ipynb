{
  "nbformat": 4,
  "nbformat_minor": 0,
  "metadata": {
    "colab": {
      "name": "[Theory] Ch07. 이진 탐색.ipynb",
      "provenance": [],
      "collapsed_sections": [],
      "authorship_tag": "ABX9TyO8MiRAXc70Ou39l8Xchqfx",
      "include_colab_link": true
    },
    "kernelspec": {
      "name": "python3",
      "display_name": "Python 3"
    }
  },
  "cells": [
    {
      "cell_type": "markdown",
      "metadata": {
        "id": "view-in-github",
        "colab_type": "text"
      },
      "source": [
        "<a href=\"https://colab.research.google.com/github/Steve-YJ/Python-Algorithm/blob/main/%5BTheory%5D_Ch07_%EC%9D%B4%EC%A7%84_%ED%83%90%EC%83%89.ipynb\" target=\"_parent\"><img src=\"https://colab.research.google.com/assets/colab-badge.svg\" alt=\"Open In Colab\"/></a>"
      ]
    },
    {
      "cell_type": "markdown",
      "metadata": {
        "id": "Kv_oRaBeq746"
      },
      "source": [
        "# 이.코.테 Ch07. 이진 탐색\n",
        "*탐색 범위를 반으로 좁혀가며 빠르게 탐색하는 알고리즘*<br>\n",
        "<br>\n",
        "\n",
        "연속된 데이터를 기준에 따라 정렬하기 위한 알고리즘이 '정렬(Sort)'알고리즘이었다면 탐색 범위를 반으로 좁혀가며 빠르게 탐색하는 알고리즘인 '이진 탐색'에 대해 알아보자!<br>\n",
        "\n",
        "✅ start: 20.12.13.Sun. am 10:00 -"
      ]
    },
    {
      "cell_type": "markdown",
      "metadata": {
        "id": "glzpXZZDrEcf"
      },
      "source": [
        "## 1. 범위를 반씩 좁혀가는 탐색"
      ]
    },
    {
      "cell_type": "markdown",
      "metadata": {
        "id": "4Dy9T4P7rRhR"
      },
      "source": [
        "### 1.1 순차 탐색\n",
        "* 이번 장에서는 리스트 내에서 데이터를 매우 빠르게 탐색하는 `이진 탐색 알고리즘`에 대해서 공부하겠다\n",
        "* 이진 탐색에 대해 알아보기 전에 가장 기본 탐색 방법인 순차 탐색에 대해 먼저 이해할 필요가 있다\n",
        "* 1장부터 차례대로 읽은 독자라면 이미 자연스럽게 순차 탐색의 원리를 익혔다(ch06. 정렬)을 말씀하시는건가요? 갓갓님?)\n",
        "    * 순차 탐색이란? \"이미 우리가 알게 모르게 구현하고 있던 방법이었다\"\n",
        "    * N 개의 데이터가 있을 때, 그 데이터를 차례대로 하나씩 확인하며 어떠한 처리를 해준 경우가 있는데 이러한 경우도 순차 탐색이라고 할 수 있다\n",
        "* 순차 탐색(Sequential Search)이란\n",
        "    * 순차 탐색은 이름처럼 순차로 데이터를 탐색한다는 의미이다\n",
        "    * 리스트 안에 있는 데이터를 찾기 위해 앞에서부터 데이터를 하나씩 차례대로 확인하는 방법이다\n",
        "    * 보통 정렬되지 않은 리스트에서 데이터를 찾아야 할 때 사용한다\n",
        "    * 리스트 내에 데이터가 아무리 많아도 시간만 충분하다면 항상 원하는 원소(데이터)를 찾을 수 있다는 장점이 있다\n",
        "    * 리스트의 데이터에 하나씩 방문하여 특정한 문자열과 같은지 검사하므로 구현도 간단하다\n",
        "* ✅ 순차 탐색의 사용\n",
        "    * 순차탐색은 정말 자주 사용되는데, 리스트에 특정 값의 원소가 있는지 체크할 때도 순차 탐색으로 원소를 확인한다\n",
        "    * 리스트 자료형에서 특정한 값을 가지는 원소의 개수를 세는 count()메서드를 이용할 때도 내부에서는 순차 탐색이 수행된다\n"
      ]
    },
    {
      "cell_type": "code",
      "metadata": {
        "colab": {
          "base_uri": "https://localhost:8080/"
        },
        "id": "pI5vjWpKqRFe",
        "outputId": "d4c2c289-f1cc-4708-ca1a-d31491020add"
      },
      "source": [
        "# 7-1.py 순차 탐색 소스코드\n",
        "# 순차 탐색 소스코드 구현\n",
        "def sequential_search(n, target, array):\n",
        "    # 각 원소를 하나씩 확인하며\n",
        "    for i in range(n):\n",
        "        # 현재의 원소가 찾고자 하는 원소와 동일한 경우\n",
        "        if array[i] == target:\n",
        "            return i + 1  # 현재의 위치 반환(인덱스 0부터 시작하므로 1 더하기)\n",
        "\n",
        "print(\"생성할 원소 개수를 입력한 다음 한 칸 띄고 찾을 문자열을 입력하세요.\")\n",
        "input_data = input().split()\n",
        "n = int(input_data[0])\n",
        "target = input_data[1]\n",
        "\n",
        "print(\"앞서 적은 원소 개수만큼 문자열을 입력하세요. 구분은 띄어쓰기 한 칸으로 합니다.\")\n",
        "array = input().split()\n",
        "\n",
        "# 순차 탐색 수행 결과 출력\n",
        "print(sequential_search(n, target, array))"
      ],
      "execution_count": null,
      "outputs": [
        {
          "output_type": "stream",
          "text": [
            "생성할 원소 개수를 입력한 다음 한 칸 띄고 찾을 문자열을 입력하세요.\n",
            "5 Dongbin\n",
            "앞서 적은 원소 개수만큼 문자열을 입력하세요. 구분은 띄어쓰기 한 칸으로 합니다.\n",
            "Hanul Jonggu Dongbin Taeil Sangwook\n",
            "3\n"
          ],
          "name": "stdout"
        }
      ]
    },
    {
      "cell_type": "markdown",
      "metadata": {
        "id": "2FHI69Q39dqX"
      },
      "source": [
        "✅ 위의 예제에서와 같이 리스트 내에서 각 원소를 하나씩 확인하며 원하는 데이터를 탐색하는 것을 확인할 수 있다"
      ]
    },
    {
      "cell_type": "markdown",
      "metadata": {
        "id": "tJoLHMDP9wMQ"
      },
      "source": [
        "*그렇다면 순차탐색의 특징은 어떻게 정의할 수 있을까? 시간 복잡도는 어떻게 될까?*\n",
        "<br>\n",
        "\n",
        "* 순차탐색 정리\n",
        "    * 이처럼 순차 탐색은 `데이터 정렬 여부와 상관없이 가장 앞에 있는 원소부터 하나씩 확인`해야 한다는 점이 특징이다\n",
        "    * 시간 복잡도를 생각해보자. 데이터의 정렬 여부와 상관없이 가장 앞에 있는 원소부터 하나씩 확인하여 전체 데이터의 개수만큼 탐색을 수행한다\n",
        "    * 따라서 데이터의 개수가 N개일 때 최대 N번의 비교 연산이 필요하므로 최악의 경우 시간 복잡도는 *O(N)*이다"
      ]
    },
    {
      "cell_type": "markdown",
      "metadata": {
        "id": "wa_gEKAu-LmT"
      },
      "source": [
        "### 1.2 이진 탐색: 반으로 쪼개면서 탐색하기\n",
        "*본론인 이진 탐색을 공부해보자* 😃<br>\n",
        "<br>\n",
        "\n",
        "* ✅ 이진 탐색(Binary Search)\n",
        "    * 이진 탐색은 `배열 내부의 데이터가 정렬되어 있어야만 사용할 수 있는 알고리즘`이다\n",
        "    * 데이터가 무작위일 때는 사용할 수 없지만, `이미 정렬되어 있다면 매우 빠르게 데이터를 찾을 수 있다`는 특징이 있다\n",
        "    * 이진 탐색은 탐색 범위를 절반씩 좁혀가며 데이터를 탐색하는 특징이 있다\n",
        "\n",
        "* ✅ 이진 탐색의 방법\n",
        "    * 이진 탐색은 위치를 나타내는 변수 3개를 사용한다\n",
        "        * **시작점, 끝점, 중간점**이다\n",
        "    * 찾으려는 데이터와 중간점(Middle)위치에 있는 데이터를 반복적으로 비교해서 원하는 데이터를 찾는 게 이진 탐색의 과정이다\n",
        "    * 이미 정렬된 10개의 데이터 중에서 값이 4인 원소를 찾는 예시를 살펴보자"
      ]
    },
    {
      "cell_type": "code",
      "metadata": {
        "colab": {
          "base_uri": "https://localhost:8080/"
        },
        "id": "ILQ8iBiC_VnC",
        "outputId": "c2cb7b8f-048a-4080-e5c0-053c55d1b92a"
      },
      "source": [
        "array = list(map(int, input().split()))\n",
        "print(array)"
      ],
      "execution_count": 3,
      "outputs": [
        {
          "output_type": "stream",
          "text": [
            "0 2 4 6 8 10 12 14 16 18\n",
            "[0, 2, 4, 6, 8, 10, 12, 14, 16, 18]\n"
          ],
          "name": "stdout"
        }
      ]
    },
    {
      "cell_type": "markdown",
      "metadata": {
        "id": "VaJI506FUkbP"
      },
      "source": [
        "* 이진 탐색은 한 번 확인할 때 확인하는 원소의 개수가 절반씩 줄어든다는 점에서 시간 복잡도가 *O(logN)*이다\n",
        "* 절반씩 데이터를 줄어들도록 만든다는 점에서 앞서 다룬 퀵 정렬과 공통점이 있다\n",
        "* 부가 설명을 하자면 이진 탐색 알고리즘은 한 단계를 거칠 때마다 확인하는 원소가 평균적으로 절반으로 줄어든다\n",
        "* 재귀 함수를 이용하는 방법과 반복문을 이용하는 방법이 있다"
      ]
    },
    {
      "cell_type": "code",
      "metadata": {
        "id": "enodOAtaVLIJ"
      },
      "source": [
        "# 7-2.py 재귀 함수로 구현한 이진 탐색 소스코드\n",
        "def binary_search(array, target, start, end):\n",
        "    if start > end:\n",
        "        return None\n",
        "    mid = (start + end) // 2  # 이렇게하면 소수점 아래수는 떨어지겠구나\n",
        "    # min = int((start + end)/2)  #  또 다른 방법\n",
        "    \n",
        "    # 찾은 경우 중간점 인덱스 반환\n",
        "    if array[mid] == target:\n",
        "        return mid\n",
        "    # 중간점의 값보다 찾고자 하는 값이 작은 경우 왼쪽 확인\n",
        "    elif array[mid] > target:\n",
        "        return binary_search(array, target, start,mid-1)\n",
        "    # 중간 점의 값보다 찾고자 하는 값이 큰 경우 오른쪽 확인\n",
        "    elif array[mid] < target:\n",
        "        return binary_search(array, target, mid+1, end)"
      ],
      "execution_count": null,
      "outputs": []
    },
    {
      "cell_type": "code",
      "metadata": {
        "id": "Psr41ydh-zmb"
      },
      "source": [
        "def binary_search(array, target, start, end):\n",
        "    if start > end:\n",
        "        return None\n",
        "    mid = int((start+end)/2)\n",
        "\n",
        "    # 중간 값이 target과 같다면 중간값 인덱스 반환\n",
        "    if array[mid] == target:\n",
        "        return mid\n",
        "    # case1. if array[mid] > target:\n",
        "    elif array[mid] > target:\n",
        "        return binary_search(array, target, start, mid-1)  # 재귀, 시작점부터 mid-1까지 탐색\n",
        "    elif array[mid] < target:\n",
        "        return binary_search(array, target, mid+1, end)"
      ],
      "execution_count": 7,
      "outputs": []
    },
    {
      "cell_type": "code",
      "metadata": {
        "colab": {
          "base_uri": "https://localhost:8080/"
        },
        "id": "jzTZFSdzWUAs",
        "outputId": "1b537769-a379-4eac-d790-8f5f03ffef23"
      },
      "source": [
        "# n(원소의 개수)과 target(찾고자 하는 문자열)을 입력받기\n",
        "n, target = list(map(int, input().split()))\n",
        "# 전체 원소 입력 받기\n",
        "array = list(map(int, input().split()))\n",
        "\n",
        "# 이진 탐색 수행 결과 출력\n",
        "result = binary_search(array, target, 0, n-1)\n",
        "if result == None:\n",
        "    print(\"원소가 존재하지 않습니다\")\n",
        "else:\n",
        "    print(result + 1)"
      ],
      "execution_count": 10,
      "outputs": [
        {
          "output_type": "stream",
          "text": [
            "10 7\n",
            "1 3 5 6 9 11 13 15 17 19\n",
            "원소가 존재하지 않습니다\n"
          ],
          "name": "stdout"
        }
      ]
    },
    {
      "cell_type": "markdown",
      "metadata": {
        "id": "1TLLr2VuDJIx"
      },
      "source": [
        "✅ 이진 탐색의 시간 복잡도\r\n",
        "* 단`계마다 탐색 범위를 2로 나누는 것과 동일`하므로 `연산 횟수는 logN에 비례`한다\r\n",
        "* 예를 들어 초기 데이터 개수가 32일 때, 이상적으로 1단계를 거치면 16개 가량의 데이터만 남는다\r\n",
        "    * 2단계를 거치면 16개의 데이터에서 8개의 데이터만 남는다\r\n",
        "    * 3단계를 거치면 8개에서 4개의 데이터만 남는다\r\n",
        "* 다시 말해 이진 탐색은 탐색 범위를 절반씩 줄이며, 시간 복잡도는 O(logN)을 보장한다"
      ]
    },
    {
      "cell_type": "markdown",
      "metadata": {
        "id": "yc1An04NvDEK"
      },
      "source": [
        "## 2. 파이썬 이진 탐색 라이브러리"
      ]
    },
    {
      "cell_type": "markdown",
      "metadata": {
        "id": "HkQ6VDgnzFwj"
      },
      "source": [
        "* bisect_left(a, x): 정렬된 순서를 유지하면서 배열 a에 x를 삽입할 가장 왼쪽 인덱스를 반환\r\n",
        "* bisect_right(a, x): 정렬된 순서를 유지하면서 배열 a에 x를 삽입할 가장 오른쪽 인덱스를 반환\r\n",
        "<br>\r\n",
        "\r\n",
        "예를들어 확인해보자 "
      ]
    },
    {
      "cell_type": "code",
      "metadata": {
        "colab": {
          "base_uri": "https://localhost:8080/"
        },
        "id": "M1y7M9AyAk7r",
        "outputId": "95871bb9-d933-4254-a589-d49b67a3d5fe"
      },
      "source": [
        "from bisect import bisect_left, bisect_right\n",
        "\n",
        "a = [1, 2, 4, 4, 8]\n",
        "x = 4\n",
        "\n",
        "print(bisect_left(a, x))\n",
        "print(bisect_right(a, x))"
      ],
      "execution_count": 13,
      "outputs": [
        {
          "output_type": "stream",
          "text": [
            "2\n",
            "4\n"
          ],
          "name": "stdout"
        }
      ]
    },
    {
      "cell_type": "markdown",
      "metadata": {
        "id": "YRVkyAl3zu61"
      },
      "source": [
        "### 값이 특정 범위에 속하는 데이터 개수 구하기"
      ]
    },
    {
      "cell_type": "code",
      "metadata": {
        "colab": {
          "base_uri": "https://localhost:8080/"
        },
        "id": "MiIbtX9hz01P",
        "outputId": "d7717a33-7837-4906-a2f2-6dfa72c404cb"
      },
      "source": [
        "from bisect import bisect_left, bisect_right\r\n",
        "\r\n",
        "# 값이 [left_value, right_value]인 데이터의 개수를 반환하는 함수\r\n",
        "def count_by_range(a, left_value, right_value):\r\n",
        "    right_index = bisect_right(a, right_value)\r\n",
        "    left_index = bisect_left(a, left_value)\r\n",
        "    return right_index - left_index\r\n",
        "\r\n",
        "# 배열 선언\r\n",
        "a = [1, 2, 3, 3, 3, 3, 4, 4, 8, 9]\r\n",
        "\r\n",
        "# 값이 4인 데이터 개수 출력\r\n",
        "print(count_by_range(a, 4, 4))\r\n",
        "\r\n",
        "# 값이 [-1, 3] 범위에 있는 데이터 개수 출력\r\n",
        "print(count_by_range(a, -1, 3))"
      ],
      "execution_count": null,
      "outputs": [
        {
          "output_type": "stream",
          "text": [
            "2\n",
            "6\n"
          ],
          "name": "stdout"
        }
      ]
    },
    {
      "cell_type": "code",
      "metadata": {
        "colab": {
          "base_uri": "https://localhost:8080/"
        },
        "id": "yTuhukZnA7ab",
        "outputId": "4b204cf5-24b0-45c3-b078-261747127069"
      },
      "source": [
        "# 값이 특정 범위에 속하는 데이터 개수 구하기\n",
        "\n",
        "# 값이 [left_value, right_value]인 데이터의 개수 반환하기\n",
        "def count_by_range(a, left_value, right_value):\n",
        "    right_index = bisect_right(a, right_value)\n",
        "    left_index = bisect_left(a, left_value)\n",
        "\n",
        "    return right_index - left_index\n",
        "\n",
        "# 배열 선언\n",
        "a = [1, 2, 3, 3, 3, 3, 4, 4, 8, 9]\n",
        "\n",
        "# 값이 4인 데이터 개수 출력\n",
        "print(count_by_range(a, 4, 4))\n",
        "\n",
        "# 값이 2에서 8 사이의 데이터 개수 출력\n",
        "print(count_by_range(a, 2, 8))"
      ],
      "execution_count": 15,
      "outputs": [
        {
          "output_type": "stream",
          "text": [
            "2\n",
            "8\n"
          ],
          "name": "stdout"
        }
      ]
    },
    {
      "cell_type": "markdown",
      "metadata": {
        "id": "f8CMpvBeCSI1"
      },
      "source": [
        "한 문제 풀고오자! -20.12.29.tue- pm2:47"
      ]
    },
    {
      "cell_type": "markdown",
      "metadata": {
        "id": "WwvEnr840atb"
      },
      "source": [
        "### 파라메트릭 서치(Parametric Search)\r\n",
        "* 파라메트릭 서치란 최적화 문제를 결정 문제('예' 혹은 '아니오')로 바꿔 해결하는 기법이다\r\n",
        "    * 특정한 조건을 만족하는 가장 알맞은 값을 빠르게 찾는 최적화 문제\r\n",
        "* 일반적으로 코딩 테스트에서 파라메트릭 서치 문제는 이진 탐색을 이용하여 해결할 수 있다"
      ]
    },
    {
      "cell_type": "code",
      "metadata": {
        "colab": {
          "base_uri": "https://localhost:8080/"
        },
        "id": "TiiBFHxh001U",
        "outputId": "d3bf30dc-1386-4ecf-cdf4-3124a788d444"
      },
      "source": [
        "list_train_acc = [0.6864, 0.8701, 0.9084,  0.9191, 0.9357,  0.9477, 0.9549, 0.9626, 0.9547, 0.9701,\r\n",
        "                  0.9902,  0.9949, 0.9962, 0.9977, 0.9984, 0.9982, 0.9986,  0.9990, 0.9993, 0.9996,\r\n",
        "                  0.9996, 0.9996, 0.9997, 0.9997, 0.9999, 0.9997, 0.9999, 0.9997, 0.9997, 0.9996,\r\n",
        "                  0.9999, 0.9999, 0.9997, 0.9997, 0.9999, 0.9999, 0.9999, 0.9999, 0.997, 0.9999,\r\n",
        "                  0.9997, 0.9999, 0.9997, 0.9999, 0.9999, 0.9997, 0.9999, 0.9997, 0.9997, 0.9997, \r\n",
        "                  0.9999, 0.9999, 0.9999, 0.9999, 0.9999, 0.9999, 0.9999, 0.9995, 0.9999, 0.9997, \r\n",
        "                  0.9999, 0.9999, 0.9999, 0.9999, 0.9999, 0.9999, 0.9999, 0.9999, 0.9999, 0.9997,\r\n",
        "                  0.9999, 0.9997, 0.9997, 0.9999, 0.9997, 0.9997, 0.9999, 0.9999, 0.9997, 0.9999,\r\n",
        "                  0.9999, 0.9999, 0.9999, 0.9999, 0.9997, 0.9999, 0.9999, 1.0000, 0.9999, 0.9997, \r\n",
        "                  0.9999, 0.9999, 0.9999, 0.9999, 0.9999, 0.9999, 0.9999, 0.9999, 0.9999, 0.9997]\r\n",
        "print(len(list_train_acc))"
      ],
      "execution_count": null,
      "outputs": [
        {
          "output_type": "stream",
          "text": [
            "100\n"
          ],
          "name": "stdout"
        }
      ]
    },
    {
      "cell_type": "markdown",
      "metadata": {
        "id": "4cwbAD4mCBpO"
      },
      "source": [
        "## 이진 탐색 실전문제 - 떡볶이 떡 만들기\n",
        "* 전형적인 이진 탐색 문제이자, 파라메트릭 서치(Parametric Search) 유형 문제이다"
      ]
    },
    {
      "cell_type": "code",
      "metadata": {
        "colab": {
          "base_uri": "https://localhost:8080/"
        },
        "id": "-A5iMKc1TDWt",
        "outputId": "48ff7c26-4ba3-4f8d-e4c0-3152332acd5b"
      },
      "source": [
        "n, m = map(int, input().split())\n",
        "# array = [19, 15, 10, 17]\n",
        "array = list(map(int, input().split()))\n",
        "sum = 0\n",
        "\n",
        "start = 0\n",
        "# end = max(array) -1  # 가장 긴 떡의 길이에서 -1을 취해준다(인덱스를 맞춰준다)\n",
        "end = max(array)  # max(array)-1이 아니라 max(array)이다. 기계적으로 외우지 말자!\n",
        "\n",
        "def binary_search(array, target, start, end):\n",
        "    mid = (start+end) //2  # 중간값(절단기 최대 높이)\n",
        "    sum_elem = 0  # 손님이 요청한 떡 길이\n",
        "\n",
        "    while start <= end:\n",
        "        for elem in array:\n",
        "            # 떡이 잘렸을 때의 양 계산, 이 때 중간값 보다 작은 값들은 더해주지 않는다\n",
        "            if elem > mid:\n",
        "                sum_elem += (elem) - mid\n",
        "\n",
        "        # 요청한 떡의 길이(target)이 같다면 자른 떡의 길이 반환\n",
        "        if sum_elem == target:\n",
        "            return mid  # 중간값 반환!\n",
        "        \n",
        "        # 요청한 떡의 길이보다 떡이 길다면 범위를 좁혀 탐색\n",
        "        # 절단기의 높이를 높여준다 == 탐색의 범위를 좁혀준다\n",
        "        elif sum_elem > target:\n",
        "            return binary_search(array, target, mid+1, end)\n",
        "\n",
        "        else:\n",
        "            return binary_search(array, target, start, mid-1)\n",
        "            \n",
        "        # else:  # 요청한 떡의 길이가 더 크다면?"
      ],
      "execution_count": 31,
      "outputs": [
        {
          "output_type": "stream",
          "text": [
            "4 6\n",
            "19 15 10 17\n"
          ],
          "name": "stdout"
        }
      ]
    },
    {
      "cell_type": "code",
      "metadata": {
        "colab": {
          "base_uri": "https://localhost:8080/"
        },
        "id": "RLKR6_CAw6gH",
        "outputId": "037ff1e9-783f-40c2-c4b7-71b2c1da54ba"
      },
      "source": [
        "binary_search(array, m, start, end)"
      ],
      "execution_count": 32,
      "outputs": [
        {
          "output_type": "execute_result",
          "data": {
            "text/plain": [
              "15"
            ]
          },
          "metadata": {
            "tags": []
          },
          "execution_count": 32
        }
      ]
    }
  ]
}