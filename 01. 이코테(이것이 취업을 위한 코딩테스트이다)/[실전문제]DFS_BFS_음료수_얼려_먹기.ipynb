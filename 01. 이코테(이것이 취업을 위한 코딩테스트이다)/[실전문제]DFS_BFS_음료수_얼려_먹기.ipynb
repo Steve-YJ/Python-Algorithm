{
  "nbformat": 4,
  "nbformat_minor": 0,
  "metadata": {
    "colab": {
      "name": "[실전문제]DFS/BFS-음료수 얼려 먹기.ipynb",
      "provenance": [],
      "authorship_tag": "ABX9TyNdg5zFbo3BOdflc4ZQ8TT8",
      "include_colab_link": true
    },
    "kernelspec": {
      "name": "python3",
      "display_name": "Python 3"
    }
  },
  "cells": [
    {
      "cell_type": "markdown",
      "metadata": {
        "id": "view-in-github",
        "colab_type": "text"
      },
      "source": [
        "<a href=\"https://colab.research.google.com/github/Steve-YJ/Python-Algorithm/blob/main/%5B%EC%8B%A4%EC%A0%84%EB%AC%B8%EC%A0%9C%5DDFS_BFS_%EC%9D%8C%EB%A3%8C%EC%88%98_%EC%96%BC%EB%A0%A4_%EB%A8%B9%EA%B8%B0.ipynb\" target=\"_parent\"><img src=\"https://colab.research.google.com/assets/colab-badge.svg\" alt=\"Open In Colab\"/></a>"
      ]
    },
    {
      "cell_type": "markdown",
      "metadata": {
        "id": "weNBDkWVLMEv"
      },
      "source": [
        "# 이.코.테 실전 문제 - DFS/BFS 음료수 얼려 먹기"
      ]
    },
    {
      "cell_type": "code",
      "metadata": {
        "colab": {
          "base_uri": "https://localhost:8080/"
        },
        "id": "c8dekK-xLQ0j",
        "outputId": "9531f95c-b5cf-45e8-acf3-382359e408e7"
      },
      "source": [
        "n, m = map(int, input().split())\n",
        "map = [[list(map(int, input().split()))] for i in range(n)]\n",
        "\n",
        "print(n, m)\n",
        "print(map)"
      ],
      "execution_count": 2,
      "outputs": [
        {
          "output_type": "stream",
          "text": [
            "4 5\n",
            "0 0 1 1 0\n",
            "0 0 0 1 1 \n",
            "1 1 1 1 1 \n",
            "0 0 0 0 0 \n",
            "4 5\n",
            "[[[0, 0, 1, 1, 0]], [[0, 0, 0, 1, 1]], [[1, 1, 1, 1, 1]], [[0, 0, 0, 0, 0]]]\n"
          ],
          "name": "stdout"
        }
      ]
    },
    {
      "cell_type": "markdown",
      "metadata": {
        "id": "f3yZQjfNLHdt"
      },
      "source": [
        "DFS/BFS를 배웠으니깐 방법을 동원해서 풀어보자!"
      ]
    },
    {
      "cell_type": "code",
      "metadata": {
        "colab": {
          "base_uri": "https://localhost:8080/",
          "height": 263
        },
        "id": "4SobyZWNMCEn",
        "outputId": "af405126-3818-4847-e742-791943eb3ffc"
      },
      "source": [
        "# 인접 리스트? \n",
        "# 인접 행렬?\n",
        "\n",
        "# 인접 행렬\n",
        "graph = [[0] * m for i in range(n)]\n",
        "print(graph)\n",
        "\n",
        "\n",
        "for i in range(n):\n",
        "    lines = list(map(int, input().split()))\n",
        "    for j in range(m):     \n",
        "        graph[i][j] = lines[j]\n",
        "\n",
        "print(graph)\n"
      ],
      "execution_count": 7,
      "outputs": [
        {
          "output_type": "stream",
          "text": [
            "[[0, 0, 0, 0, 0], [0, 0, 0, 0, 0], [0, 0, 0, 0, 0], [0, 0, 0, 0, 0]]\n",
            "0 0 1 1 0\n"
          ],
          "name": "stdout"
        },
        {
          "output_type": "error",
          "ename": "TypeError",
          "evalue": "ignored",
          "traceback": [
            "\u001b[0;31m---------------------------------------------------------------------------\u001b[0m",
            "\u001b[0;31mTypeError\u001b[0m                                 Traceback (most recent call last)",
            "\u001b[0;32m<ipython-input-7-eea5e1636829>\u001b[0m in \u001b[0;36m<module>\u001b[0;34m()\u001b[0m\n\u001b[1;32m      8\u001b[0m \u001b[0;34m\u001b[0m\u001b[0m\n\u001b[1;32m      9\u001b[0m \u001b[0;32mfor\u001b[0m \u001b[0mi\u001b[0m \u001b[0;32min\u001b[0m \u001b[0mrange\u001b[0m\u001b[0;34m(\u001b[0m\u001b[0mn\u001b[0m\u001b[0;34m)\u001b[0m\u001b[0;34m:\u001b[0m\u001b[0;34m\u001b[0m\u001b[0;34m\u001b[0m\u001b[0m\n\u001b[0;32m---> 10\u001b[0;31m     \u001b[0mlines\u001b[0m \u001b[0;34m=\u001b[0m \u001b[0mlist\u001b[0m\u001b[0;34m(\u001b[0m\u001b[0mmap\u001b[0m\u001b[0;34m(\u001b[0m\u001b[0mint\u001b[0m\u001b[0;34m,\u001b[0m \u001b[0minput\u001b[0m\u001b[0;34m(\u001b[0m\u001b[0;34m)\u001b[0m\u001b[0;34m.\u001b[0m\u001b[0msplit\u001b[0m\u001b[0;34m(\u001b[0m\u001b[0;34m)\u001b[0m\u001b[0;34m)\u001b[0m\u001b[0;34m)\u001b[0m\u001b[0;34m\u001b[0m\u001b[0;34m\u001b[0m\u001b[0m\n\u001b[0m\u001b[1;32m     11\u001b[0m     \u001b[0;32mfor\u001b[0m \u001b[0mj\u001b[0m \u001b[0;32min\u001b[0m \u001b[0mrange\u001b[0m\u001b[0;34m(\u001b[0m\u001b[0mm\u001b[0m\u001b[0;34m)\u001b[0m\u001b[0;34m:\u001b[0m\u001b[0;34m\u001b[0m\u001b[0;34m\u001b[0m\u001b[0m\n\u001b[1;32m     12\u001b[0m         \u001b[0mgraph\u001b[0m\u001b[0;34m[\u001b[0m\u001b[0mi\u001b[0m\u001b[0;34m]\u001b[0m\u001b[0;34m[\u001b[0m\u001b[0mj\u001b[0m\u001b[0;34m]\u001b[0m \u001b[0;34m=\u001b[0m \u001b[0mlines\u001b[0m\u001b[0;34m[\u001b[0m\u001b[0mj\u001b[0m\u001b[0;34m]\u001b[0m\u001b[0;34m\u001b[0m\u001b[0;34m\u001b[0m\u001b[0m\n",
            "\u001b[0;31mTypeError\u001b[0m: 'list' object is not callable"
          ]
        }
      ]
    },
    {
      "cell_type": "markdown",
      "metadata": {
        "id": "DSqnL2INR4lB"
      },
      "source": [
        "# 문제 해설\n",
        "* 해설 따라해보기<br>\n",
        "<br>\n",
        "\n",
        "* 이 문제는 DFS로 해결할 수 있다\n",
        "* 문제에서 제시된 조건대로 얼음을 얼릴 수 있는 공간이 상, 하, 좌, 우로 연결되어 있다고 표현할 수 있으므로 '그래프 형태'로 모델링 할 수 있다\n",
        "* '0'인 값이 상, 하, 좌, 우로 연결되어 있는 노드를 묶으면 오른쪽과 같이 세 묶음으로 나올 것이다"
      ]
    },
    {
      "cell_type": "code",
      "metadata": {
        "colab": {
          "base_uri": "https://localhost:8080/"
        },
        "id": "gK0GwXZbSHGs",
        "outputId": "d6a16b6b-4d98-47c5-9f05-2242e05ee329"
      },
      "source": [
        "# 5-10.py 답안 예시\n",
        "# N, M을 공백으로 구분하여 입력 받기\n",
        "n, m = map(int, input().split())\n",
        "\n",
        "# 2차원 리스트의 맵 정보 입력 받기\n",
        "graph = []\n",
        "for i in range(n):\n",
        "    graph.append(list(map(int, input())))\n",
        "\n",
        "# DFS로 특정한 노드를 방문한 뒤에 연결된 모든 노드들도 방문\n",
        "def dfs(x, y):\n",
        "    # 주어진 범위를 벗어나는 경우에는 즉시 종료\n",
        "    if x <= -1 or x >= n or y <= -1 or y >= m:\n",
        "        return False\n",
        "    # 현재 노드를아직 방문하지 않았다면 해당 노드 방문처리\n",
        "    if graph[x][y] == 0:\n",
        "        # 방문하지 않은 노드 방문 처리\n",
        "        graph[x][y] = 1\n",
        "        # 상, 하, 좌, 우의 위치도 모두 재귀적으로 호출\n",
        "        dfs(x, y-1)\n",
        "        dfs(x, y+1)\n",
        "        dfs(x-1, y)\n",
        "        dfs(x+1, y)\n",
        "        return True\n",
        "    return False\n",
        "\n",
        "# 모든 노드(위치)에 대하여 음료수 채우기\n",
        "result = 0\n",
        "for i in range(n):\n",
        "    for j in range(m):\n",
        "        # 현재 위치에서 DFS 수행\n",
        "        if dfs(i, j) == True:\n",
        "            result +=1\n",
        "\n",
        "print(result)"
      ],
      "execution_count": 4,
      "outputs": [
        {
          "output_type": "stream",
          "text": [
            "4 5\n",
            "00110\n",
            "00011\n",
            "11111\n",
            "00000\n",
            "3\n"
          ],
          "name": "stdout"
        }
      ]
    },
    {
      "cell_type": "code",
      "metadata": {
        "id": "5_jxgfDdStrB"
      },
      "source": [
        ""
      ],
      "execution_count": null,
      "outputs": []
    },
    {
      "cell_type": "markdown",
      "metadata": {
        "id": "eBsrEDWj0-nj"
      },
      "source": [
        "## Second Trial\n",
        "* 다시 한 번 문제를 풀어보자\n",
        "* 2차원 리스트가 주어졌을 때, DFS/BFS로 처리하는 방법에 주목해보자\n",
        "* -20.12.23.Wed-"
      ]
    },
    {
      "cell_type": "code",
      "metadata": {
        "colab": {
          "base_uri": "https://localhost:8080/"
        },
        "id": "JGlgBR8_0-pv",
        "outputId": "8cb54510-aca4-440f-99ab-c6ce0c42fd19"
      },
      "source": [
        "# N, M을 공백으로 구분하여 입력 받는다\n",
        "n, m = map(int, input().split())\n",
        "\n",
        "# 2차원 리스트의 맵 정보 입력 받기\n",
        "graph = [list(map(int, input())) for i in range(n)]\n",
        "\n",
        "# DFS로 특정한 노드를 방문한 뒤에 연결된 모든 노드들도 방문\n",
        "def dfs(x, y):\n",
        "  # 주어진 범위를 벗어나는 경우에는 즉시 종료\n",
        "  if x <= -1 or x >=n or y <= -1 or y >= m:\n",
        "    return False\n",
        "  # 현재 노드들이 아직 방문하지 않은 노드라면 방문처리 한다\n",
        "  if graph[x][y] == 0:\n",
        "    # 방문하지 않은 노드를 방문처리\n",
        "    # (문제에서는 얼음을 채워준다고 생각하자)\n",
        "    graph[x][y] = 1\n",
        "    # 상, 하, 좌, 우의 위치를 모두 재귀적으로 호출\n",
        "    dfs(x, y-1)\n",
        "    dfs(x, y+1)\n",
        "    dfs(x-1, y)\n",
        "    dfs(x+1, y)\n",
        "    return True\n",
        "  \n",
        "  # 방문했다면 False값을 리턴한다\n",
        "  return False\n",
        "\n",
        "# 모든 노드에 대하여 얼음 채우기\n",
        "results = 0\n",
        "for i in range(n):\n",
        "  for j in range(m):\n",
        "    # 현재 위치에서 dfs 수행\n",
        "    if dfs(i, j) == True:\n",
        "      results +=1\n",
        "\n",
        "print(results)"
      ],
      "execution_count": 1,
      "outputs": [
        {
          "output_type": "stream",
          "text": [
            "4 5\n",
            "00110\n",
            "00011\n",
            "11111\n",
            "00000\n",
            "3\n"
          ],
          "name": "stdout"
        }
      ]
    },
    {
      "cell_type": "code",
      "metadata": {
        "colab": {
          "base_uri": "https://localhost:8080/"
        },
        "id": "choAI-T_ACOU",
        "outputId": "5a114f7c-056b-409e-e6e6-d62664dbfa35"
      },
      "source": [
        "# n과 m값 입력 받기\n",
        "n, m = map(int, input().split())\n",
        "# 2차원 리스트 맵정보 모델링\n",
        "graph = [list(map(int, input())) for i in range(n)]\n",
        "\n",
        "# DFS 알고리즘 작성\n",
        "def dfs(x, y):\n",
        "    # 범위를 벗어난다면 즉시 종료\n",
        "    if x <= -1 or x >= n or y <= -1 or y >= m:\n",
        "        return False\n",
        "    # 현재 노드 중 방문하지 않은 노드가 있다면 방문처리\n",
        "    if graph[x][y] == 0:\n",
        "        graph[x][y] = 1\n",
        "        # 상, 하, 좌, 우 위치를 재귀적으로 탐색\n",
        "        dfs(x, y-1)\n",
        "        dfs(x, y+1)\n",
        "        dfs(x-1, y)\n",
        "        dfs(x+1, y)\n",
        "        return True  # 탐색을 성공했다면 True 반환\n",
        "    \n",
        "    # 방문한 노드라면 False 반환\n",
        "    return False\n",
        "\n",
        "results = 0\n",
        "# 모든 좌표를 탐색\n",
        "for i in range(n):\n",
        "    for j in range(m):\n",
        "        if dfs(i, j) == True:  # 탐색을 성공했다면\n",
        "            results +=1\n",
        "\n",
        "print(results)"
      ],
      "execution_count": 4,
      "outputs": [
        {
          "output_type": "stream",
          "text": [
            "3 3\n",
            "001\n",
            "010\n",
            "101\n",
            "3\n"
          ],
          "name": "stdout"
        }
      ]
    },
    {
      "cell_type": "markdown",
      "metadata": {
        "id": "vfLHENgcB18M"
      },
      "source": [
        "* 정리\n",
        "    * DFS 알고리즘을 사용하여 방문하지 않은 노드를 방문한다\n",
        "    * 모든 노드에 대하여 탐색을 수행한다\n",
        "    * 못할것도 없다. 익숙해지자 -20.12.23.wed- am 9:40"
      ]
    },
    {
      "cell_type": "code",
      "metadata": {
        "id": "qLMi9sbNCHSj"
      },
      "source": [
        ""
      ],
      "execution_count": null,
      "outputs": []
    }
  ]
}