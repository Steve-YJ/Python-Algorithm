{
  "nbformat": 4,
  "nbformat_minor": 0,
  "metadata": {
    "colab": {
      "name": "Ch08. DP 실전문제 - 1로 만들기.ipynb",
      "provenance": [],
      "collapsed_sections": [],
      "authorship_tag": "ABX9TyOfLG2FLHFfYkTsK90KzdcX",
      "include_colab_link": true
    },
    "kernelspec": {
      "name": "python3",
      "display_name": "Python 3"
    }
  },
  "cells": [
    {
      "cell_type": "markdown",
      "metadata": {
        "id": "view-in-github",
        "colab_type": "text"
      },
      "source": [
        "<a href=\"https://colab.research.google.com/github/Steve-YJ/Python-Algorithm/blob/main/Ch08_DP_%EC%8B%A4%EC%A0%84%EB%AC%B8%EC%A0%9C_1%EB%A1%9C_%EB%A7%8C%EB%93%A4%EA%B8%B0.ipynb\" target=\"_parent\"><img src=\"https://colab.research.google.com/assets/colab-badge.svg\" alt=\"Open In Colab\"/></a>"
      ]
    },
    {
      "cell_type": "markdown",
      "metadata": {
        "id": "TLS3EV7bMNyF"
      },
      "source": [
        "# 스스로 풀어보기\r\n",
        "## Solution1. "
      ]
    },
    {
      "cell_type": "markdown",
      "metadata": {
        "id": "62j1OfMgMRu2"
      },
      "source": [
        "* x에 사용할 수 있는 연산은 4가지\r\n",
        "* 정수 X가 주어졌을 때, 연산 4개를 적절히 사용해서 1을 만드려고 한다\r\n",
        "* 연산을 사용하는 횟수의 최솟값을 출력하시오"
      ]
    },
    {
      "cell_type": "markdown",
      "metadata": {
        "id": "Ru-U0n12M1cq"
      },
      "source": [
        "### 문제 해결 아이디어\r\n",
        "* `최적 부분 구조`와 `중복되는 부분 문제`를 만족한다\r\n",
        "\r\n",
        "\r\n",
        "\r\n",
        "```\r\n",
        "* ai = min(ai-1, ai/2, ai/3, ai/5) + 1\r\n",
        "* 단, 1을 빼는 연산을 제외하고는 해당 수로 나누어떨어질 때에 한해 점화식을 적용할 수 있다\r\n",
        "```\r\n",
        "\r\n"
      ]
    },
    {
      "cell_type": "code",
      "metadata": {
        "colab": {
          "base_uri": "https://localhost:8080/"
        },
        "id": "VZxKiRmxwyOe",
        "outputId": "5eb27669-00a5-479a-8871-74377ceaa331"
      },
      "source": [
        "\"\"\"\r\n",
        "<풀이>\r\n",
        "- 잘 알려진 다이나믹 프로그래밍 문제\r\n",
        "- 문제를 풀기 전 함수가 호출되는 과정을 그려보자\r\n",
        "\"\"\"\r\n",
        "\r\n",
        "# 정수 X를 입력받기\r\n",
        "x = int(input())\r\n",
        "\r\n",
        "# 앞서 계산된 결과를 저장하기 위한 DP 테이블 초기화(Bottom-Up)\r\n",
        "d = [0] * 30001  # 1부터 30000까지 모든 결과 저장\r\n",
        "\r\n",
        "# 다이나믹 프로그래밍(Dynamic Programming) 진행(Bottom-Up)\r\n",
        "# 각각 Optimal Solution 값을 구해준다\r\n",
        "\r\n",
        "for i in range(2, x+1):\r\n",
        "    # 현재 수에서 1을 빼는 경우\r\n",
        "    d[i] = d[i-1] + 1  # 점화식 끝에 1을 더해주는 이유는 함수의 호출 횟수를 구해야 하기 때문이다\r\n",
        "    # 현재의 수가 2로 나누어 떨어지는 경우\r\n",
        "    if i % 2 == 0:\r\n",
        "        d[i] = min(d[i], d[i // 2] + 1)\r\n",
        "    # 현재의 수가 3으로 나누어 떨어지는 경우\r\n",
        "    if i % 3 == 0:\r\n",
        "        d[i] = min(d[i], d[i // 3] + 1)\r\n",
        "    # 현재의 수가 5로 나누어 떨어지는 경우\r\n",
        "    if i % 5 == 0:\r\n",
        "        d[i] = min(d[i], d[i // 5] + 1)\r\n",
        "\r\n",
        "print(d[x])"
      ],
      "execution_count": null,
      "outputs": [
        {
          "output_type": "stream",
          "text": [
            "6\n",
            "2\n"
          ],
          "name": "stdout"
        }
      ]
    },
    {
      "cell_type": "markdown",
      "metadata": {
        "id": "R3twVBklx_qv"
      },
      "source": [
        "Q. 익숙하지 않아서일까? 점화식은 역시 낯설다..."
      ]
    },
    {
      "cell_type": "code",
      "metadata": {
        "colab": {
          "base_uri": "https://localhost:8080/"
        },
        "id": "hzJW9faJ3rK4",
        "outputId": "9c8f804d-066b-43ae-80ff-e4d9efe77318"
      },
      "source": [
        "x = int(input())\r\n",
        "\r\n",
        "d = [0] * 30001\r\n",
        "\r\n",
        "for i in range(2, x+1):\r\n",
        "    d[i] = d[i-1] + 1\r\n",
        "\r\n",
        "    if i % 2 == 0:\r\n",
        "        d[i] = min(d[i], d[i // 2] + 1)\r\n",
        "    if i % 3 == 0:\r\n",
        "        d[i] = min(d[i], d[i // 3] + 1)\r\n",
        "    if i % 5 == 0:\r\n",
        "        d[i] == min(d[i], d[i // 5] + 1)  # 5로 나누어 떨어진 값에 1을 더해서 부분 최적해를 구할 수 있다\r\n",
        "    \r\n",
        "print(d[x])"
      ],
      "execution_count": null,
      "outputs": [
        {
          "output_type": "stream",
          "text": [
            "10\n",
            "3\n"
          ],
          "name": "stdout"
        }
      ]
    },
    {
      "cell_type": "markdown",
      "metadata": {
        "id": "y-PA3yzvMLxK"
      },
      "source": [
        "* Reference\r\n",
        "    * https://infinitt.tistory.com/247\r\n",
        "\r\n",
        "* N이라는 수는 N//3을 연산전으로 돌리면, 즉 +1을 하면 만들 수 있다\r\n",
        "* N이라는 수는 N//2을 연산전으로 돌리면, 즉 +1을 하면 만들 수 있다\r\n",
        "* N이라는 수는 N-1을 연산전으로 돌리면, 즉 N+1을 하면 만들 수 있다\r\n",
        "<br>\r\n",
        "=> 따라서 점화식: dp(N) = min(dp(N//3)+1, dp(N//2)+1, dp(N-1)+1)\r\n",
        "<br>\r\n",
        "\r\n",
        "\r\n",
        "* 내 표현으로 바꾸기 -21.01.14.Thur- am 11:00\r\n",
        "    * N이라는 수는 5, 3, 2로 나누어 떨어진다\r\n",
        "    * 따라서 N // 5, N // 3, N // 2에 한 번의 연산을 더해주면 구할 수 있다\r\n"
      ]
    },
    {
      "cell_type": "code",
      "metadata": {
        "colab": {
          "base_uri": "https://localhost:8080/"
        },
        "id": "75NxnPP3TGSa",
        "outputId": "ffe3909f-cdad-4ee5-d958-15559ab6beb0"
      },
      "source": [
        "n = int(input())\r\n",
        "\r\n",
        "dp = [0 for _ in range(n+1)]\r\n",
        "\r\n",
        "for i in range(2, n+1):\r\n",
        "    dp[i] = dp[i-1] + 1\r\n",
        "\r\n",
        "    if i%2 == 0 and dp[i] > dp[i//2] + 1:\r\n",
        "        dp[i] = dp[i//2] + 1\r\n",
        "    \r\n",
        "    if i%3 == 0 and dp[i] > dp[i//3] + 1:\r\n",
        "        dp[i] = dp[i//3] + 1\r\n",
        "\r\n",
        "    if i%5 == 0 and dp[i] > dp[i//5] + 1:\r\n",
        "        dp[i] = dp[i//5] + 1\r\n",
        "\r\n",
        "print(dp[n])"
      ],
      "execution_count": 1,
      "outputs": [
        {
          "output_type": "stream",
          "text": [
            "26\n",
            "3\n"
          ],
          "name": "stdout"
        }
      ]
    }
  ]
}