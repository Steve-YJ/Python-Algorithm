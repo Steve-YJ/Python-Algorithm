{
  "nbformat": 4,
  "nbformat_minor": 0,
  "metadata": {
    "colab": {
      "name": "[Again] 다시 풀어보는 이진탐색.ipynb",
      "provenance": [],
      "collapsed_sections": [],
      "authorship_tag": "ABX9TyOWEhbe6u2vcbznU61vA9v9",
      "include_colab_link": true
    },
    "kernelspec": {
      "name": "python3",
      "display_name": "Python 3"
    }
  },
  "cells": [
    {
      "cell_type": "markdown",
      "metadata": {
        "id": "view-in-github",
        "colab_type": "text"
      },
      "source": [
        "<a href=\"https://colab.research.google.com/github/Steve-YJ/Python-Algorithm/blob/main/%5BAgain%5D_%EB%8B%A4%EC%8B%9C_%ED%92%80%EC%96%B4%EB%B3%B4%EB%8A%94_%EC%9D%B4%EC%A7%84%ED%83%90%EC%83%89.ipynb\" target=\"_parent\"><img src=\"https://colab.research.google.com/assets/colab-badge.svg\" alt=\"Open In Colab\"/></a>"
      ]
    },
    {
      "cell_type": "markdown",
      "metadata": {
        "id": "z53eYO8IWV5G"
      },
      "source": [
        "# 이.코.테 이진탐색\n",
        "* Warm Up!\n",
        "문제를 다시 풀면서 내것으로 익히자!"
      ]
    },
    {
      "cell_type": "markdown",
      "metadata": {
        "id": "2EH4ejpDgFwq"
      },
      "source": [
        "# 1. 부품찾기"
      ]
    },
    {
      "cell_type": "markdown",
      "metadata": {
        "id": "FOOdJOsPbMJa"
      },
      "source": [
        "## 풀이1. 재귀를 이용한 이진탐색 풀이"
      ]
    },
    {
      "cell_type": "code",
      "metadata": {
        "colab": {
          "base_uri": "https://localhost:8080/"
        },
        "id": "_S9mf6XgWcyR",
        "outputId": "46db88be-8e17-4dff-dcc5-8f9d5a5b4a4f"
      },
      "source": [
        "# n개의 부품 정보를 입력받는다\n",
        "n = map(int, input())\n",
        "store = list(map(int, input().split()))\n",
        "store_arrange = sorted(store)  # 이진 탐색을 위해 스토어에 있는 부품들을 정렬해준다\n",
        "\n",
        "# m개의 견적 부품 정보를 입력받는다\n",
        "m = map(int, input())\n",
        "request = list(map(int, input().split()))"
      ],
      "execution_count": 12,
      "outputs": [
        {
          "output_type": "stream",
          "text": [
            "5\n",
            "8 3 7 9 2\n",
            "3\n",
            "5 7 9\n"
          ],
          "name": "stdout"
        }
      ]
    },
    {
      "cell_type": "code",
      "metadata": {
        "id": "J2xTBxe4XZka"
      },
      "source": [
        "def binary_search(array, target, start, end):\n",
        "    mid = (start+end)//2\n",
        "\n",
        "    while start<=end:\n",
        "        if array[mid] == target:\n",
        "            return True\n",
        "        elif array[mid] > target:\n",
        "            return binary_search(array, target, start, mid-1)\n",
        "        else:\n",
        "            return binary_search(array, target, mid+1, end)\n",
        "    \n",
        "    # 이진탐색 수행후 원하는 값을 찾지 못했다면\n",
        "    return False  # False 반환"
      ],
      "execution_count": 13,
      "outputs": []
    },
    {
      "cell_type": "code",
      "metadata": {
        "colab": {
          "base_uri": "https://localhost:8080/"
        },
        "id": "t9HuUcxCYai9",
        "outputId": "918639fb-1818-43d2-d39d-f5bd3bbd5cd2"
      },
      "source": [
        "for elem in request:\n",
        "    if binary_search(store_arrange, elem, 0, len(store_arrange)) == True:\n",
        "        print(\"yes\", end=' ')\n",
        "    else:\n",
        "        print(\"no\", end=' ')        "
      ],
      "execution_count": 14,
      "outputs": [
        {
          "output_type": "stream",
          "text": [
            "no yes yes "
          ],
          "name": "stdout"
        }
      ]
    },
    {
      "cell_type": "markdown",
      "metadata": {
        "id": "yE0uaPgjZsDW"
      },
      "source": [
        "N이 100만 M이 10만일 때 이진탐색을 이용하면 200만번의 연산으로 해결이 가능하다"
      ]
    },
    {
      "cell_type": "code",
      "metadata": {
        "colab": {
          "base_uri": "https://localhost:8080/"
        },
        "id": "BHDWahKlZHVj",
        "outputId": "b9722144-58b5-4cf8-8669-cdafca68d67c"
      },
      "source": [
        "import math\n",
        "\n",
        "print(100000 * math.log2(1000000))"
      ],
      "execution_count": 11,
      "outputs": [
        {
          "output_type": "stream",
          "text": [
            "1993156.8569324175\n"
          ],
          "name": "stdout"
        }
      ]
    },
    {
      "cell_type": "markdown",
      "metadata": {
        "id": "xYHcGt8kaGh1"
      },
      "source": [
        "## 풀이2. 반복문을 사용한 이진탐색 풀이\n",
        "* 재귀와 반복문을 연습한다고 생각하자\n",
        "* 재귀와 반복문의 차이를 이해하자"
      ]
    },
    {
      "cell_type": "code",
      "metadata": {
        "id": "b1biUiwnbW1Y"
      },
      "source": [
        "def binary_search(array, target, start, end):\n",
        "    # mid 설정을 어떻게 해줄까?\n",
        "    while start<=end:  # 시작점과 끝점이 같을때까지 반복을 수행한다\n",
        "        mid = int((start+end)/2)\n",
        "        if array[mid] == target:\n",
        "            return mid\n",
        "        elif array[mid] < target:\n",
        "            start = mid+1\n",
        "        else:\n",
        "            end = mid-1\n",
        "    return None"
      ],
      "execution_count": 15,
      "outputs": []
    },
    {
      "cell_type": "code",
      "metadata": {
        "colab": {
          "base_uri": "https://localhost:8080/"
        },
        "id": "YsrzxATkcGUj",
        "outputId": "3f7b60a7-1d9b-47cb-ce25-99262f9019a8"
      },
      "source": [
        "for x in request:\n",
        "    if binary_search(store_arrange, x, 0, len(store_arrange)) != None:\n",
        "        print(\"yes\", end=' ')\n",
        "    else:\n",
        "        print(\"no\", end=' ')"
      ],
      "execution_count": 16,
      "outputs": [
        {
          "output_type": "stream",
          "text": [
            "no yes yes "
          ],
          "name": "stdout"
        }
      ]
    },
    {
      "cell_type": "markdown",
      "metadata": {
        "id": "6IcafEiPcaTe"
      },
      "source": [
        "## 풀이 3. 계수 정렬 활용하기"
      ]
    },
    {
      "cell_type": "code",
      "metadata": {
        "colab": {
          "base_uri": "https://localhost:8080/"
        },
        "id": "DPhL9TKZcfF0",
        "outputId": "bf63c991-c842-4b21-eb53-5d1eaac8dd1a"
      },
      "source": [
        "# N(가게의 부품수 입력받기)\n",
        "n = int(input())\n",
        "array = [0] * 1000001\n",
        "\n",
        "# 가게에 있는 전체 부품 번호를 입력받아서 기록\n",
        "for i in input().split():\n",
        "    array[int(i)] = 1\n",
        "\n",
        "# M(손님이 확인 요청한 부품 개수)을 입력받기\n",
        "m = int(input())\n",
        "# 손님이 확인 요청한 전체 부품 번호를 공백으로 구분하여 입력\n",
        "x = list(map(int, input().split()))"
      ],
      "execution_count": 18,
      "outputs": [
        {
          "output_type": "stream",
          "text": [
            "5\n",
            "8 3 7 9 2\n",
            "3\n",
            "5 7 9\n"
          ],
          "name": "stdout"
        }
      ]
    },
    {
      "cell_type": "code",
      "metadata": {
        "colab": {
          "base_uri": "https://localhost:8080/"
        },
        "id": "FyJMeb3mczEg",
        "outputId": "2eccfea2-dfbb-4f86-df59-9bce6dc82057"
      },
      "source": [
        "# 손님이 확인 요청한 부품 번호를 하나씩 확인\n",
        "for i in x:\n",
        "    # 해당 부품이 존재하는지 확인\n",
        "    if array[i] == 1:\n",
        "        print('yes', end=' ')\n",
        "    else:\n",
        "        print('no', end=' ')"
      ],
      "execution_count": 21,
      "outputs": [
        {
          "output_type": "stream",
          "text": [
            "no yes yes "
          ],
          "name": "stdout"
        }
      ]
    },
    {
      "cell_type": "markdown",
      "metadata": {
        "id": "SJCmuTd_drAf"
      },
      "source": [
        "방법이 이해는 가는데... 실전에서 떠올리기에는 직관적이지 않다"
      ]
    },
    {
      "cell_type": "markdown",
      "metadata": {
        "id": "YkkChjTJeTuK"
      },
      "source": [
        "## 풀이4. 집합 자료형\n",
        "* N개의 부품 개수를 입력받고 \n",
        "* 가게에 있는 전체 부품 번호를 입력받아서 집합(set) 자료형에 기록한다\n"
      ]
    },
    {
      "cell_type": "code",
      "metadata": {
        "colab": {
          "base_uri": "https://localhost:8080/"
        },
        "id": "9eoJFb6jehSX",
        "outputId": "1eaca25d-a60f-451d-81ca-76144fc8da91"
      },
      "source": [
        "# N(가게의 부품 개수)을 입력받기\n",
        "n = int(input())\n",
        "# 가게에 있는 전체 부품 번호를 입력받아서 집합(set) 자료형에 기록\n",
        "array = set(map(int, input().split()))\n",
        "\n",
        "# M(손님이 확인 요청한 부품 개수)을 입력받기\n",
        "m = int(input())\n",
        "# 손님이 확인 요청한 전체 부품 번호를 공백으로 구분하여 입력\n",
        "x = list(map(int, input().split()))\n",
        "\n",
        "# 손님이 확인 요청한 부품 번호를 하나씩 확인\n",
        "for i in x:\n",
        "    # 해당 부품이 존재하는지 확인\n",
        "    if i in array:\n",
        "        print('yes', end=' ')\n",
        "    else:\n",
        "        print('no', end=' ')"
      ],
      "execution_count": 27,
      "outputs": [
        {
          "output_type": "stream",
          "text": [
            "5 \n",
            "8 3 7 9 2\n",
            "3 \n",
            "5 7 9\n",
            "no yes yes "
          ],
          "name": "stdout"
        }
      ]
    },
    {
      "cell_type": "markdown",
      "metadata": {
        "id": "-CxmxZ18eW-g"
      },
      "source": [
        "집합자료형을 활용한 방법으로 문제를 해결하는것도 쉽게 떠올릴 수 있는 좋은 방법인것 같다\n",
        "\n",
        "* if elem in array: print('yes')\n"
      ]
    },
    {
      "cell_type": "markdown",
      "metadata": {
        "id": "_E2KUT4XgEQk"
      },
      "source": [
        "# 2. 떡볶이 떡 만들기"
      ]
    },
    {
      "cell_type": "code",
      "metadata": {
        "colab": {
          "base_uri": "https://localhost:8080/"
        },
        "id": "u6zoRpRGgLq5",
        "outputId": "83a647f1-8689-42c3-c40e-d355556eaa12"
      },
      "source": [
        "n, m = map(int, input().split())\n",
        "array = list(map(int, input().split()))\n",
        "\n",
        "print(n, m)\n",
        "print(array)"
      ],
      "execution_count": 28,
      "outputs": [
        {
          "output_type": "stream",
          "text": [
            "4 6\n",
            "19 15 10 17\n",
            "4 6\n",
            "[19, 15, 10, 17]\n"
          ],
          "name": "stdout"
        }
      ]
    },
    {
      "cell_type": "code",
      "metadata": {
        "colab": {
          "base_uri": "https://localhost:8080/"
        },
        "id": "RCY4_cAQihJz",
        "outputId": "15d8cbdc-489d-45e6-f515-6d06cf38aafc"
      },
      "source": [
        "def binary_search(array, target, start, end):\n",
        "    mid = int((start+end)/2)\n",
        "\n",
        "    while start<=end:\n",
        "        sum = 0\n",
        "        for elem in array:\n",
        "            # if statement\n",
        "            if elem-mid<=0:\n",
        "                continue\n",
        "            else:\n",
        "                sum += elem-mid  # 차가 0보다 클때만 더해준다\n",
        "        if sum < target:  # 떡의 양이 부족한 경우 덜 자른다(오른쪽 부분을 탐색한다)\n",
        "            return binary_search(array, target, start, mid-1)\n",
        "        else:  # 떡의 양이 많은 경우 더 많이 자른다(왼쪽 부분을 탐색한다)\n",
        "            print(mid)\n",
        "            return binary_search(array, target, mid+1, end)\n",
        "\n",
        "print(binary_search(array, 6, 0, max(array)))"
      ],
      "execution_count": 48,
      "outputs": [
        {
          "output_type": "stream",
          "text": [
            "9\n",
            "14\n",
            "15\n",
            "None\n"
          ],
          "name": "stdout"
        }
      ]
    },
    {
      "cell_type": "markdown",
      "metadata": {
        "id": "MtsVmU4jrYbg"
      },
      "source": [
        "코드 리뷰\n"
      ]
    },
    {
      "cell_type": "code",
      "metadata": {
        "colab": {
          "base_uri": "https://localhost:8080/"
        },
        "id": "tmZW8tIttuDo",
        "outputId": "b1a0d71d-286f-4f14-ce16-d7b3eaa1bce5"
      },
      "source": [
        "target = m\n",
        "\n",
        "# 재귀를 구현하지 않고 반복문으로 구현\n",
        "start = 0\n",
        "end = max(array)\n",
        "\n",
        "\n",
        "\n",
        "while start<=end:\n",
        "    sum = 0  # 떡의 길이 총합 설정\n",
        "    mid = int((start+end)/2)\n",
        "\n",
        "    for elem in array:\n",
        "        # if statement\n",
        "        if elem-mid<=0:\n",
        "            continue\n",
        "        else:\n",
        "            sum += elem-mid  # 차가 0보다 클때만 더해준다\n",
        "\n",
        "    # 떡을 잘랐는데 손님이 원했던 길이보다 짧다면\n",
        "    # 중간점을 기준으로 왼쪽 부분을 탐색한다(더 길게 자를 수 있게 되는 것이다)\n",
        "    if sum < target:\n",
        "        end = mid-1\n",
        "    else:  # 떡의 양이 충분한 경우 덜 자른다(오른쪽 부분을 탐색한다)\n",
        "        print(mid)\n",
        "        start = mid+1\n",
        "\n"
      ],
      "execution_count": 45,
      "outputs": [
        {
          "output_type": "stream",
          "text": [
            "9\n",
            "14\n",
            "15\n"
          ],
          "name": "stdout"
        }
      ]
    },
    {
      "cell_type": "code",
      "metadata": {
        "colab": {
          "base_uri": "https://localhost:8080/"
        },
        "id": "pddCI4yVuMoG",
        "outputId": "1f614ffe-ca11-4dbc-cacd-6f42157a5ba2"
      },
      "source": [
        "print(array)"
      ],
      "execution_count": 44,
      "outputs": [
        {
          "output_type": "stream",
          "text": [
            "[19, 15, 10, 17]\n"
          ],
          "name": "stdout"
        }
      ]
    }
  ]
}