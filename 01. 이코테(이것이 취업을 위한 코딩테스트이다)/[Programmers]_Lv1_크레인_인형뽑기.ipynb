{
  "nbformat": 4,
  "nbformat_minor": 0,
  "metadata": {
    "colab": {
      "name": "[Programmers]_Lv1_크레인 인형뽑기.ipynb",
      "provenance": [],
      "authorship_tag": "ABX9TyNfLWrtB54EVkd6k+JJYUby",
      "include_colab_link": true
    },
    "kernelspec": {
      "name": "python3",
      "display_name": "Python 3"
    }
  },
  "cells": [
    {
      "cell_type": "markdown",
      "metadata": {
        "id": "view-in-github",
        "colab_type": "text"
      },
      "source": [
        "<a href=\"https://colab.research.google.com/github/Steve-YJ/Python-Algorithm/blob/main/%5BProgrammers%5D_Lv1_%ED%81%AC%EB%A0%88%EC%9D%B8_%EC%9D%B8%ED%98%95%EB%BD%91%EA%B8%B0.ipynb\" target=\"_parent\"><img src=\"https://colab.research.google.com/assets/colab-badge.svg\" alt=\"Open In Colab\"/></a>"
      ]
    },
    {
      "cell_type": "markdown",
      "metadata": {
        "id": "nyhcjp__Rrhv"
      },
      "source": [
        "# programmers practice\n",
        "* Level 1. 크레인 인형뽑기"
      ]
    },
    {
      "cell_type": "markdown",
      "metadata": {
        "id": "GwZX6J5VR138"
      },
      "source": [
        "## MySolution 1. \n",
        "* Test case는 통과"
      ]
    },
    {
      "cell_type": "code",
      "metadata": {
        "id": "aTHw1OnfSIjQ"
      },
      "source": [
        "def solution(board, moves):\n",
        "    answer = 0\n",
        "    map = board\n",
        "    \n",
        "    \"\"\"\n",
        "    구현문제인가요??\n",
        "    \n",
        "    1. 게임판의 모든 원소들을 파악한다\n",
        "    2. 크레인으로 집었다면 0으로 바꿔준다\n",
        "    3. 같은 인형을 뽑았다면 pop(), pop()!!\n",
        "    \"\"\"\n",
        "    stack = []\n",
        "    cache = 0\n",
        "    # moves에 따라 게임을 시작해보자\n",
        "    for m in moves:  # [1, 5, 3, 5, 1, 2, 1, 4]\n",
        "        for i, lst in enumerate(map):\n",
        "            for j, elem in enumerate(lst):\n",
        "                if j == (m-1) and map[i][j] !=0:  # 집게의 위치와 같을 때, 값이 0이 아니라면\n",
        "                    if len(stack) == 0: \n",
        "                        stack.append(map[i][j])\n",
        "                        cache = map[i][j]\n",
        "                    elif len(stack) > 0: \n",
        "                        if cache == map[i][j]:  # 이전값과 현재값이 같다면\n",
        "                            stack.pop()\n",
        "                            answer +=2\n",
        "                        else:\n",
        "                            stack.append(map[i][j])\n",
        "                    map[i][j] = 0  # 값을 0으로 변경\n",
        "    print(stack)\n",
        "    return answer"
      ],
      "execution_count": 1,
      "outputs": []
    },
    {
      "cell_type": "markdown",
      "metadata": {
        "id": "99xy_zS6Yw4F"
      },
      "source": [
        "## MySolution2. \n",
        "* 탐색을 어떻게 하면 좋을지 모르겠군...ㅠ"
      ]
    },
    {
      "cell_type": "code",
      "metadata": {
        "id": "-_DTmSNfRKaH"
      },
      "source": [
        "def solution(board, moves):\n",
        "    answer = 0\n",
        "    \n",
        "    \"\"\"\n",
        "    구현(Implementation)\n",
        "    1. 격자를 세로로 탐색\n",
        "        - 0이 아닌 값이 있다면 바구니에 쌓는다\n",
        "        - 아무것도 없다면 pass? continue?\n",
        "    2. 바구니에 연속해서 같은 인형이 쌓인다면 바구니에서 사라지게 만든다\n",
        "    \"\"\"\n",
        "    maps = board  # 격자무늬 맵 생성\n",
        "    stack = []  # 바구니에 쌓는다\n",
        "    \n",
        "    # 전체 맵을 탐색한다\n",
        "    for i in range(len(maps)):\n",
        "        for j in range(len(maps[i])):\n",
        "            # 집게 위치에 인형이 있다면 집는다\n",
        "            for m in moves:\n",
        "                if j+1 == m:  # 집게 위치와 같을 때\n",
        "                    if maps[i][j] != 0:  # 맵에 인형이 있다면\n",
        "                        stack.append(maps[i][j])\n",
        "                        maps[i][j] = 0\n",
        "                else:\n",
        "                    pass\n",
        "\n",
        "                        \n",
        "    print(stack)\n",
        "    print(len(stack))\n",
        "    return answer"
      ],
      "execution_count": 3,
      "outputs": []
    },
    {
      "cell_type": "markdown",
      "metadata": {
        "id": "MCn7N-7PU2DX"
      },
      "source": [
        "* 정답판정 실패!<br>\n",
        "\n",
        "\n",
        "집게가 맵을 순회할 때, 깊이 우선 탐색을 할 수 있다면 좋을 것 같은데?!<br>"
      ]
    },
    {
      "cell_type": "markdown",
      "metadata": {
        "id": "_xpsVIH04T-d"
      },
      "source": [
        "## MySolution3. \n",
        "* 드디어 정답으로 인정받았다\n",
        "* 하지만 코드가 너무 지저분하다..."
      ]
    },
    {
      "cell_type": "code",
      "metadata": {
        "id": "SSTbegtW4Y-I"
      },
      "source": [
        "def solution(board, moves):\n",
        "    answer = 0\n",
        "    \"\"\"구현 문제\n",
        "    1. 집게의 위치에서 아래로 탐색한다\n",
        "    2. 스택 자료구조를 사용해보자\n",
        "        - 스택의 맨 위의 값이 있다면 pop()\n",
        "        - 0으로 채워준다\n",
        "    3. 바구니에 담긴 인형의 경우에도 맨 마지막에 뽑힌 인형이 현재 인형과 같다면 제거해준다\n",
        "    \"\"\"\n",
        "    \n",
        "    maps = [[] for i in range(len(board))]  # map을 초기화해준다\n",
        "    stack = []\n",
        "    \n",
        "    for i, lst in enumerate(board):\n",
        "        for j, elem in enumerate(lst):\n",
        "            if board[i][j] != 0:\n",
        "                maps[j].append(board[i][j])\n",
        "\n",
        "    # map을 스택으로 변경해주었다\n",
        "    for i in range(len(maps)):\n",
        "        maps[i] = maps[i][::-1]\n",
        "         \n",
        "\n",
        "    \n",
        "    for m in moves:\n",
        "        for i, map in enumerate(maps):\n",
        "            if (i+1)==m:\n",
        "                print(m, i, \"match\")\n",
        "                if not map:\n",
        "                    print(\"pass\")\n",
        "                    pass\n",
        "                else:\n",
        "                    # 바구니가 비었을 떄\n",
        "                    if len(stack)==0:\n",
        "                        # print(\"stack==0\")\n",
        "                        stack.append(map[-1])  # map이 존재한다면 맨 위에 쌓인 값을 스택에 추가해준다\n",
        "                        map.pop()\n",
        "                    # 바구니가 하나라도 있을 때 같은 인형을 처리해주자\n",
        "                    else:  \n",
        "                        if stack[-1] == map[-1]: # 같은 인형이라면 팝\n",
        "                            stack.pop()  # pop\n",
        "                            map.pop()\n",
        "                            answer += 2\n",
        "                        else:\n",
        "                            stack.append(map[-1]) # 같지 않다면 추가해준다\n",
        "                            map.pop()\n",
        "    print(stack)\n",
        "    return answer"
      ],
      "execution_count": null,
      "outputs": []
    },
    {
      "cell_type": "markdown",
      "metadata": {
        "id": "GIbyb-QEY9B-"
      },
      "source": [
        "카카오 해설을 보고 한 번 다시 구현해보자"
      ]
    },
    {
      "cell_type": "code",
      "metadata": {
        "id": "9c4V-k6xZE_b"
      },
      "source": [
        "def solution(board, moves):\n",
        "    answer = 0\n",
        "    \n",
        "    \"\"\"\n",
        "    구현\n",
        "    1. 집게의 위치에서 깊이 탐색을 수행한다\n",
        "    2. 집었다면 바구니에 쌓는다. 이 때 인형이 없다면 아무 일도 일어나지 않는다\n",
        "    3. 바구니에 같은 인형이 2번 쌓인다면 제거해준다\n",
        "    \"\"\"\n",
        "    basket = []\n",
        "    \n",
        "    for m in moves:\n",
        "        for i in range(len(board)):\n",
        "            # 집게의 위치에 인형이 있다면 바구니에 쌓는다\n",
        "            if board[i][m-1] != 0: \n",
        "                basket.append(board[i][m-1])\n",
        "                board[i][m-1] = 0  # 0으로 채워준다\n",
        "                \n",
        "                # 바구니의 길이가 1보다 클때는(2개 이상 인형이 있다면) 인형이 중복되었는지 확인해준다\n",
        "                if len(basket) > 1:\n",
        "                    if basket[-1] == basket[-2]:\n",
        "                        basket.pop()\n",
        "                        basket.pop()\n",
        "                        answer += 2\n",
        "                break\n",
        "    \n",
        "    return answer"
      ],
      "execution_count": 3,
      "outputs": []
    },
    {
      "cell_type": "markdown",
      "metadata": {
        "id": "WMAidb-O4MRq"
      },
      "source": [
        "다음번에 한 번 더 문제를 풀어볼 수 있도록 하자!"
      ]
    },
    {
      "cell_type": "code",
      "metadata": {
        "id": "n0SL6I9H5r_n"
      },
      "source": [
        ""
      ],
      "execution_count": null,
      "outputs": []
    }
  ]
}