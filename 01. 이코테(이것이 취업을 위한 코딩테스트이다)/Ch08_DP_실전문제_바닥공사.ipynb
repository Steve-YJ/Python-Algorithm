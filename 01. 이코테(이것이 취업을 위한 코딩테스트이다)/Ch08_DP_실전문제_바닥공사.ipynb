{
  "nbformat": 4,
  "nbformat_minor": 0,
  "metadata": {
    "colab": {
      "name": "Ch08_DP_실전문제_바닥공사.ipynb",
      "provenance": [],
      "collapsed_sections": [],
      "authorship_tag": "ABX9TyOfMq8o4UjNRXt0uuIwmD21",
      "include_colab_link": true
    },
    "kernelspec": {
      "name": "python3",
      "display_name": "Python 3"
    }
  },
  "cells": [
    {
      "cell_type": "markdown",
      "metadata": {
        "id": "view-in-github",
        "colab_type": "text"
      },
      "source": [
        "<a href=\"https://colab.research.google.com/github/Steve-YJ/Python-Algorithm/blob/main/Ch08_DP_%EC%8B%A4%EC%A0%84%EB%AC%B8%EC%A0%9C_%EB%B0%94%EB%8B%A5%EA%B3%B5%EC%82%AC.ipynb\" target=\"_parent\"><img src=\"https://colab.research.google.com/assets/colab-badge.svg\" alt=\"Open In Colab\"/></a>"
      ]
    },
    {
      "cell_type": "markdown",
      "metadata": {
        "id": "7Lspck2YBP9R"
      },
      "source": [
        "# 이.코.테 Ch08. DP 실전문제 - 바닥공사"
      ]
    },
    {
      "cell_type": "code",
      "metadata": {
        "colab": {
          "base_uri": "https://localhost:8080/"
        },
        "id": "sc8HTUcEA6_J",
        "outputId": "795b7a34-79f8-46ac-cdd4-a34b38be09ba"
      },
      "source": [
        "n = int(input(\"n을 입력하시오: \"))\r\n",
        "\r\n",
        "d = [0 for _ in range(1001)]\r\n",
        "d[1] = 1\r\n",
        "d[2] = 3\r\n",
        "\r\n",
        "for i in range(3, n+1):\r\n",
        "    d[i] = (2*d[i-2] + d[i-1]) %796796\r\n",
        "\r\n",
        "print(d[n])"
      ],
      "execution_count": 1,
      "outputs": [
        {
          "output_type": "stream",
          "text": [
            "n을 입력하시오: 3\n",
            "5\n"
          ],
          "name": "stdout"
        }
      ]
    },
    {
      "cell_type": "markdown",
      "metadata": {
        "id": "idZJ8AxCICt2"
      },
      "source": [
        "* Comment\r\n",
        "    * 점화식을 만드는 과정까지 이해하는데 몇 번이고 반복을 했는지 모르겠다...!\r\n",
        "    * DP 문제를 어떻게 풀어나가는지 '과정'에 집중해보자...!\r\n",
        "    * log -21.01.14.Thur-"
      ]
    },
    {
      "cell_type": "code",
      "metadata": {
        "id": "vc6ZI8PkIOra"
      },
      "source": [
        ""
      ],
      "execution_count": null,
      "outputs": []
    }
  ]
}