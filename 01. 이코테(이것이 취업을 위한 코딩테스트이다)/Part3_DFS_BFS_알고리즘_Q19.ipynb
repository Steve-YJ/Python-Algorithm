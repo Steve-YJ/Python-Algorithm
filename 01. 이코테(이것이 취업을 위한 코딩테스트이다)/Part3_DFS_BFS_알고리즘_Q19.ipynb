{
  "nbformat": 4,
  "nbformat_minor": 0,
  "metadata": {
    "colab": {
      "name": "Part3. DFS/BFS 알고리즘 Q19.ipynb",
      "provenance": [],
      "authorship_tag": "ABX9TyOUn+CCvDVEZSN0WuBmXf3/",
      "include_colab_link": true
    },
    "kernelspec": {
      "name": "python3",
      "display_name": "Python 3"
    }
  },
  "cells": [
    {
      "cell_type": "markdown",
      "metadata": {
        "id": "view-in-github",
        "colab_type": "text"
      },
      "source": [
        "<a href=\"https://colab.research.google.com/github/Steve-YJ/Python-Algorithm/blob/main/Part3_DFS_BFS_%EC%95%8C%EA%B3%A0%EB%A6%AC%EC%A6%98_Q19.ipynb\" target=\"_parent\"><img src=\"https://colab.research.google.com/assets/colab-badge.svg\" alt=\"Open In Colab\"/></a>"
      ]
    },
    {
      "cell_type": "markdown",
      "metadata": {
        "id": "vOpWn0FZYyHK"
      },
      "source": [
        "# Part 3. 알고리즘 유형별 기출문제\n",
        "> 본 노트북은 나동빈 저자의 '이것이 취업을 위한 코딩테스트' 문제를 풀이한 노트북입니다"
      ]
    },
    {
      "cell_type": "markdown",
      "metadata": {
        "id": "pJ8mPBXHX3iW"
      },
      "source": [
        "# Q19. 연산자 끼워 넣기\n",
        "* 난이도 2\n",
        "* 풀이시간 30분\n",
        "* 기출: 삼성전자 SW 역량테스트"
      ]
    },
    {
      "cell_type": "code",
      "metadata": {
        "colab": {
          "base_uri": "https://localhost:8080/"
        },
        "id": "Yyae6CI9ZK_k",
        "outputId": "6380e1be-f3f3-4fe2-f6fe-1a33f4d4d778"
      },
      "source": [
        "N = int(input())\n",
        "nums = list(map(int, input().split()))\n",
        "add, sub, mul, div = map(int, input().split())\n",
        "\n",
        "min_, max_ = 1e9, -1e9\n",
        "\n",
        "def dfs(i, res, add, sub, mul, div):\n",
        "    global max_, min_\n",
        "    if i == N:\n",
        "        max_ = max(res, max_)\n",
        "        min_ = min(res, min_)\n",
        "        return\n",
        "    \n",
        "    else:\n",
        "        if add:\n",
        "            dfs(i+1, res+nums[i], add-1, sub, mul, div)\n",
        "        if sub:\n",
        "            dfs(i+1, res-nums[i], add, sub-1, mul, div)\n",
        "        if mul:\n",
        "            dfs(i+1, res*nums[i], add, sub, mul-1, div)\n",
        "        if div:\n",
        "            dfs(i+1, int(res/nums[i]), add, sub, mul, div-1)\n",
        "\n",
        "dfs(1, nums[0], add, sub, mul, div)\n",
        "\n",
        "print(max_)\n",
        "print(min_)\n"
      ],
      "execution_count": 21,
      "outputs": [
        {
          "output_type": "stream",
          "text": [
            "2\n",
            "5 6\n",
            "0 0 1 0\n",
            "30\n",
            "30\n"
          ],
          "name": "stdout"
        }
      ]
    },
    {
      "cell_type": "markdown",
      "metadata": {
        "id": "sB-rjnQ4fVxB"
      },
      "source": [
        "어렵네예..."
      ]
    },
    {
      "cell_type": "markdown",
      "metadata": {
        "id": "0yEMXV1kjQRu"
      },
      "source": [
        "## Next\n",
        "* 3월 한 달동안 시뮬레이션, DFS/BFS 몇 번 돌리자...\n",
        "* 확실히 내것으로 가져가자! Can do it! -21.03.01.mon-\n"
      ]
    },
    {
      "cell_type": "code",
      "metadata": {
        "id": "qjGVlY-iyzrv"
      },
      "source": [
        ""
      ],
      "execution_count": null,
      "outputs": []
    }
  ]
}