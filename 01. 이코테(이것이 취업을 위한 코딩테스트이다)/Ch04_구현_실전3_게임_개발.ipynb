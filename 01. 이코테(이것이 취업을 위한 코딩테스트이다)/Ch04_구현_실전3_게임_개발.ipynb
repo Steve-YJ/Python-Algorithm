{
  "nbformat": 4,
  "nbformat_minor": 0,
  "metadata": {
    "colab": {
      "name": "Ch04. 구현_실전3. 게임 개발.ipynb",
      "provenance": [],
      "collapsed_sections": [],
      "authorship_tag": "ABX9TyMNpCaocr7egPnSd0W+5yZc",
      "include_colab_link": true
    },
    "kernelspec": {
      "name": "python3",
      "display_name": "Python 3"
    }
  },
  "cells": [
    {
      "cell_type": "markdown",
      "metadata": {
        "id": "view-in-github",
        "colab_type": "text"
      },
      "source": [
        "<a href=\"https://colab.research.google.com/github/Steve-YJ/Python-Algorithm/blob/main/Ch04_%EA%B5%AC%ED%98%84_%EC%8B%A4%EC%A0%843_%EA%B2%8C%EC%9E%84_%EA%B0%9C%EB%B0%9C.ipynb\" target=\"_parent\"><img src=\"https://colab.research.google.com/assets/colab-badge.svg\" alt=\"Open In Colab\"/></a>"
      ]
    },
    {
      "cell_type": "markdown",
      "metadata": {
        "id": "jZk1QUtEqH4j"
      },
      "source": [
        ""
      ]
    },
    {
      "cell_type": "markdown",
      "metadata": {
        "id": "NddhZ2QMgs54"
      },
      "source": [
        "우선, 구현할 수 있는 코드부터 구현해보도록 하자!"
      ]
    },
    {
      "cell_type": "code",
      "metadata": {
        "colab": {
          "base_uri": "https://localhost:8080/"
        },
        "id": "sv9h7KWvgvTn",
        "outputId": "eae929e9-1f46-45cd-92aa-ffe99abb749e"
      },
      "source": [
        "n, m = map(int, input().split())\n",
        "# print(n, m)\n",
        "character = list(map(int, input().split()))\n",
        "# print(character)\n",
        "\n",
        "# map 초기화(처음에는 0으로 해보자)\n",
        "maps = [[0 for j in range(m)]for i in range(n)]\n",
        "# print(maps)\n",
        "# print(maps[0][0])\n",
        "maps = [list(map(int, input().split())) for i in range(n)]\n",
        "#print(maps)"
      ],
      "execution_count": 7,
      "outputs": [
        {
          "output_type": "stream",
          "text": [
            "4 4\n",
            "1 1 0\n",
            "1 1 1 1 \n",
            "1 0 0 1\n",
            "1 1 0 1\n",
            "1 1 1 1 \n",
            "[[1, 1, 1, 1], [1, 0, 0, 1], [1, 1, 0, 1], [1, 1, 1, 1]]\n"
          ],
          "name": "stdout"
        }
      ]
    },
    {
      "cell_type": "code",
      "metadata": {
        "colab": {
          "base_uri": "https://localhost:8080/",
          "height": 53
        },
        "id": "oV5oKwSag8Sk",
        "outputId": "2ee1e66f-5fff-4fdd-f80e-be998d05ca95"
      },
      "source": [
        "# 현재 캐릭터의 위치좌표를 저장해보자\n",
        "x, y = character[0], character[1]\n",
        "next_d = {0: 3,  # e.g 0(북쪽 방향) 일때 다음 방향은 3(서쪽 방향) 이다\n",
        "          3: 2, \n",
        "          2: 1,\n",
        "          1, 0}\n",
        "dx = [0,  -1, 0, 1]  # 북쪽에서부터 서쪽 남쪽 동쪽 좌표 이동값\n",
        "dy = [-1, 0,  1, 0]\n",
        "\n",
        "# 현재 방향 저장\n",
        "current_di = character[2]\n",
        "\n",
        "while True:  # 더이상 이동할 수 없을 때 break를 통해 탈출한다\n",
        "    \n",
        "    # 초기화: 시작 방향에서 한 번 이동한 방향\n",
        "    current = next_d[current_di]\n",
        "    dx = dx[1:]\n",
        "    dy = dy[1:]\n",
        "\n",
        "    # 한 턴당, 동.서.남.북 이동합니다.\n",
        "    for i in range(0, 3):\n",
        "        nx = x + dx[i]\n",
        "        ny = x + dy[i]\n",
        "        if maps[nx] ==0 and maps[ny] == 0:  # 이동 후 거리가 육지이면\n",
        "            maps[nx][ny] = 1  # 방문처리 합시다\n",
        "            x, y = nx, ny     # x와 y의 값도 업데이트해줍니다\n",
        "            current_di = direction[i+1]\n",
        "        else:\n",
        "            pass\n",
        "        \n",
        "        \n",
        "\n",
        "\n",
        "\n",
        "\n"
      ],
      "execution_count": 10,
      "outputs": [
        {
          "output_type": "stream",
          "text": [
            "1 1\n"
          ],
          "name": "stdout"
        },
        {
          "output_type": "execute_result",
          "data": {
            "application/vnd.google.colaboratory.intrinsic+json": {
              "type": "string"
            },
            "text/plain": [
              "'\\nwhile True:  # 더이상 이동할 수 없을 때 break를 통해 탈출한다\\n    \\n    maps[][]\\n'"
            ]
          },
          "metadata": {
            "tags": []
          },
          "execution_count": 10
        }
      ]
    },
    {
      "cell_type": "markdown",
      "metadata": {
        "id": "mFF5C9LfhuXi"
      },
      "source": [
        "시간 내에 문제 풀이 실패! -20.12.03.Thur. pm12:00-<br>\n",
        "조금 더 고민해보자! 30분!<br>\n",
        "뒤죽 박죽입니다...ㅎㅎ"
      ]
    },
    {
      "cell_type": "markdown",
      "metadata": {
        "id": "OJgNkwJGnX8a"
      },
      "source": [
        "## 다시 한 번 해봅시다\n",
        "<code>::30 Min::</code> 20.12.03.Thur 12:40 ~"
      ]
    },
    {
      "cell_type": "code",
      "metadata": {
        "colab": {
          "base_uri": "https://localhost:8080/"
        },
        "id": "avSL5IZctzS2",
        "outputId": "598b8882-35fb-4bbc-ef8a-f9ec84545de4"
      },
      "source": [
        "n, m = map(int, input().split())\n",
        "x, y, d = map(int, input().split())\n",
        "\n",
        "# maps 만들기\n",
        "maps = [list(map(int, input().split())) for i in range(n)]  # (바다는 1 육지는 0으로)2차원 행렬맵 초기화\n",
        "\n",
        "print('입력값 출력해보기: ')\n",
        "print(n, m)\n",
        "print(x, y, d)\n",
        "print(maps)"
      ],
      "execution_count": 11,
      "outputs": [
        {
          "output_type": "stream",
          "text": [
            "4 4\n",
            "1 1 0\n",
            "1 1 1 1\n",
            "1 0 0 1\n",
            "1 1 0 1\n",
            "1 1 1 1\n",
            "입력값 출력해보기: \n",
            "4 4\n",
            "1 1 0\n",
            "[[1, 1, 1, 1], [1, 0, 0, 1], [1, 1, 0, 1], [1, 1, 1, 1]]\n"
          ],
          "name": "stdout"
        }
      ]
    },
    {
      "cell_type": "code",
      "metadata": {
        "colab": {
          "base_uri": "https://localhost:8080/"
        },
        "id": "6_-5YjBe0kjZ",
        "outputId": "3ea5e74f-3baf-435b-ed11-db46e71ddc44"
      },
      "source": [
        "direction = d\n",
        "print(direction)\n",
        "\n",
        "print(direct_dict[0])\n",
        "\n",
        "print(maps[0][1])"
      ],
      "execution_count": 18,
      "outputs": [
        {
          "output_type": "stream",
          "text": [
            "0\n",
            "3\n",
            "1\n"
          ],
          "name": "stdout"
        }
      ]
    },
    {
      "cell_type": "code",
      "metadata": {
        "colab": {
          "base_uri": "https://localhost:8080/",
          "height": 244
        },
        "id": "92rbF8JPwfpb",
        "outputId": "9e21a344-347e-40c9-b9c1-928595bde513"
      },
      "source": [
        "direction = d\n",
        "direct_dict = {0: 3,\n",
        "               3: 2,\n",
        "               2: 1,\n",
        "               1: 3}\n",
        "move_x = [0, 1, 0, -1]  # N, E, S, W\n",
        "move_y = [-1, 0, 1, 0 ]\n",
        "\n",
        "count = 0\n",
        "\n",
        "    # 1. 왼쪽부터 차례대로 방향을 정한다\n",
        "while True:\n",
        "    # 초기화를 시켜줘야 할 것만 같네요! -20.12.03.Thur. pm1:30-\n",
        "    if count == 0:\n",
        "        direction = direct_dict[direction]  # 현재 방향에서 다음 방향으로 전환  # 3 이 된다\n",
        "    else:\n",
        "    # 2-1. 왼쪽 방향을 아직 방문하지 않았다면 방향 전환 후 한 칸 이동한다\n",
        "        direction = direct_dict[direction]\n",
        "        nx = x + move_x[direction]  # 왼쪽 방향에서 한 칸 전진\n",
        "        ny = x + move_y[direction]\n",
        "        if maps[nx][ny] == 0:\n",
        "            x = ny\n",
        "            y = ny\n",
        "            count += 1\n",
        "    # 2-2. 왼쪽 방향에 가보지 않은 칸이 없다면 -> 왼쪽 방향으로 회전만 하고 다시 1번으로 돌아간다\n",
        "        elif maps[nx][ny] != 0:\n",
        "            \n",
        "\n",
        "    # 3. 이미 방문했던 곳이거나 바다라면 뒤로 한 칸 이동한다. (이 때, 뒤로 이동한 칸이 바다라면 이동하지말고 멈춘다)\n",
        "        elif maps[nx][ny] == 1:\n",
        "            x = nx - move_x[direction]\n",
        "            y = ny - move_y[direction]\n",
        "            if maps[x][y] == 0:\n",
        "                count +=1\n",
        "            elif maps[x][y] == 1:\n",
        "                break"
      ],
      "execution_count": 23,
      "outputs": [
        {
          "output_type": "error",
          "ename": "KeyboardInterrupt",
          "evalue": "ignored",
          "traceback": [
            "\u001b[0;31m---------------------------------------------------------------------------\u001b[0m",
            "\u001b[0;31mKeyboardInterrupt\u001b[0m                         Traceback (most recent call last)",
            "\u001b[0;32m<ipython-input-23-47ae865f9336>\u001b[0m in \u001b[0;36m<module>\u001b[0;34m()\u001b[0m\n\u001b[1;32m     12\u001b[0m     \u001b[0;31m# 초기화를 시켜줘야 할 것만 같네요! -20.12.03.Thur. pm1:30-\u001b[0m\u001b[0;34m\u001b[0m\u001b[0;34m\u001b[0m\u001b[0;34m\u001b[0m\u001b[0m\n\u001b[1;32m     13\u001b[0m     \u001b[0;32mif\u001b[0m \u001b[0mcount\u001b[0m \u001b[0;34m==\u001b[0m \u001b[0;36m0\u001b[0m\u001b[0;34m:\u001b[0m\u001b[0;34m\u001b[0m\u001b[0;34m\u001b[0m\u001b[0m\n\u001b[0;32m---> 14\u001b[0;31m        \u001b[0mdirection\u001b[0m \u001b[0;34m=\u001b[0m \u001b[0mdirect_dict\u001b[0m\u001b[0;34m[\u001b[0m\u001b[0mdirection\u001b[0m\u001b[0;34m]\u001b[0m  \u001b[0;31m# 현재 방향에서 다음 방향으로 전환  # 3 이 된다\u001b[0m\u001b[0;34m\u001b[0m\u001b[0;34m\u001b[0m\u001b[0m\n\u001b[0m\u001b[1;32m     15\u001b[0m     \u001b[0;32melse\u001b[0m\u001b[0;34m:\u001b[0m\u001b[0;34m\u001b[0m\u001b[0;34m\u001b[0m\u001b[0m\n\u001b[1;32m     16\u001b[0m     \u001b[0;31m# 2. 왼쪽 방향을 아직 방문하지 않았다면 방향 전환 후 한 칸 이동한다\u001b[0m\u001b[0;34m\u001b[0m\u001b[0;34m\u001b[0m\u001b[0;34m\u001b[0m\u001b[0m\n",
            "\u001b[0;31mKeyboardInterrupt\u001b[0m: "
          ]
        }
      ]
    },
    {
      "cell_type": "markdown",
      "metadata": {
        "id": "KbgQZhHP0fk6"
      },
      "source": [
        "이번에는 제대로 푼 것 같은데... 왜 답이 안나올까?!"
      ]
    },
    {
      "cell_type": "markdown",
      "metadata": {
        "id": "ymRKwWqyTFx_"
      },
      "source": [
        "## 3. 세 번째 시도, 한 번 더 해봅시다! -20.12.03.Thur. pm3:20-"
      ]
    },
    {
      "cell_type": "code",
      "metadata": {
        "colab": {
          "base_uri": "https://localhost:8080/"
        },
        "id": "n1YAF81tTKox",
        "outputId": "ad7af0c6-8679-4a0f-b7de-1198066ca558"
      },
      "source": [
        "n, m = map(int, input().split())\n",
        "x, y, d = map(int, input().split())\n",
        "\n",
        "maps = [list(map(int, input().split())) for i in range(n)]\n",
        "print(\"입력값: \")\n",
        "print(n, m)\n",
        "print(x, y, d)\n",
        "print(maps)"
      ],
      "execution_count": 26,
      "outputs": [
        {
          "output_type": "stream",
          "text": [
            "4 4 \n",
            "1 1 0\n",
            "1 1 1 1 \n",
            "1 0 0 1\n",
            "1 1 0 1\n",
            "1 1 1 1\n",
            "입력값: \n",
            "4 4\n",
            "1 1 0\n",
            "[[1, 1, 1, 1], [1, 0, 0, 1], [1, 1, 0, 1], [1, 1, 1, 1]]\n"
          ],
          "name": "stdout"
        }
      ]
    },
    {
      "cell_type": "code",
      "metadata": {
        "colab": {
          "base_uri": "https://localhost:8080/",
          "height": 244
        },
        "id": "sj-jQbHm1sKM",
        "outputId": "fc26f404-d76b-478b-93f1-25c755e9517f"
      },
      "source": [
        "# 1. 네 방향 탐색: 왼쪽 방향부터 차례대로 탐색\n",
        "dic = {0 : 3,\n",
        "       3 : 2,\n",
        "       2 : 1,\n",
        "       1 : 0}\n",
        "\n",
        "dx = [0, 1, 0, -1]\n",
        "dy = [-1, 0, 1, 0]\n",
        "\n",
        "while True:\n",
        "    check = 0\n",
        "    for i in range(4):\n",
        "        prev = d\n",
        "        direction = dic[d]  # 3(West)\n",
        "        d = direction\n",
        "\n",
        "        nx = x + dx[d]\n",
        "        ny = y + dy[d]\n",
        "\n",
        "        if maps[nx][ny] != 1:\n",
        "            x = nx\n",
        "            y = ny\n",
        "            maps[ny][ny] = 1\n",
        "            check += 1\n",
        "\n",
        "        elif maps[nx][ny] == 1:\n",
        "            check += 1\n",
        "            if check == 4:\n",
        "                break"
      ],
      "execution_count": 33,
      "outputs": [
        {
          "output_type": "error",
          "ename": "KeyboardInterrupt",
          "evalue": "ignored",
          "traceback": [
            "\u001b[0;31m---------------------------------------------------------------------------\u001b[0m",
            "\u001b[0;31mKeyboardInterrupt\u001b[0m                         Traceback (most recent call last)",
            "\u001b[0;32m<ipython-input-33-a7a94d5745fd>\u001b[0m in \u001b[0;36m<module>\u001b[0;34m()\u001b[0m\n\u001b[1;32m     25\u001b[0m \u001b[0;34m\u001b[0m\u001b[0m\n\u001b[1;32m     26\u001b[0m         \u001b[0;32melif\u001b[0m \u001b[0mmaps\u001b[0m\u001b[0;34m[\u001b[0m\u001b[0mnx\u001b[0m\u001b[0;34m]\u001b[0m\u001b[0;34m[\u001b[0m\u001b[0mny\u001b[0m\u001b[0;34m]\u001b[0m \u001b[0;34m==\u001b[0m \u001b[0;36m1\u001b[0m\u001b[0;34m:\u001b[0m\u001b[0;34m\u001b[0m\u001b[0;34m\u001b[0m\u001b[0m\n\u001b[0;32m---> 27\u001b[0;31m             \u001b[0mcheck\u001b[0m \u001b[0;34m+=\u001b[0m \u001b[0;36m1\u001b[0m\u001b[0;34m\u001b[0m\u001b[0;34m\u001b[0m\u001b[0m\n\u001b[0m\u001b[1;32m     28\u001b[0m             \u001b[0;32mif\u001b[0m \u001b[0mcheck\u001b[0m \u001b[0;34m==\u001b[0m \u001b[0;36m4\u001b[0m\u001b[0;34m:\u001b[0m\u001b[0;34m\u001b[0m\u001b[0;34m\u001b[0m\u001b[0m\n\u001b[1;32m     29\u001b[0m                 \u001b[0;32mbreak\u001b[0m\u001b[0;34m\u001b[0m\u001b[0;34m\u001b[0m\u001b[0m\n",
            "\u001b[0;31mKeyboardInterrupt\u001b[0m: "
          ]
        }
      ]
    },
    {
      "cell_type": "code",
      "metadata": {
        "id": "GJ3mNetxTogW"
      },
      "source": [
        "maps"
      ],
      "execution_count": null,
      "outputs": []
    },
    {
      "cell_type": "code",
      "metadata": {
        "id": "I9ghKjmefTCq"
      },
      "source": [
        ""
      ],
      "execution_count": null,
      "outputs": []
    }
  ]
}