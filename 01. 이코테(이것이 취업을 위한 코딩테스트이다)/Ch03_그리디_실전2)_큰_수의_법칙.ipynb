{
  "nbformat": 4,
  "nbformat_minor": 0,
  "metadata": {
    "colab": {
      "name": "Ch03. 그리디 - 실전2) 큰 수의 법칙.ipynb",
      "provenance": [],
      "collapsed_sections": [],
      "toc_visible": true,
      "authorship_tag": "ABX9TyMyV/OYrn5FL3a1QPJMy7A5",
      "include_colab_link": true
    },
    "kernelspec": {
      "name": "python3",
      "display_name": "Python 3"
    }
  },
  "cells": [
    {
      "cell_type": "markdown",
      "metadata": {
        "id": "view-in-github",
        "colab_type": "text"
      },
      "source": [
        "<a href=\"https://colab.research.google.com/github/Steve-YJ/Python-Algorithm/blob/main/Ch03_%EA%B7%B8%EB%A6%AC%EB%94%94_%EC%8B%A4%EC%A0%842)_%ED%81%B0_%EC%88%98%EC%9D%98_%EB%B2%95%EC%B9%99.ipynb\" target=\"_parent\"><img src=\"https://colab.research.google.com/assets/colab-badge.svg\" alt=\"Open In Colab\"/></a>"
      ]
    },
    {
      "cell_type": "markdown",
      "metadata": {
        "id": "ZwkR8grI-rGq"
      },
      "source": [
        "# Part3. 그리디 알고리즘 실전문제 2. 큰수의 법칙\n",
        "* 수를 M번 더하여 가장 큰 수를 출력하시오\n",
        "* (같은 인덱스의 값을) 연속해서 K번 더할 수 있습니다\n",
        "* 이 때 같은 값이라도 인덱스가 다르면 다른 값으로 간주할 수 있습니다"
      ]
    },
    {
      "cell_type": "markdown",
      "metadata": {
        "id": "yK1uiaGBPN9c"
      },
      "source": [
        "## 1. 스스로 풀어보기"
      ]
    },
    {
      "cell_type": "code",
      "metadata": {
        "colab": {
          "base_uri": "https://localhost:8080/"
        },
        "id": "wYpW7GKf6iPq",
        "outputId": "d26e8cf0-2c50-4253-b0f7-8c49480160d0"
      },
      "source": [
        "n = int(input(\"N의 개수를 입력하세요: \"))\n",
        "m = int(input(\"M의 개수를 입력하세요: \"))\n",
        "k = int(input(\"K를 입력하세요: \"))\n",
        "\n",
        "print(n, m, k)"
      ],
      "execution_count": 1,
      "outputs": [
        {
          "output_type": "stream",
          "text": [
            "N의 개수를 입력하세요: 5\n",
            "M의 개수를 입력하세요: 8\n",
            "K를 입력하세요: 3\n",
            "5 8 3\n"
          ],
          "name": "stdout"
        }
      ]
    },
    {
      "cell_type": "code",
      "metadata": {
        "id": "EWzsRYSI88fV"
      },
      "source": [
        "def  input_list(n):\n",
        "    lst = []\n",
        "\n",
        "    # iterating till the range\n",
        "    for i in range(0, n):\n",
        "        ele = int(input(\"{}번째 값을 입력하세요: \".format(i) ))\n",
        "\n",
        "        lst.append(ele)\n",
        "    if len(lst) == n:\n",
        "        return lst"
      ],
      "execution_count": 9,
      "outputs": []
    },
    {
      "cell_type": "code",
      "metadata": {
        "colab": {
          "base_uri": "https://localhost:8080/"
        },
        "id": "3JNle7cs-MpE",
        "outputId": "803d5bd2-28e1-4d8e-91da-f509d4405a3e"
      },
      "source": [
        "list_n = input_list(n)\n",
        "print(list_n)"
      ],
      "execution_count": 14,
      "outputs": [
        {
          "output_type": "stream",
          "text": [
            "0번째 값을 입력하세요: 2\n",
            "1번째 값을 입력하세요: 4\n",
            "2번째 값을 입력하세요: 5\n",
            "3번째 값을 입력하세요: 4\n",
            "4번째 값을 입력하세요: 6\n",
            "[2, 4, 5, 4, 6]\n"
          ],
          "name": "stdout"
        }
      ]
    },
    {
      "cell_type": "code",
      "metadata": {
        "colab": {
          "base_uri": "https://localhost:8080/"
        },
        "id": "Fhyr1xrGDcC1",
        "outputId": "a95faa70-91b3-470b-e108-35352abe08fe"
      },
      "source": [
        "# 1st. sort values\n",
        "list_n.sort(reverse=True)\n",
        "sorted = list_n\n",
        "print(\"sorted: \", sorted)"
      ],
      "execution_count": 24,
      "outputs": [
        {
          "output_type": "stream",
          "text": [
            "sorted:  [6, 5, 4, 4, 2]\n"
          ],
          "name": "stdout"
        }
      ]
    },
    {
      "cell_type": "markdown",
      "metadata": {
        "id": "MjRGQAWxEgO4"
      },
      "source": [
        "1st trial"
      ]
    },
    {
      "cell_type": "code",
      "metadata": {
        "colab": {
          "base_uri": "https://localhost:8080/",
          "height": 298
        },
        "id": "aA52Z0ma_IWs",
        "outputId": "84ccf855-ef90-4c31-ffeb-8aaa3e94551c"
      },
      "source": [
        "values = [0] * m\n",
        "\n",
        "for i in range(0, m):\n",
        "    for j in range(0, k):\n",
        "        values[i] = max(sorted)  # [6, 6, 6]\n",
        "    print(values)\n",
        "    values[4*(i+1)-1] = sorted[1]  # 2번째 값이 가장 크지 않냐\n",
        "\n",
        "print(values)"
      ],
      "execution_count": 25,
      "outputs": [
        {
          "output_type": "stream",
          "text": [
            "[6, 6, 6, 0, 0, 0, 0, 0]\n",
            "[6, 6, 6, 6, 0, 0, 0, 0]\n",
            "[6, 6, 6, 6, 6, 0, 0, 5]\n"
          ],
          "name": "stdout"
        },
        {
          "output_type": "error",
          "ename": "IndexError",
          "evalue": "ignored",
          "traceback": [
            "\u001b[0;31m---------------------------------------------------------------------------\u001b[0m",
            "\u001b[0;31mIndexError\u001b[0m                                Traceback (most recent call last)",
            "\u001b[0;32m<ipython-input-25-315e3ca693f4>\u001b[0m in \u001b[0;36m<module>\u001b[0;34m()\u001b[0m\n\u001b[1;32m      5\u001b[0m         \u001b[0mvalues\u001b[0m\u001b[0;34m[\u001b[0m\u001b[0mi\u001b[0m\u001b[0;34m+\u001b[0m\u001b[0mj\u001b[0m\u001b[0;34m]\u001b[0m \u001b[0;34m=\u001b[0m \u001b[0mmax\u001b[0m\u001b[0;34m(\u001b[0m\u001b[0msorted\u001b[0m\u001b[0;34m)\u001b[0m  \u001b[0;31m# [6, 6, 6]\u001b[0m\u001b[0;34m\u001b[0m\u001b[0;34m\u001b[0m\u001b[0m\n\u001b[1;32m      6\u001b[0m     \u001b[0mprint\u001b[0m\u001b[0;34m(\u001b[0m\u001b[0mvalues\u001b[0m\u001b[0;34m)\u001b[0m\u001b[0;34m\u001b[0m\u001b[0;34m\u001b[0m\u001b[0m\n\u001b[0;32m----> 7\u001b[0;31m     \u001b[0mvalues\u001b[0m\u001b[0;34m[\u001b[0m\u001b[0;36m4\u001b[0m\u001b[0;34m*\u001b[0m\u001b[0;34m(\u001b[0m\u001b[0mi\u001b[0m\u001b[0;34m+\u001b[0m\u001b[0;36m1\u001b[0m\u001b[0;34m)\u001b[0m\u001b[0;34m-\u001b[0m\u001b[0;36m1\u001b[0m\u001b[0;34m]\u001b[0m \u001b[0;34m=\u001b[0m \u001b[0msorted\u001b[0m\u001b[0;34m[\u001b[0m\u001b[0;36m1\u001b[0m\u001b[0;34m]\u001b[0m  \u001b[0;31m# 2번째 값이 가장 크지 않냐\u001b[0m\u001b[0;34m\u001b[0m\u001b[0;34m\u001b[0m\u001b[0m\n\u001b[0m\u001b[1;32m      8\u001b[0m \u001b[0;34m\u001b[0m\u001b[0m\n\u001b[1;32m      9\u001b[0m \u001b[0mprint\u001b[0m\u001b[0;34m(\u001b[0m\u001b[0mvalues\u001b[0m\u001b[0;34m)\u001b[0m\u001b[0;34m\u001b[0m\u001b[0;34m\u001b[0m\u001b[0m\n",
            "\u001b[0;31mIndexError\u001b[0m: list assignment index out of range"
          ]
        }
      ]
    },
    {
      "cell_type": "markdown",
      "metadata": {
        "id": "dAgAmHB9Ojoo"
      },
      "source": [
        "🤯 복기(첫 번째 시도)\n",
        "* 가장 큰 값을 반복하기 위해 이중 반복문을 생각했다\n",
        "* 하지만 그 이후에 인덱스를 조정하는 부분에서 머리가 터지는...\n",
        "* 다시보니 이중 반복문을 사용할 경우, 인덱스를 맞춰주는게 상당히 복잡할 것 같다"
      ]
    },
    {
      "cell_type": "markdown",
      "metadata": {
        "id": "ZL3qkBGTEfcx"
      },
      "source": [
        "2nd trial"
      ]
    },
    {
      "cell_type": "code",
      "metadata": {
        "colab": {
          "base_uri": "https://localhost:8080/"
        },
        "id": "gTCRYnnpEisS",
        "outputId": "99ce2c83-901a-4a86-ef21-268acd94b5a1"
      },
      "source": [
        "print(n, m , k)\n",
        "print(sorted)"
      ],
      "execution_count": 26,
      "outputs": [
        {
          "output_type": "stream",
          "text": [
            "5 8 3\n",
            "[6, 5, 4, 4, 2]\n"
          ],
          "name": "stdout"
        }
      ]
    },
    {
      "cell_type": "code",
      "metadata": {
        "colab": {
          "base_uri": "https://localhost:8080/"
        },
        "id": "UhfJ4JsCATgU",
        "outputId": "b69a4290-052b-46c8-bbd7-e0e0c2a536c9"
      },
      "source": [
        "values = [0] * m\n",
        "print(values)\n",
        "\n",
        "for i in range(0, m):\n",
        "    values[i] = max(sorted) if not (i % 4 ==k) else sorted[1] \n",
        "    \n",
        "print(values)\n",
        "print(sum(values))"
      ],
      "execution_count": 35,
      "outputs": [
        {
          "output_type": "stream",
          "text": [
            "[0, 0, 0, 0, 0, 0, 0, 0]\n",
            "[6, 6, 6, 5, 6, 6, 6, 5]\n",
            "46\n"
          ],
          "name": "stdout"
        }
      ]
    },
    {
      "cell_type": "markdown",
      "metadata": {
        "id": "0jeimilRKp8G"
      },
      "source": [
        "💡 Idea note\n",
        "* 숫자를 나열해보니 반복가능 횟수만큼 최대값을 넣어주고 그 다음 숫자로 다음으로 큰 수를 넣어주는게 좋을 것 같다는 생각을 하게 되었다\n",
        "* 위의 테스트 케이스에서는 반복횟수가 3이니 인덱스값을 4로 나눴을 때 나머지가 3인 값에 대해서는 다음으로 큰 수를 입력해 주었다. "
      ]
    },
    {
      "cell_type": "markdown",
      "metadata": {
        "id": "UHZ3GroYLWvp"
      },
      "source": [
        "▶️ 함수화 하기"
      ]
    },
    {
      "cell_type": "code",
      "metadata": {
        "id": "LMV5uhq7LcyF"
      },
      "source": [
        "# 예제를 함수로 만들어보자\n",
        "\n",
        "def answer():\n",
        "    # N, M, K을 공백으로 구분하여 입력 받기 (파이써닉하게 한 번에 입력받아보자)\n",
        "    n, m, k = map(int, input().split())\n",
        "    # N개의 수를 공백으로 구분하여 입력받기\n",
        "    data = list(map(int, input().split()))\n",
        "    data.sort(reverse=True)  # 입력 받은 데이터 정렬하기(오름차순으로 정렬해보자)\n",
        "\n",
        "    # 큰 수를 저장하는 리스트 초기화\n",
        "    values = [0] * m  # 리스트 컴프리헨션을 사용해 리스트 초기화\n",
        "\n",
        "    for i in range(0, m):  # 루프를 돌며 최대값을 저장해준다\n",
        "        values[i] = sorted[0]  if not (i % 4 == 3) else sorted[1]  # 인덱스 값을 4로 나눴을 때 3인 경우에만 두번째로 큰 수를 넣어준다\n",
        "\n",
        "    print(\"정답!: \", sum(values), \"  values: \", values)\n",
        "    return "
      ],
      "execution_count": 44,
      "outputs": []
    },
    {
      "cell_type": "code",
      "metadata": {
        "colab": {
          "base_uri": "https://localhost:8080/"
        },
        "id": "LFNJZQhAOW2v",
        "outputId": "c6469abc-7265-4c62-c17f-2f4715c5be78"
      },
      "source": [
        "answer()"
      ],
      "execution_count": 45,
      "outputs": [
        {
          "output_type": "stream",
          "text": [
            "5 8 3\n",
            "2 4 5 4 6\n",
            "정답!:  46 values:  [6, 6, 6, 5, 6, 6, 6, 5]\n"
          ],
          "name": "stdout"
        }
      ]
    },
    {
      "cell_type": "markdown",
      "metadata": {
        "id": "vk7fc1BUG9yV"
      },
      "source": [
        "시간은 한 20분 오바했지만 테스트 케이스에 대해서는 통과할 수 있었다! -20.12.01.Tue- am 11:20"
      ]
    },
    {
      "cell_type": "markdown",
      "metadata": {
        "id": "2509fmzzO3BH"
      },
      "source": [
        "---\n",
        "\n",
        "## 2. 책의 코드 복기하기\n",
        "\n",
        "✅ 이 문제는 스스로 풀어봤습니다<br><br>\n",
        "*문제를 스스로 해결한 뒤에 저자의 코드를 복기해 봅니다*"
      ]
    },
    {
      "cell_type": "markdown",
      "metadata": {
        "id": "kz_G5VmzPAC9"
      },
      "source": [
        "### 문제 해설\n",
        "* 이 문제는 전형적인 그리디 알고리즘 문제이다\n",
        "* 문제 해결을 위한 아이디어를 떠올리는 것은 어렵지 않은 편이지만 구현 실수로 인해 오답 처리 받는 경우가 많다\n",
        "* 따라서 반드시 직접 코드를 작성해 보는 것을 추천한다(동빈좌님의 말씀!)\n",
        "\n",
        "\n",
        "<br>\n",
        "💡 문제 해결 아이디어\n",
        "\n",
        "* 입력 값 중에서 가장 큰 수와 두 번째로 큰 수만 저장하면 된다\n",
        "* 연속으로 더할 수 있는 횟수가 'K'번이므로 '가장 큰 수를 K번 더하고 두번 째로 큰 수를 한 번 더하는 연산'을 반복하면 된다"
      ]
    },
    {
      "cell_type": "code",
      "metadata": {
        "colab": {
          "base_uri": "https://localhost:8080/"
        },
        "id": "l_KAinEXPW1l",
        "outputId": "76269095-2eda-490b-ce3c-3de768807a84"
      },
      "source": [
        "# N, M, K를 공백으로 구분하여 입력받기\n",
        "n, m, k = map(int, input().split())\n",
        "# N개의 수를 공백으로 구분하여 입력받기\n",
        "data = list(map(int, input().split()))\n",
        "\n",
        "data.sort()  # 입력 받은 수 정렬하기 <- 동빈님께서는 내림차순으로 정렬해주진 않으셨다\n",
        "first = data[n-1]\n",
        "second = data[n-2]\n",
        "\n",
        "result = 0\n",
        "\n",
        "while True:  # 무한 루프를 반복하는구나\n",
        "    for i in range(k):  # 가장 큰 수를 k번 더하기\n",
        "        if m == 0:\n",
        "            break\n",
        "        result += first\n",
        "        m -= 1  # 더할 때마다 1씩 빼기\n",
        "    if m == 0:\n",
        "        break  # m이 0이라면 반복문 탈출하기\n",
        "    result += second  # 두 번째로 큰 수 한 번 더하기\n",
        "    m -= 1  # 더할 때마다 1씩 빼기\n",
        "\n",
        "print(result)"
      ],
      "execution_count": 46,
      "outputs": [
        {
          "output_type": "stream",
          "text": [
            "5 8 3\n",
            "2 4 5 4 6\n",
            "46\n"
          ],
          "name": "stdout"
        }
      ]
    },
    {
      "cell_type": "markdown",
      "metadata": {
        "id": "Jbck-AthQ6g7"
      },
      "source": [
        "* 위와 같은 풀이의 문제점은 무엇일까?\n",
        "    * M이 10,000이하일때는 문제를 해결할 수 있지만, M의 크기가 100억 이상으로 커진다면 시간초과를 받을 것이다\n",
        "    * 간단한 수학적 아이디어를 이용해 더 효율적으로 문제를 해결해보자"
      ]
    },
    {
      "cell_type": "markdown",
      "metadata": {
        "id": "GHFez17MQxRL"
      },
      "source": [
        "* 이 문제를 풀기 위해서는 가장 먼저 <code>반복되는 수열</code>에 대해 파악해야 한다\n",
        "* 가장 큰 수와 두 번째로 큰 수가 더해질 때는 특정한 수열 형태로 일정하게 반복해서 더해지는 특징이 있다\n",
        "* 위의 예시에서는 [6, 6, 6, 5]가 반복된다\n",
        "    * *반복되는 수열의 길이는 어떻게 될까?*\n",
        "    * (K+1)로 위의 예시에서는 4가 된다\n",
        "    * 따라서 M을 (K+1)로 나눈 몫이 수열의 반복횟수가 된다"
      ]
    },
    {
      "cell_type": "code",
      "metadata": {
        "colab": {
          "base_uri": "https://localhost:8080/"
        },
        "id": "n1USvpSuRjvC",
        "outputId": "9dd8d21e-b7f5-4081-af6a-a38ae53781a1"
      },
      "source": [
        "# 3-2.py 답안 예시\n",
        "\n",
        "# N, M, K를 공백으로 구분하여 입력 받기\n",
        "n, m, k = map(int, input().split())\n",
        "# N개의 수를 공백으로 구분하여 입력 받기\n",
        "data = list(map(int, input().split()))\n",
        "\n",
        "data.sort()  # 입력 받은 수 정렬\n",
        "first = data[-1]\n",
        "second = data[-2]\n",
        "\n",
        "# 가장 큰 수가 더해지는 횟수 계산\n",
        "count = int(m / (k + 1)) * k\n",
        "count += m % (k + 1)  # 나누어 떨어지지 않는 경우의 수도 고려해야 한다\n",
        "\n",
        "result = 0\n",
        "result += (count) * first       # 가장 큰 수 더하기\n",
        "result += (m - count) * second  # 두번 째로 큰 수 더하기, 횟수: (m - count)\n",
        "\n",
        "\n",
        "print(result)"
      ],
      "execution_count": 49,
      "outputs": [
        {
          "output_type": "stream",
          "text": [
            "5 8 3\n",
            "2 4 5 4 6\n",
            "46\n"
          ],
          "name": "stdout"
        }
      ]
    },
    {
      "cell_type": "markdown",
      "metadata": {
        "id": "1AXhco-YSzm6"
      },
      "source": [
        "😀 End<br>\n",
        "아직은 익숙하지 않지만 서서히 익숙해질 것으로 기대한다!<br>\n",
        "못할 것도 없다! -20.12.01.Tue- pm 12:20"
      ]
    }
  ]
}