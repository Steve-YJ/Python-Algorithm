{
  "nbformat": 4,
  "nbformat_minor": 0,
  "metadata": {
    "colab": {
      "name": " Ch04. 구현. 예제 4-2) 시각.ipynb",
      "provenance": [],
      "collapsed_sections": [],
      "authorship_tag": "ABX9TyPoMw6QnFnZbEQWgqvaImSl",
      "include_colab_link": true
    },
    "kernelspec": {
      "name": "python3",
      "display_name": "Python 3"
    }
  },
  "cells": [
    {
      "cell_type": "markdown",
      "metadata": {
        "id": "view-in-github",
        "colab_type": "text"
      },
      "source": [
        "<a href=\"https://colab.research.google.com/github/Steve-YJ/Python-Algorithm/blob/main/Ch04_%EA%B5%AC%ED%98%84_%EC%98%88%EC%A0%9C_4_2)_%EC%8B%9C%EA%B0%81.ipynb\" target=\"_parent\"><img src=\"https://colab.research.google.com/assets/colab-badge.svg\" alt=\"Open In Colab\"/></a>"
      ]
    },
    {
      "cell_type": "markdown",
      "metadata": {
        "id": "kJ11nUHshKR6"
      },
      "source": [
        "# Ch04. 구현. 예제 4-2) 시각\n",
        "\n",
        "## 1. 스스로 풀어보기\n",
        "* 정수 N이 입력되면 00시 00분 00초부터 N시 59분 59초까지의 모든 시각 중에서 3이 하나라도 포함되는 경우의 수를 구하는 프로그램을 작성하시"
      ]
    },
    {
      "cell_type": "code",
      "metadata": {
        "colab": {
          "base_uri": "https://localhost:8080/"
        },
        "id": "2DZLMiGGhsrH",
        "outputId": "d1ea66aa-86a3-45b2-9e0e-5904a4e7a76b"
      },
      "source": [
        "# count\n",
        "n = int(input())\n",
        "count = 0\n",
        "\n",
        "for hour in range(0, n+1):\n",
        "    for min in range(0, 60):\n",
        "        for sec in range(0, 60):\n",
        "            time = str(hour)+str(min)+str(sec)\n",
        "            # print(time)\n",
        "            if '3' in time:\n",
        "                # print(time)\n",
        "                count+=1\n",
        "\n",
        "print(count)"
      ],
      "execution_count": 6,
      "outputs": [
        {
          "output_type": "stream",
          "text": [
            "5\n",
            "11475\n"
          ],
          "name": "stdout"
        }
      ]
    },
    {
      "cell_type": "markdown",
      "metadata": {
        "id": "ttZnB-tKldgT"
      },
      "source": [
        "무려 삼중 반복문으로 clear...!<br>\n",
        "이걸 좋아해야할지 말지 참...ㅎㅎ - 20.12.02.Tue. pm5:30-"
      ]
    },
    {
      "cell_type": "markdown",
      "metadata": {
        "id": "9XktO-_HmS-R"
      },
      "source": [
        "💡 나의 아이디어<br>\n",
        "시간을 00 00 00에서 1씩 증가시켰을 때, 3이 포함되는지 카운트한다<br>\n",
        "여기서 드는 의문은... 과연 이 알고리즘이 효율적인가?!\n"
      ]
    },
    {
      "cell_type": "markdown",
      "metadata": {
        "id": "LcFJx5SUmhHO"
      },
      "source": [
        "## 2. 책 풀이 복기\n",
        "문제를 풀고도 찝찝한 면이 있었는데 문제 풀이를 통해 해결할 수 있었다. 내가 사용한 방식은 Brute-Forcing(완전 탐색)인데 전체 시간에 대한 경우의 수가 86,400으로 십만개도 안되기 때문에 완전 탐색으로 풀어도 해결이 가능하다고 한다. \n",
        "\n",
        "* 완전 탐색에 대해 알아보면\n",
        "    * 가능한 모든 경우의 수를 검사해보는 탐색 방법이다\n",
        "    * 완전 탐색 유형의 문제는 구현이 중요한 대표적인 문제이다\n",
        "    * 일반적으로 완전 탐색 알고리즘은 비효율적인 시간 복잡도를 가지고 있기 때문에 데이터 개수가 큰 경우에는 정상적으로 동작하지 않을 수 있다\n",
        "    * ✅ 따라서 전체 데이터의 개수가 <code>100만개 이하</code>일 때 완전 탐색을 사용하면 적절하다고 한다"
      ]
    },
    {
      "cell_type": "markdown",
      "metadata": {
        "id": "Zy49iR8DnY-1"
      },
      "source": [
        "마지막으로 조금은 더 파이써닉한 책의 코드로 문제를 풀어보"
      ]
    },
    {
      "cell_type": "code",
      "metadata": {
        "colab": {
          "base_uri": "https://localhost:8080/"
        },
        "id": "vdZyXsoWnbzo",
        "outputId": "3ae07c38-fdd1-4ee8-fb49-e4f18129d7d2"
      },
      "source": [
        "# H를 입력받는다\n",
        "h = int(input())\n",
        "\n",
        "count = 0  # 3이 적어도 한 개 포함된다면 카운트를 해준다\n",
        "\n",
        "for i in range(0, h + 1):\n",
        "    for j in range(60):\n",
        "        for k in range(60):\n",
        "            if '3' in str(i)+str(j)+str(k):  # '3'이 적어도 하나 포함되어 있다면 카운팅해라\n",
        "                count += 1 \n",
        "\n",
        "print(count)"
      ],
      "execution_count": 9,
      "outputs": [
        {
          "output_type": "stream",
          "text": [
            "5\n",
            "11475\n"
          ],
          "name": "stdout"
        }
      ]
    }
  ]
}