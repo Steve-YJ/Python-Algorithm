{
  "nbformat": 4,
  "nbformat_minor": 0,
  "metadata": {
    "colab": {
      "name": "[Programmers]_Lv1. 두 개 뽑아서 더하기.ipynb",
      "provenance": [],
      "authorship_tag": "ABX9TyOz6I1m2OCCilyjq6BlUiJ0",
      "include_colab_link": true
    },
    "kernelspec": {
      "name": "python3",
      "display_name": "Python 3"
    }
  },
  "cells": [
    {
      "cell_type": "markdown",
      "metadata": {
        "id": "view-in-github",
        "colab_type": "text"
      },
      "source": [
        "<a href=\"https://colab.research.google.com/github/Steve-YJ/Python-Algorithm/blob/main/%5BProgrammers%5D_Lv1_%EB%91%90_%EA%B0%9C_%EB%BD%91%EC%95%84%EC%84%9C_%EB%8D%94%ED%95%98%EA%B8%B0.ipynb\" target=\"_parent\"><img src=\"https://colab.research.google.com/assets/colab-badge.svg\" alt=\"Open In Colab\"/></a>"
      ]
    },
    {
      "cell_type": "markdown",
      "metadata": {
        "id": "GzdehvWLyg97"
      },
      "source": [
        "# 프로그래머스 Lv1. 두 개 뽑아서 더하기\n",
        "\n",
        "\n",
        "* 문제 설명\n",
        "    * 정수 배열 numbers가 주어집니다. \n",
        "    * numbers에서 서로 다른 인덱스에 있는 두 개의 수를 뽑아 더해서 만들 수 있는 모든 수를 배열에 오름차순으로 담아 return 하도록 solution 함수를 완성해주세요.\n",
        "\n",
        "\n",
        "* 제한사항\n",
        "    * numbers의 길이는 2 이상 100 이하입니다.\n",
        "    * numbers의 모든 수는 0 이상 100 이하입니다."
      ]
    },
    {
      "cell_type": "code",
      "metadata": {
        "id": "BsaYc-McyMRC"
      },
      "source": [
        "from itertools import combinations\n",
        "\n",
        "def solution(numbers):\n",
        "    answer = []\n",
        "    combs = combinations(numbers, 2)  \n",
        "    \"\"\"풀이\n",
        "    두 수를 뽑아서 만들 수 있는 모든 수 == 조합\n",
        "    1. 두 수의 조합을 찾는다(중복 없이)\n",
        "    2. 조합의 두 원소를 더해 합을 구해준다\n",
        "    3. 중복을 제거해준다\n",
        "        - list(dict.fromkeys([]))\n",
        "        - list(set([]))\n",
        "    \"\"\"\n",
        "\n",
        "    for comb in list(combs):\n",
        "        answer.append(comb[0]+comb[1])\n",
        "    \n",
        "    answer = sorted(list(dict.fromkeys(answer)))\n",
        "    \n",
        "    return answer"
      ],
      "execution_count": 1,
      "outputs": []
    },
    {
      "cell_type": "code",
      "metadata": {
        "id": "WV2Oa_Hryx5a"
      },
      "source": [
        "from itertools import combinations\n",
        "\n",
        "def solution(numbers):\n",
        "    answer = []\n",
        "    combs = combinations(numbers, 2)  \n",
        "    \n",
        "    for comb in list(combs):\n",
        "        answer.append(comb[0]+comb[1])\n",
        "    \n",
        "    answer = sorted(list(set(answer)))\n",
        "    \n",
        "    return answer"
      ],
      "execution_count": 2,
      "outputs": []
    },
    {
      "cell_type": "markdown",
      "metadata": {
        "id": "9ROPdR6Zzcul"
      },
      "source": [
        "## Brute-force한 방법"
      ]
    },
    {
      "cell_type": "code",
      "metadata": {
        "id": "X-9lvlk60s_L"
      },
      "source": [
        "from itertools import combinations\n",
        "\n",
        "def solution(numbers):\n",
        "    answer = []\n",
        "    for i in range(len(numbers)):\n",
        "        for j in range(i+1, len(numbers)):\n",
        "            answer.append(numbers[i]+numbers[j])  # 서로 다른 두 개의 인덱스의 값을 더해준다\n",
        "            \n",
        "    answer = list(set(answer))  # 중복을 제거해준다    \n",
        "    \n",
        "    return answer"
      ],
      "execution_count": 3,
      "outputs": []
    },
    {
      "cell_type": "markdown",
      "metadata": {
        "id": "HPDGxaAy0two"
      },
      "source": [
        "* 위의 코드의 문제점은 무엇인가?\n",
        "    * set은 unordered기 때문에 정렬을 다시 해줘야 한다\n"
      ]
    },
    {
      "cell_type": "markdown",
      "metadata": {
        "id": "7kPgl10d1GJh"
      },
      "source": [
        "문제의 조건을 잘 맞춰주자!"
      ]
    },
    {
      "cell_type": "code",
      "metadata": {
        "id": "7NFxIl2o1IES"
      },
      "source": [
        "from itertools import combinations\n",
        "\n",
        "def solution(numbers):\n",
        "    answer = []\n",
        "    for i in range(len(numbers)):\n",
        "        for j in range(i+1, len(numbers)):\n",
        "            answer.append(numbers[i]+numbers[j])  # 서로 다른 두 개의 인덱스의 값을 더해준다\n",
        "            \n",
        "    answer = sorted(list(set(answer)))  # 중복을 제거해준다    \n",
        "    \n",
        "    return answer"
      ],
      "execution_count": 4,
      "outputs": []
    },
    {
      "cell_type": "code",
      "metadata": {
        "id": "vRdO-eQe1IWK"
      },
      "source": [
        ""
      ],
      "execution_count": null,
      "outputs": []
    }
  ]
}