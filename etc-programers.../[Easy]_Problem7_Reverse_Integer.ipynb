{
  "nbformat": 4,
  "nbformat_minor": 0,
  "metadata": {
    "colab": {
      "name": "[Easy] Problem7. Reverse Integer.ipynb",
      "provenance": [],
      "authorship_tag": "ABX9TyO+UvguxWSxjzRo1RbttaOh",
      "include_colab_link": true
    },
    "kernelspec": {
      "name": "python3",
      "display_name": "Python 3"
    }
  },
  "cells": [
    {
      "cell_type": "markdown",
      "metadata": {
        "id": "view-in-github",
        "colab_type": "text"
      },
      "source": [
        "<a href=\"https://colab.research.google.com/github/Steve-YJ/Python-Algorithm/blob/main/%5BEasy%5D_Problem7_Reverse_Integer.ipynb\" target=\"_parent\"><img src=\"https://colab.research.google.com/assets/colab-badge.svg\" alt=\"Open In Colab\"/></a>"
      ]
    },
    {
      "cell_type": "markdown",
      "metadata": {
        "id": "qrNZo-PwW5VB"
      },
      "source": [
        "# LeetCode\n",
        "* from LeetCode Problems\n",
        "\n",
        "Given a 32-bit signed integer, reverse digits of an integer.\n",
        "\n",
        "Note:\n",
        "Assume we are dealing with an environment that could only store integers within the 32-bit signed integer range: [−2 **** 31,  2 **** 31 − 1]. For the purpose of this problem, assume that your function returns 0 when the reversed integer overflows."
      ]
    },
    {
      "cell_type": "markdown",
      "metadata": {
        "id": "n5qsTSu0WvQd"
      },
      "source": [
        "## 1. My first Success"
      ]
    },
    {
      "cell_type": "markdown",
      "metadata": {
        "id": "7htvgD7IXR87"
      },
      "source": [
        "* Idea\n",
        "    * deque 자료구조 활용\n",
        "        * 입력값을 리스트로 변환한 뒤, 순차 탐색을 수행하며 deque 자료형의 왼쪽으로 이어 붙여준다 \n",
        "    * 이 때 몇가지 조건을 고려해준다\n",
        "        * 1. 원소의 개수가 하나인 경우\n",
        "        * 2. 뒤집었을 때, 맨 앞 원소가 '0'인 경우\n",
        "        * 3. 맨 마지막 원소가 '-'인 경우\n",
        "    * 조건을 만족시켰다면 다시 Integer로 변환시켜준다\n",
        "        * 이 때, 범위를 벗어나면 0을 반환한다"
      ]
    },
    {
      "cell_type": "code",
      "metadata": {
        "id": "hbwo03BtXPQn"
      },
      "source": [
        "from collections import deque\n",
        "\n",
        "class Solution(object):\n",
        "    def reverse(self, x):\n",
        "        \"\"\"\n",
        "        :type x: int\n",
        "        :rtype: int\n",
        "        \"\"\"\n",
        "        \n",
        "        # using queue\n",
        "        queue = deque()\n",
        "        # array\n",
        "        array = list(str(x))\n",
        "        # answer\n",
        "        answer = ''\n",
        "        \n",
        "        # 원소의 개수가 하나일 경우\n",
        "        if len(array) == 1:\n",
        "            return array[0]\n",
        "        \n",
        "        else:\n",
        "            for elem in array:\n",
        "                queue.appendleft(elem)\n",
        "        \n",
        "        # 첫 번째 원소가 0일 경우 0을 반복하여 제거\n",
        "        while True: \n",
        "            if queue[0] == '0': \n",
        "                queue.popleft()  # 0을 반복하여 제거해준다\n",
        "            else:\n",
        "                break\n",
        "                \n",
        "        # 맨 마지막 원소가 -라면 맨 앞으로 불러온다\n",
        "        if queue[-1] == '-':\n",
        "            queue.appendleft(queue[-1])\n",
        "            queue.pop()\n",
        "            \n",
        "        for elem in queue:\n",
        "            answer += elem\n",
        "        \n",
        "        # interger 변환\n",
        "        answer = int(answer)  # 다시 integer로 변환\n",
        "        # 표현 범위를 벗어나면 Overflow!\n",
        "        if answer < -2**31 or answer > (2**31) -1:\n",
        "            return 0\n",
        "        \n",
        "        \n",
        "        return answer"
      ],
      "execution_count": null,
      "outputs": []
    },
    {
      "cell_type": "markdown",
      "metadata": {
        "id": "IjU-h2CVXRCh"
      },
      "source": [
        "## 실행 결과\n",
        "Success<br>\n",
        "Details <br>\n",
        "* Runtime: 20 ms, faster than 68.20% of Python online submissions for Reverse Integer.\n",
        "* Memory Usage: 13.5 MB, less than 39.89% of Python online submissions for Reverse Integer."
      ]
    },
    {
      "cell_type": "markdown",
      "metadata": {
        "id": "TnPYIq2_YWwN"
      },
      "source": [
        "조금 더 효율적인 코드를 어떻게 구현할 수 있을까? -20.12.25.Fri. pm7:11-"
      ]
    },
    {
      "cell_type": "code",
      "metadata": {
        "id": "n29wcvnSYf8q"
      },
      "source": [
        ""
      ],
      "execution_count": null,
      "outputs": []
    }
  ]
}