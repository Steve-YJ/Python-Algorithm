{
  "nbformat": 4,
  "nbformat_minor": 0,
  "metadata": {
    "colab": {
      "name": "[실전] 카카오 Summer Intern No.1. 구현(Implementation).ipynb",
      "provenance": [],
      "authorship_tag": "ABX9TyNEyxvv8ZFH7WaZBtYwC4JQ",
      "include_colab_link": true
    },
    "kernelspec": {
      "name": "python3",
      "display_name": "Python 3"
    }
  },
  "cells": [
    {
      "cell_type": "markdown",
      "metadata": {
        "id": "view-in-github",
        "colab_type": "text"
      },
      "source": [
        "<a href=\"https://colab.research.google.com/github/Steve-YJ/Python-Algorithm/blob/main/%5B%EC%8B%A4%EC%A0%84%5D_%EC%B9%B4%EC%B9%B4%EC%98%A4_Summer_Intern_No_1_%EA%B5%AC%ED%98%84(Implementation).ipynb\" target=\"_parent\"><img src=\"https://colab.research.google.com/assets/colab-badge.svg\" alt=\"Open In Colab\"/></a>"
      ]
    },
    {
      "cell_type": "code",
      "metadata": {
        "id": "fKrGvtgVcgZN"
      },
      "source": [
        "def solution(numbers, hand):\r\n",
        "    answer = ''\r\n",
        "    key_pad = [\r\n",
        "        [1, 2, 3],\r\n",
        "        [4, 5, 6],\r\n",
        "        [7, 8, 9],\r\n",
        "        ['*', 0, '#']\r\n",
        "    ]\r\n",
        "    \r\n",
        "    key_dict = {\r\n",
        "        1: [0, 0],\r\n",
        "        2: [0, 1],\r\n",
        "        3: [0, 2],\r\n",
        "        4: [1, 0],\r\n",
        "        5: [1, 1],\r\n",
        "        6: [1, 2],\r\n",
        "        7: [2, 0],\r\n",
        "        8: [2, 1],\r\n",
        "        9: [2, 2],\r\n",
        "        '*' : [3, 0],\r\n",
        "        0: [3, 1],\r\n",
        "        '#': [3, 2]\r\n",
        "    }\r\n",
        "            \r\n",
        "    \r\n",
        "    left  = [1, 4, 7, '*']\r\n",
        "    right = [3, 6, 9, '#']\r\n",
        "    \r\n",
        "    left_loc = [3, 0]\r\n",
        "    right_loc = [3, 2] \r\n",
        "   \r\n",
        "    \r\n",
        "    # left, right에 속한다면 해당 손가락으로 눌러준다\r\n",
        "    for key in numbers:\r\n",
        "        if key in left:\r\n",
        "            answer = answer+'L'\r\n",
        "            left_loc = key_dict[key]\r\n",
        "            \r\n",
        "        elif key in right:\r\n",
        "            answer = answer+'R'\r\n",
        "            right_loc = key_dict[key]\r\n",
        "                  \r\n",
        "        else:\r\n",
        "            left_dist =  abs(key_dict[key][0] - left_loc[0]) + abs(key_dict[key][1] - left_loc[1])\r\n",
        "            right_dist = abs(key_dict[key][0] - right_loc[0]) + abs(key_dict[key][1] - right_loc[1])\r\n",
        "            if left_dist > right_dist:\r\n",
        "                answer = answer+'R'\r\n",
        "                right_loc = key_dict[key]\r\n",
        "            elif left_dist < right_dist:\r\n",
        "                answer = answer+'L'\r\n",
        "                left_loc = key_dict[key]\r\n",
        "            elif left_dist == right_dist:\r\n",
        "                if hand == \"right\":\r\n",
        "                    answer = answer+'R'\r\n",
        "                    right_loc = key_dict[key]\r\n",
        "                elif hand == \"left\":\r\n",
        "                    answer = answer+'L'\r\n",
        "                    left_loc = key_dict[key]\r\n",
        "                                    \r\n",
        "    return answer"
      ],
      "execution_count": null,
      "outputs": []
    },
    {
      "cell_type": "code",
      "metadata": {
        "id": "zygFrBLblO-V"
      },
      "source": [
        ""
      ],
      "execution_count": null,
      "outputs": []
    }
  ]
}