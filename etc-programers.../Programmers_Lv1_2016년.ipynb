{
  "nbformat": 4,
  "nbformat_minor": 0,
  "metadata": {
    "colab": {
      "name": "Programmers_Lv1. 2016년.ipynb",
      "provenance": [],
      "collapsed_sections": [],
      "authorship_tag": "ABX9TyPDWDLiO6La+d1LXFdeT+tT",
      "include_colab_link": true
    },
    "kernelspec": {
      "name": "python3",
      "display_name": "Python 3"
    }
  },
  "cells": [
    {
      "cell_type": "markdown",
      "metadata": {
        "id": "view-in-github",
        "colab_type": "text"
      },
      "source": [
        "<a href=\"https://colab.research.google.com/github/Steve-YJ/Python-Algorithm/blob/main/Programmers_Lv1_2016%EB%85%84.ipynb\" target=\"_parent\"><img src=\"https://colab.research.google.com/assets/colab-badge.svg\" alt=\"Open In Colab\"/></a>"
      ]
    },
    {
      "cell_type": "markdown",
      "metadata": {
        "id": "gMEluLDtjK9C"
      },
      "source": [
        "# Programmers 문제풀이"
      ]
    },
    {
      "cell_type": "code",
      "metadata": {
        "id": "PmlDrX8WjNik"
      },
      "source": [
        "def solution(a, b):\r\n",
        "    answer = ''\r\n",
        "    months = [31, 29, 31, 30, 31, 30, 31, 31, 30, 31, 30, 31]  # 윤년의 2월은 29일\r\n",
        "    # 7일로 나눴을 때 나머지가 요일이 된다\r\n",
        "    days = {3: 'SUN', \r\n",
        "            4: 'MON', \r\n",
        "            5: 'TUE', \r\n",
        "            6: 'WED', \r\n",
        "            0: 'THU',  # 나머지가 0이될 때를 처리해 줘야 한다!\r\n",
        "            1: 'FRI', \r\n",
        "            2: 'SAT'}\r\n",
        "    day = 0\r\n",
        "    for mon in months[:a-1]:\r\n",
        "        day += mon\r\n",
        "    day += b\r\n",
        "    \r\n",
        "    answer = days[day%7]\r\n",
        "    return answer"
      ],
      "execution_count": 1,
      "outputs": []
    },
    {
      "cell_type": "markdown",
      "metadata": {
        "id": "3_C7UJvyipwf"
      },
      "source": [
        "* 문제를 작은 문제로 나눈 뒤 큰 문제로 풀었다(최근에 공부했던 DP의 이론적인 내용이 머리를 스쳤던 순간!)\r\n",
        "* 일주일은 7일이고 해당 일을 7로 나눴을 때 요일을 구할 수 있지 않을까 하는 아이디어로부터 문제를 해결할 수 있었다\r\n",
        "* 실전에서는 시험시간 종료로 해결하지 못했지만...! 충분히 도전해볼만한 문제라고 생각한다!"
      ]
    }
  ]
}