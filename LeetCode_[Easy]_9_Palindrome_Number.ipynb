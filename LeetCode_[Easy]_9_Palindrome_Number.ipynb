{
  "nbformat": 4,
  "nbformat_minor": 0,
  "metadata": {
    "colab": {
      "name": "LeetCode [Easy] 9. Palindrome Number.ipynb",
      "provenance": [],
      "authorship_tag": "ABX9TyO+tthqiROHStCYh+r+6NwW",
      "include_colab_link": true
    },
    "kernelspec": {
      "name": "python3",
      "display_name": "Python 3"
    }
  },
  "cells": [
    {
      "cell_type": "markdown",
      "metadata": {
        "id": "view-in-github",
        "colab_type": "text"
      },
      "source": [
        "<a href=\"https://colab.research.google.com/github/Steve-YJ/Python-Algorithm/blob/main/LeetCode_%5BEasy%5D_9_Palindrome_Number.ipynb\" target=\"_parent\"><img src=\"https://colab.research.google.com/assets/colab-badge.svg\" alt=\"Open In Colab\"/></a>"
      ]
    },
    {
      "cell_type": "markdown",
      "metadata": {
        "id": "w5fn-arTVv0E"
      },
      "source": [
        "# LeetCode - 9. Palindrome Number\n",
        "\n",
        "Determine whether an integer is a palindrome. An integer is a palindrome when it reads the same backward as forward.\n",
        "<br>\n",
        "Follow up: Could you solve it without converting the integer to a string?\n",
        "\n"
      ]
    },
    {
      "cell_type": "code",
      "metadata": {
        "id": "_8_EEVNoVs3z"
      },
      "source": [
        "class Solution:\n",
        "    def isPalindrome(self, x: int) -> bool:\n",
        "        # could you solve it without converting the integer to a string?\n",
        "        \n",
        "        # using list\n",
        "        input_data = list(str(x))  # but I used string\n",
        "        \n",
        "        return input_data == input_data[::-1]\n",
        "        "
      ],
      "execution_count": 1,
      "outputs": []
    },
    {
      "cell_type": "markdown",
      "metadata": {
        "id": "J8knl6PGV6aJ"
      },
      "source": [
        "Question, How can I solve this without string?"
      ]
    },
    {
      "cell_type": "code",
      "metadata": {
        "colab": {
          "base_uri": "https://localhost:8080/",
          "height": 129
        },
        "id": "O2NCvmSIihTc",
        "outputId": "1d5c0208-672a-4cf3-94ba-ea99c927c0b3"
      },
      "source": [
        "from collections import deque\n",
        "\n",
        "class Solution:\n",
        "    def isPalindrome(self, x: int) -> bool:\n",
        "        # first, if x < 0: return False\n",
        "        if x < 0:\n",
        "            return False\n",
        "        else:\n",
        "           # humm...."
      ],
      "execution_count": 2,
      "outputs": [
        {
          "output_type": "error",
          "ename": "SyntaxError",
          "evalue": "ignored",
          "traceback": [
            "\u001b[0;36m  File \u001b[0;32m\"<ipython-input-2-e044617ad02d>\"\u001b[0;36m, line \u001b[0;32m11\u001b[0m\n\u001b[0;31m    # humm....\u001b[0m\n\u001b[0m              ^\u001b[0m\n\u001b[0;31mSyntaxError\u001b[0m\u001b[0;31m:\u001b[0m unexpected EOF while parsing\n"
          ]
        }
      ]
    },
    {
      "cell_type": "code",
      "metadata": {
        "id": "3vCKnFcUiho_"
      },
      "source": [
        ""
      ],
      "execution_count": null,
      "outputs": []
    }
  ]
}