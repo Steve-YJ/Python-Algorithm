{
  "nbformat": 4,
  "nbformat_minor": 0,
  "metadata": {
    "colab": {
      "name": "00. Preface.ipynb",
      "provenance": [],
      "authorship_tag": "ABX9TyOEtebw1nsCX6g9GIBpMT9Z",
      "include_colab_link": true
    },
    "kernelspec": {
      "name": "python3",
      "display_name": "Python 3"
    }
  },
  "cells": [
    {
      "cell_type": "markdown",
      "metadata": {
        "id": "view-in-github",
        "colab_type": "text"
      },
      "source": [
        "<a href=\"https://colab.research.google.com/github/Steve-YJ/Python-Algorithm/blob/main/00_Preface.ipynb\" target=\"_parent\"><img src=\"https://colab.research.google.com/assets/colab-badge.svg\" alt=\"Open In Colab\"/></a>"
      ]
    },
    {
      "cell_type": "markdown",
      "metadata": {
        "id": "uzQa32YQq8Si"
      },
      "source": [
        "# 코딩 테스트 및 인터뷰를 위한 알고리즘 노트\n",
        "* Referencebook: 이것이 취업을 위한 코딩테스트다  <a ref='http://www.yes24.com/Product/Goods/91433923'>link</a>\n",
        "\n",
        "* 동영상 강의 <a ref='https://www.youtube.com/watch?v=m-9pAwq1o3w'>link</a>\n",
        "* Github <a ref='https://github.com/ndb796'>link</a>"
      ]
    },
    {
      "cell_type": "markdown",
      "metadata": {
        "id": "TwjsJcw9rV4A"
      },
      "source": [
        "저자는 어떤 생각으로 책을 지필했는지, 앞으로 어떻게 공부하면 좋을지, 내가 얻어가야할 지식이 무엇인지 하나씩 천천히 살펴보도록 하자 -20.11.21.Sat pm11:30-"
      ]
    },
    {
      "cell_type": "markdown",
      "metadata": {
        "id": "2cfIDV4AsKA2"
      },
      "source": [
        "## 📔 이 책을 펼친 이유\n",
        "\n",
        "> 졸업과 동시에 취업 하여 현업에서 데이터 사이언스 업무를 경험하고 싶었다. 그런데... 서류 통과의 기쁨도 잠시... 코딩테스트에서 고배를 마셨다... ㅠㅠ<br>\n",
        "> 이 책은 이런 나의 좌절감을 극복하고자 꺼내든 책이다. '알고리즘'에 대한 기본이 없기에 기초부터 하나씩 쌓아나가보도록 한다. <br><br>\n",
        "\n",
        "::Start::\n",
        "> from. 20.11.21 sat am11:30- \n",
        "\n"
      ]
    },
    {
      "cell_type": "markdown",
      "metadata": {
        "id": "_v48tUhZrm-n"
      },
      "source": [
        "## 📄 지은이의 글"
      ]
    },
    {
      "cell_type": "markdown",
      "metadata": {
        "id": "SxEHQN9qroX1"
      },
      "source": [
        "> IT분야에 흥미를 느끼고 난 뒤로 IT계열에서 대외 활동이나 인턴을 하며 경력을 쌓고 싶었다. 그런데 <code>코딩 테스트라는 벽</code>을 만나 좌절을 맛보았다.\n",
        "> 어려운 알고리즘 문제에 막혀 불합격을 받았던 좌절감...<br>\n",
        "> 이 책은 과거의 필자를 위한 책이다\n",
        "> 합격 통지가 절실했던 과거의 필자에게 알려주고 싶은 '코딩 테스트 합격을 위한 핵심 전략'을 담은책\n",
        "\n",
        "\n",
        "이 책은...\n",
        "> 1. 국내외 IT 기업의 코딩 테스트 기출문제를 분석하고, 유형을 정리\n",
        "> 2. 알고리즘 문제 해결에 핵심이 되는 이론을 먼저 설명, 알고리즘별 반드시 풀어야하는 핵심 문제 풀이\n",
        "> 3. 부록에서는 코딩 테스트를 위해 꼭 필요한 파이썬 문법과 API를 활용하는 개발형 코딩 테스트에 대한 내용까지 담는다\n",
        "\n"
      ]
    },
    {
      "cell_type": "markdown",
      "metadata": {
        "id": "4xz_97MzrokG"
      },
      "source": [
        "## 📄 리뷰어의 글"
      ]
    },
    {
      "cell_type": "markdown",
      "metadata": {
        "id": "0reIEyV9qGKz"
      },
      "source": [
        "> 알고리즘 문제 풀이를 이제 시작하는 '청정수(뉴비)\"를 위한 안내서 - 김민철님<br>\n",
        "> 자료구조와 알고리즘을 쉽게 입문할 수 있는책. 이 책 한권만 제대로 학습하면 국내 대다수 코딩 테스트는 충분히 통과할 수 있다 - 안수빈님<br>\n",
        "> 알고리즘의 좋은 시작점이 될 책 - 정한길님<br>\n",
        "> IT 취준생을 위한 코테 길라잡이 - 유명성님<br>\n",
        "> 개발자 구직정보를 포함한 효율적인 책 - 황성호님<br>\n",
        "> 필자의 노하우가 담긴 코테 필독서 - 박한울님<br>\n",
        "> 준비된 개발자를 위한 책 - 신준희님<br>\n",
        "> 출제자의 고민이 녹아든 책 - 이태일님"
      ]
    },
    {
      "cell_type": "markdown",
      "metadata": {
        "id": "iwSl_ac2r4Ox"
      },
      "source": [
        "## 1. 이 책의 활용법"
      ]
    },
    {
      "cell_type": "markdown",
      "metadata": {
        "id": "xc8Pp5-kr67l"
      },
      "source": [
        "✅ Advice 0. 초급, 중급의 독자라면 부록 A부터 공부를하자.\n",
        "> 자료구조, 알고리즘에 대한 기초가 없다면 2부를 먼저 보도록 하자\n",
        "\n",
        "✅ Advice 1. 채의 문제를 푼 다음 온라인 저지 사이트에서 동일 유형의 문제를 풀어보자\n",
        "> e.g 백준, Leetcode, Codility...\n",
        "\n",
        "✅ Advice 2. 한 권에 집중하자!\n",
        "> 이 책을 보는 동안에는 이 책에만 집중할 수 있도록 하자. 한 권에 모든 지식을 녹여좠다\n",
        "\n",
        "✅ Advice 3. 복기한 내용은 개인 블로그나 깃허브에 올려놓자\n",
        "> 자신만의 방법으로 기록하자\n",
        "> 코딩테스트 직전에 훌륭한 요약집이 될 것이다"
      ]
    },
    {
      "cell_type": "markdown",
      "metadata": {
        "id": "BlUTv3ncr7Ap"
      },
      "source": [
        "## 2. 학습 순서 및 대상 독자"
      ]
    },
    {
      "cell_type": "markdown",
      "metadata": {
        "id": "8wrH8y00sEY2"
      },
      "source": [
        "학습 순서는 한 달에 걸쳐 이 책을 학습할 때 권장하는 방식이다. 알고리즘 학습에 하루 3시간씩 투자한다는 기준으로 작성했다(하루 3시간은 지금 상황에서는 조금 힘들다...! 2달 기준으로 잡자!)\n",
        "\n",
        "✅ 초급 단계\n",
        "\n",
        "> 1단계. 파이썬 문법 공부 (부록 A 이용)<br>\n",
        "> 2단계. 코드업에서 쉬운 문제부터 200문제 가량 풀기(관성!)<br>\n",
        "> 3단계. 유형별 알고리즘 이론(2부)과 기출문제(3부) 학습<br>\n",
        "> 4단계. 백준 온라인 저지에서 유형별 5개 이상 풀기\n",
        "\n",
        "✅ 초급 단계\n",
        "> 5단계. 책 완독 후 백준 온라인 저지에서 삼성 SW 역량테스트 문제집 풀기M<br>\n",
        "> 6단계. 프로그래머스에서 카카오 문제집 풀기<br>\n",
        "> 7단계. 책의 2부와 3부를 중심으로 주요 알고리즘 유형 복습하기\n",
        "\n",
        "\n",
        "단계를 높여가며 실력을 쌓는 방식인가보다...!\n",
        "<br>\n",
        "<br>\n",
        "\n",
        "📌 본인이 투자할 수 있는 최대한의 시간을 내서 책에서 제공하는 내용을 체화하자. 프로그래밍에 어느정도 익숙하다면 60시간 이내에 이 책을 완독할 수 있다고 본다(???)<br>\n",
        "\n",
        "틈날때 마다 책을 보자. 어떤 문제를 풀때 어떤 유형인지 파악할 수 있을 때까지 연습하고 또 연습하자!\n"
      ]
    },
    {
      "cell_type": "markdown",
      "metadata": {
        "id": "zs0KSVT6sEbk"
      },
      "source": [
        "##  3. 목차"
      ]
    },
    {
      "cell_type": "markdown",
      "metadata": {
        "id": "6peVS90msBx1"
      },
      "source": [
        "책의 목차를 한 번 살펴보자\n",
        "\n",
        "\n",
        "🔰 목차 🔰\n",
        "* Part1. 코딩 테스트, 무엇을 어떻게 준비할까?<br>\n",
        "\n",
        "* Part2. 주요 알고리즘 이론과 실전 문제<br>\n",
        "    * Chap3. 그리디<br>\n",
        "    * Chap4. 구현<br> \n",
        "    * Chap5. DFS/BFS<br>\n",
        "    * Chap6. 정렬<br>\n",
        "    * Chap7. 이진 탐색<br>\n",
        "    * Chap8. 다이나믹 프로그래밍<br>\n",
        "    * Chap9. 최단 경로<br>\n",
        "    * Chap10. 그래프 이론<br>\n",
        "\n",
        "* part3. 알고리즘 유형별 기출문제\n",
        " * Chap11. 그리디<br>\n",
        " * Chap12. 구현<br> \n",
        " * Chap13. DFS/BFS<br>\n",
        " * Chap14. 정렬<br>\n",
        " * Chap15. 이진 탐색<br>\n",
        " * Chap16. 다이나믹 프로그래밍<br>\n",
        " * Chap17. 최단 경로<br>\n",
        " * Chap18. 그래프 이론<br>\n",
        " * Chap19. 2020 상반기 삼성전자 기출문제\n",
        "\n",
        "*  Part4. 부록\n",
        "    *  Appendix A. 코딩 테스트를 위한 파이썬 문법<br>\n",
        "    * Appendix B. 기타 알고리즘<br>\n",
        "    * Appendix C. 개발형 코딩 테스트<br>\n",
        "    * Appendix D. 알고리즘 유형별 기출문제 풀이\n"
      ]
    },
    {
      "cell_type": "markdown",
      "metadata": {
        "id": "TAk30V0Sy4a_"
      },
      "source": [
        "## 책 소개\n",
        "* <a ref='https://blog.naver.com/ndb796'>안경잡이 개발자 블로그 참고</a>"
      ]
    }
  ]
}