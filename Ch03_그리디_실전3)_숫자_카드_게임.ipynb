{
  "nbformat": 4,
  "nbformat_minor": 0,
  "metadata": {
    "colab": {
      "name": "Ch03. 그리디 - 실전3) 숫자 카드 게임",
      "provenance": [],
      "authorship_tag": "ABX9TyMfPP9tXXndXi0t3sK9d2s/",
      "include_colab_link": true
    },
    "kernelspec": {
      "name": "python3",
      "display_name": "Python 3"
    }
  },
  "cells": [
    {
      "cell_type": "markdown",
      "metadata": {
        "id": "view-in-github",
        "colab_type": "text"
      },
      "source": [
        "<a href=\"https://colab.research.google.com/github/Steve-YJ/Python-Algorithm/blob/main/Ch03_%EA%B7%B8%EB%A6%AC%EB%94%94_%EC%8B%A4%EC%A0%843)_%EC%88%AB%EC%9E%90_%EC%B9%B4%EB%93%9C_%EA%B2%8C%EC%9E%84.ipynb\" target=\"_parent\"><img src=\"https://colab.research.google.com/assets/colab-badge.svg\" alt=\"Open In Colab\"/></a>"
      ]
    },
    {
      "cell_type": "markdown",
      "metadata": {
        "id": "x5U_fK0pbGBB"
      },
      "source": [
        "# Ch03. 그리디 알고리즘 - 실전3) 숫자 카드 게임\n",
        "* 게임의 룰을 지켜가며 카드 중에서 가장 높은 숫자가 쓰인 카드 한 장을 뽑아보자!\n",
        "\n",
        "## 1. 스스로 풀어보기\n",
        "\n",
        "우선 입력부터 받아보자"
      ]
    },
    {
      "cell_type": "code",
      "metadata": {
        "id": "1OcO70fSbS-p"
      },
      "source": [
        "def min_value():\n",
        "    n, m = map(int, input().split())\n",
        "    print(\"n, m :\", n, m)\n",
        "    \n",
        "    min_value = [0] * n\n",
        "\n",
        "    for i in range(n):\n",
        "        data = list(map(int, input().split()))\n",
        "        min_value[i] = min(data)\n",
        "        \n",
        "    print(\"answer: \", max(min_value))\n",
        "    return"
      ],
      "execution_count": 11,
      "outputs": []
    },
    {
      "cell_type": "code",
      "metadata": {
        "colab": {
          "base_uri": "https://localhost:8080/"
        },
        "id": "N21A3zWJbhUU",
        "outputId": "85243434-1b12-4021-e409-1131970f36c0"
      },
      "source": [
        "min_value()"
      ],
      "execution_count": 10,
      "outputs": [
        {
          "output_type": "stream",
          "text": [
            "3 3 \n",
            "print n, m : 3 3\n",
            "3 1 2\n",
            "4 1 4\n",
            "2 2 2\n",
            "answer:  2\n"
          ],
          "name": "stdout"
        }
      ]
    },
    {
      "cell_type": "code",
      "metadata": {
        "colab": {
          "base_uri": "https://localhost:8080/"
        },
        "id": "i8_US-mRbvyc",
        "outputId": "d123ebb5-d1e8-4fc1-82b3-faabeead85d8"
      },
      "source": [
        "min_value()"
      ],
      "execution_count": 12,
      "outputs": [
        {
          "output_type": "stream",
          "text": [
            "2 4\n",
            "n, m : 2 4\n",
            "7 3 1 8\n",
            "3 3 3 4\n",
            "answer:  3\n"
          ],
          "name": "stdout"
        }
      ]
    },
    {
      "cell_type": "markdown",
      "metadata": {
        "id": "h78XmBT-dui2"
      },
      "source": [
        "생각보다 쉽게 해결된 것 같다?!<code>(Done with in 24 min)</code><br>\n",
        "정답을 확인해보자!"
      ]
    },
    {
      "cell_type": "markdown",
      "metadata": {
        "id": "zetmqExAeGjp"
      },
      "source": [
        "## 2. 책의 코드 복기\n",
        "* 그리디 알고리즘 유형의 문제는 문제 해결을 위한 아이디어를 떠올렸다면 정답을 찾을 수 있다.\n",
        "* 각 행마다 가장 작은 수를 찾은 뒤에 그 수 중에서 가장 큰 수를 찾으면 된다\n",
        "* 이 문제는 문제 설명이 길어 지문 이해에 시간이 많이 소요될 수 있지만, 문제의 아이디어를 떠올리는 것은 쉬운 문제다 -> 정말로 지문을 읽으면서 아리송했달까...\n",
        "\n"
      ]
    },
    {
      "cell_type": "code",
      "metadata": {
        "colab": {
          "base_uri": "https://localhost:8080/"
        },
        "id": "8IT3gTy7eA5k",
        "outputId": "20372853-6e09-4b71-a005-242871ac11b1"
      },
      "source": [
        "# N, M을 공백으로 구분하여 입력 받기\n",
        "n, m = map(int, input().split())\n",
        "\n",
        "result = 0\n",
        "#한 줄씩 입력 받아 확인\n",
        "for i in range(n):\n",
        "    data = list(map(int, input().split()))\n",
        "    # 현재 줄에서 '가장 작은 수' 찾기\n",
        "    min_value = min(data)\n",
        "    # '가장 작은 수'중에서 가장 큰 수 찾기\n",
        "    result = max(result, min_value)\n",
        "\n",
        "print(\"최종 답: \", result)"
      ],
      "execution_count": 13,
      "outputs": [
        {
          "output_type": "stream",
          "text": [
            "3 3\n",
            "3 1 2\n",
            "4 1 4\n",
            "2 2 2\n",
            "최종 답:  2\n"
          ],
          "name": "stdout"
        }
      ]
    },
    {
      "cell_type": "markdown",
      "metadata": {
        "id": "IjC6YNZegZgk"
      },
      "source": [
        "2중 반복문 구조를 이용하는 답안 예"
      ]
    },
    {
      "cell_type": "code",
      "metadata": {
        "colab": {
          "base_uri": "https://localhost:8080/"
        },
        "id": "Nw3oGb2fgTEz",
        "outputId": "8bdae208-77e9-4bfc-902c-ba07e6f5148f"
      },
      "source": [
        "# 2중 반복문을 사용해보자\n",
        "# N, M을 공백으로 구분하여 입력 받기\n",
        "n, m = map(int, input().split())\n",
        "\n",
        "result = 0\n",
        "for i in range(n):\n",
        "    data = list(map(int, input().split()))\n",
        "    # 현재 값 중에서 '가장 작은 수 찾기'\n",
        "    min_value = 100001\n",
        "    for a in data:\n",
        "        # if a < min_value:\n",
        "        #     min_value = a\n",
        "        min_value = min(min_value, a)  # 현재 행의 값 중에서 가장 작은 수를 찾아 min_value로 저장해준다\n",
        "    result = max(result, min_value)  # 가장 작은 값 중에서 가장 큰 수를 찾는다\n",
        "print(result)"
      ],
      "execution_count": 1,
      "outputs": [
        {
          "output_type": "stream",
          "text": [
            "2 4\n",
            "7 3 1 8\n",
            "3 3 3 4\n",
            "3\n"
          ],
          "name": "stdout"
        }
      ]
    },
    {
      "cell_type": "markdown",
      "metadata": {
        "id": "EmZ8rMAah-MO"
      },
      "source": [
        "앞선 문제보다는 쉬운 문제였다고 한다. (역시!) 하지만 직접 풀어서 기쁘군ㅎ/"
      ]
    }
  ]
}