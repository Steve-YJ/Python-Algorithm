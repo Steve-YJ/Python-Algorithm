{
  "nbformat": 4,
  "nbformat_minor": 0,
  "metadata": {
    "colab": {
      "name": "Ch04. 구현 - 예제 4-1) 상하좌우.ipynb",
      "provenance": [],
      "collapsed_sections": [],
      "authorship_tag": "ABX9TyNc/W/DrAvlKdiFIQy1EyVI",
      "include_colab_link": true
    },
    "kernelspec": {
      "name": "python3",
      "display_name": "Python 3"
    }
  },
  "cells": [
    {
      "cell_type": "markdown",
      "metadata": {
        "id": "view-in-github",
        "colab_type": "text"
      },
      "source": [
        "<a href=\"https://colab.research.google.com/github/Steve-YJ/Python-Algorithm/blob/main/Ch04_%EA%B5%AC%ED%98%84_%EC%98%88%EC%A0%9C_4_1)_%EC%83%81%ED%95%98%EC%A2%8C%EC%9A%B0.ipynb\" target=\"_parent\"><img src=\"https://colab.research.google.com/assets/colab-badge.svg\" alt=\"Open In Colab\"/></a>"
      ]
    },
    {
      "cell_type": "markdown",
      "metadata": {
        "id": "4NjpMW6dT_LF"
      },
      "source": [
        "# Ch04. 구현. 예제 4-1) 상.하.좌.우\n",
        "\n",
        "\n",
        "## 1.스스로 풀어보기\n",
        "* 입력 조건\n",
        "    * 첫 째 줄에 공간의 크기를 나타내는 N이 주어진다(1 <= N <= 100)\n",
        "    * 둘 쨰 줄에 여행가 A가 이동할 계획서 내용이 주어진다(1 <= 이동횟수 <= 100)\n"
      ]
    },
    {
      "cell_type": "code",
      "metadata": {
        "colab": {
          "base_uri": "https://localhost:8080/"
        },
        "id": "dKYoCYIFTdOU",
        "outputId": "a7679316-8f0a-4d72-f140-3be21ea4a261"
      },
      "source": [
        "n = int(input(\"n을 입력하세요: \"))\n",
        "command = list(map(str, input().split()))\n",
        "\n",
        "print(\"n과 명령어: \\n\", n, \"\\n\", command)"
      ],
      "execution_count": 6,
      "outputs": [
        {
          "output_type": "stream",
          "text": [
            "n을 입력하세요: 5\n",
            "R R R U D D\n",
            "n과 명령어: \n",
            " 5 \n",
            " ['R', 'R', 'R', 'U', 'D', 'D']\n"
          ],
          "name": "stdout"
        }
      ]
    },
    {
      "cell_type": "code",
      "metadata": {
        "colab": {
          "base_uri": "https://localhost:8080/"
        },
        "id": "ZgOHzpBIU1sD",
        "outputId": "edaa8f26-2385-411b-8c54-b2e0765d6932"
      },
      "source": [
        "init = [[(i+1,j+1)  for j in range(0, n)] for i in range(0, n)]\n",
        "start = (1, 1)\n",
        "print(init, \"\\n\", start)\n",
        "print(init[0][0][0])\n",
        "\n",
        "\n",
        "for c in command:  # 명령어만큼 반복(예제에서는 5회 반복)\n",
        "    if c == 'R':\n",
        "        start = (start[0] , start[1] + 1)\n",
        "        if start[1] > n:\n",
        "            start = (start[0], start[1] - 1)\n",
        "    elif c == 'L':\n",
        "        start = (start[0], start[1] - 1)\n",
        "        if start[1] < n:\n",
        "            start = (start[0], start[1] + 1)\n",
        "    elif c == 'U':\n",
        "        start = (start[0] - 1, start[1])\n",
        "        if start[0] < n:\n",
        "            start= (start[0] + 1, start[1])\n",
        "    elif c == 'D':\n",
        "        start = (start[0] + 1, start[1])\n",
        "        if start[0] > n:\n",
        "            start = (start[0] - 1, start[1])\n",
        "    \n",
        "print(start)\n",
        "print(\"Answer: \", start[0], start[1])"
      ],
      "execution_count": 28,
      "outputs": [
        {
          "output_type": "stream",
          "text": [
            "[[(1, 1), (1, 2), (1, 3), (1, 4), (1, 5)], [(2, 1), (2, 2), (2, 3), (2, 4), (2, 5)], [(3, 1), (3, 2), (3, 3), (3, 4), (3, 5)], [(4, 1), (4, 2), (4, 3), (4, 4), (4, 5)], [(5, 1), (5, 2), (5, 3), (5, 4), (5, 5)]] \n",
            " (1, 1)\n",
            "1\n",
            "(3, 4)\n",
            "Answer:  3 4\n"
          ],
          "name": "stdout"
        }
      ]
    },
    {
      "cell_type": "markdown",
      "metadata": {
        "id": "j47XpOXeVodC"
      },
      "source": [
        "15분보다는 시간이 오바되었다. 그리고 뭔가 '이렇게까지 구현해야 하나?'라는 생각이 든다...(너무 비효율적인 코드가 아닌가...) -20.12.02.Wed. pm4:00-"
      ]
    },
    {
      "cell_type": "markdown",
      "metadata": {
        "id": "qHYd7Fy9avo4"
      },
      "source": [
        "Second Trial. 조금 더 나은 방법을 생각해보"
      ]
    },
    {
      "cell_type": "code",
      "metadata": {
        "colab": {
          "base_uri": "https://localhost:8080/"
        },
        "id": "U0kd8dNRayD9",
        "outputId": "f3c1c382-2082-4210-e598-65436e5f6e62"
      },
      "source": [
        "# 2차원 리스트를 초기화해서 한 번 해결해보자!\n",
        "\n",
        "map = [[[i+1, j+1] for j in range(n)] for i in range(n)]\n",
        "# init start point\n",
        "start = [1, 1]\n",
        "print(\"init map: \", map)\n",
        "print(\"init start-point: \", start)\n",
        "\n",
        "for c in command:\n",
        "    if c == \"R\":\n",
        "        start[1] += 1\n",
        "        if start[1] > n:\n",
        "            start[1] -=1\n",
        "    elif c == \"L\":\n",
        "        start[1] -= 1\n",
        "        if start[1] < 1:\n",
        "            start[1] +=1\n",
        "    elif c == \"U\":\n",
        "        start[0] -= 1\n",
        "        if start[0] < 1:\n",
        "            start[0] +=1\n",
        "    elif c == \"D\":\n",
        "        start[0] += 1\n",
        "        if start[0] > n:\n",
        "            start[0] -=1\n",
        "        \n",
        "print(\"Answer: \")\n",
        "print(start[0], start[1])"
      ],
      "execution_count": 35,
      "outputs": [
        {
          "output_type": "stream",
          "text": [
            "init map:  [[[1, 1], [1, 2], [1, 3], [1, 4], [1, 5]], [[2, 1], [2, 2], [2, 3], [2, 4], [2, 5]], [[3, 1], [3, 2], [3, 3], [3, 4], [3, 5]], [[4, 1], [4, 2], [4, 3], [4, 4], [4, 5]], [[5, 1], [5, 2], [5, 3], [5, 4], [5, 5]]]\n",
            "init start-point:  [1, 1]\n",
            "Answer: \n",
            "3 4\n"
          ],
          "name": "stdout"
        }
      ]
    },
    {
      "cell_type": "markdown",
      "metadata": {
        "id": "4gr-D27RcKzA"
      },
      "source": [
        "튜플 자료형보다는 계산이 수월하다는 장점이 있다. 과연 알고리즘으로서 효율성도 좋을까?"
      ]
    },
    {
      "cell_type": "markdown",
      "metadata": {
        "id": "3pngdmYAZ__4"
      },
      "source": [
        "## 2. 책 풀이 복기\n",
        "\n",
        "* 이 문제를 요구사항대로 구현하면 연산 횟수는 이동 횟수에 비례하게 된다. 예를 들어 이동 횟수가 N번인 경우 시간 복잡도는 O(N)이다. 따라서 시간복자보는 매우 넉넉한 편이다\n",
        "* 이런 문제는 일련의 명령에 따라서 개체를 차례대로 이동시킨다는 점에서 시뮬레이션(simulation) 유형으로 분류되며 구현이 중요한 대표적인 문제 유형이다.\n",
        "* 코딩 테스트나 알고리즘 대회에서 가장 난이도가 낮은 1~2번 문제는 대부분 그리디 알고리즘이나 구현 문제이다. 이 두 유형이 논리적 사고력을 확인할 수 있는 가장 기본 난이도의 문제로 적합하기 떄문이다.\n",
        "* 난이도가 낮은 만큼 반드시 풀어낼 수 있도록 하자!\n"
      ]
    },
    {
      "cell_type": "markdown",
      "metadata": {
        "id": "ZUQs9QLodzSF"
      },
      "source": [
        "온라인 저지를 통해서 내가 풀이한 방식이 얼마나 효율적인지 확인하고 싶어지네...ㅎ"
      ]
    },
    {
      "cell_type": "code",
      "metadata": {
        "colab": {
          "base_uri": "https://localhost:8080/"
        },
        "id": "N8x4DWK6d3EO",
        "outputId": "c5fbfcca-5175-41d0-d11f-b7afcddab0cc"
      },
      "source": [
        "# 4-1.py 답안 예시\n",
        "n = int(input())\n",
        "x, y = 1, 1\n",
        "plans = input().split()\n",
        "\n",
        "# L, R, U, D에 따른 이동 방향\n",
        "dx = [0, 0, -1, 1]\n",
        "dy = [-1, 1, 0, 0]\n",
        "move_types = ['L', 'R', 'U', 'D']\n",
        "\n",
        "# 이동 계획을 하나씩 확인\n",
        "for plan in plans:\n",
        "    # 이동 후 좌표 구하기\n",
        "    for i in range(len(move_types)):\n",
        "        if plan == move_types[i]:\n",
        "            nx = x + dx[i]\n",
        "            ny = y + dy[i]\n",
        "    # 공간을 벗어나는 경우 무시\n",
        "    if nx < 1 or ny <1 or nx > n or ny > n:\n",
        "        continue\n",
        "    else:\n",
        "        x, y = nx, ny  # 공간을 벗어나지 않는다면 이동 수행\n",
        "\n",
        "print(x, y)"
      ],
      "execution_count": 37,
      "outputs": [
        {
          "output_type": "stream",
          "text": [
            "5\n",
            "R R R U D D\n",
            "3 4\n"
          ],
          "name": "stdout"
        }
      ]
    }
  ]
}