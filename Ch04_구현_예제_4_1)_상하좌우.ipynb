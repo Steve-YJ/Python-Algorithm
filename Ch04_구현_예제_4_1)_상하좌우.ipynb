{
  "nbformat": 4,
  "nbformat_minor": 0,
  "metadata": {
    "colab": {
      "name": "Ch04. 구현 - 예제 4-1) 상하좌우.ipynb",
      "provenance": [],
      "authorship_tag": "ABX9TyMg6XwE4pseNc/OxLcPU+cS",
      "include_colab_link": true
    },
    "kernelspec": {
      "name": "python3",
      "display_name": "Python 3"
    }
  },
  "cells": [
    {
      "cell_type": "markdown",
      "metadata": {
        "id": "view-in-github",
        "colab_type": "text"
      },
      "source": [
        "<a href=\"https://colab.research.google.com/github/Steve-YJ/Python-Algorithm/blob/main/Ch04_%EA%B5%AC%ED%98%84_%EC%98%88%EC%A0%9C_4_1)_%EC%83%81%ED%95%98%EC%A2%8C%EC%9A%B0.ipynb\" target=\"_parent\"><img src=\"https://colab.research.google.com/assets/colab-badge.svg\" alt=\"Open In Colab\"/></a>"
      ]
    },
    {
      "cell_type": "markdown",
      "metadata": {
        "id": "4NjpMW6dT_LF"
      },
      "source": [
        "# Ch04. 구현\n",
        "## 예제 4-1) 상.하.좌.우\n",
        "* 입력 조건\n",
        "    * 첫 째 줄에 공간의 크기를 나타내는 N이 주어진다(1 <= N <= 100)\n",
        "    * 둘 쨰 줄에 여행가 A가 이동할 계획서 내용이 주어진다(1 <= 이동횟수 <= 100)\n",
        "    "
      ]
    },
    {
      "cell_type": "code",
      "metadata": {
        "colab": {
          "base_uri": "https://localhost:8080/"
        },
        "id": "dKYoCYIFTdOU",
        "outputId": "a7679316-8f0a-4d72-f140-3be21ea4a261"
      },
      "source": [
        "n = int(input(\"n을 입력하세요: \"))\n",
        "command = list(map(str, input().split()))\n",
        "\n",
        "print(\"n과 명령어: \\n\", n, \"\\n\", command)"
      ],
      "execution_count": 6,
      "outputs": [
        {
          "output_type": "stream",
          "text": [
            "n을 입력하세요: 5\n",
            "R R R U D D\n",
            "n과 명령어: \n",
            " 5 \n",
            " ['R', 'R', 'R', 'U', 'D', 'D']\n"
          ],
          "name": "stdout"
        }
      ]
    },
    {
      "cell_type": "code",
      "metadata": {
        "colab": {
          "base_uri": "https://localhost:8080/"
        },
        "id": "ZgOHzpBIU1sD",
        "outputId": "a47dae3a-a157-4204-f71e-bbf23f3d7b29"
      },
      "source": [
        "init = [[(i+1,j+1)  for j in range(0, n)] for i in range(0, n)]\n",
        "start = (1, 1)\n",
        "print(init, \"\\n\", start)\n",
        "print(init[0][0][0])\n",
        "\n",
        "\n",
        "for c in command:  # 명령어만큼 반복(예제에서는 5회 반복)\n",
        "    if c == 'R':\n",
        "        start = (start[0] , start[1] + 1)\n",
        "        if start[1] > n:\n",
        "            start = (start[0], start[1] - 1)\n",
        "    elif c == 'L':\n",
        "        start = (start[0], start[1] - 1)\n",
        "        if start[1] < n:\n",
        "            start = (start[0], start[1] + 1)\n",
        "    elif c == 'U':\n",
        "        start = (start[0] - 1, start[1])\n",
        "        if start[0] < n:\n",
        "            start= (start[0] + 1, start[1])\n",
        "    elif c == 'D':\n",
        "        start = (start[0] + 1, start[1])\n",
        "        if start[0] > n:\n",
        "            start = (start[0] - 1, start[1])\n",
        "    \n",
        "print(start)"
      ],
      "execution_count": 26,
      "outputs": [
        {
          "output_type": "stream",
          "text": [
            "[[(1, 1), (1, 2), (1, 3), (1, 4), (1, 5)], [(2, 1), (2, 2), (2, 3), (2, 4), (2, 5)], [(3, 1), (3, 2), (3, 3), (3, 4), (3, 5)], [(4, 1), (4, 2), (4, 3), (4, 4), (4, 5)], [(5, 1), (5, 2), (5, 3), (5, 4), (5, 5)]] \n",
            " (1, 1)\n",
            "1\n",
            "(3, 4)\n"
          ],
          "name": "stdout"
        }
      ]
    },
    {
      "cell_type": "markdown",
      "metadata": {
        "id": "j47XpOXeVodC"
      },
      "source": [
        "15분보다는 시간이 오바되었다. 그리고 뭔가 '이렇게까지 구현해야 하나?'라는 생각이 든다...(너무 비효율적인 코드가 아닌가...) -20.12.02.Wed. pm4:00-"
      ]
    },
    {
      "cell_type": "code",
      "metadata": {
        "id": "3pngdmYAZ__4"
      },
      "source": [
        ""
      ],
      "execution_count": null,
      "outputs": []
    }
  ]
}