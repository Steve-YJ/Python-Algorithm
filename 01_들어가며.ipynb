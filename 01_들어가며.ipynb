{
  "nbformat": 4,
  "nbformat_minor": 0,
  "metadata": {
    "colab": {
      "name": "01. 들어가며.ipynb",
      "provenance": [],
      "authorship_tag": "ABX9TyNt2mOkXACDbVrMWg0u78nc",
      "include_colab_link": true
    },
    "kernelspec": {
      "name": "python3",
      "display_name": "Python 3"
    },
    "language_info": {
      "name": "python"
    }
  },
  "cells": [
    {
      "cell_type": "markdown",
      "metadata": {
        "id": "view-in-github",
        "colab_type": "text"
      },
      "source": [
        "<a href=\"https://colab.research.google.com/github/Steve-YJ/Python-Algorithm/blob/main/01_%EB%93%A4%EC%96%B4%EA%B0%80%EB%A9%B0.ipynb\" target=\"_parent\"><img src=\"https://colab.research.google.com/assets/colab-badge.svg\" alt=\"Open In Colab\"/></a>"
      ]
    },
    {
      "cell_type": "markdown",
      "metadata": {
        "id": "v151i2zHCwB0"
      },
      "source": [
        "# 파이썬 알고리즘 인터뷰_박상길저\n",
        "\n",
        "# 01. 들어가며"
      ]
    },
    {
      "cell_type": "markdown",
      "metadata": {
        "id": "Cajov-ENC3ue"
      },
      "source": [
        "## 1.1. 책을 꺼내든 이유\n",
        "* 조금 더 잘 하고 싶다\n",
        "\n",
        "\n",
        " 파이썬을 사용한지 2년가까운 시간이 지난 것 같다. 대학원에 입학하고 머신러닝을 접하면서 사용하게 된 것 같다. 프로그래밍을 처음 배우는 사람에게 적극 추천하는 언어라는 누군가의 말을 따라 파이썬을 배우기 시작했는데... 2년이 지난 지금 되돌아보니 왜 그렇게들 추천하는지 알 것만 같다...(생각을 코드로 옮기기가 너무 편하다)<br>\n",
        "\n",
        " 한편... 2년이라는 시간이 지났지만 파이썬에 대한 숙련도는 '중급' 이하라고 생각한다. 그 이유를 생각해보면... 매일 조금씩 다른 것을 시도하는 것 같지만... 결국 내가 했던 것을 반복하는 일이 더 많기 때문인 것 같다. 모르겠으면 구글링을 통해 답부터 구하고 생각의 힘을 기르는 시간은 그렇게 많지 않았던 것 같다.<br>\n",
        "\n",
        "그래서 이 책을 꺼내들었다. 조금 더 잘하고 싶기 떄문이다. 자료구조, 알고리즘을 다시 공부하고 학습한 내용을 실제 문제에 적용해보면서 문제 해결 능력을 기르고 싶다. 무엇보다도 진짜 코더가 되고 싶다. 내게 주어진 문제를 최적의 방법으로 해결하고 싶다.<br>\n",
        "\n",
        "\n",
        "\n",
        "## 1.2. 목표\n",
        "* 1회독\n",
        "* LeetCode 초급 문제 유형별 풀이\n",
        "* 2회독... 3회독... 난이도 올리기\n",
        "\n",
        "한 번 끝까지 완독하는 것이 첫 번째 목표다. 한 바퀴 돌고 왔을 때, 달라져 있을 내 자신이 궁금하다. 조금은 기대가 되는 부분이다...ㅎ\n",
        "\n",
        "\n"
      ]
    },
    {
      "cell_type": "markdown",
      "metadata": {
        "id": "-Iqe41u8Ef5T"
      },
      "source": [
        "## 1.3. 들어가며...(박상길님의 말씀)\n",
        "\n",
        "*Q. 알고리즘 면접이라는 것은 갓 졸업한 학부생들이나 풀 수 있는 형식적인 면접이 아닌가요?*<br>\n",
        "\n",
        "> 알고리즘을 왜 푸는지 한 번 생각해보자<br>\n",
        "> 왜 그동안 수학 공부를 해왔으며 알고리즘을 공부하는 이유는 과연 무엇일까?<br>\n",
        "우리가 수학과 알고리즘을 공부하는 이유는 바로 튼튼한 기본(수학)을 바탕으로 논리적 사고(수학적 사고)를 거쳐 문제 해결(프로그래밍)을 하기 위해서이다. \n",
        "\n",
        "* 알고리즘 속에 깃든 다양한 사고의 방법\n",
        "* 자료구조\n",
        "* 문제 풀이 역량\n",
        "\n",
        "이러한 역량등은 체계적으로 생각하는 방법을 길러주며 나아가 훌륭한 개발자로서 당연히 갖춰야 할 든든한 지적 기반을 쌓아준다. <br>\n",
        "\n",
        "\n",
        "> 알고리즘을 체계적으로 익혀 실력을 키운다면 좀 더 좋은 개발자가 될 수 있다"
      ]
    },
    {
      "cell_type": "markdown",
      "metadata": {
        "id": "LIE4WgpvEpM_"
      },
      "source": [
        "# 2. 이 책의 특징 \n",
        "\n",
        "1. 이 책은 철저히 실무 중심으로 알고리즘 문제 풀이에 접근했다\n",
        "2. 알고리즘을 좀 더 이해하기 쉽도록 시각적으로 표현한 다양한 일러스트를 제공한다\n",
        "3. 파이썬이라는 도구를 제대로 활용하기 위해 매우 깊숙히 파고든다\n",
        "4. 문제들을 가능한한 우하하게 풀기 위해 최선을 다했다\n",
        "5. 취업, 이직, 채용 가이드에 대한 부분이다\n",
        "\n",
        "\n",
        "<br>\n",
        "단순히 기계적으로 문제를 풀어 문제 풀이 역량만 높이는 것이 아니라 왜 이렇게 풀어야 하고 어떤 장점이 있는지를 찾아내어 <code>'왜?'</code>를 발견해내는 데 집중했다.\n"
      ]
    },
    {
      "cell_type": "markdown",
      "metadata": {
        "id": "GegBg8RMHBJ0"
      },
      "source": [
        "# LEGO~!\n",
        "* 21.07.05.mon. pm11:55"
      ]
    },
    {
      "cell_type": "code",
      "metadata": {
        "id": "yH6hYgXbKy1m"
      },
      "source": [
        ""
      ],
      "execution_count": null,
      "outputs": []
    }
  ]
}