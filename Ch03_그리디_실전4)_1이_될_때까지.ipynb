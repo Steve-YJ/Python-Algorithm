{
  "nbformat": 4,
  "nbformat_minor": 0,
  "metadata": {
    "colab": {
      "name": "Ch03. 그리디 - 실전4) 1이 될 때까지.ipynb",
      "provenance": [],
      "authorship_tag": "ABX9TyPkNCHSDh/d5WtYwL/pCOjN",
      "include_colab_link": true
    },
    "kernelspec": {
      "name": "python3",
      "display_name": "Python 3"
    }
  },
  "cells": [
    {
      "cell_type": "markdown",
      "metadata": {
        "id": "view-in-github",
        "colab_type": "text"
      },
      "source": [
        "<a href=\"https://colab.research.google.com/github/Steve-YJ/Python-Algorithm/blob/main/Ch03_%EA%B7%B8%EB%A6%AC%EB%94%94_%EC%8B%A4%EC%A0%844)_1%EC%9D%B4_%EB%90%A0_%EB%95%8C%EA%B9%8C%EC%A7%80.ipynb\" target=\"_parent\"><img src=\"https://colab.research.google.com/assets/colab-badge.svg\" alt=\"Open In Colab\"/></a>"
      ]
    },
    {
      "cell_type": "markdown",
      "metadata": {
        "id": "y_tUwRcqkekH"
      },
      "source": [
        "# Ch03. 그리디 - 실전4) 1이 될 때까"
      ]
    },
    {
      "cell_type": "markdown",
      "metadata": {
        "id": "_jaPzYfHm-UC"
      },
      "source": [
        "## 1. 스스로 풀어보기"
      ]
    },
    {
      "cell_type": "markdown",
      "metadata": {
        "id": "IHKMfLTknCNQ"
      },
      "source": [
        "💡 아이디어\n",
        "* 가능하면 수로 먼저 나눠주자!"
      ]
    },
    {
      "cell_type": "code",
      "metadata": {
        "colab": {
          "base_uri": "https://localhost:8080/"
        },
        "id": "jmqEZS5vjhvh",
        "outputId": "726d03e2-251b-49bf-e732-cb5b6f64c496"
      },
      "source": [
        "n, k = map(int, input().split())\n",
        "print(n, k)"
      ],
      "execution_count": 1,
      "outputs": [
        {
          "output_type": "stream",
          "text": [
            "25 5\n",
            "25 5\n"
          ],
          "name": "stdout"
        }
      ]
    },
    {
      "cell_type": "code",
      "metadata": {
        "colab": {
          "base_uri": "https://localhost:8080/"
        },
        "id": "1eqxh0UzkcwD",
        "outputId": "616e7856-778c-4ef3-8d80-5ba003210814"
      },
      "source": [
        "count = 0  # 최소 횟수 저장\n",
        "\n",
        "while True:\n",
        "    if n == 1:\n",
        "        print(count)\n",
        "        break \n",
        "\n",
        "    if n % k == 0:\n",
        "        n /= k\n",
        "        count += 1\n",
        "    else:\n",
        "        n -= 1\n",
        "        count += 1"
      ],
      "execution_count": 5,
      "outputs": [
        {
          "output_type": "stream",
          "text": [
            "2\n"
          ],
          "name": "stdout"
        }
      ]
    },
    {
      "cell_type": "markdown",
      "metadata": {
        "id": "6S8jciscla5W"
      },
      "source": [
        "함수로 만들"
      ]
    },
    {
      "cell_type": "code",
      "metadata": {
        "id": "oB5AjGgNlcCr"
      },
      "source": [
        "def answer():\n",
        "    # n, k  초기화\n",
        "    n, k = map(int, input().split())\n",
        "    count = 0  # 최소 횟수 저장\n",
        "\n",
        "    while True:\n",
        "        if n == 1:\n",
        "            return count\n",
        "\n",
        "        if n % k == 0:\n",
        "            n //= k\n",
        "            count += 1\n",
        "        else:\n",
        "            n -= 1\n",
        "            count += 1"
      ],
      "execution_count": 11,
      "outputs": []
    },
    {
      "cell_type": "code",
      "metadata": {
        "colab": {
          "base_uri": "https://localhost:8080/"
        },
        "id": "APz7vzlklNFH",
        "outputId": "390cbacf-9d91-48bb-fe77-8f75448d2992"
      },
      "source": [
        "answer()"
      ],
      "execution_count": 12,
      "outputs": [
        {
          "output_type": "stream",
          "text": [
            "25 3\n"
          ],
          "name": "stdout"
        },
        {
          "output_type": "execute_result",
          "data": {
            "text/plain": [
              "6"
            ]
          },
          "metadata": {
            "tags": []
          },
          "execution_count": 12
        }
      ]
    },
    {
      "cell_type": "markdown",
      "metadata": {
        "id": "R4LKdo63nMUa"
      },
      "source": [
        "## 2. 책 풀이 복기"
      ]
    },
    {
      "cell_type": "markdown",
      "metadata": {
        "id": "a6WlrVleppcC"
      },
      "source": [
        "단순하게 푸는 답안 예시 "
      ]
    },
    {
      "cell_type": "code",
      "metadata": {
        "colab": {
          "base_uri": "https://localhost:8080/"
        },
        "id": "9Nzs8L8RprOe",
        "outputId": "6132abc5-294e-4112-f856-83fde51d1e83"
      },
      "source": [
        "n, k = map(int, input().split())\n",
        "result = 0\n",
        "\n",
        "# N이 K 이상이라면 K로 계속 나누기\n",
        "while n >= k:\n",
        "    # N이 K로 나누어 떨어지지 않는다면 N에서 1 빼기\n",
        "    while n % k != 0:\n",
        "        n -= 1\n",
        "        result +=1\n",
        "    # N이 K로 나누어진다면 K로 나누기\n",
        "    n //= k\n",
        "    result += 1\n",
        "\n",
        "# 마지막으로 남은 수에 대하여 1씩 빼기\n",
        "while n > 1:\n",
        "    n -= 1\n",
        "    result += 1\n",
        "print(result)"
      ],
      "execution_count": 15,
      "outputs": [
        {
          "output_type": "stream",
          "text": [
            "25 3\n",
            "6\n"
          ],
          "name": "stdout"
        }
      ]
    },
    {
      "cell_type": "code",
      "metadata": {
        "colab": {
          "base_uri": "https://localhost:8080/"
        },
        "id": "1JAneSbMnNqf",
        "outputId": "6781b3f8-5672-431e-85b2-eb7b91433e1d"
      },
      "source": [
        "# N, K를 공백으로 구분하여 입력 받기\n",
        "n, k = map(int, input().split())\n",
        "result = 0\n",
        "\n",
        "while True:\n",
        "    # (N == K로 나누어 떨어지는 수)가 1이 될 때까지 1씩 빼기\n",
        "    target = (n // k) * k  # n을 k로 나누었을 때 몫에 k를 곱해준다\n",
        "    result += (n - target)\n",
        "    n = target\n",
        "    # N이 K보다 작을 떄(더 이상 나눌 수 없을 떄) 반복문 탈출\n",
        "    if n < k:\n",
        "        break\n",
        "    # K로 나누기\n",
        "    result += 1\n",
        "    n //= k\n",
        "\n",
        "\n",
        "# 마지막으로 남은 수에 대하여 1씩 빼기\n",
        "result += (n - 1)\n",
        "print(result)"
      ],
      "execution_count": 19,
      "outputs": [
        {
          "output_type": "stream",
          "text": [
            "25 3\n",
            "6\n"
          ],
          "name": "stdout"
        }
      ]
    },
    {
      "cell_type": "markdown",
      "metadata": {
        "id": "iz7uuao4lsl2"
      },
      "source": [
        "직관적이지 않다..."
      ]
    },
    {
      "cell_type": "code",
      "metadata": {
        "id": "56tU8mp0oLsF"
      },
      "source": [
        ""
      ],
      "execution_count": null,
      "outputs": []
    }
  ]
}