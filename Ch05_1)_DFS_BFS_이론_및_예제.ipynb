{
  "nbformat": 4,
  "nbformat_minor": 0,
  "metadata": {
    "colab": {
      "name": "Ch05. 1) DFS/BFS 이론 및 예제.ipynb",
      "provenance": [],
      "collapsed_sections": [],
      "authorship_tag": "ABX9TyPNTd8R2t4/wO8T4GnfCqxB",
      "include_colab_link": true
    },
    "kernelspec": {
      "name": "python3",
      "display_name": "Python 3"
    }
  },
  "cells": [
    {
      "cell_type": "markdown",
      "metadata": {
        "id": "view-in-github",
        "colab_type": "text"
      },
      "source": [
        "<a href=\"https://colab.research.google.com/github/Steve-YJ/Python-Algorithm/blob/main/Ch05_1)_DFS_BFS_%EC%9D%B4%EB%A1%A0_%EB%B0%8F_%EC%98%88%EC%A0%9C.ipynb\" target=\"_parent\"><img src=\"https://colab.research.google.com/assets/colab-badge.svg\" alt=\"Open In Colab\"/></a>"
      ]
    },
    {
      "cell_type": "markdown",
      "metadata": {
        "id": "2KF8nWTQok4t"
      },
      "source": [
        "## 탐색 알고리즘 DFS/BFS\n",
        "* <code>스택과 큐</code>, <code>재귀 함수</code>는 DFS와 BFS에서 가장 중요한 개념이라 앞서 간단하게 다뤄보았다\n",
        "* 지금부터는 탐색 알고리즘 DFS와 BFS에 대해 살펴보도록 한다"
      ]
    },
    {
      "cell_type": "markdown",
      "metadata": {
        "id": "5xlObVsZo9_D"
      },
      "source": [
        "## 1. DFS\n",
        "\n",
        "*  DFS는 Depth=First Search, 깊이 우선탐색이라고 부르며, 그래프에서 깊은 부분을 우선적으로 탐색하는 알고리즘이다\n",
        "* DFS를 설명하기 전에 먼저 `그래프(Graph)의 기본 구조`를 알아야한다\n",
        "    * ✅ 그래프의 기본 구조\n",
        "        * 그래프는 노드(Node)와 간선(Edge)로 표현되며 이 때 노드를 정점(Vertax)라고도 말한다. (Node == Vertax)\n",
        "    * 그래프 탐색이란 하나의 노드를 시작으로 다수의 노드를 방문하는 것을 말한다\n",
        "    * 또한 두 도느가 간선(Edge)으로 연결되어 있다면 '두 노드는 인접하다(Adjacent)'라고 표현한다\n",
        "\n"
      ]
    },
    {
      "cell_type": "markdown",
      "metadata": {
        "id": "_92Lm7mYqN53"
      },
      "source": [
        "![graph_node_edge.png](data:image/png;base64,iVBORw0KGgoAAAANSUhEUgAAAQoAAAC9CAMAAAB8rcOCAAAAh1BMVEX///8AAACamprp6en8/Pzg4OC6urrCwsJoaGihoaE5OTlYWFjX19f39/fl5eWlpaV7e3vOzs5ubm7y8vILCwuwsLCRkZFLS0sxMTFGRkbt7e0sLCyCgoKNjY1sbGyVlZW0tLQhISFaWloaGhrIyMh+fn41NTVAQEB1dXUcHBwlJSVISEhRUVE/hk3eAAAMaklEQVR4nO1d2YKqMAwl7CCLgLggKuM+c/3/77tNQQUFBAFB9DyMTBEphzZN0iZlmC+++OKLL774ohPQNYd+ehpPPwQCJzrHCUJb1WoDWwjo5wo48pcbAIEccWEDtFWtNmCBSD9ZpMJYw9g0fVh6WKSpbHTyM5CgQoIV6Sb6DiwsWgEPp1Yr91rcUEE50AUdPxRwYN1i1V6NGyrgKihF2DI6+G1V7PVIUMGIM4AfL5SaImki/OdSQT6PS1giF/piZjDMeu21WLnX4pYKhuHZtU240GAXuK4CZnt1ezHiVHi7LT0OQGP0JYQ4fYyatQWJfiqECiFqAiKhwoGhoGmaYEbnPwEmHTRCRkTYcNg1CBU8LOjpaHz9CIhT2g/mGjm25iN6TPoJyNF5Fz6mhxAxIdtyEB275Jj2kvUqKpHWXOpVX3xBoKxWY63tSnQBgY1S5J+st12R1iFFWgb8tF2TtnFhAj7Lm3MPL8YETNquTasw41QcPkjPuAckMGy7Om0iScWi7eq0iSQVm4OKmG9fdfvD6XToitskSYXP8AhmDKM4ICy+oK6bTzo1cjlxJgZZ3/pR45iyhpDAU3fmd9cbr7ug3jmDGBVKwYu2sh2HLCVQUIUX4y9h9fj7zcORL/V52sG3SoBVEmCd1Gu8Y5wK2Xj6AeqDochPMWEfs3xgTiAmsBgmEDUAISmlOjBX59iOZ6BXZ1yuxw8ETSk4zqD3MIbtYYI4dI6KPf7RCcpdNiEjoOk+d0sHoVsdo0Kfn4/coiLzCrNS9bVuUWEsL4eWUrJdbFfjaveexZlQW/Y4C4uYcF+UnAnwF2w1qZ8YTNlKP1UZwjiu8o5LK9vCqpKXmLuO4jBr1yT2dgnlvzwVjF+tVXPaX8SE0LJW8S9pSpR7Lro4Y1e1gzscEmGl62AvA3/nyVyXeTUy8LrSttSvB9y95VVS9z38C2qqS7sQ/PuhsxNmwMuRHDsifOSsoeGnOY6ED3Rs6hmOkr8X16MDyJoFm2eUV8XFA5jhCqzPQVgS3iHrTFNUrGFENQctw012aMm3KQwz38FvQ7ckCjbVyLK8Q2w7QkpLGzsiuA2t2CNUUAu4isuwfgiLvEmHhhqqDNKGmL3sKKBUDH1/SGph2OgOdmyJUXbkQPL90NPn+/7uBcaZY+eq+6Nm7ioDg9Nuhx8PqaD2qKoz/BhXgs3XDnMir0DaRG5vOiMwbV7F2eefbqxVMDAm5t+GUjGaMcwC8JWMQR/h3P0AcIWcxVAuZoCrK5tuFs4DJphJMyYioWKz43X1xBEq/gHvebqMrLsg0PlqQgVdUMn/KQw9QahqdopIsB9+ZdrIjcnjCRAcga6jXUcuCjwxBDpoESrOC4+ZIz3hQ6OqhrZ4+M71WSN3JlRoIO7OVCgsAfWLtkRFqgV2gyapkPyQislVIG3nLuD8AaUCPau+xCwjKhrsIN6wwNS9/kiYPAdCBb86/EiUCm6EazhYVHlZ0OmENaFCX+w5MpL4DDcl3Xg7atIpNCvU4qxGomVQFIoAXrjmHmA/3eMQsSWdgsNBIxxB/lQazbaH/X7T4AiiF1yHKBybuPsQ9Ya/Xww/wP6wmU43Blok2CdwfF2iSaz8zcO4vul0+lPDpEg4nW9ZVrI3GEUj5rRjeD3VcHTyO23ZjJUhUZlDVNhTYoZFS/HepYNSEex8NiCjjeIv4F0dW66JLU0kNHhsrLPlWWA3cBSLGmXG1GLGpP1a1eYCW4PpUiOCuijZqwhO995lQGIZFTuF4IRa+Js6tjyeUkEd11cqsrx36SBNasaMftGApLZZU96c5pFCRbn3SqigQ5vbPyq4kvqjha2CoVOAPaNC2JUdDVlpgh3K7wUVMbGpjUtb3eyWeoEJFVRsNuXubB5IBeoG2gpHjXzvXTpYCa+3FIcOymZQdw1fBvomOVWlOtUD7106VsRomqpjvF7c74Naa/dShJJB1+nnc2bmUThfz5RdtddVOOpz1x17F1lYwHuXjt5RUcB7lwG7ZzFTRbx3GdAWb2uYp8EbVvDiH3oiLCn4St7aWY+o0Ktpyz2iorD3LgNqb2SFtqj4Vt9Y2U4itD4qoSPxfVVRynuXgYaWFrwGrHpQqUNWH9Qg8964VZzjKtzstXel0Mx0+itwjTAJavrFd+0h8VibJ8PabvGuXrxELFo9P/mmVLAJKuqZzNrU8isvRzJwtZ73aXUui0WUMZaj0XbnRaC3CyD+JaioZ6mIIT/+zmsRpVCIqCDV0//uE6fW3yo8g/6U1qVJ9FsquElKCtnaZYUxPf9Yh9xZt1SwqZloah5BtGuPm3bHy5mkwub+QZp9UbNeEc8N1Z3FFUkq5rOMCPZatU1tGqPirzNJWpNUINKtTrE+JhJZ5GrTXqvjhgrXhKzOi5bpSqqj4m9Bhc2Iv5lcUAxrWOLXVSpCFcujYRKoV0gjyAuhl8zqXsmOUuFu6IMP/+EAT1MLb/N3bzhUj2Hw7BgTHQpHhg0mnQI6+xlmWYZN3ouqQ2FWYlR0yBRxXKyQTt912Fu4/EC0Ooz0a7M4vfUsQB3rheQ5JWL+5jup6JnhtIUhC8xAluXUbHqaphUWR1rLJoy+qGo35MzBWzi8DMWC3ab15LZaxUBeYZxpm1tzCNxgXXSDlewsjS+CblZKGsotsr0UY2oDeaeCXLRORcVgaiF7OJY2NDYU/UfkLzubzGiw8HSsHSbhsq/dbHII8MBQSQml4lLUChYVmoWT07/dmNZPhAamZo3MRHK0oQoJOcCW44RH61hRO6gwEe7lSbo4FZZKjvWQihFR+iYjYh+rHgZBibhZjYtBUutYUUt4notcDc29sQW3wdX9PIvm0yQFnzvySA9iRW3hWZ1Tys1jl9hWRTNRET67n0MqLBM9YOLFRhjEitrCkxGSkpKrMbgQ7RTB+owwA5CCJBXWFMBiE1Rci1rDU83iAROMPgyDo4ksJGLTFc6y4kyFApIQCobIfhzEilqD84z58HAUXlCHOmGCJ1TgjkRJKkwwcCsFkQnDaE9EbF6LWgP/RFZs8XH2aB9zhW725LctzOU7mft8RAXm7QnQhptsSNvSf8jRAU6xopeCj8t3zy87tSUVcvTLRzt0Gm7t45Ex1uQfGZvGAtV91z6OGWtNhCu3PC4ZexUveiUWCT2xwDtO4o0XHd1ioSzj/3JsOQu1bDLaDmNoeUnrYVXq2XrEBOPc+TWHJTroE6lou4xbKsqkl/W7M09cB+683YUniPRVzzZtvHf8FxwUdKVHgoLinoqgmBMnJUnvmyNlOqhYs5A7tLimHhj3L7eQhdpQgrSOgSsyb/gh+xI+jpLxKkYUvQ8e7WViPBG//6bQ2PxHXfUjU30hDHP1yERwlbY8NpIfrCtwjjkDBHeMiRLBF4weWeopOGX3kEQaRY+Oxf0eTrLfdEoug343i0wL1bpnouo0fNeR4ZbZpiy06nejIJIzPVZ/cO8IdjuzNrEpiGkWquveeeT7zwRj7e7LxPttCFKK+ofg7iGte/ko2rrn9V4N37K3Vllw1xeck7xerzsXM1Y7tjfbDyod2o/h1UgOF2zQUjW6ACNhaPVdfchH/OmX/Zr1KA2gG9nSTJofzgQz2tI17IbXm0w2z+Kyz/DJ/PRGcQ3X/gSdMg/u5kLF4cNbRXyf+r7NkJZDMoT/o5vFl4oLvlRcsPpScYYxiDHhf8TUeSaWMSo+aG4wFbMLE2XXtvYO12bxwV6bCDbdLxKOKUw4lkWdXIaVsxrD6tEyJWe8Ikg7Y0WDyipvDyXov9uTcCTbso3tgc2jwu3Z2s5UcGCyNII0l4qPgAPsgoZChVSIc1VlNihSflX1j/QcYyOxU3VPV/ttwqK+AjdXpdtFUiok2MznNBTqB+bzEeBmejAiRUfcSnA+n2963HYw6E0+U8Er+NYnhArv18fkOrjb5J4UIRVjDEkz+0uFhA4MEcPiWDjvp0j6DLMGSxS3a4iKIJw+0MVjf6mAucmy5u/fmQqUEph+So5UsqiIUmEquF11X6k42+8j844KzSLYxqgwAVRt2FsqTuBwBA5N3JjsINE3rlTI4Hg9lhWD6IkjKkLRQUeQ+ZThGRsSVNBo0p6uPDie3z0PCwWpsDBc9oRU0KRQf/qZCpuGH8NonZuw7Y0R2NE6JN2WtnSbMmvo+zwNsT76/tDA/Gn47DZ2nPFuKDHuJ1gjBA7dEnb89WqgjJwtfB8m3Ume1xp0wUcJ8dnuzwv087Z8X3zxxRdffPHG+A+I85gFVfYdYAAAAABJRU5ErkJggg==)"
      ]
    },
    {
      "cell_type": "markdown",
      "metadata": {
        "id": "mi0cWsfmrAae"
      },
      "source": [
        "위의 그림을 통해 노드와 엣지를 직관적으로 이해해보자<br>\n",
        "Node는 각 도시를 Edge는 각 도시를 연결하는 다리라고 할 수 있"
      ]
    },
    {
      "cell_type": "markdown",
      "metadata": {
        "id": "JYGVi5wHrJTa"
      },
      "source": [
        "* 프로그래밍에서 그래프(Graph)는 크게 2가지 방식으로 표현할 수 있는데 코딩 테스트에서는 이 두 방식 모두 필요하니 두 개념에 대해 바르게 알고 있도록 하자\n",
        "    * 인접 행렬(Adjacency Matrix): 2차원 배열로 그래프의 연결 관계를 표현하는 방식\n",
        "    * 인접 리스트(Adjacency List): 리스트로 그래프의 연결 관계를 표현하는 방식 "
      ]
    },
    {
      "cell_type": "markdown",
      "metadata": {
        "id": "54qhMMHrsHsu"
      },
      "source": [
        "![Untitled (37).png](data:image/png;base64,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)"
      ]
    },
    {
      "cell_type": "markdown",
      "metadata": {
        "id": "S_o3XQqarkDW"
      },
      "source": [
        "### 인접 행렬(Adjacency Matrix) 방식\n",
        "* 인접 행렬 방식은 2차원 배열에 각 노드가 연결된 형태를 기록하는 방식이다\n",
        "* 위와 같이 연결된 그래프를 인접 행렬로 표현할 때 파이썬에서는 2차원 리스트로 구현할 수 있다\n",
        "* 연결이 되어 있지 않은 노드끼리는 무한(infinity)의 비용이라고 작성한다.(실제 코드에서는 논리적으로 정답이 될 수 없는 큰 값 중에서 999999999, 987654321 등의 값으로 초기화하는 경우가 많다)\n",
        "* 다음의 예제를 통해 초기화를 해보"
      ]
    },
    {
      "cell_type": "code",
      "metadata": {
        "colab": {
          "base_uri": "https://localhost:8080/"
        },
        "id": "icbIEiSCtnRD",
        "outputId": "bc83148c-642f-48a2-cf29-6713c5fa6337"
      },
      "source": [
        "# 5-6.py 인접 행렬 방식 예제\n",
        "\n",
        "INF = 999999999  # 무한의 비용 선언\n",
        "\n",
        "# 2차원 리스트를 이용해 인접 행렬 표현\n",
        "graph = [\n",
        "         [0, 7, 5],\n",
        "         [7, 0, INF],\n",
        "         [5, INF, 0]\n",
        "]\n",
        "\n",
        "print(graph)"
      ],
      "execution_count": 1,
      "outputs": [
        {
          "output_type": "stream",
          "text": [
            "[[0, 7, 5], [7, 0, 999999999], [5, 999999999, 0]]\n"
          ],
          "name": "stdout"
        }
      ]
    },
    {
      "cell_type": "markdown",
      "metadata": {
        "id": "durPyMiSuAin"
      },
      "source": [
        "*그렇다면 인접 리스트(Adjacency List) 방식에서는 데이터를 어떤 방식으로 저장할까?*<br>\n",
        "\n",
        "인접 리스트 방식에서는 모든 노드에 연결된 노드에 대한 정보를 차례대로 연결하여 저장한다."
      ]
    },
    {
      "cell_type": "markdown",
      "metadata": {
        "id": "txAXbOHRuNmf"
      },
      "source": [
        "### 인접 리스트(Adjacency List) 방식\n",
        "* 인접 리스트 방식에서는 모든 노드에 연결된 노드에 대한 정보를 차례대로 연결하여 저장한다\n",
        "* 인접 리스트는 '연결 리스트'라는 자료구조를 이용해 구현한다\n",
        "* 파이썬에서는 기본 리스트 자료형을 통해 연결리스트를 구현할 수 있다\n",
        "* ✅ 파이썬으로 인접 리스트를 이용해 그래프를 표현하고자 할 때는 단순히 2차원 리스트를 이용하면 된다는 점만 기억하"
      ]
    },
    {
      "cell_type": "code",
      "metadata": {
        "colab": {
          "base_uri": "https://localhost:8080/"
        },
        "id": "RnG6mb46upv3",
        "outputId": "0c3b293e-1f28-4324-c898-a4025039c33a"
      },
      "source": [
        "# 5-7. 인접 리스트 방식 예제\n",
        "\n",
        "# 행(Row)이 3개인 2차원 리스트로 인접 리스트 표현\n",
        "graph = [[] for _ in range(3)]\n",
        "\n",
        "# 노드 0에 연결된 노드 정보 저장(노드, 거리)\n",
        "graph[0].append((1, 7))  # 1번 노드와 7의 거리로 저장되어있다\n",
        "graph[0].append((2, 5))\n",
        "\n",
        "# 노드 1에 연결된 노드 정보 저장(마찬가지 노드, 거리)\n",
        "graph[1].append((0, 7))\n",
        "\n",
        "# 노드 2에 연결된 노드 정보 저장(역시 마찬가지로 노드, 거리)\n",
        "graph[2].append((0, 5))\n",
        "\n",
        "print(graph)"
      ],
      "execution_count": 2,
      "outputs": [
        {
          "output_type": "stream",
          "text": [
            "[[(1, 7), (2, 5)], [(0, 7)], [(0, 5)]]\n"
          ],
          "name": "stdout"
        }
      ]
    },
    {
      "cell_type": "markdown",
      "metadata": {
        "id": "nXQg3t74vRcK"
      },
      "source": [
        "*이 두방식은 어떤 차이가 있는걸까?*"
      ]
    },
    {
      "cell_type": "markdown",
      "metadata": {
        "id": "q6MgVHa_vVaq"
      },
      "source": [
        "✅ 코딩 테스트를 위해 '메모리'와 '속도' 측면에서 살펴보도록 하자!"
      ]
    },
    {
      "cell_type": "markdown",
      "metadata": {
        "id": "6RtbKdaLvdmN"
      },
      "source": [
        "* 메모리 측면\n",
        "    * 메모리 측면에서 보면 인접 행렬 방식은 모든 관계를 저장하므로 노드의 개수가 많을수록 메모리가 불필요하게 낭비된다\n",
        "    * 반면 인접 리스트 방식은 연결된 정보만 저장하기 떄문에 메모리를 효율적으로 사용한다\n",
        "* 속도 측면\n",
        "    * 하지만 이와 같은 속성 때문에 인접 리스트 방식은 인접 행렬 방식에 비해 특정한 두 노드가 연결되어 있는지에 대한 정보를 얻는 속도가 느리다\n",
        "    * 인접 리스트 방식에서는 연결된 데이터를 하나씩 확인해야 하기 때문이다"
      ]
    },
    {
      "cell_type": "markdown",
      "metadata": {
        "id": "r7xJMLd8wGKX"
      },
      "source": [
        "예를 들어 노드 1과 노드 7이 연결되어 있는지 확인해보자.\n",
        "* 인접 행렬 방식에서는 graph[1][7]만 확인하면 된다\n",
        "* 반면 인접 리스트 방식에서는 노드 1에 대한 인접 리스트를 앞에서부터 차례대로 확인해야 한다\n",
        "* 그러므로 특정한 노드와 연결된 모든 인접 노드를 순회해야 하는 경우, 인접 리스트 방식이 인접 행렬 방식에 비해 메모리 공간의 낭비가 적다!"
      ]
    },
    {
      "cell_type": "markdown",
      "metadata": {
        "id": "RJIUkvwXz5PI"
      },
      "source": [
        "* ✅ 정리\n",
        "    * 메모리 측면에서는 모든 관계를 저장하는 인접 행렬(Adjacency Matrix) 방식보다 인접 리스트(Adjacency List) 방식이 더 효율적이다\n",
        "    * 특정한 노드와 연결된 모든 인접 노드를 순회해야 하는 경우 인접 리스트 방식이 메모리 공간의 낭비가 적다(완벽하게 이해가지는 않는다 -. 찾아보자) -> 인접 행렬방식이 모든 관계를 저장하는 것에 비해 인접 리스트 방식은 연결된 정보만 저장하기 때문에 메모리 효율적이라고 하지 않았던가!(수긍)"
      ]
    },
    {
      "cell_type": "markdown",
      "metadata": {
        "id": "Jm9nS0R63Ra1"
      },
      "source": [
        "*graph에 대한 이해를 마쳤으니, DFS로 돌아오자!*"
      ]
    },
    {
      "cell_type": "markdown",
      "metadata": {
        "id": "xOBshhmv3YRG"
      },
      "source": [
        "*DFS는 탐색을 위해서 사용되는 탐색 알고리즘이라고 했는데 구체적으로 어떻게 동작할까?*<br>\n",
        "\n",
        "* DFS는 깊이 우선 탐색 알고리즘이라고 했다\n",
        "* 이 알고리즘은 특정한 경로로 탐색하다가 특정한 상황에서 최대한 깊숙이 들어가서 노드를 방문한 후, 다시 돌아가 다른 경로로 탐색하는 알고리즘이다\n",
        "* DFS는 스택 자료구조를 이용하며 구체적인 동작 과정은 다음과 같다\n",
        "    * 1. 탐색 시작 노드를 스택에 삽입하고 방문 처리를 한다\n",
        "    * 2. 스택의 최상단 노드에 방문하지 않은 인접 노드가 있으면 그 인접 노드를 스택에 넣고 방문 처리 한다. 방문하지 않은 인접 노드가 없으면 스택에서 최상단 노드를 꺼낸다\n",
        "    * 3. 2번의 과정을 더 이상 수행할 수 없을 때까지 반복한다\n",
        "    * 여기서 방문 처리란, 스택에 한 번 삽입되어 처리된 노드가 다시 삽입되지 않게 체크하는 것을 의미한다. 방문 처리를 함으로써 각 노드를 한 번씩만 처리할 수 있다."
      ]
    },
    {
      "cell_type": "markdown",
      "metadata": {
        "id": "23gZOZl6v2YK"
      },
      "source": [
        "* 깊이 우선 탐색 알고리즘인 DFS는 스택 자료구조에 기초한다는 점에서 구현이 간단하다\n",
        "* 실제로는 스택을 쓰지 않아도 되며 탐색을 수행함에 있어서 데이터의 개수가 N개인 경우 *O*(*N*)의 시간이 소요된다는 특징이 있다\n",
        "* 또한 DFS는 스택을 이용하는 알고리즘이기 때문에 실제 구현은 재귀 함수를 이용했을 때 매우 간결하게 구현할 수 있다\n",
        "\n",
        "예제를 통해 구현해보도록 하자!"
      ]
    },
    {
      "cell_type": "code",
      "metadata": {
        "colab": {
          "base_uri": "https://localhost:8080/"
        },
        "id": "-D0s50c86-tf",
        "outputId": "8cbb4c04-90ea-4519-cd5e-26d7a7b95bdd"
      },
      "source": [
        "# 각 노드가 연결된 정보를 리스트 자료형으로 표현(2차원 리스트)\n",
        "graph = [\n",
        "         [],\n",
        "         [2, 3, 8],\n",
        "         [1, 7],\n",
        "         [1, 4, 5],\n",
        "         [3, 5],\n",
        "         [3, 4],\n",
        "         [7],\n",
        "         [2, 6, 8],\n",
        "         [1, 7]\n",
        "]\n",
        "\n",
        "# 각 노드가 방문된 정보를 리스트 자료형으로 표현(1차원 리스트)\n",
        "visited = [False] * 9\n",
        "\n",
        "# DFS 메서드 정의\n",
        "def dfs(graph, v, visited): # v는 뭘까?\n",
        "    # 현재 노드를 방문 처리\n",
        "    visited[v] = True       # v는 탐색의 시작노드!\n",
        "    print(v, end=' ')  # 방문한 노드를 출력한다\n",
        "    # 현재 노드와 연결된 다른 노드를 재귀적으로 방문\n",
        "    for i in graph[v]:\n",
        "        if not visited[i]:\n",
        "            dfs(graph, i, visited)\n",
        "\n",
        "# 정의된 DFS 함수 호출\n",
        "dfs(graph, 1, visited)"
      ],
      "execution_count": 4,
      "outputs": [
        {
          "output_type": "stream",
          "text": [
            "1 2 7 6 8 3 4 5 "
          ],
          "name": "stdout"
        }
      ]
    },
    {
      "cell_type": "markdown",
      "metadata": {
        "id": "97uw0g60rji7"
      },
      "source": [
        "여기까지가 DFS였다! Appendix부터 차례대로 공부하니깐 더 할만하다!"
      ]
    },
    {
      "cell_type": "code",
      "metadata": {
        "id": "sQSp6T6i8pdw"
      },
      "source": [
        ""
      ],
      "execution_count": null,
      "outputs": []
    },
    {
      "cell_type": "code",
      "metadata": {
        "id": "BKN11bcbriv-"
      },
      "source": [
        ""
      ],
      "execution_count": null,
      "outputs": []
    },
    {
      "cell_type": "code",
      "metadata": {
        "id": "8kfPEse2qgTZ"
      },
      "source": [
        ""
      ],
      "execution_count": null,
      "outputs": []
    },
    {
      "cell_type": "code",
      "metadata": {
        "id": "WxD5_Jo8qgRW"
      },
      "source": [
        ""
      ],
      "execution_count": null,
      "outputs": []
    },
    {
      "cell_type": "code",
      "metadata": {
        "id": "mIp0tg8rpAGz"
      },
      "source": [
        ""
      ],
      "execution_count": null,
      "outputs": []
    },
    {
      "cell_type": "code",
      "metadata": {
        "id": "4o2MjBQ2pAJi"
      },
      "source": [
        ""
      ],
      "execution_count": null,
      "outputs": []
    },
    {
      "cell_type": "code",
      "metadata": {
        "id": "VI9QJomipAi7"
      },
      "source": [
        ""
      ],
      "execution_count": null,
      "outputs": []
    },
    {
      "cell_type": "code",
      "metadata": {
        "id": "Cum4PgR_pAlE"
      },
      "source": [
        ""
      ],
      "execution_count": null,
      "outputs": []
    },
    {
      "cell_type": "markdown",
      "metadata": {
        "id": "XGf9PHOapAnO"
      },
      "source": [
        "## 2. BFS"
      ]
    },
    {
      "cell_type": "code",
      "metadata": {
        "id": "Hox0FBThpB3S"
      },
      "source": [
        ""
      ],
      "execution_count": null,
      "outputs": []
    },
    {
      "cell_type": "code",
      "metadata": {
        "id": "kdkWKySeo9Uq"
      },
      "source": [
        ""
      ],
      "execution_count": null,
      "outputs": []
    },
    {
      "cell_type": "code",
      "metadata": {
        "id": "7QBShGG0o8ul"
      },
      "source": [
        ""
      ],
      "execution_count": null,
      "outputs": []
    },
    {
      "cell_type": "code",
      "metadata": {
        "id": "-XKPxOMKo7A6"
      },
      "source": [
        ""
      ],
      "execution_count": null,
      "outputs": []
    },
    {
      "cell_type": "code",
      "metadata": {
        "id": "FgnUWBcQoeD3"
      },
      "source": [
        ""
      ],
      "execution_count": null,
      "outputs": []
    }
  ]
}