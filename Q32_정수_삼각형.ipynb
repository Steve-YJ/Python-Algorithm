{
  "nbformat": 4,
  "nbformat_minor": 0,
  "metadata": {
    "colab": {
      "name": "Q32. 정수 삼각형.ipynb",
      "provenance": [],
      "authorship_tag": "ABX9TyMCPO6WPnxjBXWwR3axJVcr",
      "include_colab_link": true
    },
    "kernelspec": {
      "name": "python3",
      "display_name": "Python 3"
    },
    "language_info": {
      "name": "python"
    }
  },
  "cells": [
    {
      "cell_type": "markdown",
      "metadata": {
        "id": "view-in-github",
        "colab_type": "text"
      },
      "source": [
        "<a href=\"https://colab.research.google.com/github/Steve-YJ/Python-Algorithm/blob/main/Q32_%EC%A0%95%EC%88%98_%EC%82%BC%EA%B0%81%ED%98%95.ipynb\" target=\"_parent\"><img src=\"https://colab.research.google.com/assets/colab-badge.svg\" alt=\"Open In Colab\"/></a>"
      ]
    },
    {
      "cell_type": "markdown",
      "metadata": {
        "id": "bvh8COTirdMN"
      },
      "source": [
        "## 정수 삼각형"
      ]
    },
    {
      "cell_type": "markdown",
      "metadata": {
        "id": "dqadA3wQrl-p"
      },
      "source": [
        "문제\n",
        "         7\n",
        "      3   8\n",
        "    8   1   0\n",
        "  2   7   4   4\n",
        "4   5   2   6   5\n",
        "\n",
        "위 그림은 크기가 5인 정수 삼각형의 한 모습이다.<br>\n",
        "\n",
        "\n",
        "맨 위층 7부터 시작해서 아래에 있는 수 중 하나를 선택하여 아래층으로 내려올 때, 이제까지 선택된 수의 합이 최대가 되는 경로를 구하는 프로그램을 작성하라. 아래층에 있는 수는 현재 층에서 선택된 수의 대각선 왼쪽 또는 대각선 오른쪽에 있는 것 중에서만 선택할 수 있다.\n",
        "\n",
        "삼각형의 크기는 1 이상 500 이하이다. 삼각형을 이루고 있는 각 수는 모두 정수이며, 범위는 0 이상 9999 이하이다.\n",
        "<br>\n",
        "\n",
        "\n",
        "\n",
        "입력<br>\n",
        "첫째 줄에 삼각형의 크기 n(1 ≤ n ≤ 500)이 주어지고, 둘째 줄부터 n+1번째 줄까지 정수 삼각형이 주어진다.\n",
        "\n",
        "\n",
        "출력<br>\n",
        "첫째 줄에 합이 최대가 되는 경로에 있는 수의 합을 출력한다.\n",
        "\n",
        "예제 입력1\n",
        "\n",
        "\n",
        "5\n",
        "7\n",
        "3 8\n",
        "8 1 0\n",
        "2 7 4 4\n",
        "4 5 2 6 5"
      ]
    },
    {
      "cell_type": "code",
      "metadata": {
        "colab": {
          "base_uri": "https://localhost:8080/"
        },
        "id": "viHHBOF4rmdm",
        "outputId": "529ed80f-7c24-4c2f-e01b-8c2df4a1c886"
      },
      "source": [
        "n = int(input())\n",
        "dp = [list(map(int, input().split())) for i in range(n)]  # make dp table\n",
        "\n",
        "for i in range(1, n):\n",
        "    for j in range(len(dp[i])):\n",
        "        if j == 0:\n",
        "            dp[i][j] += dp[i-1][j]\n",
        "        elif j == len(dp[i]) - 1:\n",
        "            dp[i][j] += dp[i-1][j-1]\n",
        "        else:\n",
        "            dp[i][j] += max(dp[i-1][j-1], dp[i-1][j])\n",
        "\n",
        "print(max(dp[n-1]))"
      ],
      "execution_count": 13,
      "outputs": [
        {
          "output_type": "stream",
          "text": [
            "5\n",
            "7\n",
            "3 8 \n",
            "8 1 0 \n",
            "2 7 4 4\n",
            "4 5 2 6 5\n",
            "30\n"
          ],
          "name": "stdout"
        }
      ]
    },
    {
      "cell_type": "code",
      "metadata": {
        "colab": {
          "base_uri": "https://localhost:8080/"
        },
        "id": "K0IvMWD2ty5F",
        "outputId": "cc67a4ef-862c-4da6-d982-257dea624b5a"
      },
      "source": [
        "n = int(input())\n",
        "dp = [list(map(int, input().split())) for i in range(n)]  # make dp table\n",
        "\n",
        "# memoization? (from top to bottom)\n",
        "for i in range(1, n):\n",
        "    for j in range(len(dp[i])):\n",
        "        if j == 0:  # 맨 앞의 값\n",
        "            dp[i][j] += dp[i-1][j]\n",
        "        elif j == len(dp[i])-1:  # 맨 뒤의 값\n",
        "            dp[i][j] += dp[i-1][j-1]\n",
        "        else:\n",
        "            dp[i][j] += max(dp[i-1][j-1], dp[i-1][j])\n",
        "\n",
        "print(\"Answer: \", max(dp[n-1]))"
      ],
      "execution_count": 15,
      "outputs": [
        {
          "output_type": "stream",
          "text": [
            "5\n",
            "7\n",
            "3 8\n",
            "8 1 0\n",
            "2 7 4 4\n",
            "4 5 2 6 5\n",
            "Answer:  30\n"
          ],
          "name": "stdout"
        }
      ]
    },
    {
      "cell_type": "code",
      "metadata": {
        "id": "RIi82LHdxJdm"
      },
      "source": [
        ""
      ],
      "execution_count": null,
      "outputs": []
    }
  ]
}