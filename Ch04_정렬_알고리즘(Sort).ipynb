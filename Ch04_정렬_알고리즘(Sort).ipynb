{
  "nbformat": 4,
  "nbformat_minor": 0,
  "metadata": {
    "colab": {
      "name": "Ch04. 정렬 알고리즘(Sort).ipynb",
      "provenance": [],
      "collapsed_sections": [],
      "toc_visible": true,
      "authorship_tag": "ABX9TyOynRbg66xyMxd0jWYys21F",
      "include_colab_link": true
    },
    "kernelspec": {
      "name": "python3",
      "display_name": "Python 3"
    }
  },
  "cells": [
    {
      "cell_type": "markdown",
      "metadata": {
        "id": "view-in-github",
        "colab_type": "text"
      },
      "source": [
        "<a href=\"https://colab.research.google.com/github/Steve-YJ/Python-Algorithm/blob/main/Ch04_%EC%A0%95%EB%A0%AC_%EC%95%8C%EA%B3%A0%EB%A6%AC%EC%A6%98(Sort).ipynb\" target=\"_parent\"><img src=\"https://colab.research.google.com/assets/colab-badge.svg\" alt=\"Open In Colab\"/></a>"
      ]
    },
    {
      "cell_type": "markdown",
      "metadata": {
        "id": "_v7euJGTj098"
      },
      "source": [
        "# Ch04. 정렬 알고리즘(Sort)"
      ]
    },
    {
      "cell_type": "markdown",
      "metadata": {
        "id": "Pcc2VDBtj5UP"
      },
      "source": [
        "## 정렬(Sort)이란\n",
        "* 데이터를 특정 기준에 따라 순서대로 나열하는 것을 말한다\n",
        "* 일반적으로 문제 상황에 따라서 적절한 정렬 알고리즘이 공식처럼 사용된다"
      ]
    },
    {
      "cell_type": "markdown",
      "metadata": {
        "id": "xRhMHVHtj1Ue"
      },
      "source": [
        "굉장히 다양한 문제 상황에서 적절한 정렬 알고리즘을 사용하는 것이 중요하다"
      ]
    },
    {
      "cell_type": "markdown",
      "metadata": {
        "id": "clGqaf4LkP2_"
      },
      "source": [
        "* 선택 정렬(Selection Sort)\n",
        "* 삽입 정렬(Insertion Sort)\n",
        "* 계수 정렬 \n",
        "* etc..."
      ]
    },
    {
      "cell_type": "markdown",
      "metadata": {
        "id": "-r6vFSYXkn9H"
      },
      "source": [
        "## 1. 선택 정렬(Selection Sort)\n",
        "* 처리되지 않은 데이터 중에서 **가장 작은 데이터를 선택해 맨 앞에 있는 데이터와 바꾸는 것을 반복**한다"
      ]
    },
    {
      "cell_type": "markdown",
      "metadata": {
        "id": "yLYCO1E4kzJo"
      },
      "source": [
        "탐색 범위는 반복할 때 마다 줄어들며 매번 가장 작은 원소를 찾기 위해 탐색 범위만큼 가장 작은 데이터를 찾는다. 따라서 이중 반복문을 통해 이를 구현할 수 있게 된다"
      ]
    },
    {
      "cell_type": "code",
      "metadata": {
        "id": "DJ7aJF1GlXtc"
      },
      "source": [
        "# Selection Sort\n",
        "\n",
        "array = [7, 5, 9, 0, 3, 1, 6, 2, 4, 8]\n",
        "\n",
        "for i in range(len(array)):\n",
        "    min_index = i  # 가장 작은 원소의 인덱스가 된다\n",
        "    for j in range(i+1, len(array)):  # 첫번째 원소를 제외한 나머지 원소들 중에서 가장 작은 원소를 찾는다\n",
        "        if array[j] < array[min_index]:\n",
        "            min_index = j\n",
        "    array[i], array[min_index] = array[min_index], array[i]  # 스와핑"
      ],
      "execution_count": null,
      "outputs": []
    },
    {
      "cell_type": "code",
      "metadata": {
        "colab": {
          "base_uri": "https://localhost:8080/"
        },
        "id": "SIvGTw-umRWw",
        "outputId": "f834835e-de76-49c7-df94-8d0f3188df15"
      },
      "source": [
        "print(array)"
      ],
      "execution_count": null,
      "outputs": [
        {
          "output_type": "stream",
          "text": [
            "[0, 1, 2, 3, 4, 5, 6, 7, 8, 9]\n"
          ],
          "name": "stdout"
        }
      ]
    },
    {
      "cell_type": "markdown",
      "metadata": {
        "id": "qJwGJBDZmSa3"
      },
      "source": [
        "### 선택 정렬의 시간 복잡도\n",
        "* 선택정렬은 N-1번 만큼 가장 작은 수를 찾아서 맨 앞으로 보내야 한다\n",
        "* 구현 방식에 따라 사소한 오차는 있을 수 있지만, 전체 연산 횟수는 다음과 같다\n",
        "    * N + (N - 1) + (N - 2) + ... + 2\n",
        "* 이는 (N**2 + N - 2) / 2로 표현할 수 있는데, 빅오 표기법에 따라 O(N**2)라고 작성한다\n"
      ]
    },
    {
      "cell_type": "markdown",
      "metadata": {
        "id": "psat82jTnIBY"
      },
      "source": [
        "## 2. 삽입 정렬(Insertion Sort)\n",
        "* 처리되지 않은 데이터를 하나씩 골라 적절한 위치에 삽입한다\n",
        "* 선택 정렬에 비해 구현 난이도가 높은 편이지만 선택 정렬에 비해 시간 측면에서 더 효율적이다 "
      ]
    },
    {
      "cell_type": "markdown",
      "metadata": {
        "id": "V8_jdrWGo3af"
      },
      "source": [
        "첫 번째 데이터는 정렬이 되어 있다고 가정한다. 두 번째 데이터가 어떤 위치로 들어갈지 판단한다"
      ]
    },
    {
      "cell_type": "code",
      "metadata": {
        "id": "ptOr3bu1o9uT"
      },
      "source": [
        "# Insertion Sort\n",
        "\n",
        "array = [7, 4, 9, 0, 3, 1, 6, 2, 4, 8]\n",
        "\n",
        "for i in range(1, len(array)):\n",
        "    for j in range(i, 0+ , -1):  # i부터 0까지 -1씩 이동\n",
        "        if array[j] < array[j - 1]:  # 한 칸씩 왼쪽으로 이동\n",
        "            array[j], array[j-1] = array[j - 1], array[j]\n",
        "        else:  # 자기보다 작은 데이터를 만나면 그 위치에서 멈춤\n",
        "            break\n",
        "\n",
        "print(array)"
      ],
      "execution_count": null,
      "outputs": []
    },
    {
      "cell_type": "markdown",
      "metadata": {
        "id": "Hs08Ft0uRkkK"
      },
      "source": [
        "## 3. 퀵 정렬(Quick Sort)\r\n",
        "\r\n",
        "* 퀵 정렬은 지금까지 배운 정렬 알고리즘 중에 가장 많이 사용되는 알고리즘이다\r\n",
        "* 퀵 정렬이 도대체 어떻게 동작하길래 이름부터가 '빠른 정렬 알고리즘'인지 알아보자\r\n",
        "\r\n",
        "<br>\r\n",
        "\r\n",
        "💡Idea. *기준 데이터를 설정하고 그 기준보다 큰 데이터와 작은 데이터의 위치를 바꾸면 어떨까?*\r\n",
        "<br><br>\r\n",
        "\r\n",
        "\r\n",
        "* 퀵 정렬은 기준(Pivot)을 설정한 다음 큰 수와 작은 수를 교환한 후 리스트를 반으로 나누는 방식으로 동작한다\r\n",
        "    * `피벗(Pivot)`: 영어 단어의 의미는 (회전하는 물체의) 중심점[축] 또는 (가장 충요한) 중심축이다\r\n",
        "    * 퀵 정렬에서는 피벗(Pivot)이 사용된다. 큰 숫자와 작은 숫자를 교환할 때, 교환하기 위한 '기준'을 바로 피벗이라고 표현한다.\r\n",
        "    * 퀵 정렬을 수행하기 전에는 피벗을 어떻게 설정할 것인지 미리 명시해야 한다\r\n",
        "* 책에서는 호어 분할(Hoare Partition) 방식을 기준으로 퀵 정렬을 설명한다\r\n",
        "* Hoare Partition에서는 리스트에서 첫 번째 데이터를 피벗으로 정한다\r\n",
        "* 이와 같이 피벗을 설정한 뒤에는 왼쪽에서부터 피벗보다 큰 데이터를 찾고, 오른쪽에서부터 피벗보다 작은 데이터를 찾는다. 그리고 큰 데이터와 작은 데이터의 위치를 서로 교환해준다\r\n",
        "* 이러한 과정을 반복하면 '피벗'에 대한 정렬이 수행된다\r\n",
        "\r\n",
        "\r\n",
        "<br>\r\n",
        "😄 코드를 통해 보다 자세하게 이해해보자! "
      ]
    },
    {
      "cell_type": "code",
      "metadata": {
        "colab": {
          "base_uri": "https://localhost:8080/"
        },
        "id": "09r8JTdTTm7q",
        "outputId": "e2f35c4d-a4cb-4fe6-bd8f-6eb001dd7c30"
      },
      "source": [
        "# 6-4.py 퀵 정렬 소스코드\r\n",
        "\r\n",
        "array = [5, 7, 9, 0, 3, 1, 6, 2, 4, 8]\r\n",
        "\r\n",
        "def quick_sort(array, start, end):\r\n",
        "    if start >= end:  # 원소가 1개인 경우 종료\r\n",
        "        return\r\n",
        "    pivot = start  # Hoare Partition에서는 리스트의 첫 번째 데이터를 피벗으로 한다\r\n",
        "    left = start + 1\r\n",
        "    right = end\r\n",
        "    while left <= right:\r\n",
        "        # 피벗보다 큰 데이터를 찾을 때까지 반복\r\n",
        "        while left <= end and array[left] <= array[pivot]: \r\n",
        "            left += 1\r\n",
        "        # 피벗보다 작은 데이터를 찾을 떄까지 반복\r\n",
        "        while right > start and array[right] >= array[pivot]:\r\n",
        "            right -= 1\r\n",
        "        if left > right:  # 엇갈렸다면 작은 데이터와 피벗을 교체\r\n",
        "            array[right], array[pivot] = array[pivot], array[right]\r\n",
        "        else:  # 엇갈리지 않았다면 적인 데이터와 큰 데이터 교체\r\n",
        "            array[left], array[right] = array[right], array[left]\r\n",
        "\r\n",
        "    # 분할 이후 왼쪽 부분과 오른쪽 부분에서 각각 정렬 수행\r\n",
        "    quick_sort(array, start, right-1)\r\n",
        "    quick_sort(array, right + 1, end)\r\n",
        "\r\n",
        "quick_sort(array, 0, len(array) - 1)\r\n",
        "print(array)\r\n",
        "        "
      ],
      "execution_count": 3,
      "outputs": [
        {
          "output_type": "stream",
          "text": [
            "[0, 1, 2, 3, 4, 5, 6, 7, 8, 9]\n"
          ],
          "name": "stdout"
        }
      ]
    },
    {
      "cell_type": "markdown",
      "metadata": {
        "id": "C1JCFqMwSU88"
      },
      "source": [
        "✅ 코드를 이해하기 위해 노력하자. 그리고 다시 한번 구현해보자!"
      ]
    },
    {
      "cell_type": "code",
      "metadata": {
        "id": "Oy4L3xQcVqvR"
      },
      "source": [
        ""
      ],
      "execution_count": null,
      "outputs": []
    }
  ]
}