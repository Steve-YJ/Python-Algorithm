{
  "nbformat": 4,
  "nbformat_minor": 0,
  "metadata": {
    "colab": {
      "name": "01. Appendix_A. 코딩테스트를 위한 파이썬 문법.ipynb",
      "provenance": [],
      "collapsed_sections": [],
      "authorship_tag": "ABX9TyPUBFLOQG5uFcmPSrcVOvYO",
      "include_colab_link": true
    },
    "kernelspec": {
      "name": "python3",
      "display_name": "Python 3"
    }
  },
  "cells": [
    {
      "cell_type": "markdown",
      "metadata": {
        "id": "view-in-github",
        "colab_type": "text"
      },
      "source": [
        "<a href=\"https://colab.research.google.com/github/Steve-YJ/Python-Algorithm/blob/main/01_Appendix_A_%EC%BD%94%EB%94%A9%ED%85%8C%EC%8A%A4%ED%8A%B8%EB%A5%BC_%EC%9C%84%ED%95%9C_%ED%8C%8C%EC%9D%B4%EC%8D%AC_%EB%AC%B8%EB%B2%95.ipynb\" target=\"_parent\"><img src=\"https://colab.research.google.com/assets/colab-badge.svg\" alt=\"Open In Colab\"/></a>"
      ]
    },
    {
      "cell_type": "markdown",
      "metadata": {
        "id": "NoZitOuGrewZ"
      },
      "source": [
        "# 이것이 취.코.테\n",
        "> Referencebook: 이것이 취업을 위한 코딩테스트다 <a href='#'>link</a><br>\n"
      ]
    },
    {
      "cell_type": "markdown",
      "metadata": {
        "id": "tg6R_V1lrwz5"
      },
      "source": [
        "# 코딩 테스트를 위한 파이썬 문법\n",
        "> '자료구조' 및 '알고리즘'에 대한 기초부터 제대로 닦고 싶다면 <code>Appendix A: 코딩 테스트를 위한 파이썬 문법</code>부터 시작해보자!"
      ]
    },
    {
      "cell_type": "markdown",
      "metadata": {
        "id": "RLkrRHJPsB_t"
      },
      "source": [
        "## 1. 자료형\n",
        "* 수 자료형(Number)\n",
        "    * 정수형(Integer)\n",
        "    * 실수형(Real Number)\n",
        "    * 수 자료형의 연산\n",
        "* 리스트 자료형(list)\n",
        "    * 리스트 만들기\n",
        "    * 리스트의 인덱싱과 슬라이싱\n",
        "    * 리스트 컴프리헨션\n",
        "    * 리스트 관련 기타 메서드\n",
        "* 문자열 자료형\n",
        "    * 문자열 초기화\n",
        "    * 문자열 연산\n",
        "* 튜플 자료형(tuple)\n",
        "* 사전 자료형\n",
        "    * 사전 자료형 관련 함수\n",
        "* 집합 자료형(set)\n",
        "    * 집합 자료형 소개\n",
        "    * 집합 자료형 연산\n",
        "    * 집합 자료형 관련 함수"
      ]
    },
    {
      "cell_type": "markdown",
      "metadata": {
        "id": "7mXLf4R5s0i7"
      },
      "source": [
        "> \"알고리즘뿐만 아니라 프로그래밍은 결국 데이터를 다루는 행위이다.따라서 '자료형에 대한 이해'는 프로그래밍의 첫 걸음이라 할 수 있다.\"\n",
        "\n",
        "\n",
        "> 파이썬의 자료형은 C/C++, 자바와 같은 다른 언어에서 사용되는 기본 자료형을 제공할 뿐만 아니라, 사전 자료형, 집합 자료형 등 강력한 기능을 제공하는 자료형을 기본으로 내장하고 있어서 매우 편리하다. "
      ]
    },
    {
      "cell_type": "markdown",
      "metadata": {
        "id": "ADXsYTn9tM4m"
      },
      "source": [
        "### 수 자료형(Number)"
      ]
    },
    {
      "cell_type": "markdown",
      "metadata": {
        "id": "OkB7HByjsD0w"
      },
      "source": [
        "* 수 자료형(Number)는 코딩 테스트에서 가장 기본적인 자료형이다.\n",
        "* 대부분의 프로그램에서는 정수와 실수가 많이 사용되고, 그중에서도 정수를 기본으로 사용한다\n",
        "* 실제 코딩 테스트에서도 대부분의 경우 정수형을 다루는 문제가 출제된다"
      ]
    },
    {
      "cell_type": "markdown",
      "metadata": {
        "id": "W9g2QrALsD7-"
      },
      "source": [
        "#### 정수형(Integer)\n",
        "* Integer는 정수를 다루는 자료형이다\n",
        "* 양의 정수, 음의 정수, 0이 있다\n",
        "* 코딩 테스트에서 출제되는 알고리즘 문제는 대부분 입력과 출력 데이터가 정수형이다"
      ]
    },
    {
      "cell_type": "code",
      "metadata": {
        "colab": {
          "base_uri": "https://localhost:8080/"
        },
        "id": "96G70t6qsC_s",
        "outputId": "1df07ef8-9c73-43e9-bc77-3d3239c06a1c"
      },
      "source": [
        "# Integer Data Structure\n",
        "\n",
        "a = 1000  # 양의 정수\n",
        "print(a)\n",
        "\n",
        "a = -7  # 음의 정수\n",
        "print(a)\n",
        "\n",
        "\n",
        "a = 0  # 0\n",
        "print(a)\n",
        "\n",
        "print(\"Integer 자료형으로는 양의 정수 음의 정수 0이 있다.\")"
      ],
      "execution_count": null,
      "outputs": [
        {
          "output_type": "stream",
          "text": [
            "1000\n",
            "-7\n",
            "0\n",
            "Integer 자료형으로는 양의 정수 음의 정수 0이 있다.\n"
          ],
          "name": "stdout"
        }
      ]
    },
    {
      "cell_type": "markdown",
      "metadata": {
        "id": "JBwQquE5rNW_"
      },
      "source": [
        "#### 실수형(Real Number)\n",
        "* Real Number은 소수점 아래의 데이터를 포함하는 수 자료형이다\n",
        "* 파이썬에서는 변수에 소수점을 붙인 수를 대입하면 실수형 변수로 처리한다\n",
        "* 소수부가 0이거나, 정수부가 0인 소수는 0을 생량하고 작성할 수 있다"
      ]
    },
    {
      "cell_type": "code",
      "metadata": {
        "colab": {
          "base_uri": "https://localhost:8080/"
        },
        "id": "eqOhwA1pvPpT",
        "outputId": "0fa6f4d2-a7a7-489f-c301-89a6be4b654d"
      },
      "source": [
        "# 양의 실수\n",
        "a = 157.93\n",
        "print(a)\n",
        "\n",
        "# 음의 실수\n",
        "a = -1837.2\n",
        "print(a)\n",
        "\n",
        "# 소수부가 0일 때 0을 생략\n",
        "a = 5.\n",
        "print(a)  # 0이 생략되는지 확인해보자\n",
        "\n",
        "# 정수부가 0일 때 0을 생략\n",
        "a = -.7\n",
        "print(a)\n",
        "\n",
        "print(\"실수형은 소수점 아래 숫자를 표현해준다\")"
      ],
      "execution_count": null,
      "outputs": [
        {
          "output_type": "stream",
          "text": [
            "157.93\n",
            "-1837.2\n",
            "5.0\n",
            "-0.7\n",
            "실수형은 소수점 아래 숫자를 표현해준다\n"
          ],
          "name": "stdout"
        }
      ]
    },
    {
      "cell_type": "markdown",
      "metadata": {
        "id": "3MphHmoNvzJH"
      },
      "source": [
        "* 실수형 데이터와 지수 표현 방식\n",
        "    * 실수형 데이터를 표현하는 방식으로 파이썬에서는 e나 E를 이용한 지수 표현 방식을 이용할 수 있다.\n",
        "    * e.g 1e9는 10의 9제곱 (1,000,000,000)이 된다\n",
        "\n",
        "* 지수 표현 방식은 코딩 테스트에서 많이 사용된다\n",
        "    * e.g 최단 경로 문제\n",
        "        * 최단 경로로 가능한 최댓값이 10억 미만이라면 무한(INF)을 표현할 때 10억을 사용할 수 있다\n",
        "        * 최단 경로 문제를 해결할 때 확인해보도록 하자!"
      ]
    },
    {
      "cell_type": "markdown",
      "metadata": {
        "id": "zWoZTTh3wOpv"
      },
      "source": [
        ""
      ]
    },
    {
      "cell_type": "code",
      "metadata": {
        "colab": {
          "base_uri": "https://localhost:8080/"
        },
        "id": "_oQiWT1pwHq7",
        "outputId": "259427fa-a840-4a93-f9cc-495794f2bd1c"
      },
      "source": [
        "# 10억의 지수 표현 방식\n",
        "a = 1e9\n",
        "print(a)\n",
        "\n",
        "# 752.5\n",
        "a = 72.25e1\n",
        "print(a)\n",
        "\n",
        "# 3.954\n",
        "a = 3954e-3\n",
        "print(a)"
      ],
      "execution_count": null,
      "outputs": [
        {
          "output_type": "stream",
          "text": [
            "1000000000.0\n",
            "722.5\n",
            "3.954\n"
          ],
          "name": "stdout"
        }
      ]
    },
    {
      "cell_type": "markdown",
      "metadata": {
        "id": "hbkjWun4w9nd"
      },
      "source": [
        "* 실수형 데이터의 한계\n",
        "    * 보통 컴퓨터 시스템은 수 데이터를 처리할 때 2진수를 이용하며, 실수를 처리할 때 부동 소수점(Floating-point) 방식을 이용한다\n",
        "    * 오늘날 가장 널리 쓰이는 IEEE754 표준에서는 실수형을 저장하기 위해 4바이트, 혹은 8바이트의 고정된 크기의 메모리를 할당하며, 이러한 이유로 인해 현대 컴퓨터 시스템은 대체로 실수 정보를 표현하는 정확도에 한계를 가진다.\n",
        "    * 다음의 예제를 통해 확인해보자"
      ]
    },
    {
      "cell_type": "code",
      "metadata": {
        "colab": {
          "base_uri": "https://localhost:8080/"
        },
        "id": "aSDRHT6cxgGb",
        "outputId": "3a16301d-3086-472e-da15-c9de09c3f5e0"
      },
      "source": [
        "# 실수형 데이터의 한계를 살펴보자\n",
        "\n",
        "a = 0.3 + 0.6  # 10진수 체계에서는 0.9라는 값이 나올 것이다.\n",
        "               # 과연 그럴까??\n",
        "print(a)\n",
        "\n",
        "\n",
        "# a가 0.9와 같다면 True를 반환하고 다르다면 False를 반환해보자\n",
        "if a == 0.9:\n",
        "    print(True)\n",
        "else:\n",
        "    print(False)"
      ],
      "execution_count": null,
      "outputs": [
        {
          "output_type": "stream",
          "text": [
            "0.8999999999999999\n",
            "False\n"
          ],
          "name": "stdout"
        }
      ]
    },
    {
      "cell_type": "markdown",
      "metadata": {
        "id": "okwDU1hixygt"
      },
      "source": [
        "따라서 소수점 값을 비교하는 작업이 필요한 문제에서는 <code>round()</code>함수를 이용할 수 있다.\n",
        "\n",
        "* <code>round()</code>함수 사용법\n",
        "    * 첫 번째 인자는 실수형 데이터\n",
        "    * 두 번째 인자에는 반올림하고자 하는 위치를 입력해준다\n",
        "    * 코드를 통해 이해해보"
      ]
    },
    {
      "cell_type": "code",
      "metadata": {
        "colab": {
          "base_uri": "https://localhost:8080/"
        },
        "id": "FJ1WDS1QyKQy",
        "outputId": "e205999e-d251-4771-d2f3-2fcec13c4563"
      },
      "source": [
        "# round() function\n",
        "\n",
        "a = 0.3 + 0.6\n",
        "print(round(a, 4))  # 코딩테스트 문제에서는 실수형 데이터를 비교할 때\n",
        "                    # 소숫점 다섯 번째 자리에서 반올림한 결과를 요청한다"
      ],
      "execution_count": null,
      "outputs": [
        {
          "output_type": "stream",
          "text": [
            "0.9\n"
          ],
          "name": "stdout"
        }
      ]
    },
    {
      "cell_type": "markdown",
      "metadata": {
        "id": "EuQGFw6wyo-l"
      },
      "source": [
        "### 수 자료형의 연산\n",
        "* 프로그래밍에서는 사칙연산(+, -, x, /)을 이용해 계산한다\n",
        "* 나누기 연산자(/)를 주의하자\n",
        "    * 나누기 연산자는 나눠진 결과를 기본적으로 실수형으로 처리한다\n",
        "\n",
        "* 정수형 나머지를 얻기 위해서는 %. 몫을 얻기 위해서는 //을 이용한다 "
      ]
    },
    {
      "cell_type": "code",
      "metadata": {
        "colab": {
          "base_uri": "https://localhost:8080/"
        },
        "id": "-balKNZ1zDZd",
        "outputId": "6dc92ae8-9017-4d5c-d197-a5f08a718cc8"
      },
      "source": [
        "a = 7\n",
        "b = 3\n",
        "\n",
        "# 나누기\n",
        "print(a/b)\n",
        "\n",
        "# 몫을 정수로 얻고 싶을 때\n",
        "print(a//b)\n",
        "\n",
        "# 나머지\n",
        "print(a%b)\n",
        "\n",
        "\n",
        "# 거듭제곱\n",
        "a = 5\n",
        "b = 3\n",
        "print(a**b)"
      ],
      "execution_count": null,
      "outputs": [
        {
          "output_type": "stream",
          "text": [
            "2.3333333333333335\n",
            "2\n",
            "1\n",
            "125\n"
          ],
          "name": "stdout"
        }
      ]
    },
    {
      "cell_type": "markdown",
      "metadata": {
        "id": "pEe-Yzz_zWc4"
      },
      "source": [
        "### 리스트 자료형\n",
        "* 리스트는 여러 개의 데이터를 연속적으로 담아 처리하기 위해 사용할 수 있다\n",
        "* 파이썬의 리스트 자료형은 C나 자바와 같은 프로그래밍 언어의 배열(Array) 기능을 포함하고 있다\n",
        "* 내부적으로 연결 리스트 자료구조를 채택하고 있어서 append(), remove()등의 메서드를 지원한다\n",
        "* 파이썬의 리스트는 C++의 STL vector와 유사하며, 리스트 대신에 배열 혹은 테이블이라고 부르기도 한다"
      ]
    },
    {
      "cell_type": "markdown",
      "metadata": {
        "id": "7rBg-slHzxNb"
      },
      "source": [
        "#### 리스트 만들기\n",
        "* 예제를 통해 알아보자"
      ]
    },
    {
      "cell_type": "code",
      "metadata": {
        "colab": {
          "base_uri": "https://localhost:8080/"
        },
        "id": "Ds9mr-tizzST",
        "outputId": "139436eb-786b-4679-e233-0be9f9f39aa7"
      },
      "source": [
        "# list를 만들고 인덱스를 통해 값에 접근해보자\n",
        "\n",
        "a = [1, 2, 3, 4, 5, 6, 7, 8, 9]\n",
        "print(a)\n",
        "\n",
        "# 인덱스 4, 즉 다섯 번째 원소에 접근\n",
        "print(a[4])  # 인덱스는 0부터 시작되기에 a[4]는 5번째 원소에 접근하는 것이다\n",
        "\n",
        "# 빈 리스트 선언 방법 (1)\n",
        "a = list()  #  list()를 변수에 할당한다\n",
        "print(a)\n",
        "\n",
        "# 빈 리스트 선언 방법 (1)\n",
        "a = []  #  대괄호를 통해 쉽게 할당할 수 있다\n",
        "print(a)"
      ],
      "execution_count": null,
      "outputs": [
        {
          "output_type": "stream",
          "text": [
            "[1, 2, 3, 4, 5, 6, 7, 8, 9]\n",
            "5\n",
            "[]\n",
            "[]\n"
          ],
          "name": "stdout"
        }
      ]
    },
    {
      "cell_type": "markdown",
      "metadata": {
        "id": "gK9fostP0aW9"
      },
      "source": [
        "* 코딩테스트 문제에서 사용되는 리스트\n",
        "    * 주로 크기가 N인 1차원 리스트를 초기화하는 문제가 주어진"
      ]
    },
    {
      "cell_type": "code",
      "metadata": {
        "colab": {
          "base_uri": "https://localhost:8080/"
        },
        "id": "MIA795tX0fOT",
        "outputId": "8d9d5ebb-986c-44c0-c8ee-d6cd3fbacd04"
      },
      "source": [
        "# 크기가 N이고, 모든 값이 0인 1차원 리스트 초기화\n",
        "n = 10\n",
        "\n",
        "a = [0] * n\n",
        "print(a)"
      ],
      "execution_count": null,
      "outputs": [
        {
          "output_type": "stream",
          "text": [
            "[0, 0, 0, 0, 0, 0, 0, 0, 0, 0]\n"
          ],
          "name": "stdout"
        }
      ]
    },
    {
      "cell_type": "code",
      "metadata": {
        "colab": {
          "base_uri": "https://localhost:8080/"
        },
        "id": "rB2cQbUC0XsJ",
        "outputId": "94c99eb3-0c4a-42c4-b621-2ade493b9f51"
      },
      "source": [
        "a = [0 for i in range(10)]  # 뒤에서 리스트 컴프리헨션을 배우면 이렇게 깔끔하게 작성할 수 있게 될 것이다\n",
        "print(a)"
      ],
      "execution_count": null,
      "outputs": [
        {
          "output_type": "stream",
          "text": [
            "[0, 0, 0, 0, 0, 0, 0, 0, 0, 0]\n"
          ],
          "name": "stdout"
        }
      ]
    },
    {
      "cell_type": "markdown",
      "metadata": {
        "id": "OSvZ_XDbzzUc"
      },
      "source": [
        "#### 리스트의 인덱싱과 슬라이싱"
      ]
    },
    {
      "cell_type": "markdown",
      "metadata": {
        "id": "8AaR-f9-0yS1"
      },
      "source": [
        "* 리스트 인덱싱: 리스트의 특정한 원소에 접근하는 것을 인덱싱(indexing)이라고 한다. 양의 정수, 음의 정수 모두 활용 가능하다\n",
        "* 리스트 슬라이싱: 리스트에서 연속적인 위치의 원소들을 가져올 수 있다\n",
        "\n",
        "\n",
        "예제를 통해 확인해보자!"
      ]
    },
    {
      "cell_type": "code",
      "metadata": {
        "colab": {
          "base_uri": "https://localhost:8080/"
        },
        "id": "mKZKz-Xozxer",
        "outputId": "aeb55e53-ca3f-479f-d80d-28b0b7fb9c2e"
      },
      "source": [
        "# 리스트 인덱싱(indexing)\n",
        "a = [1, 2, 3, 4, 5, 6, 7, 8, 9]\n",
        "# 뒤에서 첫 번째 원소 출력\n",
        "print(a[-1])\n",
        "\n",
        "# 뒤에서 세 번째 원소 출력\n",
        "print(a[-3])\n",
        "\n",
        "# 네 번째 원소 값 변경\n",
        "# 변경도 가능하다\n",
        "print(a)\n",
        "a[4] = 7\n",
        "print(a)"
      ],
      "execution_count": null,
      "outputs": [
        {
          "output_type": "stream",
          "text": [
            "9\n",
            "7\n",
            "[1, 2, 3, 4, 5, 6, 7, 8, 9]\n",
            "[1, 2, 3, 4, 7, 6, 7, 8, 9]\n"
          ],
          "name": "stdout"
        }
      ]
    },
    {
      "cell_type": "code",
      "metadata": {
        "colab": {
          "base_uri": "https://localhost:8080/"
        },
        "id": "BBgrxqjx10JJ",
        "outputId": "d4a4c680-3ab0-4710-ffb1-025182d867ad"
      },
      "source": [
        "# 리스트 슬라이싱(slicing)\n",
        "\n",
        "a = [i for i in range(1, 10)]\n",
        "\n",
        "# 두 번째 원소부터 네 번째 원소까지\n",
        "print(a[1:4])"
      ],
      "execution_count": null,
      "outputs": [
        {
          "output_type": "stream",
          "text": [
            "[2, 3, 4]\n"
          ],
          "name": "stdout"
        }
      ]
    },
    {
      "cell_type": "markdown",
      "metadata": {
        "id": "lS3tWH7C11kW"
      },
      "source": [
        "#### 리스트 컴프리헨션\n",
        "* 리스트 컴프리헨션은 리스트를 초기화하는 방법 중 하나이다\n",
        "* 리스트 컴프리헨션을 이용하면 대괄호([])안에 조건문과 반복문을 넣는 방식으로 리스트를 초기화 할 수 있다\n",
        "\n"
      ]
    },
    {
      "cell_type": "code",
      "metadata": {
        "colab": {
          "base_uri": "https://localhost:8080/"
        },
        "id": "Ibf-GuIczxh0",
        "outputId": "522c443f-4a2d-49d9-f292-35a0f15089a2"
      },
      "source": [
        "# 0부터 19까지의 수 중에서 홀수만 포함하는 리스트\n",
        "\n",
        "array = [i for i in range(20) if i % 2 == 1]\n",
        "print(array)"
      ],
      "execution_count": null,
      "outputs": [
        {
          "output_type": "stream",
          "text": [
            "[1, 3, 5, 7, 9, 11, 13, 15, 17, 19]\n"
          ],
          "name": "stdout"
        }
      ]
    },
    {
      "cell_type": "markdown",
      "metadata": {
        "id": "7Yclby3k2TNg"
      },
      "source": [
        "리스트 컴프리헨션을 이용했을 때 소스코드가 훨씬 짧고 간결한 것을 알 수 있다. 한 가지 더 알아보자"
      ]
    },
    {
      "cell_type": "code",
      "metadata": {
        "colab": {
          "base_uri": "https://localhost:8080/"
        },
        "id": "rNbYNFM9zxki",
        "outputId": "66cc864b-a756-4f25-cf32-51a6a2045a86"
      },
      "source": [
        "# 1부터 9까지의 수의 제곱 값을 포함하는 리스트\n",
        "\n",
        "array = [i**2 for i in range(10)]\n",
        "print(array)\n",
        "\n",
        "array = [i*i for i in range(10)]\n",
        "print(array)"
      ],
      "execution_count": null,
      "outputs": [
        {
          "output_type": "stream",
          "text": [
            "[0, 1, 4, 9, 16, 25, 36, 49, 64, 81]\n",
            "[0, 1, 4, 9, 16, 25, 36, 49, 64, 81]\n"
          ],
          "name": "stdout"
        }
      ]
    },
    {
      "cell_type": "markdown",
      "metadata": {
        "id": "XeKUp27P2tVt"
      },
      "source": [
        "2차원 리스트를 초기화해보자!<br>\n",
        "코테에서 자주 등장했던걸로 기억한다. 어떻게 하면 될까?"
      ]
    },
    {
      "cell_type": "code",
      "metadata": {
        "colab": {
          "base_uri": "https://localhost:8080/"
        },
        "id": "NO7W5lwN2zJd",
        "outputId": "4fb5f3af-c316-4b83-d6cb-e82611b6875f"
      },
      "source": [
        "# N x M 크기의 2차원 리스트 초기화\n",
        "\n",
        "n = 3\n",
        "m = 4\n",
        "\n",
        "array1 = [[0 for j in range(4)] for i in range(3)]\n",
        "print(array1) "
      ],
      "execution_count": null,
      "outputs": [
        {
          "output_type": "stream",
          "text": [
            "[[0, 0, 0, 0], [0, 0, 0, 0], [0, 0, 0, 0]]\n"
          ],
          "name": "stdout"
        }
      ]
    },
    {
      "cell_type": "code",
      "metadata": {
        "colab": {
          "base_uri": "https://localhost:8080/"
        },
        "id": "jE9pAm5Hzxnq",
        "outputId": "7f6a972a-cd12-4991-bc6e-0c6dbee1d1da"
      },
      "source": [
        "array2 = [[0] * m for _ in range(n)]\n",
        "print(array2)\n",
        "\n",
        "# 반복을 수행하되 반복을 위한 변수의 값을 무시하고자 할 때 언더바(_)를 자주 사용한다."
      ],
      "execution_count": null,
      "outputs": [
        {
          "output_type": "stream",
          "text": [
            "[[0, 0, 0, 0], [0, 0, 0, 0], [0, 0, 0, 0]]\n"
          ],
          "name": "stdout"
        }
      ]
    },
    {
      "cell_type": "code",
      "metadata": {
        "colab": {
          "base_uri": "https://localhost:8080/"
        },
        "id": "kjurHVMYzxqZ",
        "outputId": "c9e2c554-8dee-4f90-d6a0-9543d9fbfd5c"
      },
      "source": [
        "array1 == array2"
      ],
      "execution_count": null,
      "outputs": [
        {
          "output_type": "execute_result",
          "data": {
            "text/plain": [
              "True"
            ]
          },
          "metadata": {
            "tags": []
          },
          "execution_count": 39
        }
      ]
    },
    {
      "cell_type": "markdown",
      "metadata": {
        "id": "CxLS0ri34MMQ"
      },
      "source": [
        "특정 크기의 2차원 리스트를 초기화 할 떄는 반드시 리스트 컴프리핸션을 이용해야 한다는 점을 기억하자!\n",
        "\n",
        "mxn크기의 리스트:  [[0] * m for _ in range(n)]"
      ]
    },
    {
      "cell_type": "markdown",
      "metadata": {
        "id": "eNvKVm6L4Zv4"
      },
      "source": [
        "#### 리스트 관련 기타 메서드"
      ]
    },
    {
      "cell_type": "code",
      "metadata": {
        "colab": {
          "base_uri": "https://localhost:8080/"
        },
        "id": "9cW42DZq4iDb",
        "outputId": "8d0e1eb8-7c9c-4d0a-8d27-2387a3af581d"
      },
      "source": [
        "a = [1, 4, 3]\n",
        "print(\"기본 리스트: \", a)\n",
        "\n",
        "# 리스트에 원소 삽입\n",
        "a.append(2)\n",
        "print(\"삽입: \", a)\n",
        "\n",
        "# 오름차순 정렬\n",
        "a.sort()\n",
        "print(\"오름차순 정렬: \", a)\n",
        "\n",
        "# 내림차순 정렬\n",
        "a.sort(reverse=True)\n",
        "print(\"내림차순 정렬: \", a)\n",
        "\n",
        "# 리스트 원소 뒤집기\n",
        "a.reverse()  # 팰린드롭 문제에서 봤던것 같다!\n",
        "print(\"원소 뒤집기: \", a)\n",
        "\n",
        "# 특정 인덱스에 데이터 추가\n",
        "a.insert(2, 3)  # 2번째 인덱스에 3 추가\n",
        "print(\"인덱스 2에 3 추가: \", a)\n",
        "\n",
        "# 특정 값인 데이터 개수 세기\n",
        "print(\"값이 2인 데이터 개수: \", a.count(2))\n",
        "\n",
        "# 특정 값 데이터 삭제\n",
        "a.remove(1)\n",
        "print(\"값이 1인 데이터 삭제: \", a)"
      ],
      "execution_count": null,
      "outputs": [
        {
          "output_type": "stream",
          "text": [
            "기본 리스트:  [1, 4, 3]\n",
            "삽입:  [1, 4, 3, 2]\n",
            "오름차순 정렬:  [1, 2, 3, 4]\n",
            "내림차순 정렬:  [4, 3, 2, 1]\n",
            "원소 뒤집기:  [1, 2, 3, 4]\n",
            "인덱스 2에 3 추가:  [1, 2, 3, 3, 4]\n",
            "값이 2인 데이터 개수:  1\n",
            "값이 1인 데이터 삭제:  [2, 3, 3, 4]\n"
          ],
          "name": "stdout"
        }
      ]
    },
    {
      "cell_type": "markdown",
      "metadata": {
        "id": "DT3cGamd5rl3"
      },
      "source": [
        "<code>insert()</code>함수와 <code>remove()</code>함수의 시간 복잡도는 O(N)이다. 따라서 남발하게 될 경우 코딩테스트에서 통과하지 못할 수 있다."
      ]
    },
    {
      "cell_type": "code",
      "metadata": {
        "colab": {
          "base_uri": "https://localhost:8080/"
        },
        "id": "lZvGRr8X50A_",
        "outputId": "df16293e-fd85-4d94-a89f-e83dc26d39bb"
      },
      "source": [
        "a = [1, 2, 3, 4, 5, 5, 5]\n",
        "remove_set = {3, 5}\n",
        "\n",
        "# remove_set에 포함되지 않은 값만을 저장\n",
        "result = [i for i in a if i not in remove_set]  # (1): a에 포함된 원소를 하나씩 확인한다.\n",
        "                                                #      이 때, 해당 원소가 remove_set에 포함되어있지 않다면\n",
        "                                                #      리스트 변수에 삽입한다.\n",
        "print(result)"
      ],
      "execution_count": null,
      "outputs": [
        {
          "output_type": "stream",
          "text": [
            "[1, 2, 4]\n"
          ],
          "name": "stdout"
        }
      ]
    },
    {
      "cell_type": "markdown",
      "metadata": {
        "id": "z_ZwBAlvzxzN"
      },
      "source": [
        "여기까지가 숫자형 자료형이었다. 유익하다!<br>\n",
        "문자열 자료형, 튜플 자료형, 사전 자료형, 집합 자료형도 알아보자!"
      ]
    },
    {
      "cell_type": "markdown",
      "metadata": {
        "id": "NNWymzqR7XiO"
      },
      "source": [
        "### 문자열 자료"
      ]
    },
    {
      "cell_type": "markdown",
      "metadata": {
        "id": "0JKyTO9p74yQ"
      },
      "source": [
        "#### 문자열 초기화"
      ]
    },
    {
      "cell_type": "code",
      "metadata": {
        "colab": {
          "base_uri": "https://localhost:8080/"
        },
        "id": "ubwRRfIe7Zkt",
        "outputId": "bf46946b-2730-49f8-c021-b4dbfa8662c5"
      },
      "source": [
        "data = 'Hello World'\n",
        "print(data)\n",
        "\n",
        "data = \"Don't you know \\\"Python\\\"?\"\n",
        "print(data)"
      ],
      "execution_count": null,
      "outputs": [
        {
          "output_type": "stream",
          "text": [
            "Hello World\n",
            "Don't you know \"Python\"?\n"
          ],
          "name": "stdout"
        }
      ]
    },
    {
      "cell_type": "markdown",
      "metadata": {
        "id": "TD8e8vOM76p8"
      },
      "source": [
        "#### 문자열 연산"
      ]
    },
    {
      "cell_type": "markdown",
      "metadata": {
        "id": "d5KJwKIL7Zm2"
      },
      "source": [
        "* 파이썬은 문자열에 대한 연산도 지원한다\n",
        "* 문자열을 처리할 때 유용하"
      ]
    },
    {
      "cell_type": "code",
      "metadata": {
        "colab": {
          "base_uri": "https://localhost:8080/"
        },
        "id": "BPHXW2Kv8GAx",
        "outputId": "d1727ad6-598e-4276-f8d9-7565742d5888"
      },
      "source": [
        "a = \"Hello\"\n",
        "b = \"World\"\n",
        "\n",
        "print(a + b)\n",
        "print(a, b)\n",
        "print(a + \" \" + b)"
      ],
      "execution_count": null,
      "outputs": [
        {
          "output_type": "stream",
          "text": [
            "HelloWorld\n",
            "Hello World\n",
            "Hello World\n"
          ],
          "name": "stdout"
        }
      ]
    },
    {
      "cell_type": "code",
      "metadata": {
        "colab": {
          "base_uri": "https://localhost:8080/"
        },
        "id": "6lPlGhpz8SUo",
        "outputId": "278a5c66-6dff-4be7-c3a9-4adc5d0d2c54"
      },
      "source": [
        "a = \"String\"\n",
        "\n",
        "print(a*4)"
      ],
      "execution_count": null,
      "outputs": [
        {
          "output_type": "stream",
          "text": [
            "StringStringStringString\n"
          ],
          "name": "stdout"
        }
      ]
    },
    {
      "cell_type": "markdown",
      "metadata": {
        "id": "flKLPkzZ8hfs"
      },
      "source": [
        "파이썬 문자열은 내부적으로 리스트와 같이 처리된다 "
      ]
    },
    {
      "cell_type": "code",
      "metadata": {
        "colab": {
          "base_uri": "https://localhost:8080/"
        },
        "id": "t7NAc_nD8lyM",
        "outputId": "11dcaffa-bb9a-4d5d-b202-1148a3d6b59f"
      },
      "source": [
        "a = \"ABCDE\"\n",
        "print(a[2:4])  # 문자열은 여러 개의 문자가 합쳐진 리스트라고 볼 수 있다"
      ],
      "execution_count": null,
      "outputs": [
        {
          "output_type": "stream",
          "text": [
            "CD\n"
          ],
          "name": "stdout"
        }
      ]
    },
    {
      "cell_type": "markdown",
      "metadata": {
        "id": "6PWb96CI7Z15"
      },
      "source": [
        "### 튜플 자료"
      ]
    },
    {
      "cell_type": "markdown",
      "metadata": {
        "id": "vnHCbOrh8sGO"
      },
      "source": [
        "* 튜플 자료형은 리스트와 거의 비슷하다. 차이가 있다면\n",
        "    * 튜플은 한 번 선언된 값을 변경할 수 없다\n",
        "    * 리스트는 대괄호([])를 이용하지만, 튜플은 소괄호(())를 이용한다"
      ]
    },
    {
      "cell_type": "code",
      "metadata": {
        "colab": {
          "base_uri": "https://localhost:8080/",
          "height": 226
        },
        "id": "zc8rLf9F7bWw",
        "outputId": "2e16609c-203c-41bb-f863-34c4d1a314da"
      },
      "source": [
        "a = (1, 2, 3, 4)\n",
        "print(a)\n",
        "\n",
        "a[2] = 7"
      ],
      "execution_count": null,
      "outputs": [
        {
          "output_type": "stream",
          "text": [
            "(1, 2, 3, 4)\n"
          ],
          "name": "stdout"
        },
        {
          "output_type": "error",
          "ename": "TypeError",
          "evalue": "ignored",
          "traceback": [
            "\u001b[0;31m---------------------------------------------------------------------------\u001b[0m",
            "\u001b[0;31mTypeError\u001b[0m                                 Traceback (most recent call last)",
            "\u001b[0;32m<ipython-input-50-fa3b14a6dfc1>\u001b[0m in \u001b[0;36m<module>\u001b[0;34m()\u001b[0m\n\u001b[1;32m      2\u001b[0m \u001b[0mprint\u001b[0m\u001b[0;34m(\u001b[0m\u001b[0ma\u001b[0m\u001b[0;34m)\u001b[0m\u001b[0;34m\u001b[0m\u001b[0;34m\u001b[0m\u001b[0m\n\u001b[1;32m      3\u001b[0m \u001b[0;34m\u001b[0m\u001b[0m\n\u001b[0;32m----> 4\u001b[0;31m \u001b[0ma\u001b[0m\u001b[0;34m[\u001b[0m\u001b[0;36m2\u001b[0m\u001b[0;34m]\u001b[0m \u001b[0;34m=\u001b[0m \u001b[0;36m7\u001b[0m\u001b[0;34m\u001b[0m\u001b[0;34m\u001b[0m\u001b[0m\n\u001b[0m",
            "\u001b[0;31mTypeError\u001b[0m: 'tuple' object does not support item assignment"
          ]
        }
      ]
    },
    {
      "cell_type": "markdown",
      "metadata": {
        "id": "mXL4bSm59an0"
      },
      "source": [
        "위의 예제에서 알 수 있듯이 튜플은 값의 변경이 불가능하다.\n",
        "\n",
        "한편 튜플은 그래프 알고리즘을 구현할 떄 자주 사용된다고 한다.<br>\n",
        "e.g 다익스트라 알고리즘 최단경로 문제"
      ]
    },
    {
      "cell_type": "code",
      "metadata": {
        "id": "uvOvUMKU7bZG"
      },
      "source": [
        "# 다익스트라 알고리즘에 대해서는 알고리즘을 하나씩 독파해나갈 때 확인해보자!"
      ],
      "execution_count": null,
      "outputs": []
    },
    {
      "cell_type": "markdown",
      "metadata": {
        "id": "ZzzbgT9W7bbQ"
      },
      "source": [
        "### 사전 자료"
      ]
    },
    {
      "cell_type": "markdown",
      "metadata": {
        "id": "poa69QFl7eDO"
      },
      "source": [
        "* 사전 자료형은 키(key)와 값(value)의 쌍을 데이터로 가지는 자료형이다\n",
        "* 사전 자료형의 대표적인 예시는 Dictionary이다\n",
        "* 파이썬의 사전 자료형은 내부적으로 '해시 테이블(Hash Table)'을 이용하므로 기본적인 데이터의 검색 및 수정에 있어서 O(1)의 시간에 처리할 수 있다\n",
        "* <code>기억하자</code> 키-값 쌍으로 구성된 데이터를 처리함에 있어서 리스트보다 훨씬 빠르게 동작한다는 점은 기억하자!"
      ]
    },
    {
      "cell_type": "code",
      "metadata": {
        "colab": {
          "base_uri": "https://localhost:8080/"
        },
        "id": "jbRhQcL-7eFY",
        "outputId": "a64be7ce-9c5f-4e06-8952-9ef68bfcdb53"
      },
      "source": [
        "# dictionary exampole\n",
        "\n",
        "data = dict()\n",
        "data['사과'] = 'Apple'\n",
        "data['바나나'] = 'Banana'\n",
        "data['코코넛'] = 'Coconut'\n",
        "\n",
        "print(data)"
      ],
      "execution_count": null,
      "outputs": [
        {
          "output_type": "stream",
          "text": [
            "{'사과': 'Apple', '바나나': 'Banana', '코코넛': 'Coconut'}\n"
          ],
          "name": "stdout"
        }
      ]
    },
    {
      "cell_type": "code",
      "metadata": {
        "colab": {
          "base_uri": "https://localhost:8080/"
        },
        "id": "derNaub7_WgI",
        "outputId": "8005209c-6282-44e7-e28c-f92f6420c227"
      },
      "source": [
        "data = dict()\n",
        "data['사과'] = 'Apple'\n",
        "data['바나나'] = 'Banana'\n",
        "data['코코넛'] = 'Coconut'\n",
        "\n",
        "if '사과' in data:\n",
        "    print(\"'사과'를 키로 가지는 데이터가 존재합니다\")"
      ],
      "execution_count": null,
      "outputs": [
        {
          "output_type": "stream",
          "text": [
            "'사과'를 키로 가지는 데이터가 존재합니다\n"
          ],
          "name": "stdout"
        }
      ]
    },
    {
      "cell_type": "markdown",
      "metadata": {
        "id": "bPBikIZN_r1A"
      },
      "source": [
        "#### 사전 자료형 관련 함수"
      ]
    },
    {
      "cell_type": "code",
      "metadata": {
        "colab": {
          "base_uri": "https://localhost:8080/"
        },
        "id": "78nVVQ8l_tHb",
        "outputId": "1f34e948-7f67-410b-a241-e4d5b1aa329c"
      },
      "source": [
        "data = dict()\n",
        "data['사과'] = 'Apple'\n",
        "data['바나나'] = 'Banana'\n",
        "data['코코넛'] = 'Coconut'\n",
        "\n",
        "# 키(key) 데이터만 담은 리스트\n",
        "key_list = data.keys()\n",
        "# 값(value) 데이터만 담은 리스트\n",
        "value_list = data.values()\n",
        "print(key_list)\n",
        "print(value_list)\n",
        "\n",
        "# 각 키에 따른 값을 하나씩 출력\n",
        "for key in data.keys():\n",
        "    print(data[key])"
      ],
      "execution_count": null,
      "outputs": [
        {
          "output_type": "stream",
          "text": [
            "dict_keys(['사과', '바나나', '코코넛'])\n",
            "dict_values(['Apple', 'Banana', 'Coconut'])\n",
            "Apple\n",
            "Banana\n",
            "Coconut\n"
          ],
          "name": "stdout"
        }
      ]
    },
    {
      "cell_type": "markdown",
      "metadata": {
        "id": "ikspppfI7eQt"
      },
      "source": [
        "### 집합 자료형"
      ]
    },
    {
      "cell_type": "markdown",
      "metadata": {
        "id": "B2LQKfkn_VyO"
      },
      "source": [
        "* 파이썬에서는 집합(set)을 처리하기 위한 자료형을 제공하고 있다\n",
        "* 집합은 기본적으로 리스트 혹은 문자열을 이용해서 만들 수 있다\n",
        "* 집합 자료형의 특징\n",
        "    * 중복을 허용하지 않는다\n",
        "    * 순서가 없다"
      ]
    },
    {
      "cell_type": "markdown",
      "metadata": {
        "id": "qoNBSttIApLC"
      },
      "source": [
        "특정한 데이터가 이미 등장한 적이 있는지 여부를 알고 싶을 때 매우 효과적이다"
      ]
    },
    {
      "cell_type": "code",
      "metadata": {
        "colab": {
          "base_uri": "https://localhost:8080/"
        },
        "id": "TbUAqo7gA1Jx",
        "outputId": "c49f7942-7c67-4092-dd47-6a4a84cae5ae"
      },
      "source": [
        "# 집합 자료형 초기화 방법 1\n",
        "\n",
        "data = set([1, 1, 2, 3, 4, 5])\n",
        "print(data)\n",
        "\n",
        "# 집합 자료형 초기화 방법 2\n",
        "data = {1, 1, 2, 3, 4, 4, 5}\n",
        "print(data)"
      ],
      "execution_count": null,
      "outputs": [
        {
          "output_type": "stream",
          "text": [
            "{1, 2, 3, 4, 5}\n",
            "{1, 2, 3, 4, 5}\n"
          ],
          "name": "stdout"
        }
      ]
    },
    {
      "cell_type": "markdown",
      "metadata": {
        "id": "tmUJofhCBAUn"
      },
      "source": [
        "#### 집합 자료형의 연산"
      ]
    },
    {
      "cell_type": "code",
      "metadata": {
        "colab": {
          "base_uri": "https://localhost:8080/"
        },
        "id": "yCPAQJjXBC3x",
        "outputId": "21181e56-33e4-4f36-e9df-5b9801d85ef2"
      },
      "source": [
        "a = set([1, 2, 3, 4, 5])\n",
        "b = set([3, 4, 5, 6, 7])\n",
        "\n",
        "# 합집합\n",
        "print(a | b)\n",
        "\n",
        "# 교집합\n",
        "print(a & b)\n",
        "\n",
        "# 차집합\n",
        "print(a - b)"
      ],
      "execution_count": null,
      "outputs": [
        {
          "output_type": "stream",
          "text": [
            "{1, 2, 3, 4, 5, 6, 7}\n",
            "{3, 4, 5}\n",
            "{1, 2}\n"
          ],
          "name": "stdout"
        }
      ]
    },
    {
      "cell_type": "markdown",
      "metadata": {
        "id": "tYtTns8DBC6l"
      },
      "source": [
        "#### 집합 자료형 관련 함수"
      ]
    },
    {
      "cell_type": "code",
      "metadata": {
        "colab": {
          "base_uri": "https://localhost:8080/"
        },
        "id": "z9eLDQ8PBY_N",
        "outputId": "d8cc7b9b-5e32-4bb5-f02d-53beb911f7dc"
      },
      "source": [
        "data = set([1, 2, 3])\n",
        "print(data)\n",
        "\n",
        "# 새로운 원소 추가\n",
        "data.add(4)  # add()함수의 시간 복잡도는 1이다\n",
        "print(data)\n",
        "\n",
        "# 새로운 원소 여러 개 추가\n",
        "data.update([5, 6])\n",
        "print(data)\n",
        "\n",
        "# 특정한 값을 갖는 원소 삭제\n",
        "data.remove(3)\n",
        "print(data)"
      ],
      "execution_count": null,
      "outputs": [
        {
          "output_type": "stream",
          "text": [
            "{1, 2, 3}\n",
            "{1, 2, 3, 4}\n",
            "{1, 2, 3, 4, 5, 6}\n",
            "{1, 2, 4, 5, 6}\n"
          ],
          "name": "stdout"
        }
      ]
    },
    {
      "cell_type": "markdown",
      "metadata": {
        "id": "S-19RVaTsOHh"
      },
      "source": [
        "## 2. 조건문"
      ]
    },
    {
      "cell_type": "markdown",
      "metadata": {
        "id": "cZof_F3_21mh"
      },
      "source": [
        "조건문은 프로그램을 작성할 때 프로그램의 흐름을 제어하는 문법이다."
      ]
    },
    {
      "cell_type": "code",
      "metadata": {
        "colab": {
          "base_uri": "https://localhost:8080/"
        },
        "id": "PbE-Rt5q22pb",
        "outputId": "f7b2a29a-c7d7-4cf1-e0f8-f6610327c2de"
      },
      "source": [
        "# e.g 간단한 조건문 예시\n",
        "x = 15\n",
        "\n",
        "if x >= 10:\n",
        "    print(x)"
      ],
      "execution_count": null,
      "outputs": [
        {
          "output_type": "stream",
          "text": [
            "15\n"
          ],
          "name": "stdout"
        }
      ]
    },
    {
      "cell_type": "code",
      "metadata": {
        "id": "0pDodedlsRJN",
        "colab": {
          "base_uri": "https://localhost:8080/"
        },
        "outputId": "6d55276f-8656-443b-8a3f-3d44c1c4a396"
      },
      "source": [
        "# 학점 출력 프로그램 만들기\n",
        "\"\"\"\n",
        "90점 이상이면 A학점,\n",
        "80점 이상이면 B학점,\n",
        "70점 이상이면 C학점을 주는 프로그램 작성하기\n",
        "\"\"\"\n",
        "\n",
        "\n",
        "score = 85\n",
        "\n",
        "if score >= 90:\n",
        "    print(\"학점: A\")\n",
        "elif score >= 80:\n",
        "    print(\"학점: B\")\n",
        "elif score >= 70:\n",
        "    print(\"학점: C\")\n",
        "else:\n",
        "    print(\"학점: D\")"
      ],
      "execution_count": null,
      "outputs": [
        {
          "output_type": "stream",
          "text": [
            "학점: B\n"
          ],
          "name": "stdout"
        }
      ]
    },
    {
      "cell_type": "markdown",
      "metadata": {
        "id": "UWPzBXHH3UH9"
      },
      "source": [
        "조건문을 사용할 때 들여쓰기를 해야하는데 일반적으로 알고있던과는 다른 부분이 있다. 스페이스 4번이 표준이라고 한다!(하지만 코딩테스트 같이 시간이 촉박한 환경에서는 텝(Tab)을 활용하는게 좋을 것 같다!)"
      ]
    },
    {
      "cell_type": "markdown",
      "metadata": {
        "id": "Ljgpy6u14JKx"
      },
      "source": [
        "#### 비교 연산자와 논리 연산자"
      ]
    },
    {
      "cell_type": "code",
      "metadata": {
        "colab": {
          "base_uri": "https://localhost:8080/"
        },
        "id": "-ptjQwnd4L4Z",
        "outputId": "5c2b0113-c8cc-490e-b55c-015ab707ea0c"
      },
      "source": [
        "\"\"\"\n",
        "비교 연산자\n",
        "\n",
        "X == Y \n",
        "X != Y \n",
        "X > Y  \n",
        "X < Y  \n",
        "X >= Y \n",
        "X <= Y \n",
        "\"\"\"\n",
        "print(\"비교 연산자\")\n",
        "\n",
        "X = 10\n",
        "Y = 15\n",
        "print(X == Y)  # False\n",
        "print(X != Y)  # True\n",
        "print(X > Y)   # False\n",
        "print(X < Y)   # True\n",
        "print(X >= Y)  # False\n",
        "print(X <= Y)  # True\n",
        "print()\n",
        "\n",
        "\"\"\"\n",
        "논리 연산자\n",
        "X and Y\n",
        "X or Y\n",
        "not X\n",
        "\"\"\"\n",
        "print(\"논리 연산자\")\n",
        "X = True\n",
        "Y = False\n",
        "print(X and Y)  # False\n",
        "print(X or Y)   # True\n",
        "print(not X)    # False"
      ],
      "execution_count": null,
      "outputs": [
        {
          "output_type": "stream",
          "text": [
            "비교 연산자\n",
            "False\n",
            "True\n",
            "False\n",
            "True\n",
            "False\n",
            "True\n",
            "\n",
            "논리 연산자\n",
            "False\n",
            "True\n",
            "False\n"
          ],
          "name": "stdout"
        }
      ]
    },
    {
      "cell_type": "markdown",
      "metadata": {
        "id": "7z-rVwHP5Ljr"
      },
      "source": [
        "#### ✅  파이썬 기타 연산자"
      ]
    },
    {
      "cell_type": "markdown",
      "metadata": {
        "id": "sXaopxF85NEw"
      },
      "source": [
        "파이썬에서 제공하는 재미있는 연산자 두 가지를 더 알아보자.<br>\n",
        "✅  바로 <code>in 연산자</code>와 <code>not in 연산자이다</code><br>\n",
        "파이썬에는 여러개의 데이터를 담는 자료형으로 리스트, 튜플, 문자열, 사전과 같은 자료형이 존재한다. 자료형 안에 어떤 값이 존재하는지 확인하고 싶을 때가 있는데 이때 해당 연산자를 사용한다\n"
      ]
    },
    {
      "cell_type": "code",
      "metadata": {
        "colab": {
          "base_uri": "https://localhost:8080/"
        },
        "id": "j3jgiyNv5xpz",
        "outputId": "abb9e405-32a5-4124-fcd1-9ff8956d97b8"
      },
      "source": [
        "a = [1, 2, 3, 4, 5]\n",
        "print(1 in a)\n",
        "print(6 in a)\n",
        "print(7 not in a)"
      ],
      "execution_count": null,
      "outputs": [
        {
          "output_type": "stream",
          "text": [
            "True\n",
            "False\n",
            "True\n"
          ],
          "name": "stdout"
        }
      ]
    },
    {
      "cell_type": "markdown",
      "metadata": {
        "id": "MRmEtcsW6QTQ"
      },
      "source": [
        "#### 조건문 표현식\n",
        "조건문 표현식에 대해서도 알아보자"
      ]
    },
    {
      "cell_type": "code",
      "metadata": {
        "colab": {
          "base_uri": "https://localhost:8080/"
        },
        "id": "YbhHJ7FH6vu7",
        "outputId": "3d578c49-9302-4fe0-ffc2-b1610f8c22b2"
      },
      "source": [
        "# 한 줄로 표현하기\n",
        "score = 85\n",
        "\n",
        "if score >= 80: result = \"Success\"\n",
        "else: result = \"Fail\"\n",
        "\n",
        "print(result)"
      ],
      "execution_count": null,
      "outputs": [
        {
          "output_type": "stream",
          "text": [
            "Success\n"
          ],
          "name": "stdout"
        }
      ]
    },
    {
      "cell_type": "code",
      "metadata": {
        "colab": {
          "base_uri": "https://localhost:8080/"
        },
        "id": "8AgBSDeL6UYD",
        "outputId": "8d06004a-ceb1-49fd-9607-c11eb0e66fcb"
      },
      "source": [
        "# 조건문 표현식(Conditional Expression)\n",
        "score = 85\n",
        "result = \"Success\" if score >= 80 else \"Fail\"\n",
        "\n",
        "print(result)"
      ],
      "execution_count": null,
      "outputs": [
        {
          "output_type": "stream",
          "text": [
            "Success\n"
          ],
          "name": "stdout"
        }
      ]
    },
    {
      "cell_type": "markdown",
      "metadata": {
        "id": "UDzAFsRU63Il"
      },
      "source": [
        "조건부 표현식을 좀 더 알아보자"
      ]
    },
    {
      "cell_type": "code",
      "metadata": {
        "colab": {
          "base_uri": "https://localhost:8080/"
        },
        "id": "VliajLj265g-",
        "outputId": "f3a90cc5-b7d0-439c-a2b4-794f0656942a"
      },
      "source": [
        "a = [1, 2, 3, 4, 5, 5, 5]\n",
        "remove_set = {3, 5}\n",
        "\n",
        "result = []\n",
        "for i in a:\n",
        "    if i not in remove_set:\n",
        "        result.append(i)\n",
        "\n",
        "print(result)\n",
        "\n",
        "\n",
        "result = []\n",
        "for i in a:\n",
        "    if i in remove_set:\n",
        "        pass\n",
        "    else:\n",
        "        result.append(i)\n",
        "print(result)"
      ],
      "execution_count": null,
      "outputs": [
        {
          "output_type": "stream",
          "text": [
            "[1, 2, 4]\n",
            "[1, 2, 4]\n"
          ],
          "name": "stdout"
        }
      ]
    },
    {
      "cell_type": "markdown",
      "metadata": {
        "id": "YVl3M2r47UyD"
      },
      "source": [
        "Conditional Expression을 사용해서 간단하게 작성해보자"
      ]
    },
    {
      "cell_type": "code",
      "metadata": {
        "colab": {
          "base_uri": "https://localhost:8080/"
        },
        "id": "pcjkYHn57ZF7",
        "outputId": "0ae6f1cf-00cb-40a5-c8d1-66219eeccacf"
      },
      "source": [
        "a = [1, 2, 3, 4, 5, 5, 5]\n",
        "remove_set = {3, 5}\n",
        "\n",
        "result = [i for i in a if i not in remove_set]\n",
        "print(result)"
      ],
      "execution_count": null,
      "outputs": [
        {
          "output_type": "stream",
          "text": [
            "[1, 2, 4]\n"
          ],
          "name": "stdout"
        }
      ]
    },
    {
      "cell_type": "code",
      "metadata": {
        "colab": {
          "base_uri": "https://localhost:8080/"
        },
        "id": "LZ0HJOFjkGL9",
        "outputId": "9ba162e7-fa25-4ebf-fd0b-d1d94114ab07"
      },
      "source": [
        "# Review\n",
        "\n",
        "# Method 1.\n",
        "a = [1, 2, 3, 4, 5, 5, 5]\n",
        "remove_set = {3, 5}\n",
        "\n",
        "result = []\n",
        "\n",
        "for elem in a:\n",
        "    if elem not in remove_set:\n",
        "        result.append(elem)\n",
        "\n",
        "print(result)\n",
        "print()\n",
        "\n",
        "result = [elem for elem in a if elem not in remove_set]\n",
        "print(result)"
      ],
      "execution_count": null,
      "outputs": [
        {
          "output_type": "stream",
          "text": [
            "[1, 2, 4]\n",
            "\n",
            "[1, 2, 4]\n"
          ],
          "name": "stdout"
        }
      ]
    },
    {
      "cell_type": "markdown",
      "metadata": {
        "id": "Cjak0tFcsRVI"
      },
      "source": [
        "## 3. 반복문"
      ]
    },
    {
      "cell_type": "markdown",
      "metadata": {
        "id": "LFTMSON9rxAs"
      },
      "source": [
        "반복문은 특정한 소스코드를 반복적으로 실행하고자 할 때 사용할 수 있다. <br>\n",
        "코딩테스트에서는 for문이 더 자주 사용된다"
      ]
    },
    {
      "cell_type": "markdown",
      "metadata": {
        "id": "Z42eiB4s7-U9"
      },
      "source": [
        "### while문"
      ]
    },
    {
      "cell_type": "code",
      "metadata": {
        "colab": {
          "base_uri": "https://localhost:8080/"
        },
        "id": "PmW36Ko08CCY",
        "outputId": "d0161137-6826-47db-c47b-745b1a57b87b"
      },
      "source": [
        "i = 1\n",
        "result = 0\n",
        "\n",
        "# i가 9보다 작거나 같을 때 아래 코드를 반복적으로 실행\n",
        "while i <=9:\n",
        "    result += i\n",
        "    i += 1\n",
        "\n",
        "print(result)  # 45"
      ],
      "execution_count": null,
      "outputs": [
        {
          "output_type": "stream",
          "text": [
            "45\n"
          ],
          "name": "stdout"
        }
      ]
    },
    {
      "cell_type": "code",
      "metadata": {
        "colab": {
          "base_uri": "https://localhost:8080/"
        },
        "id": "IiSHWtxA8oX8",
        "outputId": "f117f600-dd65-454e-9c14-a1729c0e10a0"
      },
      "source": [
        "# 1부터 9까지의 수 중에서 홀수만 더해주는 반복문!\n",
        "\n",
        "i = 1\n",
        "result = 0\n",
        "\n",
        "while i <=9:\n",
        "    if i % 2 ==1:\n",
        "        result +=i\n",
        "    i +=1\n",
        "\n",
        "print(result)  # something"
      ],
      "execution_count": null,
      "outputs": [
        {
          "output_type": "stream",
          "text": [
            "25\n"
          ],
          "name": "stdout"
        }
      ]
    },
    {
      "cell_type": "markdown",
      "metadata": {
        "id": "8uz6uHsu8CSr"
      },
      "source": [
        "### for문"
      ]
    },
    {
      "cell_type": "code",
      "metadata": {
        "id": "79jl2_S2sQB7",
        "colab": {
          "base_uri": "https://localhost:8080/"
        },
        "outputId": "47a2932a-983d-4a95-c550-799c83530bf1"
      },
      "source": [
        "# 1q부터 9까지의 모든 값을 순회하며 더해보자\n",
        "\n",
        "result = 0\n",
        "\n",
        "for i in range(10):\n",
        "    result += i\n",
        "\n",
        "print(result)"
      ],
      "execution_count": null,
      "outputs": [
        {
          "output_type": "stream",
          "text": [
            "45\n"
          ],
          "name": "stdout"
        }
      ]
    },
    {
      "cell_type": "code",
      "metadata": {
        "colab": {
          "base_uri": "https://localhost:8080/"
        },
        "id": "WA39Z2I19kyj",
        "outputId": "ab5d052e-1406-4856-999e-9316d3e12e17"
      },
      "source": [
        "# for문 예시\n",
        "scores = [90, 85, 77, 65, 97]\n",
        "\n",
        "for i in range(5):\n",
        "    if scores[i] >= 80:\n",
        "        print(i+1, \"번째 학생은 합격입니다\")"
      ],
      "execution_count": null,
      "outputs": [
        {
          "output_type": "stream",
          "text": [
            "1 번째 학생은 합격입니다\n",
            "2 번째 학생은 합격입니다\n",
            "5 번째 학생은 합격입니다\n"
          ],
          "name": "stdout"
        }
      ]
    },
    {
      "cell_type": "code",
      "metadata": {
        "colab": {
          "base_uri": "https://localhost:8080/"
        },
        "id": "hQnWEHBp94v3",
        "outputId": "b6c45a33-d06a-46fc-ef84-2137dea563cb"
      },
      "source": [
        "# 블랙리스트에 있는 학생 제외하고 합격컷 만들기\n",
        "\n",
        "scores = [90, 85, 77, 65, 97]\n",
        "black_list = {2, 4}\n",
        "\n",
        "for i in range(5):\n",
        "    if i+1 in black_list:  # 인덱스를 맞춰주기 위해 1을 더해주었다\n",
        "        continue\n",
        "    if scores[i] >= 80:\n",
        "        print(i+1, \"번째 학생은 합격입니다\")"
      ],
      "execution_count": null,
      "outputs": [
        {
          "output_type": "stream",
          "text": [
            "1 번째 학생은 합격입니다\n",
            "5 번째 학생은 합격입니다\n"
          ],
          "name": "stdout"
        }
      ]
    },
    {
      "cell_type": "code",
      "metadata": {
        "id": "tkYqNPEV-dnK"
      },
      "source": [
        "# 구구단 계산하기(2중 반복문)\n",
        "\n",
        "# for i in range(1, 10):\n",
        "#     for j in range(1, 10):\n",
        "#         print(i, \"x\", j, \"=\", i*j, \"입니다\")"
      ],
      "execution_count": null,
      "outputs": []
    },
    {
      "cell_type": "markdown",
      "metadata": {
        "id": "UwWIrhPYsO0-"
      },
      "source": [
        "## 4. 함수"
      ]
    },
    {
      "cell_type": "markdown",
      "metadata": {
        "id": "QIdrQ7N8eOXa"
      },
      "source": [
        "* 매개변수: 함수 내부에서 사용되는 변수의 값을 전달 받기 위해 매개변수를 정의할 수 있다\n",
        "* 인자(Argument): 함수를 출하는 과정에서 넘겨주는 값"
      ]
    },
    {
      "cell_type": "code",
      "metadata": {
        "id": "cSzyc4KzsWPN",
        "colab": {
          "base_uri": "https://localhost:8080/"
        },
        "outputId": "c4798aee-9e45-4c01-b597-25dad6313eeb"
      },
      "source": [
        "# return문 없이도 함수의 작성이 가능하다\n",
        "\n",
        "def add(a, b):\n",
        "    print(\"함수의 결과: \", a + b)\n",
        "\n",
        "add(3, 7)"
      ],
      "execution_count": null,
      "outputs": [
        {
          "output_type": "stream",
          "text": [
            "함수의 결과:  10\n"
          ],
          "name": "stdout"
        }
      ]
    },
    {
      "cell_type": "markdown",
      "metadata": {
        "id": "0PPkbRziegxs"
      },
      "source": [
        "* ✅  global: 함수 안에서 함수 밖의 변수 데이터를 변경해야하는 경우 <code>global</code> 키워드를 이용하면 된다\n",
        "    * 함수 내부에서 global 키워드를 지정하면, 해당 함수는 지역 변수를 만들지 않고, 함수 밖의 변수를 참조하게 된다\n"
      ]
    },
    {
      "cell_type": "code",
      "metadata": {
        "colab": {
          "base_uri": "https://localhost:8080/"
        },
        "id": "m_AQFYJ3ez6V",
        "outputId": "a92de8d8-6e03-4d95-99f1-70314b1729e4"
      },
      "source": [
        "# global 키워드 사용하기\n",
        "\n",
        "a = 0\n",
        "\n",
        "def func():\n",
        "    global a\n",
        "    a += 1\n",
        "\n",
        "for i in range(10):  # 10번 반복한다\n",
        "    func()  # expect: a = 10\n",
        "\n",
        "print(a)"
      ],
      "execution_count": null,
      "outputs": [
        {
          "output_type": "stream",
          "text": [
            "10\n"
          ],
          "name": "stdout"
        }
      ]
    },
    {
      "cell_type": "markdown",
      "metadata": {
        "id": "vb9Kf3edfL4P"
      },
      "source": [
        "* ✅  람다 표현식(lambda): 함수를 매우 간단하게 작성하여 적용할 수 있다\n",
        "    * 특정한 기능을 수행하는 함수를 한 줄에 작성할 수 있다는 특징이 있다\n",
        "    * 정렬(sort)에서 자주 사용된다. 뒤에서 알아보도록 하자!"
      ]
    },
    {
      "cell_type": "code",
      "metadata": {
        "colab": {
          "base_uri": "https://localhost:8080/"
        },
        "id": "l5co9he2eoU2",
        "outputId": "cb82ba12-d97a-4651-97b9-af6e349e5cc4"
      },
      "source": [
        "def add(a, b):\n",
        "    return a+b\n",
        "\n",
        "# 일반적인 add() 메서드 사용\n",
        "print(add(3, 7))\n",
        "\n",
        "# 람다 표현식 사용\n",
        "print((lambda a, b: a + b)(3, 7))"
      ],
      "execution_count": null,
      "outputs": [
        {
          "output_type": "stream",
          "text": [
            "10\n",
            "10\n"
          ],
          "name": "stdout"
        }
      ]
    },
    {
      "cell_type": "markdown",
      "metadata": {
        "id": "deRDKgSpsWaJ"
      },
      "source": [
        "## 5. 입출력"
      ]
    },
    {
      "cell_type": "markdown",
      "metadata": {
        "id": "k6z3_hVVkv2i"
      },
      "source": [
        "알고리즘 문제 풀이의 첫 단계는 데이터를 입력 받는 것이다. 알고리즘 문제의 경우 적절한 입력이 주어졌을 때, 그 입력을 받아서 적절한 알고리즘을 수행한 뒤 결과를 출력하는 것을 요구하기 때문이다"
      ]
    },
    {
      "cell_type": "markdown",
      "metadata": {
        "id": "tqc12ucL0Tq5"
      },
      "source": [
        "> 예제. 학생의 성적을 입력받고 내림차순으로 정렬하는 알고리즘을 작성해보시오"
      ]
    },
    {
      "cell_type": "markdown",
      "metadata": {
        "id": "QHz5SKcfnR5x"
      },
      "source": [
        "Case1. 내가 스크레치로 작성한 코드\n",
        "> (단점) 입력받을 횟수만큼 직접 입력해야한다\n",
        "\n",
        "*Q. 한 번에 입력받을 수 있는 방법은 없을까?* "
      ]
    },
    {
      "cell_type": "code",
      "metadata": {
        "id": "oyLgPE1IsY8P"
      },
      "source": [
        "def s_sort(num):\n",
        "    num = num\n",
        "    scores = []\n",
        "\n",
        "    for i in range(num):\n",
        "        score = input(\"score: \")\n",
        "        scores.append(score)\n",
        "\n",
        "    print(scores)\n",
        "    scores.sort()\n",
        "    print(scores)"
      ],
      "execution_count": null,
      "outputs": []
    },
    {
      "cell_type": "code",
      "metadata": {
        "id": "U9n2M3NPsZFA",
        "colab": {
          "base_uri": "https://localhost:8080/"
        },
        "outputId": "d7e50868-781c-4692-9ab9-20870e255ec0"
      },
      "source": [
        "s_sort(5)"
      ],
      "execution_count": null,
      "outputs": [
        {
          "output_type": "stream",
          "text": [
            "score: 65\n",
            "score: 90\n",
            "score: 75\n",
            "score: 34\n",
            "score: 99\n",
            "['65', '90', '75', '34', '99']\n",
            "['34', '65', '75', '90', '99']\n"
          ],
          "name": "stdout"
        }
      ]
    },
    {
      "cell_type": "markdown",
      "metadata": {
        "id": "Zw4hGzXAnoaI"
      },
      "source": [
        "Case2. 입력을 위한 전형적인 소스코드(책)<br>\n",
        "* 여러개의 데이터를 입력받을 때 데이터는 공백으로 구분되는 경우가 많다\n",
        "* ✅  입력 받은 문자열을 띄어쓰기로 구분하여 각각 정수 자료형의 데이터로 저장하는 코드의 사용 빈도가 매우 높다"
      ]
    },
    {
      "cell_type": "code",
      "metadata": {
        "colab": {
          "base_uri": "https://localhost:8080/"
        },
        "id": "7bVyyFS3nvah",
        "outputId": "2cd980c2-4201-42b4-eb34-13d8733681d1"
      },
      "source": [
        "# 데이터의 개수 입력\n",
        "n = int(input())  # 개수를 입력받아 변수 n에 할당한다\n",
        "\n",
        "# 각 데이터를 공백으로 구분하여 입력 (* 외워주세요!)\n",
        "data = list(map(int, input().split()))\n",
        "\n",
        "data.sort(reverse=True)\n",
        "print(data)"
      ],
      "execution_count": null,
      "outputs": [
        {
          "output_type": "stream",
          "text": [
            "5\n",
            "65 90 75 34 99\n",
            "[99, 90, 75, 65, 34]\n"
          ],
          "name": "stdout"
        }
      ]
    },
    {
      "cell_type": "markdown",
      "metadata": {
        "id": "r-vlrW07oznC"
      },
      "source": [
        "✅ case3. 공백을 기준으로 구분하여 적은 수의 데이터 입력 \n"
      ]
    },
    {
      "cell_type": "code",
      "metadata": {
        "colab": {
          "base_uri": "https://localhost:8080/"
        },
        "id": "BbEa4qEXo5IB",
        "outputId": "3250642d-83db-4f2b-9356-845725c54c13"
      },
      "source": [
        "# n, m, k를 공백으로 구분하여 입력\n",
        "\n",
        "n, m, k = map(int, input().split())\n",
        "print(n, m, k)"
      ],
      "execution_count": null,
      "outputs": [
        {
          "output_type": "stream",
          "text": [
            "3 5 7\n",
            "3 5 7\n"
          ],
          "name": "stdout"
        }
      ]
    },
    {
      "cell_type": "code",
      "metadata": {
        "id": "fN94Pr-C1dWV"
      },
      "source": [
        "# 5명의 성적을 입력받아 내림차순으로 정렬하는 함수를 구현하시오\n",
        "\n",
        "def get_score():\n",
        "    state = True  # state를 통해 학생의 수와 입력 데이터의 수가 같은지 확인해주자!\n",
        "    num = int(input(\"학생 수를 입력하세요(정수, 입력후 Enter): \"))  # 학생수를 입력받는다\n",
        "    scores = [0 for i in range(num)]  # 리스트 초기화(리스트 컴프리헨션)\n",
        "\n",
        "    while state == True:  # state가 True가 될 때까지 반복합니다.        \n",
        "        scores = list(map(int, input(\"학생의 점수를 입력해주세요(스페이스로 학생간 점수를 구분해 주세요!): \").split()))  # 여러 데이터를 입력받아 리스트로 할당\n",
        "        if len(scores) == num:\n",
        "            scores.sort(reverse=True)  # 점수를 내림차순으로 출력\n",
        "            state = False\n",
        "        else:\n",
        "            print(\"학생 수 만큼 데이터를 입력해주세요!\")\n",
        "            state = True\n",
        "            # pass\n",
        "    \n",
        "    return num, scores"
      ],
      "execution_count": null,
      "outputs": []
    },
    {
      "cell_type": "code",
      "metadata": {
        "colab": {
          "base_uri": "https://localhost:8080/"
        },
        "id": "te62aGPY2ecT",
        "outputId": "be016b7e-8e42-4581-a7dc-5c23b9671c05"
      },
      "source": [
        "get_score()"
      ],
      "execution_count": null,
      "outputs": [
        {
          "output_type": "stream",
          "text": [
            "학생 수를 입력하세요(정수, 입력후 Enter): 5\n",
            "학생의 점수를 입력해주세요(스페이스로 학생간 점수를 구분해 주세요!): 3 4 5\n",
            "학생 수 만큼 데이터를 입력해주세요!\n",
            "학생의 점수를 입력해주세요(스페이스로 학생간 점수를 구분해 주세요!): 3 4 5 6\n",
            "학생 수 만큼 데이터를 입력해주세요!\n",
            "학생의 점수를 입력해주세요(스페이스로 학생간 점수를 구분해 주세요!): 599 877 54 -78 98\n"
          ],
          "name": "stdout"
        },
        {
          "output_type": "execute_result",
          "data": {
            "text/plain": [
              "(5, [877, 599, 98, 54, -78])"
            ]
          },
          "metadata": {
            "tags": []
          },
          "execution_count": 24
        }
      ]
    },
    {
      "cell_type": "markdown",
      "metadata": {
        "id": "D2lngl-T5OqK"
      },
      "source": [
        "지금까지 배웠던 함수, 조건문, 반복문 그리고 입.출력을 활용해 간단한 알고리즘을 만들어보았다. 스킬이 쌓이면 더 나은 것들도 만들 수 있지 않을까!"
      ]
    },
    {
      "cell_type": "markdown",
      "metadata": {
        "id": "smTwFNbkpOxM"
      },
      "source": [
        "문제를 풀다보면, 입력을 최대한 빠르게 받아야 하는 경우가 있다.<br>\n",
        "정렬, 이진 탐색, 최단 경로 문제를 풀 때 매우 많은 수의 데이터가 연속적으로 입력되곤 한다.\n",
        "> e.g 1,000만개가 넘는 라인이 입력되는 경우, 입력을 받는 것만으로도 시간 초과를 받을 수 있다.(뿐만아니라 데이터가 한 줄마다 입력되는 경우도 있다)\n",
        "<br>\n",
        "\n",
        "✅ 따라서 **사용하는** 언어별로 입력을 더 빠르게 받는 방법을 알고 있어야 한다."
      ]
    },
    {
      "cell_type": "markdown",
      "metadata": {
        "id": "trnM140F6HWx"
      },
      "source": [
        "*Q. 파이썬에서 입력 데이터가 많은 경우, input()메서드를 사용하면 될까? 아니 좋을까?*<br>\n",
        "*A. 입력 개수가 많은 경우, 단순히 input()메서드를 사용하지 않는다*\n"
      ]
    },
    {
      "cell_type": "markdown",
      "metadata": {
        "id": "kGoH5yZQ6WBb"
      },
      "source": [
        "파이썬의 경우 sys라이브러리에 정의되어 있는 sys.stdin.readline()함수를 이용한다. "
      ]
    },
    {
      "cell_type": "code",
      "metadata": {
        "colab": {
          "base_uri": "https://localhost:8080/",
          "height": 35
        },
        "id": "bFw3qIg36US_",
        "outputId": "6eb8c139-50d1-45df-dc9b-dcf918c92f62"
      },
      "source": [
        "import sys\n",
        "sys.stdin.readline().rstrip()"
      ],
      "execution_count": null,
      "outputs": [
        {
          "output_type": "execute_result",
          "data": {
            "application/vnd.google.colaboratory.intrinsic+json": {
              "type": "string"
            },
            "text/plain": [
              "''"
            ]
          },
          "metadata": {
            "tags": []
          },
          "execution_count": 25
        }
      ]
    },
    {
      "cell_type": "markdown",
      "metadata": {
        "id": "B_rNnBzy6kP3"
      },
      "source": [
        "✅  sys 라이브러리를 사용할 때는 한 줄 입력 받고 나서 <code>rstrip()</code> 함수를 꼭 호출해야한다!"
      ]
    },
    {
      "cell_type": "code",
      "metadata": {
        "colab": {
          "base_uri": "https://localhost:8080/"
        },
        "id": "aT-Mgcgd47m6",
        "outputId": "61c20595-95c3-44d1-94f3-438a1d23ff38"
      },
      "source": [
        "# sys 라이브러리 사용해보기\n",
        "\n",
        "import sys\n",
        "\n",
        "# 문자열 입력 받기 (rstrip() 없이)\n",
        "data = sys.stdin.readline()\n",
        "print(data)\n",
        "\n",
        "# sys 라이브러리를 사용할 때는 반드시 rstrip() 함수를 사용해야 한다\n",
        "data = sys.stdin.readline().rstrip()\n",
        "print(data)"
      ],
      "execution_count": null,
      "outputs": [
        {
          "output_type": "stream",
          "text": [
            "\n",
            "\n"
          ],
          "name": "stdout"
        }
      ]
    },
    {
      "cell_type": "code",
      "metadata": {
        "colab": {
          "base_uri": "https://localhost:8080/",
          "height": 35
        },
        "id": "UwNPC4nr83_h",
        "outputId": "e620d6f9-19a2-420a-b55e-0081ba5dbd6c"
      },
      "source": [
        "import sys\n",
        "\n",
        "# 입력 1, 2, 3\n",
        "sys.stdin.readline()"
      ],
      "execution_count": null,
      "outputs": [
        {
          "output_type": "execute_result",
          "data": {
            "application/vnd.google.colaboratory.intrinsic+json": {
              "type": "string"
            },
            "text/plain": [
              "''"
            ]
          },
          "metadata": {
            "tags": []
          },
          "execution_count": 39
        }
      ]
    },
    {
      "cell_type": "markdown",
      "metadata": {
        "id": "CEN_cnka9FTb"
      },
      "source": [
        "왜때문에 입력이 안뜨는거죠??"
      ]
    },
    {
      "cell_type": "markdown",
      "metadata": {
        "id": "GDHxm5LtsZHw"
      },
      "source": [
        "## 6. 주요 라이브러리의 문법과 유의"
      ]
    },
    {
      "cell_type": "code",
      "metadata": {
        "id": "x00ozy7pscmY",
        "colab": {
          "base_uri": "https://localhost:8080/"
        },
        "outputId": "6f57c1be-faad-46c7-e35e-843feff8d0ce"
      },
      "source": [
        "print(\"Hello World!\")"
      ],
      "execution_count": null,
      "outputs": [
        {
          "output_type": "stream",
          "text": [
            "Hello World!\n"
          ],
          "name": "stdout"
        }
      ]
    },
    {
      "cell_type": "markdown",
      "metadata": {
        "id": "0NcD2PyoNmta"
      },
      "source": [
        "* 실전에서 유용한 표준 라이브러리\n",
        "    * 내장 함수(Built-in Functions): 기본 입출력 함수부터 정렬 함수까지 기본적인 함수들을 제공\n",
        "        * 파이썬 프로그램을 작성할 때 없어서는 안 되는 필수 기능 포함\n",
        "    * itertools: 파이썬에서 반복되는 형태의 데이터를 처리하기 위해 유용한 기능 제공\n",
        "        * 특히 순열과 조합 라이브러리는 코딩테스트에 자주 사용된다(permutations, combinations)\n",
        "    * headq: 힙(Heap) 자료구조를 제공\n",
        "        * 일반적으로 우선순위 큐 기능을 구현하기 위해 사용\n",
        "    * bisect: 이진 탐색(Binary Search) 기능을 제공\n",
        "    * collections: 덱(deque), 카운터(Counter) 등의 유용한 자료구조 포함\n",
        "    * math: 수적인 수학적 기능 제공\n",
        "        * 펙토리얼, 제곱근, 최대공약수(GCD), 삼각함수 관련 함수부터 파이(pi)와 같은 상수 포함"
      ]
    },
    {
      "cell_type": "markdown",
      "metadata": {
        "id": "5SCdW-2rOBvX"
      },
      "source": [
        "### 자주 사용되는 내장 함수\n",
        "* sum()\n",
        "* min(), max()\n",
        "* eval()\n",
        "* sorted()\n",
        "    * sorted() with key"
      ]
    },
    {
      "cell_type": "code",
      "metadata": {
        "colab": {
          "base_uri": "https://localhost:8080/"
        },
        "id": "ftHzIRi0O9pF",
        "outputId": "3be3a187-709c-4892-abab-e7d8f6dec804"
      },
      "source": [
        "# sum()\n",
        "\n",
        "# min(), max()\n",
        "\n",
        "# eval()\n",
        "result = eval(\"(3+5)*7\")\n",
        "print(result)"
      ],
      "execution_count": null,
      "outputs": [
        {
          "output_type": "stream",
          "text": [
            "56\n"
          ],
          "name": "stdout"
        }
      ]
    },
    {
      "cell_type": "code",
      "metadata": {
        "colab": {
          "base_uri": "https://localhost:8080/"
        },
        "id": "KXQ2zqauPGov",
        "outputId": "cccad006-8f1c-44e0-884a-69f445e6631d"
      },
      "source": [
        "# sorted() 함수\n",
        "result = sorted([9, 1, 8, 5, 4])\n",
        "reverse_result = sorted([9, 1, 8, 5, 4], reverse=True)\n",
        "print(result)\n",
        "print(reverse_result)\n",
        "\n",
        "# sorted() with key\n",
        "# 이번에는 key를 기준으로 정렬해보도록 하자\n",
        "\n",
        "array = [('홍길동', 35), ('이순신', 75), ('아무개', 50)]\n",
        "result = sorted(array, key=lambda x: x[1], reverse=True)\n",
        "print(result)\n",
        "print(\"오름차순으로 정렬해보자!\")\n",
        "\n",
        "result = sorted(array, key=lambda x: x[1])\n",
        "print(result)"
      ],
      "execution_count": null,
      "outputs": [
        {
          "output_type": "stream",
          "text": [
            "[1, 4, 5, 8, 9]\n",
            "[9, 8, 5, 4, 1]\n",
            "[('이순신', 75), ('아무개', 50), ('홍길동', 35)]\n",
            "오름차순으로 정렬해보자!\n",
            "[('홍길동', 35), ('아무개', 50), ('이순신', 75)]\n"
          ],
          "name": "stdout"
        }
      ]
    },
    {
      "cell_type": "markdown",
      "metadata": {
        "id": "XAqMPAgiQGVw"
      },
      "source": [
        "### 순열과 조합\n",
        "* 모든 경우의 수를 고려해야할 때 <code>itertools </code>라이브러리를 사용하자!\n",
        "* 순열: 서로 다른 n개에서 서로 다른 r개를 선택하여 일렬로 나열하는 것\n",
        "* 조합: 서로 다른 n개에서 순서에 상관 없이 서로 다른 r개를 선택하는 것"
      ]
    },
    {
      "cell_type": "markdown",
      "metadata": {
        "id": "oK0rBrpeQM5J"
      },
      "source": [
        "itertools 라이브러리의 permutations을 사용하면 순열을 구할 수 있다"
      ]
    },
    {
      "cell_type": "code",
      "metadata": {
        "colab": {
          "base_uri": "https://localhost:8080/"
        },
        "id": "bmlzPhsaRQky",
        "outputId": "34cb9e27-199b-4ad0-d2d2-4abae32fdda5"
      },
      "source": [
        "# itertools: 파이썬에서 반복되는 데이터를 처리하는 기능을 포함하고 있는 라이브러리\n",
        "# permutations: itertools 클래스!\n",
        "\n",
        "from itertools import permutations\n",
        "\n",
        "data = ['A', 'B', 'C']\n",
        "result = permutations(data, 2)\n",
        "print(result)"
      ],
      "execution_count": 6,
      "outputs": [
        {
          "output_type": "stream",
          "text": [
            "<itertools.permutations object at 0x7ff07f4f4678>\n"
          ],
          "name": "stdout"
        }
      ]
    },
    {
      "cell_type": "markdown",
      "metadata": {
        "id": "uyfLighsfq3W"
      },
      "source": [
        "permutations는 클래스이므로 객체 초기화 이후에는 리스트 자료형으로 변환하여 사용한다 <- pp 452"
      ]
    },
    {
      "cell_type": "code",
      "metadata": {
        "colab": {
          "base_uri": "https://localhost:8080/"
        },
        "id": "Syq284qsfy4Q",
        "outputId": "40de4992-7c16-4a1e-e7a0-b40b985517f5"
      },
      "source": [
        "result = list(permutations(data, 2))\n",
        "print(result)"
      ],
      "execution_count": 7,
      "outputs": [
        {
          "output_type": "stream",
          "text": [
            "[('A', 'B'), ('A', 'C'), ('B', 'A'), ('B', 'C'), ('C', 'A'), ('C', 'B')]\n"
          ],
          "name": "stdout"
        }
      ]
    },
    {
      "cell_type": "markdown",
      "metadata": {
        "id": "yCQU2_HuRcpN"
      },
      "source": [
        "모든 조합에 대해 구하고 싶다면 combinaitons를 사용한다"
      ]
    },
    {
      "cell_type": "code",
      "metadata": {
        "colab": {
          "base_uri": "https://localhost:8080/"
        },
        "id": "XVOEfQ7wRP42",
        "outputId": "06606cde-0354-446c-933d-aae0f203425e"
      },
      "source": [
        "# 조합의 경우 itertools 라이브러리의 combinations 클래스를 사용하자!\n",
        "\n",
        "from itertools import combinations\n",
        "\n",
        "data = ['A', 'B', 'C']\n",
        "result = list(combinations(data, 2))\n",
        "print(result)  # 조합(combinations)은 순서에 상관없이 서로 다른 r개를 선택한다"
      ],
      "execution_count": 5,
      "outputs": [
        {
          "output_type": "stream",
          "text": [
            "[('A', 'B'), ('A', 'C'), ('B', 'C')]\n"
          ],
          "name": "stdout"
        }
      ]
    },
    {
      "cell_type": "markdown",
      "metadata": {
        "id": "4fPm2pOzRrjE"
      },
      "source": [
        "중복 순열과 중복 조합을 구해보자"
      ]
    },
    {
      "cell_type": "code",
      "metadata": {
        "colab": {
          "base_uri": "https://localhost:8080/"
        },
        "id": "22frP2S6Rt2W",
        "outputId": "efe9c7c5-4b75-496a-fddf-a2dcc424a485"
      },
      "source": [
        "from itertools import product\n",
        "\n",
        "data = ['A', 'B', 'C']\n",
        "result = list(product(data, repeat=2))  # 중복을 포함하는 순열을 출력한다\n",
        "print(len(result), result)  \n"
      ],
      "execution_count": 11,
      "outputs": [
        {
          "output_type": "stream",
          "text": [
            "9 [('A', 'A'), ('A', 'B'), ('A', 'C'), ('B', 'A'), ('B', 'B'), ('B', 'C'), ('C', 'A'), ('C', 'B'), ('C', 'C')]\n"
          ],
          "name": "stdout"
        }
      ]
    },
    {
      "cell_type": "code",
      "metadata": {
        "colab": {
          "base_uri": "https://localhost:8080/"
        },
        "id": "8TmeAQocgcst",
        "outputId": "99548f44-a7bd-410d-d64a-9db84855a7ba"
      },
      "source": [
        "from itertools import combinations_with_replacement\n",
        "\n",
        "data = ['A', 'B', 'C']\n",
        "result = list(combinations_with_replacement(data, 2))\n",
        "ㅓprint(result)"
      ],
      "execution_count": 12,
      "outputs": [
        {
          "output_type": "stream",
          "text": [
            "[('A', 'A'), ('A', 'B'), ('A', 'C'), ('B', 'B'), ('B', 'C'), ('C', 'C')]\n"
          ],
          "name": "stdout"
        }
      ]
    },
    {
      "cell_type": "markdown",
      "metadata": {
        "id": "J3A3yjLhpnnw"
      },
      "source": [
        "여기서 잠깐, 힙(heap) 자료구조란?\n",
        "* <code>힙(heap)</code>이란 각 노드의 값이 다음 조건을 충족하도록 관리되는 이진 트리를 뜻한다\n",
        "    * 조건: 부모 노드의 값은 항상 하위 노드의 값보다 작다(또는 부모 노드의 값은 항상 하위 노드의 값보다 크다)\n",
        "    * 특징: 최소 값을 구할 때 적합한 힙은 '부모 노드의 값이 항상 하위 노드의 값보다 작은 이진 트리'이다\n"
      ]
    },
    {
      "cell_type": "markdown",
      "metadata": {
        "id": "4Ai9IAs-oKeh"
      },
      "source": [
        "### heapq\n",
        "* 파이썬에서는 힙(Heap) 기능을 위해 heapq 라이브러리를 제공한다\n",
        "* heapq는 다익스트라 최단 경로 알고리즘을 포함해 다양한 알고리즘에서 우선순위 큐 기능을 구현할 때 사용된다\n"
      ]
    },
    {
      "cell_type": "code",
      "metadata": {
        "colab": {
          "base_uri": "https://localhost:8080/"
        },
        "id": "AHiyD_CUseYO",
        "outputId": "45880a28-0e9c-4741-9249-9b346b419d4d"
      },
      "source": [
        "import heapq\n",
        "\n",
        "def heapsort(iterable):\n",
        "    h = []\n",
        "    result = []\n",
        "    # 모든 원소를 차례대로 힙에 삽입\n",
        "    for value in iterable:\n",
        "        heapq.heappush(h, value)  # 모든 원소를 힙에 삽입한다\n",
        "    # 힙에 삽입된 모든 원소를 차례대로 꺼내어 담기\n",
        "    for i in range(len(h)):\n",
        "        result.append(heapq.heappop(h))\n",
        "    return result\n",
        "\n",
        "result = heapsort([1, 3, 5, 7, 9, 2, 4, 6, 8, 0])\n",
        "print(result)"
      ],
      "execution_count": 15,
      "outputs": [
        {
          "output_type": "stream",
          "text": [
            "[0, 1, 2, 3, 4, 5, 6, 7, 8, 9]\n"
          ],
          "name": "stdout"
        }
      ]
    },
    {
      "cell_type": "markdown",
      "metadata": {
        "id": "pcj90vPKvMsG"
      },
      "source": [
        "파이썬에서는 최대 힙(Max Heap)을 제공하지 않는다. 따라서 heapq 라이브러리를 이용하여 최대 힙을 구현해야 할 때는 원소의 부호를 임시로 변경하는 방식을 사용한다."
      ]
    },
    {
      "cell_type": "code",
      "metadata": {
        "id": "Ozi8qU-rwX7C"
      },
      "source": [
        "import heapq\n",
        "\n",
        "def heapsort(iterable):\n",
        "    h = []\n",
        "    result = []\n",
        "    # iterable에서 모든 원소 차례 삽입\n",
        "    for value in iterable:\n",
        "        heapq.heappush(h, -value)\n",
        "    # 힙에 삽입된 모든 원소를 차례대로 꺼내어 담기\n",
        "    for i in range(len(h)):\n",
        "        result.append(-heapq.heappop(h))\n",
        "    return result"
      ],
      "execution_count": 21,
      "outputs": []
    },
    {
      "cell_type": "code",
      "metadata": {
        "colab": {
          "base_uri": "https://localhost:8080/"
        },
        "id": "1Cr1hOoPw9Ca",
        "outputId": "fa9c5c9a-7326-491a-9478-c73870db02a1"
      },
      "source": [
        "result = heapsort([1, 3, 5, 7, 9, 2, 4, 6, 8, 0])\n",
        "print(result)"
      ],
      "execution_count": 22,
      "outputs": [
        {
          "output_type": "stream",
          "text": [
            "[9, 8, 7, 6, 5, 4, 3, 2, 1, 0]\n"
          ],
          "name": "stdout"
        }
      ]
    },
    {
      "cell_type": "markdown",
      "metadata": {
        "id": "1kbW5qphxo-q"
      },
      "source": [
        "### bisect\n",
        "* 파이썬에서는 이진 탐색을 쉽게 구현할 수 있도록 bisect 라이브러리를 제공한다\n",
        "* bisect 라이브러리는 '정렬된 배열'에서 특정한 원소를 찾아야 할 때 매우 효과적으로 사용된다.\n",
        "* bisect_left()함수와 bisect_right()함수를 기억해두자!\n"
      ]
    },
    {
      "cell_type": "code",
      "metadata": {
        "colab": {
          "base_uri": "https://localhost:8080/"
        },
        "id": "46tHAqlVyP6I",
        "outputId": "7552401d-7406-4f2d-dc43-0aa7d857b4b9"
      },
      "source": [
        "# bisect 예제\n",
        "from bisect import bisect_left, bisect_right\n",
        "\n",
        "a = [1, 2, 4, 4, 8]\n",
        "x = 4\n",
        "\n",
        "print(bisect_left(a, x))   # expect 2\n",
        "print(bisect_right(a, x))  # expect 4"
      ],
      "execution_count": 25,
      "outputs": [
        {
          "output_type": "stream",
          "text": [
            "2\n",
            "4\n",
            "[1, 2, 4, 4, 8]\n"
          ],
          "name": "stdout"
        }
      ]
    },
    {
      "cell_type": "markdown",
      "metadata": {
        "id": "FyeTnCt5yl6O"
      },
      "source": [
        "bisect_left()함수와 bisect_right()함수는 '정렬된 리스트'에서 '값이 특정 범위에 속하는 원소의 개수'를 구하고자 할 때, 효과적으로 사용될 수 있다."
      ]
    },
    {
      "cell_type": "code",
      "metadata": {
        "id": "94fwOTpkyyqO"
      },
      "source": [
        "from bisect import bisect_left, bisect_right\n",
        "\n",
        "# 값이 [left_value, right_value]인 데이터의 개수를 반환하는 함수\n",
        "def count_by_range(a, left_value, right_value):\n",
        "    right_index = bisect_right(a, right_value)\n",
        "    left_index = bisect_left(a, left_value)\n",
        "    return right_index - left_index"
      ],
      "execution_count": 28,
      "outputs": []
    },
    {
      "cell_type": "code",
      "metadata": {
        "colab": {
          "base_uri": "https://localhost:8080/"
        },
        "id": "eib_mFmR01MO",
        "outputId": "f656ae0b-170d-4a08-9d6d-2fe623f2932f"
      },
      "source": [
        "# 리스트 선언\n",
        "a = [1, 2, 3, 3, 3, 3, 4, 4, 8, 9]\n",
        "\n",
        "# 값이 4인 데이터 개수 출력\n",
        "print(count_by_range(a, 4, 4))\n",
        "\n",
        "# 값이 -1에서 3 범위에 있는 데이터 개수 출력\n",
        "print(count_by_range(a, -1, 3))"
      ],
      "execution_count": 29,
      "outputs": [
        {
          "output_type": "stream",
          "text": [
            "2\n",
            "6\n"
          ],
          "name": "stdout"
        }
      ]
    },
    {
      "cell_type": "markdown",
      "metadata": {
        "id": "yvVjg5VOSnxC"
      },
      "source": [
        "### Counter\n",
        "* 파이썬 collections 라이브러리의 Counter 함수\n",
        "* 등장 횟수를 세는 기능\n",
        "* 리스트와 같은 반복 가능한(iterable) 객체가 주어졌을 때 내부의 원소가 몇 번씩 등장했는지를 알려준다 "
      ]
    },
    {
      "cell_type": "code",
      "metadata": {
        "colab": {
          "base_uri": "https://localhost:8080/"
        },
        "id": "QtvfROUmSzdm",
        "outputId": "8ef8921b-286d-47f8-d585-d3c47b6013e3"
      },
      "source": [
        "# python collections\n",
        "from collections import Counter\n",
        "\n",
        "counter = Counter(['red', 'blue', 'red', 'green', 'blue', 'blue'])\n",
        "\n",
        "print(counter['blue'])\n",
        "print(counter['red'])\n",
        "print(dict(counter))\n",
        "print(counter)"
      ],
      "execution_count": null,
      "outputs": [
        {
          "output_type": "stream",
          "text": [
            "3\n",
            "2\n",
            "{'red': 2, 'blue': 3, 'green': 1}\n",
            "Counter({'blue': 3, 'red': 2, 'green': 1})\n"
          ],
          "name": "stdout"
        }
      ]
    },
    {
      "cell_type": "code",
      "metadata": {
        "colab": {
          "base_uri": "https://localhost:8080/"
        },
        "id": "J3lHACDu1LIn",
        "outputId": "b8a78f7c-15ea-4f33-8e0d-fb4b973291eb"
      },
      "source": [
        "from collections import Counter\n",
        "\n",
        "counter = Counter(['red', 'blue', 'red', 'green', 'blue', 'blue'])\n",
        "\n",
        "print(counter['blue'])\n",
        "print(counter['red'])\n",
        "print(counter)\n",
        "print(dict(counter))"
      ],
      "execution_count": 31,
      "outputs": [
        {
          "output_type": "stream",
          "text": [
            "3\n",
            "2\n",
            "Counter({'blue': 3, 'red': 2, 'green': 1})\n",
            "{'red': 2, 'blue': 3, 'green': 1}\n"
          ],
          "name": "stdout"
        }
      ]
    },
    {
      "cell_type": "markdown",
      "metadata": {
        "id": "uJBo8eZCTJ_3"
      },
      "source": [
        "### math 라이브러리\n",
        "* 최대 공약수를 구해야 할 때 math 라이브러리의 gcd() 함수를 이용할 수 있다."
      ]
    },
    {
      "cell_type": "code",
      "metadata": {
        "colab": {
          "base_uri": "https://localhost:8080/"
        },
        "id": "gjjekXoVTP28",
        "outputId": "3c64461c-1ed1-4552-afb3-9f8ff0a54572"
      },
      "source": [
        "# 최대 공약수를 구해야할 때는 math 라이브러리의 gcd()함수를 사용하자!\n",
        "\n",
        "import math\n",
        "\n",
        "# 최소 공배수(LCM)을 구하는 함수\n",
        "def lcm(a, b):\n",
        "    return a * b // math.gcd(a, b)\n",
        "\n",
        "a = 21\n",
        "b = 14\n",
        "\n",
        "print(\"최대공약수(GCD) 계산: \", math.gcd(a, b))\n",
        "print(\"최소공배수(LCM) 계산: \", lcm(a, b))\n",
        "print(\"or: \", a * b / math.gcd(a, b))"
      ],
      "execution_count": null,
      "outputs": [
        {
          "output_type": "stream",
          "text": [
            "최대공약수(GCD) 계산:  7\n",
            "최소공배수(LCM) 계산:  42\n",
            "or:  42.0\n"
          ],
          "name": "stdout"
        }
      ]
    },
    {
      "cell_type": "markdown",
      "metadata": {
        "id": "3rHhdW1wscpU"
      },
      "source": [
        "## 7. 자신만의 알고리즘 노트 만들기"
      ]
    },
    {
      "cell_type": "markdown",
      "metadata": {
        "id": "KiR-eBkhshqO"
      },
      "source": [
        "\"문제를 풀면서 자신만의 라이브러리를 만들어 관리하는 것은 매우 좋은 습관이다!\" "
      ]
    },
    {
      "cell_type": "markdown",
      "metadata": {
        "id": "8sIvI16psirN"
      },
      "source": [
        "## 정리하기\n"
      ]
    },
    {
      "cell_type": "markdown",
      "metadata": {
        "id": "5sb7zrrYskom"
      },
      "source": [
        "* 파이썬 언어를 사용한지는 2년이 다 되어 가지만 자료구조에 대해서는 처음 공부하는 것 같다. 그만큼 모든 것이 생소하지만 또 한편으로는 재밌기도 하다\n",
        "* 앞으로 자료구조를 공부하고 알고리즘 문제를 풀어가면서 하나씩 확실히 익혀나간다면 조금 더 발전된 코더가 될 수 있지 않을까 생각한다\n",
        "* 20.11.30.mon. pm 3:30. -11월의 마지막 날-"
      ]
    }
  ]
}