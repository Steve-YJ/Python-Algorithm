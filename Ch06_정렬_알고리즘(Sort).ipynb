{
  "nbformat": 4,
  "nbformat_minor": 0,
  "metadata": {
    "colab": {
      "name": "Ch06. 정렬 알고리즘(Sort).ipynb",
      "provenance": [],
      "collapsed_sections": [],
      "authorship_tag": "ABX9TyOc1oP8Da4HFPsXfI99NISV",
      "include_colab_link": true
    },
    "kernelspec": {
      "name": "python3",
      "display_name": "Python 3"
    }
  },
  "cells": [
    {
      "cell_type": "markdown",
      "metadata": {
        "id": "view-in-github",
        "colab_type": "text"
      },
      "source": [
        "<a href=\"https://colab.research.google.com/github/Steve-YJ/Python-Algorithm/blob/main/Ch06_%EC%A0%95%EB%A0%AC_%EC%95%8C%EA%B3%A0%EB%A6%AC%EC%A6%98(Sort).ipynb\" target=\"_parent\"><img src=\"https://colab.research.google.com/assets/colab-badge.svg\" alt=\"Open In Colab\"/></a>"
      ]
    },
    {
      "cell_type": "markdown",
      "metadata": {
        "id": "_v7euJGTj098"
      },
      "source": [
        "# Ch04. 정렬 알고리즘(Sort)"
      ]
    },
    {
      "cell_type": "markdown",
      "metadata": {
        "id": "Pcc2VDBtj5UP"
      },
      "source": [
        "## 정렬(Sort)이란\n",
        "* 데이터를 특정 기준에 따라 순서대로 나열하는 것을 말한다\n",
        "* 일반적으로 문제 상황에 따라서 적절한 정렬 알고리즘이 공식처럼 사용된다"
      ]
    },
    {
      "cell_type": "markdown",
      "metadata": {
        "id": "xRhMHVHtj1Ue"
      },
      "source": [
        "✅ 굉장히 다양한 문제 상황에서 적절한 정렬 알고리즘을 사용하는 것이 중요하다"
      ]
    },
    {
      "cell_type": "markdown",
      "metadata": {
        "id": "clGqaf4LkP2_"
      },
      "source": [
        "* 선택 정렬(Selection Sort)\n",
        "* 삽입 정렬(Insertion Sort)\n",
        "* 퀵 정렬(Quick Sort)\n",
        "* 계수 정렬(Count Sort)\n",
        "* etc..."
      ]
    },
    {
      "cell_type": "markdown",
      "metadata": {
        "id": "8kiERn6mxM5y"
      },
      "source": [
        "🙃 조금 더 알아보기<br>\n",
        "\n",
        "* 정렬 알고리즘은 프로그램을 작성할 때 가장 많이 사용되는 알고리즘 중 하나다\n",
        "* 정렬 알고리즘으로 데이터를 정렬하면 다음 장에서 배울 이진 탐색(Binary Search)가 가능해진다\n",
        "* 정렬 알고리즘은 이진 탐색의 전처리 과정이기도 하니 제대로 알고 넘어가자\n",
        "<br>\n",
        "\n",
        "* 알고리즘의 효율성\n",
        "    * 보통 정렬부터 공부하게 되면 '알고리즘의 효율성'을 쉽게 이해할 수 있어 알고리즘 개론서 초반에 정렬 알고리즘이 등장한다\n",
        "    * 또한 문제에서 요구하는 조건에 따라 적절한 정렬 알고리즘이 공식처럼 사용된다\n",
        "    * 정렬 알고리즘을 공부하면서 자연스럽게 '알고리즘 효율성'을 알아보자"
      ]
    },
    {
      "cell_type": "markdown",
      "metadata": {
        "id": "-r6vFSYXkn9H"
      },
      "source": [
        "## 1. 선택 정렬(Selection Sort)\n",
        "💡Idea. *처리되지 않은 데이터 중에서 **가장 작은 데이터를 선택해 맨 앞에 있는 데이터와 바꾸는 것을 반복**한다*"
      ]
    },
    {
      "cell_type": "markdown",
      "metadata": {
        "id": "yLYCO1E4kzJo"
      },
      "source": [
        "탐색 범위는 반복할 때 마다 줄어들며 매번 가장 작은 원소를 찾기 위해 탐색 범위만큼 가장 작은 데이터를 찾는다. 따라서 이중 반복문을 통해 이를 구현할 수 있게 된다"
      ]
    },
    {
      "cell_type": "code",
      "metadata": {
        "colab": {
          "base_uri": "https://localhost:8080/"
        },
        "id": "SIvGTw-umRWw",
        "outputId": "73a37e65-2bdb-42ff-89e8-bb106ada79f5"
      },
      "source": [
        "# Selection Sort\n",
        "# 탐색의 범위에서 가장 작은 값을 '선택'하여 맨 앞의 값과 교환해준다\n",
        "\n",
        "array = [7, 5, 9, 0, 3, 1, 6, 2, 4, 8]\n",
        "# 이중 반복문을 사용하여 선택 정렬을 구현해보자\n",
        "for i in range(len(array)):\n",
        "    min_index = i  # 기준이 되는 인덱스를 정해준다(선택 정렬에서 정렬을 원하는 인덱스가 min_index가 된다)\n",
        "    for j in range(i+1, len(array)):  # 기준이 되는 인덱스를 제외한 나머지 원소를 탐색\n",
        "        if array[j] < array[min_index]:\n",
        "            min_index = j  # 탐색의 범위 내에서 기준값보다 작은 값이 있다면 갱신해준다\n",
        "    # 탐색을 마친 뒤 스왑해준다\n",
        "    array[i], array[min_index] = array[min_index], array[i]\n",
        "\n",
        "    \n",
        "print(array)"
      ],
      "execution_count": null,
      "outputs": [
        {
          "output_type": "stream",
          "text": [
            "[0, 1, 2, 3, 4, 5, 6, 7, 8, 9]\n"
          ],
          "name": "stdout"
        }
      ]
    },
    {
      "cell_type": "code",
      "metadata": {
        "colab": {
          "base_uri": "https://localhost:8080/"
        },
        "id": "JCfqtkcZ6E0j",
        "outputId": "0213d398-02a1-431f-e5bc-941d41f6d5d6"
      },
      "source": [
        "# 내림차순으로 정렬하고 싶다면 어떻게 할 수 있을까?\n",
        "\n",
        "# Method 1\n",
        "print(\"Method 1\")\n",
        "print(array[::-1])\n",
        "\n",
        "# Method 2\n",
        "print(\"Method 2\")\n",
        "array.reverse()  # reverse() 메서드를 사용해준다\n",
        "print(array)"
      ],
      "execution_count": null,
      "outputs": [
        {
          "output_type": "stream",
          "text": [
            "Method 1\n",
            "[9, 8, 7, 6, 5, 4, 3, 2, 1, 0]\n",
            "Method 2\n",
            "[9, 8, 7, 6, 5, 4, 3, 2, 1, 0]\n"
          ],
          "name": "stdout"
        }
      ]
    },
    {
      "cell_type": "markdown",
      "metadata": {
        "id": "qJwGJBDZmSa3"
      },
      "source": [
        "### 선택 정렬의 시간 복잡도\n",
        "* 선택정렬은 N-1번 만큼 가장 작은 수를 찾아서 맨 앞으로 보내야 한다\n",
        "* 구현 방식에 따라 사소한 오차는 있을 수 있지만, 전체 연산 횟수는 다음과 같다\n",
        "    * N + (N - 1) + (N - 2) + ... + 2\n",
        "* 이는 (N**2 + N - 2) / 2로 표현할 수 있는데, 빅오 표기법에 따라 O(N****2)라고 작성한다"
      ]
    },
    {
      "cell_type": "markdown",
      "metadata": {
        "id": "psat82jTnIBY"
      },
      "source": [
        "## 2. 삽입 정렬(Insertion Sort)\n",
        "💡Idea. *처리되지 않은 데이터를 하나씩 골라 적절한 위치에 삽입한다*\n",
        "* 선택 정렬에 비해 구현 난이도가 높은 편이지만 선택 정렬에 비해 시간 측면에서 더 효율적이다 "
      ]
    },
    {
      "cell_type": "markdown",
      "metadata": {
        "id": "V8_jdrWGo3af"
      },
      "source": [
        "첫 번째 데이터는 정렬이 되어 있다고 가정한다. 두 번째 데이터가 어떤 위치로 들어갈지 판단한다"
      ]
    },
    {
      "cell_type": "code",
      "metadata": {
        "id": "ptOr3bu1o9uT",
        "colab": {
          "base_uri": "https://localhost:8080/"
        },
        "outputId": "79c800e6-14ee-453e-ba2d-f816ce96a767"
      },
      "source": [
        "# 6-3.py 삽입 정렬 소스 코드\n",
        "# Insersion Sort\n",
        "\n",
        "array = [7, 5, 9, 0, 3, 1, 6, 2, 4, 8]\n",
        "\n",
        "for i in range(1, len(array)):\n",
        "    for j in range(i, 0, -1):\n",
        "        if array[j] < array[j-1]:\n",
        "            array[j-1], array[j] = array[j], array[j-1]\n",
        "        else:\n",
        "            # continue  # break문 대신 continue를 써도 될 것 같은데?\n",
        "            break  # 어짜피 탐색의 범위에 해당하지 않는 값은 정렬이 되어있기에 반복문을 멈추는 연산이 보다 효율적이다\n",
        "\n",
        "print(array)\n",
        "# array.reverse()  # The reverse() method doesn't return any value\n",
        "                 # It updates the existing list.\n",
        "reversed = array[::-1]\n",
        "print(\"reverse_array: \", reversed)"
      ],
      "execution_count": null,
      "outputs": [
        {
          "output_type": "stream",
          "text": [
            "[0, 1, 2, 3, 4, 5, 6, 7, 8, 9]\n",
            "reverse_array:  [9, 8, 7, 6, 5, 4, 3, 2, 1, 0]\n"
          ],
          "name": "stdout"
        }
      ]
    },
    {
      "cell_type": "markdown",
      "metadata": {
        "id": "vXxoRZ-i-nVv"
      },
      "source": [
        "### 삽입 정렬의 시간 복잡도\n",
        "* 삽입 정렬의 시간 복잡도는 O(N**2)이다(선택 정렬과 마찬가지로 반복문이 2번 중첩되어 사용되었다)\n",
        "* (실제로 수행 시간을 테스트해보면 앞서 다루었던 선택 정렬과 흡사한 시간이 소요되는 것을 알 수 있다)\n",
        "* ✅  삽입 정렬은 현재 리스트의 데이터가 거의 정렬되어 있는 상황에서는 매우 빠르게 동작한다는 점을 기억하자. `최선의 경우 O(N)의 시간 복잡도`를 가진다\n",
        "* 보통은 삽입 정렬이 비효율적이나 정렬이 거의 되어 있는 상황에서는 퀵정렬 알고리즘보다 더 강력하다\n",
        "* ✅  따라서 거의 정렬되어 있는 상태로 입력이 주어지는 문제라면 퀵 정렬 등의 여타 알고리즘을 이용하는 것보다는 '삽입 정렬'을 이용하는 것이 정답 확률을 높일 수 있다"
      ]
    },
    {
      "cell_type": "markdown",
      "metadata": {
        "id": "Hs08Ft0uRkkK"
      },
      "source": [
        "## 3. 퀵 정렬(Quick Sort)\r\n",
        "퀵 정렬은 지금까지 배운 정렬 알고리즘 중에 가장 많이 사용되는 알고리즘이다. 퀵 정렬이 도대체 어떻게 동작하길래 이름부터가 '빠른 정렬 알고리즘'인지 알아보자\r\n",
        "\r\n",
        "<br>\r\n",
        "\r\n",
        "💡Idea. *기준 데이터를 설정하고 그 기준보다 큰 데이터와 작은 데이터의 위치를 바꾸면 어떨까?*\r\n",
        "<br><br>\r\n",
        "\r\n",
        "\r\n",
        "* 퀵 정렬은 기준(Pivot)을 설정한 다음 큰 수와 작은 수를 교환한 후 리스트를 반으로 나누는 방식으로 동작한다\r\n",
        "    * `피벗(Pivot)`: 영어 단어의 의미는 (회전하는 물체의) 중심점[축] 또는 (가장 충요한) 중심축이다\r\n",
        "    * 퀵 정렬에서는 피벗(Pivot)이 사용된다. 큰 숫자와 작은 숫자를 교환할 때, 교환하기 위한 '기준'을 바로 피벗이라고 표현한다.\r\n",
        "    * 퀵 정렬을 수행하기 전에는 피벗을 어떻게 설정할 것인지 미리 명시해야 한다\r\n",
        "* 책에서는 호어 분할(Hoare Partition) 방식을 기준으로 퀵 정렬을 설명한다\r\n",
        "* Hoare Partition에서는 리스트에서 첫 번째 데이터를 피벗으로 정한다\r\n",
        "* 이와 같이 피벗을 설정한 뒤에는 왼쪽에서부터 피벗보다 큰 데이터를 찾고, 오른쪽에서부터 피벗보다 작은 데이터를 찾는다. 그리고 큰 데이터와 작은 데이터의 위치를 서로 교환해준다\r\n",
        "* 이러한 과정을 반복하면 '피벗'에 대한 정렬이 수행된다\r\n",
        "\r\n",
        "\r\n",
        "<br>\r\n",
        "😄 코드를 통해 보다 자세하게 이해해보자! "
      ]
    },
    {
      "cell_type": "code",
      "metadata": {
        "colab": {
          "base_uri": "https://localhost:8080/"
        },
        "id": "09r8JTdTTm7q",
        "outputId": "f9440ba4-6785-43c4-f751-f35bef53f1e5"
      },
      "source": [
        "array = [5, 7, 9, 0, 3, 1, 6, 2, 4]\r\n",
        "\r\n",
        "def quick_sort(array, start, end):\r\n",
        "    if start >= end:\r\n",
        "        return\r\n",
        "    # 인덱스를 사용한다\r\n",
        "    pivot = start\r\n",
        "    left = start + 1  # 첫번째 인덱스는 피벗(기준)\r\n",
        "    right = end\r\n",
        "    \r\n",
        "    while left <= right:\r\n",
        "        # left. 피벗보다 큰 데이터를 찾을 때까지 반복\r\n",
        "        while left <= end and array[left] <= array[pivot]:  # 왼쪽에서 탐색한 값이 범위를 벗어나지 않으면서 피벗보다 작다면\r\n",
        "            left +=1  # 탐색의 범위를 1 증가시켜준다\r\n",
        "        # right. 피벗보다 작은 데이터를 찾을 때까지 반복\r\n",
        "        while right > start and array[right] > array[pivot]:  # 오른쪽에서 탐색한 값이 탐색 범위를 벗어나지 않으면서 피벗의 값보다 크다면\r\n",
        "            right -=1  # 탐색의 범위를 1 감소시켜 준다\r\n",
        "        \r\n",
        "        # case, 이 때 왼쪽 탐색의 범위가 더 크다면\r\n",
        "        if left > right: \r\n",
        "            array[right], array[pivot] = array[pivot], array[right]  # 작은 데이터와 피벗을 교체한다\r\n",
        "        else:  # 그게 아니라면 왼쪽 탐색값과 오른쪽 탐색 값을 교환한다\r\n",
        "            array[left], array[right] = array[right], array[left]\r\n",
        "    \r\n",
        "    # 피벗을 기준으로 분할을 수행한 뒤, 왼쪽 부분과 오른쪽 부분 각각 정렬을 수행한다\r\n",
        "    quick_sort(array, start, right)\r\n",
        "    quick_sort(array, right+1, end)\r\n",
        "    \r\n",
        "quick_sort(array, 0, len(array)-1)\r\n",
        "print(array)"
      ],
      "execution_count": null,
      "outputs": [
        {
          "output_type": "stream",
          "text": [
            "[0, 1, 2, 3, 4, 5, 6, 7, 9]\n"
          ],
          "name": "stdout"
        }
      ]
    },
    {
      "cell_type": "markdown",
      "metadata": {
        "id": "C1JCFqMwSU88"
      },
      "source": [
        "✅ 코드를 이해하기 위해 노력하자. 그리고 다시 한번 구현해보자!"
      ]
    },
    {
      "cell_type": "code",
      "metadata": {
        "colab": {
          "base_uri": "https://localhost:8080/"
        },
        "id": "C583IrMx_gUh",
        "outputId": "e40dc995-0412-4059-b94e-3a6707a0fba0"
      },
      "source": [
        "array = [5, 7, 9, 0, 3, 1, 6, 2, 4]\r\n",
        "\r\n",
        "def quick_sort(array):\r\n",
        "    # 리스트가 하나 이하의 원소만을 담고 있다면 종료\r\n",
        "    if len(array) <= 1:\r\n",
        "        return array\r\n",
        "        \r\n",
        "    pivot = array[0]  # 피벗은 첫 번째 원소\r\n",
        "    tail = array[1:]  # tail은 피벗을 제외한 리스트\r\n",
        "    \r\n",
        "    left_side = [x for x in tail if x < pivot]  # 분할된 왼쪽 부분\r\n",
        "    right_side = [x for x in tail if x > pivot]  # 분할된 오른쪽 부분\r\n",
        "\r\n",
        "    # 분할 이후 왼쪽과 오른쪽 부분을 각각 정렬을 수행한 뒤 전체 리스트를 반환한다\r\n",
        "    return quick_sort(left_side) + [pivot] + quick_sort(right_side)\r\n",
        "    \r\n",
        "quick_sort(array)"
      ],
      "execution_count": null,
      "outputs": [
        {
          "output_type": "execute_result",
          "data": {
            "text/plain": [
              "[0, 1, 2, 3, 4, 5, 6, 7, 9]"
            ]
          },
          "metadata": {
            "tags": []
          },
          "execution_count": 3
        }
      ]
    },
    {
      "cell_type": "markdown",
      "metadata": {
        "id": "E2uqBQAwpMvo"
      },
      "source": [
        "오우...! 대박이군...!"
      ]
    },
    {
      "cell_type": "markdown",
      "metadata": {
        "id": "5j-OQS98CSKB"
      },
      "source": [
        "이제 계수정렬만 하면 정렬에 대한 이론은 한 번 끝이다! - 20.12.24.Thur. pm1:30"
      ]
    },
    {
      "cell_type": "markdown",
      "metadata": {
        "id": "NZvPRG5epUjt"
      },
      "source": [
        "## 4. 계수 정렬(Count Sort)\r\n",
        "* 계수 정렬(Count Sort) 알고리즘은 특정한 조건이 부합할 때만 사용할 수 있지만 매우 빠른 정렬 알고리즘이다\r\n",
        "* 계수 정렬은 최악의 경우에도 수행 시간 O(N + K)를 보장한다\r\n",
        "* 이처럼 매우 빠르게 동작할 뿐만 아니라 원리 또한 매우 간단하다\r\n",
        "* 계수 정렬은 앞서 다루었던 3가지 정렬 알고리즘처럼 직접 데이터의 값을 비교한 뒤에 위치를 변경하며 정렬하는 방식(비교 기반의 정렬 알고리즘)이 아니다\r\n",
        "* 계수 정렬은 일반적으로 별도의 리스트를 선언하고 그 안에 정렬에 대한 정보를 담는다는 특징이 있다.\r\n",
        "<br>\r\n",
        "\r\n",
        "\r\n",
        "✅ 소스 코드를 통해 이해해보도록 하자 "
      ]
    },
    {
      "cell_type": "code",
      "metadata": {
        "colab": {
          "base_uri": "https://localhost:8080/"
        },
        "id": "_UNxkoahtAdv",
        "outputId": "f9a8755e-495b-4215-e2e7-bdb29f7883de"
      },
      "source": [
        "# 6-6.py 계수 정렬 소스코드\r\n",
        "\r\n",
        "# 모든 원소의 값이 0보다 크거나 같다고 가정\r\n",
        "array = [7, 5, 9, 0, 3, 1, 6, 2, 9, 1, 4, 8, 0, 5, 2]\r\n",
        "# 모든 범위를 포함하는 리스트 선언(모든 값은 0으로 초기화)\r\n",
        "count = [0] * (max(array) + 1)  # 0을 포함해서 선언. e.g. 0, 1, 2, ..., 9\r\n",
        "\r\n",
        "for elem in array:  # 리스트 전체를 반복하며 카운트 하겠죠?\r\n",
        "    count[elem] += 1\r\n",
        "\r\n",
        "# Do-it\r\n",
        "for i in range(len(count)):\r\n",
        "    for j in range(count[i]):\r\n",
        "        print(i, end=' ')  # 띄어쓰기를 구분으로 등장한 횟수만큼 인덱스 출력"
      ],
      "execution_count": null,
      "outputs": [
        {
          "output_type": "stream",
          "text": [
            "0 0 1 1 2 2 3 4 5 5 6 7 8 9 9 "
          ],
          "name": "stdout"
        }
      ]
    },
    {
      "cell_type": "markdown",
      "metadata": {
        "id": "A1PhkJJMutfc"
      },
      "source": [
        "### 계수 정렬의 시간 복잡도\r\n",
        "* 모든 데이터가 양의 정수인 상황에서 데이터의 개수를 N, 데이터 중 최대값의 크기를 K라고 할 때, 계수 정렬의 시간 복잡도는 O(N + K)이다\r\n",
        "* 계수정렬은 앞에서부터 데이터를 하나씩 확인하며 리스트에서 적절한 인덱스의 값을 1씩 증가시킬 뿐만 아니라, 추후에 리스트의 각 인덱스에 해당하는 값들을 확인할 때 데이터 중 최대값의 크기만큼 반복을 수행해야 하기 때문이다\r\n",
        "* 따라서 데이터의 범위만 한정되어 있다면 효과적으로 사용할 수 있으며 항상 빠르게 동작한다.\r\n",
        "* 사실상 현존하는 정렬 알고리즘 중에서 기수 정렬(Radix Sort)과 더불어 가장 빠르다고 볼 수 있다"
      ]
    },
    {
      "cell_type": "markdown",
      "metadata": {
        "id": "0nfl4vuSvXSm"
      },
      "source": [
        "### 계수 정렬의 공간 복잡도\r\n",
        "* 계수 정렬은 때에 따라서 심각한 비효율성을 초래할 수 있다\r\n",
        "* 데이터의 크기가 한정되어 있고, 데이터의 크기가 많이 중복되어 있을 때, 계수 정렬을 고려해보자"
      ]
    },
    {
      "cell_type": "markdown",
      "metadata": {
        "id": "wLmnBDiSs5CX"
      },
      "source": [
        "# 파이썬의 정렬 라이브러리 "
      ]
    },
    {
      "cell_type": "markdown",
      "metadata": {
        "id": "Grg63BjvvyqS"
      },
      "source": [
        "정렬 알고리즘 문제는 어느정도 답이 정해져 있는 문제이다. 미리 만들어진 라이브러리를 이용해 효과적으로 문제를 해결할 수 있다 "
      ]
    },
    {
      "cell_type": "markdown",
      "metadata": {
        "id": "cWAxyqihwAYC"
      },
      "source": [
        "* 파이썬은 기본 정렬 라이브러리인 `sorted() 함수`를 제공한다\r\n",
        "* sorted는 병합 정렬을 기반으로 한다. 퀵 정렬보다 느리지만 최악의 경우에도 시간 복잡도 *O(NlogN)*을 보장한다는 특징이 있다\r\n",
        "* 이러한 sorted()함수는 리스트, 딕셔너리 자료형 등을 입력받아서 정렬된 결과를 출력한다\r\n",
        "* 집합 자료형이나 딕셔너리 자료형을 입력받아도 반환되는 결과는 리스트 자료형이다 "
      ]
    },
    {
      "cell_type": "code",
      "metadata": {
        "colab": {
          "base_uri": "https://localhost:8080/"
        },
        "id": "9fPfsGxZwuEO",
        "outputId": "69a2475b-713d-4b62-a565-ccf4d0f7ceef"
      },
      "source": [
        "# 6-7.py\r\n",
        "array = [7, 5, 9, 0, 3, 1, 6, 2, 4, 8]\r\n",
        "\r\n",
        "result = sorted(array)\r\n",
        "print(result)"
      ],
      "execution_count": null,
      "outputs": [
        {
          "output_type": "stream",
          "text": [
            "[0, 1, 2, 3, 4, 5, 6, 7, 8, 9]\n"
          ],
          "name": "stdout"
        }
      ]
    },
    {
      "cell_type": "markdown",
      "metadata": {
        "id": "i1n8PrM_wgHj"
      },
      "source": [
        "* 리스트 변수가 하나 있을 때 내부 원소를 바로 정렬할 수도 있다\r\n",
        "* 리스트 객체의 내장 함수인 sort()를 이용하는 것이다\r\n",
        "* 이때는 별도의 정렬된 리스트를 반환하지 않고 내부 원소가 바로 정렬된"
      ]
    },
    {
      "cell_type": "code",
      "metadata": {
        "colab": {
          "base_uri": "https://localhost:8080/"
        },
        "id": "fbHcIiBoxFGr",
        "outputId": "4186467f-7fc1-4ebf-942f-5a89d7297486"
      },
      "source": [
        "# 6-8.py sort 소스코드\r\n",
        "\r\n",
        "array = [7, 5, 9, 0, 3, 1, 6, 2, 4, 8]\r\n",
        "\r\n",
        "array.sort()\r\n",
        "print(array)"
      ],
      "execution_count": null,
      "outputs": [
        {
          "output_type": "stream",
          "text": [
            "[0, 1, 2, 3, 4, 5, 6, 7, 8, 9]\n"
          ],
          "name": "stdout"
        }
      ]
    },
    {
      "cell_type": "markdown",
      "metadata": {
        "id": "0SSMMx5txNX4"
      },
      "source": [
        "또한 sorted()나 sort()를 이용할 때에는 key 매개변수를 입력으로 받을 수 있다. key 값으로는 하나의 함수가 들어가야 하며 이는 정렬 기준이 된"
      ]
    },
    {
      "cell_type": "code",
      "metadata": {
        "colab": {
          "base_uri": "https://localhost:8080/"
        },
        "id": "8x4swR8HxXKc",
        "outputId": "2d1b7a05-b0ab-4171-af13-9ab7b5807923"
      },
      "source": [
        "# 6-9.py 정렬 라이브러리에서 key를 활용한 소스코드\r\n",
        "array = [('바나나', 2), ('사과', 5), ('당근', 3)]\r\n",
        "\r\n",
        "def setting(data):\r\n",
        "    return data[1]\r\n",
        "\r\n",
        "result = sorted(array, key=setting)\r\n",
        "print(result)"
      ],
      "execution_count": null,
      "outputs": [
        {
          "output_type": "stream",
          "text": [
            "[('바나나', 2), ('당근', 3), ('사과', 5)]\n"
          ],
          "name": "stdout"
        }
      ]
    },
    {
      "cell_type": "markdown",
      "metadata": {
        "id": "sJG5Y2P2xtn6"
      },
      "source": [
        "## 정렬 라이브러리의 시간 복잡도 "
      ]
    },
    {
      "cell_type": "markdown",
      "metadata": {
        "id": "38M77n2sx2Dt"
      },
      "source": [
        "* 정렬 라이브러리는 항상 최악의 경우에도 시간 복잡도 O(NlogN)을 보장한다\r\n",
        "* 정렬 라이브러리는 이미 잘 작성된 함수이므로 우리가 직접 퀵 정렬을 구현할 때보다 더욱 효과적이다\r\n"
      ]
    },
    {
      "cell_type": "markdown",
      "metadata": {
        "id": "MwkxSr5zyDiM"
      },
      "source": [
        "✅ 문제에서 별도의 요구가 없다면 기본 정렬 라이브러리를 사용하고, 데이터의 범위가 한정되어 있으며 더 빠르게 동작해야 할 떄는 계수 정렬을 사용하자"
      ]
    },
    {
      "cell_type": "markdown",
      "metadata": {
        "id": "zFsOPQohyNci"
      },
      "source": [
        "1. 정렬 라이브러리로 풀 수 있는 문제: 단순히 정렬 기법을 알고 있는지 물어보는 문제<br>\r\n",
        "2. 정렬 알고리즘의 원리에 대해서 물어보는 문제: 선택 정렬, 삽입 정렬, 퀵 정렬 등의 원리를 알고 있어야 문제를 풀 수 있다.\r\n",
        "3. 더 빠르 정렬이 필요한 문제: 계수 정렬 등의 다른 정렬 알고리즘을 이용하거나 문제에서 기존에 알려진 알고리즘의 구조적인 개선을 거쳐야 풀 수 있다\r\n",
        "<br>\r\n",
        "\r\n",
        "이 책에서는 위의 3가지 유형을 모두 다룰 것이다. 이제 기본 문제를 풀어보자! -20.12.09.wed. pm1:30- "
      ]
    },
    {
      "cell_type": "markdown",
      "metadata": {
        "id": "K9OoI1U9yaYR"
      },
      "source": [
        "# 실전문제"
      ]
    }
  ]
}