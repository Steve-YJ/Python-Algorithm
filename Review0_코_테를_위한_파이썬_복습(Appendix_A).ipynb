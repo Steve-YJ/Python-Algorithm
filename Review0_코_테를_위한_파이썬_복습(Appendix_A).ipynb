{
  "nbformat": 4,
  "nbformat_minor": 0,
  "metadata": {
    "colab": {
      "name": "Review0. 코.테를 위한 파이썬 복습(Appendix A).ipynb",
      "provenance": [],
      "collapsed_sections": [],
      "authorship_tag": "ABX9TyOT1pWR1v7/puWIxWulLUN2",
      "include_colab_link": true
    },
    "kernelspec": {
      "name": "python3",
      "display_name": "Python 3"
    }
  },
  "cells": [
    {
      "cell_type": "markdown",
      "metadata": {
        "id": "view-in-github",
        "colab_type": "text"
      },
      "source": [
        "<a href=\"https://colab.research.google.com/github/Steve-YJ/Python-Algorithm/blob/main/Review0_%EC%BD%94_%ED%85%8C%EB%A5%BC_%EC%9C%84%ED%95%9C_%ED%8C%8C%EC%9D%B4%EC%8D%AC_%EB%B3%B5%EC%8A%B5(Appendix_A).ipynb\" target=\"_parent\"><img src=\"https://colab.research.google.com/assets/colab-badge.svg\" alt=\"Open In Colab\"/></a>"
      ]
    },
    {
      "cell_type": "markdown",
      "metadata": {
        "id": "z4MCUFRkbJFo"
      },
      "source": [
        "# 자료형"
      ]
    },
    {
      "cell_type": "markdown",
      "metadata": {
        "id": "BkpkBmxe1Wbz"
      },
      "source": [
        "Q. 왜 자료형을 알아야할까?<br>\n",
        "A. 프로그래밍은 결국 데이터를 다루는행위이다. 따라서 '자료형에 대한 이해'는 프로그래밍의 첫 걸음이라 할 수 있다.<br>\n",
        "<br>\n",
        "학부시절, 누구 한 명이라도 내게 이런 말을 해줬더라면 좋았을 텐데...(아니 스스로도 이런 노력을 안했다는게 속상하다 ㅠ)"
      ]
    },
    {
      "cell_type": "code",
      "metadata": {
        "colab": {
          "base_uri": "https://localhost:8080/"
        },
        "id": "lhvAzv2d0aL_",
        "outputId": "ac2caa4a-50d3-40a6-9a57-3c16fe7394dc"
      },
      "source": [
        "a = -0.7\n",
        "print(a)"
      ],
      "execution_count": null,
      "outputs": [
        {
          "output_type": "stream",
          "text": [
            "-0.7\n"
          ],
          "name": "stdout"
        }
      ]
    },
    {
      "cell_type": "code",
      "metadata": {
        "colab": {
          "base_uri": "https://localhost:8080/"
        },
        "id": "JACnmCTt07MO",
        "outputId": "9a2e1cb2-f270-42f6-b30e-62996083c0db"
      },
      "source": [
        "a = -.7\n",
        "print(a)"
      ],
      "execution_count": null,
      "outputs": [
        {
          "output_type": "stream",
          "text": [
            "-0.7\n"
          ],
          "name": "stdout"
        }
      ]
    },
    {
      "cell_type": "markdown",
      "metadata": {
        "id": "iSLKWfWL17dQ"
      },
      "source": [
        "실수형 데이터의 한계"
      ]
    },
    {
      "cell_type": "code",
      "metadata": {
        "colab": {
          "base_uri": "https://localhost:8080/"
        },
        "id": "oXWe9AOW09tL",
        "outputId": "5c02bb18-8cd9-4f9a-ffc9-161abaeb8cc3"
      },
      "source": [
        "a = 0.3 + 0.6\n",
        "print(a)"
      ],
      "execution_count": null,
      "outputs": [
        {
          "output_type": "stream",
          "text": [
            "0.8999999999999999\n"
          ],
          "name": "stdout"
        }
      ]
    },
    {
      "cell_type": "code",
      "metadata": {
        "colab": {
          "base_uri": "https://localhost:8080/"
        },
        "id": "o4RSQp-11N-3",
        "outputId": "fcb507be-5938-4972-fe36-5ec2c5cdd553"
      },
      "source": [
        "if a == 0.9:\n",
        "    print(True)\n",
        "else:\n",
        "    print(False)"
      ],
      "execution_count": null,
      "outputs": [
        {
          "output_type": "stream",
          "text": [
            "False\n"
          ],
          "name": "stdout"
        }
      ]
    },
    {
      "cell_type": "code",
      "metadata": {
        "colab": {
          "base_uri": "https://localhost:8080/"
        },
        "id": "Vsh5A9MC1RpW",
        "outputId": "015a2e59-4f53-44d9-d716-088841cf1d83"
      },
      "source": [
        "# round() runction\n",
        "a = 0.3 + 0.6\n",
        "print(round(a, 2))"
      ],
      "execution_count": null,
      "outputs": [
        {
          "output_type": "stream",
          "text": [
            "0.9\n"
          ],
          "name": "stdout"
        }
      ]
    },
    {
      "cell_type": "markdown",
      "metadata": {
        "id": "uMuFayAm2WVc"
      },
      "source": [
        "## 리스트 자료형"
      ]
    },
    {
      "cell_type": "code",
      "metadata": {
        "colab": {
          "base_uri": "https://localhost:8080/"
        },
        "id": "gH7jbRi82iNn",
        "outputId": "673812da-73c4-476c-c7ac-6f82f7324b21"
      },
      "source": [
        "# list를 만들고 인덱스를 통해 값에 접근해보자\n",
        "\n",
        "a = [1, 2, 3, 4, 5, 6, 7, 8, 9]\n",
        "print(a[4])"
      ],
      "execution_count": null,
      "outputs": [
        {
          "output_type": "stream",
          "text": [
            "5\n"
          ],
          "name": "stdout"
        }
      ]
    },
    {
      "cell_type": "markdown",
      "metadata": {
        "id": "6qCLynNu2yqy"
      },
      "source": [
        "코딩테스트에서 사용되는 리스트 "
      ]
    },
    {
      "cell_type": "code",
      "metadata": {
        "colab": {
          "base_uri": "https://localhost:8080/"
        },
        "id": "F6pUR9Z424Jt",
        "outputId": "ad02731e-f540-443b-bdc7-0fc407159b5a"
      },
      "source": [
        "# 크기가 N이고, 모든 값이 0인 1차원 리스트 초기화\n",
        "n = 10\n",
        "\n",
        "a = [0] * n\n",
        "print(a)"
      ],
      "execution_count": null,
      "outputs": [
        {
          "output_type": "stream",
          "text": [
            "[0, 0, 0, 0, 0, 0, 0, 0, 0, 0]\n"
          ],
          "name": "stdout"
        }
      ]
    },
    {
      "cell_type": "code",
      "metadata": {
        "colab": {
          "base_uri": "https://localhost:8080/"
        },
        "id": "usNBGHBN2-9n",
        "outputId": "ff827e49-dd24-4b2c-d2ff-3e5939d31b59"
      },
      "source": [
        "# Question. 크기가 20인 리스트를 초기화 해보세요\n",
        "n = 20\n",
        "\n",
        "a = [0] * n\n",
        "print(a)"
      ],
      "execution_count": null,
      "outputs": [
        {
          "output_type": "stream",
          "text": [
            "[0, 0, 0, 0, 0, 0, 0, 0, 0, 0, 0, 0, 0, 0, 0, 0, 0, 0, 0, 0]\n"
          ],
          "name": "stdout"
        }
      ]
    },
    {
      "cell_type": "code",
      "metadata": {
        "colab": {
          "base_uri": "https://localhost:8080/"
        },
        "id": "lwQX0cms3FtC",
        "outputId": "7a4607e8-d503-4819-dc1a-54be8f9eb63a"
      },
      "source": [
        "a = [0 for i in range(n)]\n",
        "print(a)"
      ],
      "execution_count": null,
      "outputs": [
        {
          "output_type": "stream",
          "text": [
            "[0, 0, 0, 0, 0, 0, 0, 0, 0, 0, 0, 0, 0, 0, 0, 0, 0, 0, 0, 0]\n"
          ],
          "name": "stdout"
        }
      ]
    },
    {
      "cell_type": "markdown",
      "metadata": {
        "id": "CW6PlWLo3LWZ"
      },
      "source": [
        "리스트 하면, '리스트 인덱싱'과 '슬라이싱'이 있다"
      ]
    },
    {
      "cell_type": "code",
      "metadata": {
        "colab": {
          "base_uri": "https://localhost:8080/"
        },
        "id": "hB4CTVCn3ROq",
        "outputId": "18578027-d09b-44d8-82e2-4130d11d5e2d"
      },
      "source": [
        "a = [i for i in range(10)]\n",
        "\n",
        "# 1번째 원소에 접근하시오\n",
        "print(a[0])\n",
        "\n",
        "# 1번째부터 4번쨰 원소\n",
        "print(a[0:4])"
      ],
      "execution_count": null,
      "outputs": [
        {
          "output_type": "stream",
          "text": [
            "0\n",
            "[0, 1, 2, 3]\n"
          ],
          "name": "stdout"
        }
      ]
    },
    {
      "cell_type": "markdown",
      "metadata": {
        "id": "FVOUtBVL3kT7"
      },
      "source": [
        "### 리스트 컴프리헨션\n",
        "* 리스트 컴프리헨션은 리스트를 초기화하는 방법 중 하나이다\n",
        "* 리스트 컴프리헨션을 사용하면 대괄호([])안에 조건문과 반복문을 넣는 방식으로 리스트를 초기화 할 수 있다"
      ]
    },
    {
      "cell_type": "code",
      "metadata": {
        "colab": {
          "base_uri": "https://localhost:8080/"
        },
        "id": "fl65uu8H304v",
        "outputId": "8d13011a-f677-48b4-8d1f-e9486a3613e6"
      },
      "source": [
        "# 0부터 19까지의 수 중에서 홀수만 포함하는 리스트\n",
        "array = [i for i in range(20) if i % 2 == 1]\n",
        "print(array)"
      ],
      "execution_count": null,
      "outputs": [
        {
          "output_type": "stream",
          "text": [
            "[1, 3, 5, 7, 9, 11, 13, 15, 17, 19]\n"
          ],
          "name": "stdout"
        }
      ]
    },
    {
      "cell_type": "code",
      "metadata": {
        "colab": {
          "base_uri": "https://localhost:8080/"
        },
        "id": "PP0sGTQI4Csg",
        "outputId": "b2128d7f-d420-43df-f7bf-d2dea707e13c"
      },
      "source": [
        "# 0부터 19까지의 수 중에서 짝수만 포함하는 리스트 출력\n",
        "array = [i for i in range(20) if i % 2 == 0]\n",
        "print(array)"
      ],
      "execution_count": null,
      "outputs": [
        {
          "output_type": "stream",
          "text": [
            "[0, 2, 4, 6, 8, 10, 12, 14, 16, 18]\n"
          ],
          "name": "stdout"
        }
      ]
    },
    {
      "cell_type": "markdown",
      "metadata": {
        "id": "1iR-t1iA4K3O"
      },
      "source": [
        "예제를 통해 리스트 컴프리헨션을 활용한 배열을 초기화해보자"
      ]
    },
    {
      "cell_type": "code",
      "metadata": {
        "colab": {
          "base_uri": "https://localhost:8080/"
        },
        "id": "Jf0_xwan4U8E",
        "outputId": "a1b4c4fe-8abe-446e-f10f-4c001d6f522b"
      },
      "source": [
        "# N x M 크기의 2차원 리스트 초기화\n",
        "\n",
        "n = 3\n",
        "m = 4\n",
        "\n",
        "array = [[0 for j in range(m)]for i in range(n)]\n",
        "print(array)"
      ],
      "execution_count": null,
      "outputs": [
        {
          "output_type": "stream",
          "text": [
            "[[0, 0, 0, 0], [0, 0, 0, 0], [0, 0, 0, 0]]\n"
          ],
          "name": "stdout"
        }
      ]
    },
    {
      "cell_type": "code",
      "metadata": {
        "colab": {
          "base_uri": "https://localhost:8080/"
        },
        "id": "UKyKWjPl4me_",
        "outputId": "5c4aff7c-d7da-40c3-9aea-bb6693d03bfc"
      },
      "source": [
        "# 좀 더 심플하게 만들어보자\n",
        "array = [[0] * m for i in range(n)]\n",
        "print(array)"
      ],
      "execution_count": null,
      "outputs": [
        {
          "output_type": "stream",
          "text": [
            "[[0, 0, 0, 0], [0, 0, 0, 0], [0, 0, 0, 0]]\n"
          ],
          "name": "stdout"
        }
      ]
    },
    {
      "cell_type": "code",
      "metadata": {
        "colab": {
          "base_uri": "https://localhost:8080/"
        },
        "id": "iY01vlba4vLg",
        "outputId": "65ecb379-d342-4422-ec3b-916dc4761365"
      },
      "source": [
        "# _(언더바)를 사용해보자\n",
        "array = [[0] * m for _ in range(n)]  # 반복을 수행하되 반복을 위한 변수의 값을 무시하고자 할 때 _ 사용\n",
        "print(array)"
      ],
      "execution_count": null,
      "outputs": [
        {
          "output_type": "stream",
          "text": [
            "[[0, 0, 0, 0], [0, 0, 0, 0], [0, 0, 0, 0]]\n"
          ],
          "name": "stdout"
        }
      ]
    },
    {
      "cell_type": "markdown",
      "metadata": {
        "id": "hthhxPZA-qks"
      },
      "source": [
        "리스트 관련 기타 메서드\n"
      ]
    },
    {
      "cell_type": "code",
      "metadata": {
        "colab": {
          "base_uri": "https://localhost:8080/"
        },
        "id": "uSfL13Z0-8cX",
        "outputId": "4d70e272-f658-4954-8d7b-8b4469bf99f2"
      },
      "source": [
        "a = [1, 2, 3]\n",
        "print(\"기본 리스트: \", a)\n",
        "\n",
        "# 리스트에 원소 삽입\n",
        "a.append(2)\n",
        "a.append(3)\n",
        "a.append(4)\n",
        "print(\"삽입: \", a)\n",
        "\n",
        "# 정렬\n",
        "# 오름차순 정렬\n",
        "a.sort()\n",
        "print(\"오름차순 정렬: \", a)\n",
        "\n",
        "# 내림차순 정렬\n",
        "a.sort(reverse=True)\n",
        "print(\"내림차순 정렬: \", a)\n",
        "\n",
        "# 리스트 원소 뒤집기\n",
        "a.reverse()\n",
        "print(\"원소 뒤집기: \", a)\n",
        "\n",
        "# 특정 인덱스의 값 추가 및 값 제거\n",
        "a.insert(3, 3)\n",
        "print(a)\n",
        "\n",
        "a.remove(3)\n",
        "print(a)"
      ],
      "execution_count": null,
      "outputs": [
        {
          "output_type": "stream",
          "text": [
            "기본 리스트:  [1, 2, 3]\n",
            "삽입:  [1, 2, 3, 2, 3, 4]\n",
            "오름차순 정렬:  [1, 2, 2, 3, 3, 4]\n",
            "내림차순 정렬:  [4, 3, 3, 2, 2, 1]\n",
            "원소 뒤집기:  [1, 2, 2, 3, 3, 4]\n",
            "[1, 2, 2, 3, 3, 3, 4]\n",
            "[1, 2, 2, 3, 3, 4]\n"
          ],
          "name": "stdout"
        }
      ]
    },
    {
      "cell_type": "markdown",
      "metadata": {
        "id": "5BWNY2dQ_xZN"
      },
      "source": [
        "insert()함수와 remove()함수의 시간 복잡도는 O(N)이다. 따라서 남발하게 될 경우 코딩테스트에서 통과하지 못할 수 있다.\n",
        "\n"
      ]
    },
    {
      "cell_type": "code",
      "metadata": {
        "colab": {
          "base_uri": "https://localhost:8080/"
        },
        "id": "WKfgvVDx_HZg",
        "outputId": "ac35258a-5eaf-4f62-ba26-5315498cd2ee"
      },
      "source": [
        "a = [1, 2, 3, 4, 5, 5, 5]\n",
        "remove_set = {3, 5}\n",
        "\n",
        "# remove_set에 포함되지 않는 값만 저장 (remove_set에 저장된 값 삭제)\n",
        "result = [elem for elem in a if elem not in remove_set]\n",
        "print(result)"
      ],
      "execution_count": null,
      "outputs": [
        {
          "output_type": "stream",
          "text": [
            "[1, 2, 4]\n"
          ],
          "name": "stdout"
        }
      ]
    },
    {
      "cell_type": "markdown",
      "metadata": {
        "id": "zcSthk5OAGam"
      },
      "source": [
        "## 사전 자료\n",
        "* 사전 자료형은 키(key)와 값(value)의 쌍을 데이터로 가지는 자료형이다\n",
        "* 사전 자료형의 대표적인 예시는 `Dictionary`이다\n",
        "* 파이썬의 사전 자료형은 내부적으로 `'해시 테이블(Hash Table)'`을 이용하므로 기본적인 데이터의 검색 및 수정에 있어서 `O(1)`의 시간에 처리할 수 있다\n",
        "* 기억하자 키-값 쌍으로 구성된 데이터를 처리함에 있어서 리스트보다 훨씬 빠르게 동작한다는 점은 기억하자!"
      ]
    },
    {
      "cell_type": "code",
      "metadata": {
        "colab": {
          "base_uri": "https://localhost:8080/"
        },
        "id": "EHO3aKZDAf-6",
        "outputId": "2e10e8f0-e964-4446-dc95-3ab0481dc225"
      },
      "source": [
        "data = dict()\n",
        "data['사과'] = 'Apple'\n",
        "data['바나나'] = 'Banana'\n",
        "data['코코넛'] = 'Coconut'\n",
        "\n",
        "# 키(key) 데이터만 담은 리스트\n",
        "key_list = data.keys()\n",
        "# 값(value)만 담은 리스트\n",
        "value_list = data.values()\n",
        "print(key_list)\n",
        "print(value_list)"
      ],
      "execution_count": null,
      "outputs": [
        {
          "output_type": "stream",
          "text": [
            "dict_keys(['사과', '바나나', '코코넛'])\n",
            "dict_values(['Apple', 'Banana', 'Coconut'])\n"
          ],
          "name": "stdout"
        }
      ]
    },
    {
      "cell_type": "code",
      "metadata": {
        "colab": {
          "base_uri": "https://localhost:8080/"
        },
        "id": "Nch6l4mBBG9M",
        "outputId": "67d72bdb-05d2-4512-a491-478295de3cbc"
      },
      "source": [
        "# Question. 각 키에 따른 값을 출력하시오\n",
        "for key in key_list:\n",
        "    print(data[key])"
      ],
      "execution_count": null,
      "outputs": [
        {
          "output_type": "stream",
          "text": [
            "Apple\n",
            "Banana\n",
            "Coconut\n"
          ],
          "name": "stdout"
        }
      ]
    },
    {
      "cell_type": "markdown",
      "metadata": {
        "id": "UVTE3OMKBRP-"
      },
      "source": [
        "Q. What is the difference between sort() and sorted() in Python?\r\n",
        "A. The Primary difference between the list sort() function and the sorted() function is that\r\n",
        "* sort() function will modify the list it is called on \r\n",
        "* sorted() function will create a new list containing a sorted version of the list it is given"
      ]
    },
    {
      "cell_type": "code",
      "metadata": {
        "colab": {
          "base_uri": "https://localhost:8080/"
        },
        "id": "MBahNFJdZzbJ",
        "outputId": "d713b10d-28d2-4278-f559-0c4dee2c1447"
      },
      "source": [
        "# 학생의 성적을 입력받아 내림차순으로 정렬하는 알고리즘을 작성하시오\r\n",
        "\r\n",
        "# 데이터의 개수 입력\r\n",
        "n = int(input())\r\n",
        "\r\n",
        "# 각 데이터를 공백을 기준으로 구분하여 입력하시오\r\n",
        "data = list(map(int, input().split()))\r\n",
        "print(n, data)"
      ],
      "execution_count": 41,
      "outputs": [
        {
          "output_type": "stream",
          "text": [
            "5\n",
            "65 90 75 34 99\n",
            "5 [65, 90, 75, 34, 99]\n"
          ],
          "name": "stdout"
        }
      ]
    },
    {
      "cell_type": "markdown",
      "metadata": {
        "id": "r5K08Cs6aeIT"
      },
      "source": [
        "Method1. use sorted() function<br>\r\n",
        "create a new list containing a sorted version of the list it is given"
      ]
    },
    {
      "cell_type": "code",
      "metadata": {
        "colab": {
          "base_uri": "https://localhost:8080/"
        },
        "id": "Bv9IO3glaOuK",
        "outputId": "430d2162-6603-4d75-fc28-efd00b3d9815"
      },
      "source": [
        "print(sorted(data, reverse=True))\r\n",
        "print(data)"
      ],
      "execution_count": 42,
      "outputs": [
        {
          "output_type": "stream",
          "text": [
            "[99, 90, 75, 65, 34]\n",
            "[65, 90, 75, 34, 99]\n"
          ],
          "name": "stdout"
        }
      ]
    },
    {
      "cell_type": "markdown",
      "metadata": {
        "id": "skN3a5lzaZ7c"
      },
      "source": [
        "Method2. use sort()<br>\r\n"
      ]
    },
    {
      "cell_type": "code",
      "metadata": {
        "colab": {
          "base_uri": "https://localhost:8080/"
        },
        "id": "hzYHd1eearxA",
        "outputId": "3464a08d-8fae-49af-a526-302392ce0077"
      },
      "source": [
        "data.sort(reverse=True)\r\n",
        "print(data)"
      ],
      "execution_count": 43,
      "outputs": [
        {
          "output_type": "stream",
          "text": [
            "[99, 90, 75, 65, 34]\n"
          ],
          "name": "stdout"
        }
      ]
    },
    {
      "cell_type": "markdown",
      "metadata": {
        "id": "m0ZRf0gxathT"
      },
      "source": [
        "sorted() 메서는 새로운 리스트를 생성한다. 반면 sort() 메서드는 기존 데이터의 값을 변경한다"
      ]
    },
    {
      "cell_type": "markdown",
      "metadata": {
        "id": "GyUZSj0ibDk_"
      },
      "source": [
        "# 주요 라이브러리의 문법과 유의 사항 "
      ]
    },
    {
      "cell_type": "markdown",
      "metadata": {
        "id": "yI-Q_gfCbTZh"
      },
      "source": [
        "실전에서 유용한 표준 라이브러리<br>\r\n",
        "내장 함수(Built-in Functions): 기본 입출력부터 정렬 함수까지 기본적인 함수들을 제공해준다. 파이썬 프로그램을 작성할 때 없어서는 안되는 필수 기능을 포함한다"
      ]
    },
    {
      "cell_type": "code",
      "metadata": {
        "colab": {
          "base_uri": "https://localhost:8080/"
        },
        "id": "bPvN8iRWdJsm",
        "outputId": "6757b46a-8309-4c22-81f0-8e3ebcaefa88"
      },
      "source": [
        "# sorted 함수\r\n",
        "result = sorted([9, 1, 8, 5, 4])  # sorted()함수를 사용해 배열([9, 1, 8, 5, 4])을 정렬해보자\r\n",
        "reverse_result = sorted([9, 1, 8, 5, 4], reverse=True)\r\n",
        "\r\n",
        "print(result)\r\n",
        "print(reverse_result)  # 내림차순 정렬"
      ],
      "execution_count": 48,
      "outputs": [
        {
          "output_type": "stream",
          "text": [
            "[1, 4, 5, 8, 9]\n",
            "[9, 8, 5, 4, 1]\n"
          ],
          "name": "stdout"
        }
      ]
    },
    {
      "cell_type": "markdown",
      "metadata": {
        "id": "F_nhICfNdfOV"
      },
      "source": [
        "이번에는 key를 기준으로 값을 정렬해보"
      ]
    },
    {
      "cell_type": "code",
      "metadata": {
        "colab": {
          "base_uri": "https://localhost:8080/"
        },
        "id": "9KdkXSbNdzKT",
        "outputId": "8f612232-0c81-4242-db44-dddd4a3d7439"
      },
      "source": [
        "array = [('홍길동', 35), ('이순신', 75), ('아무개', 50)]\r\n",
        "result = sorted(array, key=lambda x: x[1])\r\n",
        "reverse_result = sorted(array, key=lambda x: x[1], reverse=True)\r\n",
        "\r\n",
        "print(result)\r\n",
        "print(reverse_result)"
      ],
      "execution_count": 51,
      "outputs": [
        {
          "output_type": "stream",
          "text": [
            "[('홍길동', 35), ('아무개', 50), ('이순신', 75)]\n",
            "[('이순신', 75), ('아무개', 50), ('홍길동', 35)]\n"
          ],
          "name": "stdout"
        }
      ]
    },
    {
      "cell_type": "markdown",
      "metadata": {
        "id": "YdVf7GB_eJNs"
      },
      "source": [
        "### 깨알 파이썬 람다 "
      ]
    },
    {
      "cell_type": "markdown",
      "metadata": {
        "id": "XsEsafQAef1Y"
      },
      "source": [
        "Python Lambda function is a small anonymous function.<br>\r\n",
        "A lambda function can take any number of arguments, but can only have one expression."
      ]
    },
    {
      "cell_type": "markdown",
      "metadata": {
        "id": "dspGhJH6evFp"
      },
      "source": [
        "`Syntax`<br>\r\n",
        "lambda arguments: expression"
      ]
    },
    {
      "cell_type": "code",
      "metadata": {
        "colab": {
          "base_uri": "https://localhost:8080/"
        },
        "id": "b3bWrpvTe5BK",
        "outputId": "8136f314-732b-44ff-c2bb-bfe50cf08221"
      },
      "source": [
        "# e.g.\r\n",
        "# add 10 to argument a, and return the result\r\n",
        "\r\n",
        "x = lambda a: a + 10\r\n",
        "print(x(5))"
      ],
      "execution_count": 52,
      "outputs": [
        {
          "output_type": "stream",
          "text": [
            "15\n"
          ],
          "name": "stdout"
        }
      ]
    },
    {
      "cell_type": "markdown",
      "metadata": {
        "id": "SBFTURiTfHB5"
      },
      "source": [
        "*Q. Why Use Lambda Functions?*<br>\r\n",
        "The power of lambda is better shown when you use them as an anonymous function inside another function.<br>\r\n"
      ]
    },
    {
      "cell_type": "code",
      "metadata": {
        "colab": {
          "base_uri": "https://localhost:8080/"
        },
        "id": "Mob8Uhf5fhtL",
        "outputId": "240963b0-3479-416c-ddd1-fddc6e71fbf7"
      },
      "source": [
        "# e.g\r\n",
        "\r\n",
        "def myfunc(n):\r\n",
        "    return lambda a: a * n\r\n",
        "\r\n",
        "mydouble = myfunc(2)\r\n",
        "print(mydouble(11))  # expect 22"
      ],
      "execution_count": 53,
      "outputs": [
        {
          "output_type": "stream",
          "text": [
            "22\n"
          ],
          "name": "stdout"
        }
      ]
    },
    {
      "cell_type": "code",
      "metadata": {
        "colab": {
          "base_uri": "https://localhost:8080/"
        },
        "id": "ATwE8fNjfyz4",
        "outputId": "ecf2a1fc-78b7-427b-d1bf-156b2b913981"
      },
      "source": [
        "# do-it \r\n",
        "# triple\r\n",
        "\r\n",
        "def myfunc(n):\r\n",
        "    return lambda a: a * n\r\n",
        "\r\n",
        "triple = myfunc(3)\r\n",
        "print(triple(11))"
      ],
      "execution_count": 54,
      "outputs": [
        {
          "output_type": "stream",
          "text": [
            "33\n"
          ],
          "name": "stdout"
        }
      ]
    },
    {
      "cell_type": "markdown",
      "metadata": {
        "id": "uBeRS75Yf_nr"
      },
      "source": [
        "다시 돌아와 위의 코드를 이해해보자"
      ]
    },
    {
      "cell_type": "code",
      "metadata": {
        "colab": {
          "base_uri": "https://localhost:8080/"
        },
        "id": "6sV8w2uwf8zW",
        "outputId": "e4d54b0c-1967-41a6-a9da-03a21caedc44"
      },
      "source": [
        "array = [('홍길동', 35), ('이순신', 75), ('아무개', 50)]\r\n",
        "\r\n",
        "result = sorted(array, key=lambda x: x[1])\r\n",
        "reverse_result = sorted(array, key=lambda x: x[1], reverse=True)\r\n",
        "\r\n",
        "print(result)\r\n",
        "print(reverse_result)"
      ],
      "execution_count": 55,
      "outputs": [
        {
          "output_type": "stream",
          "text": [
            "[('홍길동', 35), ('아무개', 50), ('이순신', 75)]\n",
            "[('이순신', 75), ('아무개', 50), ('홍길동', 35)]\n"
          ],
          "name": "stdout"
        }
      ]
    },
    {
      "cell_type": "code",
      "metadata": {
        "colab": {
          "base_uri": "https://localhost:8080/"
        },
        "id": "4ypl77k6gc85",
        "outputId": "6cc6a46c-17b7-4423-d9cd-f8e7e6d9bfcd"
      },
      "source": [
        "x = lambda a: a ** 2\r\n",
        "print(x(5))"
      ],
      "execution_count": 56,
      "outputs": [
        {
          "output_type": "stream",
          "text": [
            "25\n"
          ],
          "name": "stdout"
        }
      ]
    },
    {
      "cell_type": "markdown",
      "metadata": {
        "id": "IUD_a-4vg2Km"
      },
      "source": [
        "## 순열과 조합\r\n",
        "모든 경우의 수를 고려해야할 때 itertools 라이브러리를 사용하자!\r\n",
        "* 순열: 서로 다른 n개에서 서로 다른 r개를 선택하여 일렬로 나열하는 것\r\n",
        "* 조합: 서로 다른 n개에서 순서에 상관 없이 서로 다른 r개를 선택하는 것\r\n",
        "<br>\r\n",
        "\r\n",
        "\r\n",
        "itertools 라이브러리의 permutations을 사용하면 순열을 구할 수 있다"
      ]
    },
    {
      "cell_type": "code",
      "metadata": {
        "colab": {
          "base_uri": "https://localhost:8080/"
        },
        "id": "db6IcrAjhA0o",
        "outputId": "a039bf9d-e485-41b9-860f-c9c8a52baa38"
      },
      "source": [
        "# itertools: 파이썬에서 반복되는 데이터를 처리하는 기능을 포함하고 있는 라이브러리\r\n",
        "# permutations: itertools 클래스\r\n",
        "\r\n",
        "from itertools import permutations\r\n",
        "\r\n",
        "data = ['A', 'B', 'C']\r\n",
        "result = permutations(data)\r\n",
        "print(result)"
      ],
      "execution_count": 58,
      "outputs": [
        {
          "output_type": "stream",
          "text": [
            "<itertools.permutations object at 0x7f9043030d00>\n"
          ],
          "name": "stdout"
        }
      ]
    },
    {
      "cell_type": "markdown",
      "metadata": {
        "id": "JTCJYW2dhe0d"
      },
      "source": [
        "permutations는 클래스이므로 객체 초기화 이후에는 리스트 자료형으로 반환하여 사용한다"
      ]
    },
    {
      "cell_type": "code",
      "metadata": {
        "colab": {
          "base_uri": "https://localhost:8080/"
        },
        "id": "aOY9AvjphpOP",
        "outputId": "5f95ea1e-6782-4d5d-9251-055c3e1bdda0"
      },
      "source": [
        "result = list(permutations(data, 2))\r\n",
        "print(result)"
      ],
      "execution_count": 60,
      "outputs": [
        {
          "output_type": "stream",
          "text": [
            "[('A', 'B'), ('A', 'C'), ('B', 'A'), ('B', 'C'), ('C', 'A'), ('C', 'B')]\n"
          ],
          "name": "stdout"
        }
      ]
    },
    {
      "cell_type": "code",
      "metadata": {
        "colab": {
          "base_uri": "https://localhost:8080/"
        },
        "id": "k05v3GYyhsNU",
        "outputId": "40e6afb5-708d-40cf-9fdb-76ed6bdebf7f"
      },
      "source": [
        "# 조합의 경우 itertools 라이브러리의 combinations 클래스를 사용한다\r\n",
        "from itertools import combinations\r\n",
        "\r\n",
        "data = ['A', 'B', 'C']\r\n",
        "result = list(combinations(data, 2))\r\n",
        "print(result)"
      ],
      "execution_count": 61,
      "outputs": [
        {
          "output_type": "stream",
          "text": [
            "[('A', 'B'), ('A', 'C'), ('B', 'C')]\n"
          ],
          "name": "stdout"
        }
      ]
    },
    {
      "cell_type": "markdown",
      "metadata": {
        "id": "dTdzYzQ5iGbW"
      },
      "source": [
        "### heap 자료구조란?\r\n",
        "\r\n",
        "힙(heap)이란 각 노드의 값이 다음 조건을 충족하도록 관리되는 이진 트리를 뜻한다\r\n",
        "\r\n",
        "* 조건: 부모 노드의 값이 항상 하위 노드의 값보다 작다(또는 부모 노드의 값은 항상 하위 노드의 값보다 크다)\r\n",
        "* 특징: 최소 값을 구할 때 적합한 힙은 '부모 노드의 값이 항상 하위 노드의 값보다 작은 이진 트리'이다\r\n"
      ]
    },
    {
      "cell_type": "code",
      "metadata": {
        "colab": {
          "base_uri": "https://localhost:8080/"
        },
        "id": "4SQJqvRgjOnC",
        "outputId": "abeb7605-1eb6-444c-c077-749cdc9d28a7"
      },
      "source": [
        "import heapq\r\n",
        "\r\n",
        "def heapsort(iterable):\r\n",
        "    h = []\r\n",
        "    result = []\r\n",
        "\r\n",
        "    # 모든 원소를 차례대로 힙에 삽입\r\n",
        "    for value in iterable:\r\n",
        "        heapq.heappush(h, value)  # 모든 원소를 힙에 삽입한다\r\n",
        "    # 힙에 삽입된 모든 원소를 차례대로 꺼내어 담기\r\n",
        "    for i in range(len(h)):\r\n",
        "        result.append(heapq.heappop(h))\r\n",
        "    return result\r\n",
        "\r\n",
        "result = heapsort([1, 3, 5, 7, 9, 2, 4, 6, 8, 0])\r\n",
        "print(result)  # expected sorted result"
      ],
      "execution_count": 62,
      "outputs": [
        {
          "output_type": "stream",
          "text": [
            "[0, 1, 2, 3, 4, 5, 6, 7, 8, 9]\n"
          ],
          "name": "stdout"
        }
      ]
    },
    {
      "cell_type": "markdown",
      "metadata": {
        "id": "pCg446yIju9O"
      },
      "source": [
        "파이썬에서는 최대 힙(Max Heap)을 제공하지 않는다.<br>\r\n",
        "따라서 heapq 라이브러리를 이용하여 최대 힙을 구현해야 할 때는 원소의 부호를 임시로 변경하는 방식을 사용한다."
      ]
    },
    {
      "cell_type": "code",
      "metadata": {
        "id": "tm60AJPTj6lx"
      },
      "source": [
        "import heapq\n",
        "\n",
        "def heapsort(iterable):\n",
        "    h = []\n",
        "    result = []\n",
        "    # 반복자의 모든 원소를 힙에 삽입\n",
        "    for value in iterable:\n",
        "        heapq.heappush(h, -value)\n",
        "    # 결과값에 하나씩 저장해준다\n",
        "    for i in range(len(h)):\n",
        "        result.append(-heapq.heappop(h))\n",
        "    return result"
      ],
      "execution_count": 77,
      "outputs": []
    },
    {
      "cell_type": "code",
      "metadata": {
        "colab": {
          "base_uri": "https://localhost:8080/"
        },
        "id": "0ThpFlV9k7kL",
        "outputId": "d7677482-b376-4d24-d966-7223e80e2ccd"
      },
      "source": [
        "result = heapsort([1, 3, 5, 7, 9, 2, 4, 6, 8, 0])\r\n",
        "print(result)"
      ],
      "execution_count": 78,
      "outputs": [
        {
          "output_type": "stream",
          "text": [
            "[9, 8, 7, 6, 5, 4, 3, 2, 1, 0]\n"
          ],
          "name": "stdout"
        }
      ]
    },
    {
      "cell_type": "markdown",
      "metadata": {
        "id": "5Oo0EfcIlAO7"
      },
      "source": [
        "### bisect 라이브러리\r\n",
        "* 파이썬에서는 이진 탐색을 쉽게 구현할 수 있도록 bisect 라이브러리를 제공한다\r\n",
        "* bisect 라이브러리는 '정렬된 배열'에서 특정한 원소를 찾아야 할 때 매우 효과적으로 사용된다\r\n",
        "* bisect_left()함수와 bisect_right()함수를 기억해두자"
      ]
    },
    {
      "cell_type": "markdown",
      "metadata": {
        "id": "dA7puS0qnF_6"
      },
      "source": [
        "이 모듈은 정렬된 리스트를 삽입 후에 다시 정렬할 필요 없도록 관리할 수 있도록 지원합니다. 값비싼 비교 연산이 포함된 항목의 긴 리스트의 경우, 이는 일반적인 방법에 비해 개선된 것입니다. 이 모듈은 기본적인 이진 분할 알고리즘을 사용하기 때문에 bisect라고 불립니다. 소스 코드는 알고리즘의 실제 예로서 가장 유용할 수 있습니다 (경계 조건은 이미 옳습니다!)."
      ]
    },
    {
      "cell_type": "code",
      "metadata": {
        "colab": {
          "base_uri": "https://localhost:8080/"
        },
        "id": "lqp7i6snmMVO",
        "outputId": "a9870b77-11fa-4901-941a-78daf54e4fc3"
      },
      "source": [
        "from bisect import bisect_left, bisect_right\r\n",
        "\r\n",
        "a = [1, 2, 4, 4, 8]\r\n",
        "x = 4\r\n",
        "\r\n",
        "print(bisect_left(a, x))\r\n",
        "print(bisect_right(a, x))"
      ],
      "execution_count": 82,
      "outputs": [
        {
          "output_type": "stream",
          "text": [
            "2\n",
            "4\n"
          ],
          "name": "stdout"
        }
      ]
    },
    {
      "cell_type": "markdown",
      "metadata": {
        "id": "P0Rd-TxfmuIG"
      },
      "source": [
        "\r\n",
        "bisect_left()함수와 bisect_right()함수는 '정렬된 리스트'에서 '값이 특정 범위에 속하는 원소의 개수'를 구하고자 할 때, 효과적으로 사용될 수 있다."
      ]
    },
    {
      "cell_type": "code",
      "metadata": {
        "id": "HaNlDUIknI80"
      },
      "source": [
        "from bisect import bisect_left, bisect_right\r\n",
        "\r\n",
        "# 값이 [left_value, right_value]인 데이터의 개수를 반환하는 함수\r\n",
        "def count_by_range(a, left_value, right_value):\r\n",
        "    right_index = bisect_right(a, right_value)\r\n",
        "    left_index = bisect_left(a, left_value)\r\n",
        "    return right_index - left_index"
      ],
      "execution_count": 80,
      "outputs": []
    },
    {
      "cell_type": "code",
      "metadata": {
        "colab": {
          "base_uri": "https://localhost:8080/"
        },
        "id": "ES2Rm4YBn7YY",
        "outputId": "27a3fcbd-e8fb-4475-e4c9-ad3fde21a82c"
      },
      "source": [
        "# 리스트 선언\r\n",
        "a = [1, 2, 3, 3, 3, 3, 4, 4, 8, 9]\r\n",
        "\r\n",
        "# 값이 4인 데이터 개수 출력\r\n",
        "print(count_by_range(a, 4, 4))\r\n",
        "\r\n",
        "# 값이 -1에서 3 범위에 있는 데이터 개수 출력\r\n",
        "print(count_by_range(a, -1, 3))"
      ],
      "execution_count": 81,
      "outputs": [
        {
          "output_type": "stream",
          "text": [
            "2\n",
            "6\n"
          ],
          "name": "stdout"
        }
      ]
    },
    {
      "cell_type": "code",
      "metadata": {
        "id": "ZyEIW6hXoHXT"
      },
      "source": [
        ""
      ],
      "execution_count": null,
      "outputs": []
    }
  ]
}