{
  "nbformat": 4,
  "nbformat_minor": 0,
  "metadata": {
    "colab": {
      "name": "Ch04. 구현_실전3. 게임 개발.ipynb",
      "provenance": [],
      "collapsed_sections": [],
      "authorship_tag": "ABX9TyMgE+cH410Wi3ne//0lHTdL",
      "include_colab_link": true
    },
    "kernelspec": {
      "name": "python3",
      "display_name": "Python 3"
    }
  },
  "cells": [
    {
      "cell_type": "markdown",
      "metadata": {
        "id": "view-in-github",
        "colab_type": "text"
      },
      "source": [
        "<a href=\"https://colab.research.google.com/github/Steve-YJ/Python-Algorithm/blob/main/Ch04_%EA%B5%AC%ED%98%84_%EC%8B%A4%EC%A0%843_%EA%B2%8C%EC%9E%84_%EA%B0%9C%EB%B0%9C.ipynb\" target=\"_parent\"><img src=\"https://colab.research.google.com/assets/colab-badge.svg\" alt=\"Open In Colab\"/></a>"
      ]
    },
    {
      "cell_type": "markdown",
      "metadata": {
        "id": "jZk1QUtEqH4j"
      },
      "source": [
        ""
      ]
    },
    {
      "cell_type": "markdown",
      "metadata": {
        "id": "NddhZ2QMgs54"
      },
      "source": [
        "우선, 구현할 수 있는 코드부터 구현해보도록 하자!"
      ]
    },
    {
      "cell_type": "code",
      "metadata": {
        "colab": {
          "base_uri": "https://localhost:8080/"
        },
        "id": "sv9h7KWvgvTn",
        "outputId": "eae929e9-1f46-45cd-92aa-ffe99abb749e"
      },
      "source": [
        "n, m = map(int, input().split())\n",
        "# print(n, m)\n",
        "character = list(map(int, input().split()))\n",
        "# print(character)\n",
        "\n",
        "# map 초기화(처음에는 0으로 해보자)\n",
        "maps = [[0 for j in range(m)]for i in range(n)]\n",
        "# print(maps)\n",
        "# print(maps[0][0])\n",
        "maps = [list(map(int, input().split())) for i in range(n)]\n",
        "#print(maps)"
      ],
      "execution_count": 7,
      "outputs": [
        {
          "output_type": "stream",
          "text": [
            "4 4\n",
            "1 1 0\n",
            "1 1 1 1 \n",
            "1 0 0 1\n",
            "1 1 0 1\n",
            "1 1 1 1 \n",
            "[[1, 1, 1, 1], [1, 0, 0, 1], [1, 1, 0, 1], [1, 1, 1, 1]]\n"
          ],
          "name": "stdout"
        }
      ]
    },
    {
      "cell_type": "code",
      "metadata": {
        "colab": {
          "base_uri": "https://localhost:8080/",
          "height": 53
        },
        "id": "oV5oKwSag8Sk",
        "outputId": "2ee1e66f-5fff-4fdd-f80e-be998d05ca95"
      },
      "source": [
        "# 현재 캐릭터의 위치좌표를 저장해보자\n",
        "x, y = character[0], character[1]\n",
        "next_d = {0: 3,  # e.g 0(북쪽 방향) 일때 다음 방향은 3(서쪽 방향) 이다\n",
        "          3: 2, \n",
        "          2: 1,\n",
        "          1, 0}\n",
        "dx = [0,  -1, 0, 1]  # 북쪽에서부터 서쪽 남쪽 동쪽 좌표 이동값\n",
        "dy = [-1, 0,  1, 0]\n",
        "\n",
        "# 현재 방향 저장\n",
        "current_di = character[2]\n",
        "\n",
        "while True:  # 더이상 이동할 수 없을 때 break를 통해 탈출한다\n",
        "    \n",
        "    # 초기화: 시작 방향에서 한 번 이동한 방향\n",
        "    current = next_d[current_di]\n",
        "    dx = dx[1:]\n",
        "    dy = dy[1:]\n",
        "\n",
        "    # 한 턴당, 동.서.남.북 이동합니다.\n",
        "    for i in range(0, 3):\n",
        "        nx = x + dx[i]\n",
        "        ny = x + dy[i]\n",
        "        if maps[nx] ==0 and maps[ny] == 0:  # 이동 후 거리가 육지이면\n",
        "            maps[nx][ny] = 1  # 방문처리 합시다\n",
        "            x, y = nx, ny     # x와 y의 값도 업데이트해줍니다\n",
        "            current_di = direction[i+1]\n",
        "        else:\n",
        "            pass\n",
        "        \n",
        "        \n",
        "\n",
        "\n",
        "\n",
        "\n"
      ],
      "execution_count": 10,
      "outputs": [
        {
          "output_type": "stream",
          "text": [
            "1 1\n"
          ],
          "name": "stdout"
        },
        {
          "output_type": "execute_result",
          "data": {
            "application/vnd.google.colaboratory.intrinsic+json": {
              "type": "string"
            },
            "text/plain": [
              "'\\nwhile True:  # 더이상 이동할 수 없을 때 break를 통해 탈출한다\\n    \\n    maps[][]\\n'"
            ]
          },
          "metadata": {
            "tags": []
          },
          "execution_count": 10
        }
      ]
    },
    {
      "cell_type": "markdown",
      "metadata": {
        "id": "mFF5C9LfhuXi"
      },
      "source": [
        "시간 내에 문제 풀이 실패! -20.12.03.Thur. pm12:00-<br>\n",
        "조금 더 고민해보자! 30분!<br>\n",
        "뒤죽 박죽입니다...ㅎㅎ"
      ]
    },
    {
      "cell_type": "code",
      "metadata": {
        "id": "OJgNkwJGnX8a"
      },
      "source": [
        ""
      ],
      "execution_count": null,
      "outputs": []
    }
  ]
}